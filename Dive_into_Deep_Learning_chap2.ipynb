{
 "cells": [
  {
   "cell_type": "markdown",
   "metadata": {
    "id": "CX1oCFIkKEC-",
    "tags": []
   },
   "source": [
    "## 2.1 数据操作"
   ]
  },
  {
   "cell_type": "markdown",
   "metadata": {
    "id": "elHA6S5pEghJ"
   },
   "source": [
    "### 2.1.1入门"
   ]
  },
  {
   "cell_type": "code",
   "execution_count": 1,
   "metadata": {
    "executionInfo": {
     "elapsed": 400,
     "status": "ok",
     "timestamp": 1651667871164,
     "user": {
      "displayName": "stu shi",
      "userId": "14122045057611715520"
     },
     "user_tz": -480
    },
    "id": "Ou3oVuVD__yH"
   },
   "outputs": [],
   "source": [
    "import torch"
   ]
  },
  {
   "cell_type": "code",
   "execution_count": 2,
   "metadata": {
    "colab": {
     "base_uri": "https://localhost:8080/"
    },
    "executionInfo": {
     "elapsed": 368,
     "status": "ok",
     "timestamp": 1651667871913,
     "user": {
      "displayName": "stu shi",
      "userId": "14122045057611715520"
     },
     "user_tz": -480
    },
    "id": "2rbSir6CBauS",
    "outputId": "c143824b-7db9-4fbd-d144-ee462f874374"
   },
   "outputs": [
    {
     "data": {
      "text/plain": [
       "tensor([ 0,  1,  2,  3,  4,  5,  6,  7,  8,  9, 10, 11])"
      ]
     },
     "execution_count": 2,
     "metadata": {},
     "output_type": "execute_result"
    }
   ],
   "source": [
    "x = torch.arange(12)\n",
    "x"
   ]
  },
  {
   "cell_type": "code",
   "execution_count": 3,
   "metadata": {
    "colab": {
     "base_uri": "https://localhost:8080/"
    },
    "executionInfo": {
     "elapsed": 16,
     "status": "ok",
     "timestamp": 1651667871913,
     "user": {
      "displayName": "stu shi",
      "userId": "14122045057611715520"
     },
     "user_tz": -480
    },
    "id": "Laf12IieDCfv",
    "outputId": "5a532581-99da-4869-8f98-a8dabe5aec0a"
   },
   "outputs": [
    {
     "data": {
      "text/plain": [
       "torch.Size([12])"
      ]
     },
     "execution_count": 3,
     "metadata": {},
     "output_type": "execute_result"
    }
   ],
   "source": [
    "# x.shape\n",
    "x.size()"
   ]
  },
  {
   "cell_type": "code",
   "execution_count": 4,
   "metadata": {
    "colab": {
     "base_uri": "https://localhost:8080/"
    },
    "executionInfo": {
     "elapsed": 16,
     "status": "ok",
     "timestamp": 1651667871914,
     "user": {
      "displayName": "stu shi",
      "userId": "14122045057611715520"
     },
     "user_tz": -480
    },
    "id": "Fr-voY68DZgt",
    "outputId": "ff11edad-d953-45ad-d0d4-250f9e7e2842"
   },
   "outputs": [
    {
     "data": {
      "text/plain": [
       "12"
      ]
     },
     "execution_count": 4,
     "metadata": {},
     "output_type": "execute_result"
    }
   ],
   "source": [
    "x.numel()"
   ]
  },
  {
   "cell_type": "code",
   "execution_count": 5,
   "metadata": {
    "colab": {
     "base_uri": "https://localhost:8080/"
    },
    "executionInfo": {
     "elapsed": 15,
     "status": "ok",
     "timestamp": 1651667871915,
     "user": {
      "displayName": "stu shi",
      "userId": "14122045057611715520"
     },
     "user_tz": -480
    },
    "id": "eDQzp8kdDgDV",
    "outputId": "78707df9-afcf-4f04-e31f-a28847e969ba"
   },
   "outputs": [
    {
     "data": {
      "text/plain": [
       "tensor([[ 0,  1,  2,  3],\n",
       "        [ 4,  5,  6,  7],\n",
       "        [ 8,  9, 10, 11]])"
      ]
     },
     "execution_count": 5,
     "metadata": {},
     "output_type": "execute_result"
    }
   ],
   "source": [
    "X = x.reshape(3, 4)\n",
    "X"
   ]
  },
  {
   "cell_type": "code",
   "execution_count": 6,
   "metadata": {
    "colab": {
     "base_uri": "https://localhost:8080/"
    },
    "executionInfo": {
     "elapsed": 15,
     "status": "ok",
     "timestamp": 1651667871916,
     "user": {
      "displayName": "stu shi",
      "userId": "14122045057611715520"
     },
     "user_tz": -480
    },
    "id": "HaoYqiH1Drd0",
    "outputId": "0b1d49a3-c663-4895-d086-f5e4474fc8d1"
   },
   "outputs": [
    {
     "data": {
      "text/plain": [
       "tensor([[[0., 0., 0., 0.],\n",
       "         [0., 0., 0., 0.],\n",
       "         [0., 0., 0., 0.]],\n",
       "\n",
       "        [[0., 0., 0., 0.],\n",
       "         [0., 0., 0., 0.],\n",
       "         [0., 0., 0., 0.]]])"
      ]
     },
     "execution_count": 6,
     "metadata": {},
     "output_type": "execute_result"
    }
   ],
   "source": [
    "torch.zeros((2,3,4))"
   ]
  },
  {
   "cell_type": "code",
   "execution_count": 7,
   "metadata": {
    "colab": {
     "base_uri": "https://localhost:8080/"
    },
    "executionInfo": {
     "elapsed": 13,
     "status": "ok",
     "timestamp": 1651667871916,
     "user": {
      "displayName": "stu shi",
      "userId": "14122045057611715520"
     },
     "user_tz": -480
    },
    "id": "tiD3kywUEDBU",
    "outputId": "334c22f9-486c-46d4-a319-c8b3ebef113a"
   },
   "outputs": [
    {
     "data": {
      "text/plain": [
       "tensor([[[1., 1., 1., 1.],\n",
       "         [1., 1., 1., 1.],\n",
       "         [1., 1., 1., 1.]],\n",
       "\n",
       "        [[1., 1., 1., 1.],\n",
       "         [1., 1., 1., 1.],\n",
       "         [1., 1., 1., 1.]]])"
      ]
     },
     "execution_count": 7,
     "metadata": {},
     "output_type": "execute_result"
    }
   ],
   "source": [
    "torch.ones((2,3,4))"
   ]
  },
  {
   "cell_type": "code",
   "execution_count": 8,
   "metadata": {
    "colab": {
     "base_uri": "https://localhost:8080/"
    },
    "executionInfo": {
     "elapsed": 12,
     "status": "ok",
     "timestamp": 1651667871917,
     "user": {
      "displayName": "stu shi",
      "userId": "14122045057611715520"
     },
     "user_tz": -480
    },
    "id": "qj0j1rwgEMdt",
    "outputId": "363f677a-1a10-4b83-9349-a1f17e95bcfa"
   },
   "outputs": [
    {
     "data": {
      "text/plain": [
       "tensor([[-1.2237, -0.8368,  1.5442, -0.2396],\n",
       "        [ 0.7941,  1.1896, -0.0898, -0.9531],\n",
       "        [ 0.0499,  1.5177, -0.2360,  0.9401]])"
      ]
     },
     "execution_count": 8,
     "metadata": {},
     "output_type": "execute_result"
    }
   ],
   "source": [
    "torch.randn(3,4)"
   ]
  },
  {
   "cell_type": "code",
   "execution_count": 9,
   "metadata": {
    "colab": {
     "base_uri": "https://localhost:8080/"
    },
    "executionInfo": {
     "elapsed": 13,
     "status": "ok",
     "timestamp": 1651667871918,
     "user": {
      "displayName": "stu shi",
      "userId": "14122045057611715520"
     },
     "user_tz": -480
    },
    "id": "-lt7xorsEU1M",
    "outputId": "2e5fda48-9aa4-4411-8edf-36c6a810b56c"
   },
   "outputs": [
    {
     "data": {
      "text/plain": [
       "tensor([[2, 1, 4, 3],\n",
       "        [1, 2, 3, 4],\n",
       "        [4, 3, 2, 1]])"
      ]
     },
     "execution_count": 9,
     "metadata": {},
     "output_type": "execute_result"
    }
   ],
   "source": [
    "torch.tensor([[2,1,4,3],[1,2,3,4],[4,3,2,1]])"
   ]
  },
  {
   "cell_type": "markdown",
   "metadata": {
    "id": "9oCHQtwLEqU7"
   },
   "source": [
    "### 2.1.2 运算符"
   ]
  },
  {
   "cell_type": "code",
   "execution_count": 10,
   "metadata": {
    "colab": {
     "base_uri": "https://localhost:8080/"
    },
    "executionInfo": {
     "elapsed": 348,
     "status": "ok",
     "timestamp": 1651668007927,
     "user": {
      "displayName": "stu shi",
      "userId": "14122045057611715520"
     },
     "user_tz": -480
    },
    "id": "ht_CT8LdEyfq",
    "outputId": "d9f4e355-c881-4430-e619-49ed2c33ee20"
   },
   "outputs": [
    {
     "data": {
      "text/plain": [
       "(tensor([ 3.,  4.,  6., 10.]),\n",
       " tensor([-1.,  0.,  2.,  6.]),\n",
       " tensor([ 2.,  4.,  8., 16.]),\n",
       " tensor([0.5000, 1.0000, 2.0000, 4.0000]),\n",
       " tensor([ 1.,  4., 16., 64.]))"
      ]
     },
     "execution_count": 10,
     "metadata": {},
     "output_type": "execute_result"
    }
   ],
   "source": [
    "x = torch.tensor([1.0,2,4,8])\n",
    "y = torch.tensor([2,2,2,2])\n",
    "x+y, x-y, x*y, x/y, x**y"
   ]
  },
  {
   "cell_type": "code",
   "execution_count": 11,
   "metadata": {
    "colab": {
     "base_uri": "https://localhost:8080/"
    },
    "executionInfo": {
     "elapsed": 336,
     "status": "ok",
     "timestamp": 1651668051127,
     "user": {
      "displayName": "stu shi",
      "userId": "14122045057611715520"
     },
     "user_tz": -480
    },
    "id": "H09b42TdFjPh",
    "outputId": "ea1554af-d65e-4276-9b0a-36a00efcc6f5"
   },
   "outputs": [
    {
     "data": {
      "text/plain": [
       "tensor([2.7183e+00, 7.3891e+00, 5.4598e+01, 2.9810e+03])"
      ]
     },
     "execution_count": 11,
     "metadata": {},
     "output_type": "execute_result"
    }
   ],
   "source": [
    "torch.exp(x)"
   ]
  },
  {
   "cell_type": "code",
   "execution_count": 12,
   "metadata": {
    "colab": {
     "base_uri": "https://localhost:8080/"
    },
    "executionInfo": {
     "elapsed": 372,
     "status": "ok",
     "timestamp": 1651669178533,
     "user": {
      "displayName": "stu shi",
      "userId": "14122045057611715520"
     },
     "user_tz": -480
    },
    "id": "65KfJvKDFunr",
    "outputId": "1e0fa586-c4dc-4269-b8e0-3679b87fc93a"
   },
   "outputs": [
    {
     "data": {
      "text/plain": [
       "(tensor([[ 0.,  1.,  2.,  3.],\n",
       "         [ 4.,  5.,  6.,  7.],\n",
       "         [ 8.,  9., 10., 11.],\n",
       "         [ 2.,  1.,  4.,  3.],\n",
       "         [ 1.,  2.,  3.,  4.],\n",
       "         [ 4.,  3.,  2.,  1.]]),\n",
       " tensor([[ 0.,  1.,  2.,  3.,  2.,  1.,  4.,  3.],\n",
       "         [ 4.,  5.,  6.,  7.,  1.,  2.,  3.,  4.],\n",
       "         [ 8.,  9., 10., 11.,  4.,  3.,  2.,  1.]]))"
      ]
     },
     "execution_count": 12,
     "metadata": {},
     "output_type": "execute_result"
    }
   ],
   "source": [
    "X = torch.arange(12, dtype=torch.float32).reshape(3,4)\n",
    "Y = torch.tensor([[2.0,1,4,3],[1,2,3,4],[4,3,2,1]])\n",
    "torch.cat((X,Y),dim=0), torch.cat((X,Y),dim=1)"
   ]
  },
  {
   "cell_type": "code",
   "execution_count": 13,
   "metadata": {
    "colab": {
     "base_uri": "https://localhost:8080/"
    },
    "executionInfo": {
     "elapsed": 334,
     "status": "ok",
     "timestamp": 1651669181042,
     "user": {
      "displayName": "stu shi",
      "userId": "14122045057611715520"
     },
     "user_tz": -480
    },
    "id": "5U_30FnQGkoo",
    "outputId": "8f397d29-3b39-4999-8f1b-45aee177daca"
   },
   "outputs": [
    {
     "data": {
      "text/plain": [
       "tensor([[False, False, False, False],\n",
       "        [ True,  True,  True,  True],\n",
       "        [ True,  True,  True,  True]])"
      ]
     },
     "execution_count": 13,
     "metadata": {},
     "output_type": "execute_result"
    }
   ],
   "source": [
    "X > Y"
   ]
  },
  {
   "cell_type": "code",
   "execution_count": 14,
   "metadata": {
    "colab": {
     "base_uri": "https://localhost:8080/"
    },
    "executionInfo": {
     "elapsed": 334,
     "status": "ok",
     "timestamp": 1651668335315,
     "user": {
      "displayName": "stu shi",
      "userId": "14122045057611715520"
     },
     "user_tz": -480
    },
    "id": "Z3jMJCVcGqD9",
    "outputId": "4c0d4942-b529-4a10-a9e2-cb49e707602b"
   },
   "outputs": [
    {
     "data": {
      "text/plain": [
       "tensor(66.)"
      ]
     },
     "execution_count": 14,
     "metadata": {},
     "output_type": "execute_result"
    }
   ],
   "source": [
    "X.sum()"
   ]
  },
  {
   "cell_type": "markdown",
   "metadata": {
    "id": "t6tkUyaQGtJN"
   },
   "source": [
    "### 2.1.3 广播机制"
   ]
  },
  {
   "cell_type": "code",
   "execution_count": 15,
   "metadata": {
    "colab": {
     "base_uri": "https://localhost:8080/"
    },
    "executionInfo": {
     "elapsed": 336,
     "status": "ok",
     "timestamp": 1651668454353,
     "user": {
      "displayName": "stu shi",
      "userId": "14122045057611715520"
     },
     "user_tz": -480
    },
    "id": "jjcMFlgIGxne",
    "outputId": "e9765f02-b103-49d4-b9a0-bc24bda1ba96"
   },
   "outputs": [
    {
     "data": {
      "text/plain": [
       "(tensor([[0],\n",
       "         [1],\n",
       "         [2]]),\n",
       " tensor([[0, 1]]))"
      ]
     },
     "execution_count": 15,
     "metadata": {},
     "output_type": "execute_result"
    }
   ],
   "source": [
    "a = torch.arange(3).reshape((3,1))\n",
    "b = torch.arange(2).reshape((1,2))\n",
    "a,b"
   ]
  },
  {
   "cell_type": "code",
   "execution_count": 16,
   "metadata": {
    "colab": {
     "base_uri": "https://localhost:8080/"
    },
    "executionInfo": {
     "elapsed": 453,
     "status": "ok",
     "timestamp": 1651668586927,
     "user": {
      "displayName": "stu shi",
      "userId": "14122045057611715520"
     },
     "user_tz": -480
    },
    "id": "zsdjgtC2HnXx",
    "outputId": "bb3c0838-8542-4742-f8d7-85dfc2300e9c"
   },
   "outputs": [
    {
     "data": {
      "text/plain": [
       "tensor([[0, 1],\n",
       "        [1, 2],\n",
       "        [2, 3]])"
      ]
     },
     "execution_count": 16,
     "metadata": {},
     "output_type": "execute_result"
    }
   ],
   "source": [
    "a+b"
   ]
  },
  {
   "cell_type": "markdown",
   "metadata": {
    "id": "Ix6UBm-xHxJC"
   },
   "source": [
    "### 2.1.4 索引和切片"
   ]
  },
  {
   "cell_type": "code",
   "execution_count": 17,
   "metadata": {
    "colab": {
     "base_uri": "https://localhost:8080/"
    },
    "executionInfo": {
     "elapsed": 377,
     "status": "ok",
     "timestamp": 1651668675426,
     "user": {
      "displayName": "stu shi",
      "userId": "14122045057611715520"
     },
     "user_tz": -480
    },
    "id": "1Ttd1MKLHKtg",
    "outputId": "758da497-fe08-4d30-8be2-010ab6da82fd"
   },
   "outputs": [
    {
     "data": {
      "text/plain": [
       "tensor([[ 0.,  1.,  2.,  3.],\n",
       "        [ 4.,  5.,  6.,  7.],\n",
       "        [ 8.,  9., 10., 11.]])"
      ]
     },
     "execution_count": 17,
     "metadata": {},
     "output_type": "execute_result"
    }
   ],
   "source": [
    "X"
   ]
  },
  {
   "cell_type": "code",
   "execution_count": 18,
   "metadata": {
    "colab": {
     "base_uri": "https://localhost:8080/"
    },
    "executionInfo": {
     "elapsed": 808,
     "status": "ok",
     "timestamp": 1651668700229,
     "user": {
      "displayName": "stu shi",
      "userId": "14122045057611715520"
     },
     "user_tz": -480
    },
    "id": "Wi6G7j99H_rZ",
    "outputId": "8c845943-600b-412e-d34a-9421caba37eb"
   },
   "outputs": [
    {
     "data": {
      "text/plain": [
       "(tensor([ 8.,  9., 10., 11.]),\n",
       " tensor([[ 4.,  5.,  6.,  7.],\n",
       "         [ 8.,  9., 10., 11.]]))"
      ]
     },
     "execution_count": 18,
     "metadata": {},
     "output_type": "execute_result"
    }
   ],
   "source": [
    "X[-1], X[1:3]"
   ]
  },
  {
   "cell_type": "code",
   "execution_count": 19,
   "metadata": {
    "colab": {
     "base_uri": "https://localhost:8080/"
    },
    "executionInfo": {
     "elapsed": 368,
     "status": "ok",
     "timestamp": 1651668725171,
     "user": {
      "displayName": "stu shi",
      "userId": "14122045057611715520"
     },
     "user_tz": -480
    },
    "id": "moEp3_-CIIKp",
    "outputId": "0cdff266-b4b9-41c4-f9c9-6fd0a959d989"
   },
   "outputs": [
    {
     "data": {
      "text/plain": [
       "tensor([[ 0.,  1.,  2.,  3.],\n",
       "        [ 4.,  5.,  9.,  7.],\n",
       "        [ 8.,  9., 10., 11.]])"
      ]
     },
     "execution_count": 19,
     "metadata": {},
     "output_type": "execute_result"
    }
   ],
   "source": [
    "X[1,2]=9\n",
    "X"
   ]
  },
  {
   "cell_type": "code",
   "execution_count": 20,
   "metadata": {
    "colab": {
     "base_uri": "https://localhost:8080/"
    },
    "executionInfo": {
     "elapsed": 373,
     "status": "ok",
     "timestamp": 1651668756047,
     "user": {
      "displayName": "stu shi",
      "userId": "14122045057611715520"
     },
     "user_tz": -480
    },
    "id": "7HodrJSzINpT",
    "outputId": "52ecf0f0-947e-413a-80aa-7a870d3e5808"
   },
   "outputs": [
    {
     "data": {
      "text/plain": [
       "tensor([[12., 12., 12., 12.],\n",
       "        [12., 12., 12., 12.],\n",
       "        [ 8.,  9., 10., 11.]])"
      ]
     },
     "execution_count": 20,
     "metadata": {},
     "output_type": "execute_result"
    }
   ],
   "source": [
    "X[0:2,:] = 12\n",
    "X"
   ]
  },
  {
   "cell_type": "markdown",
   "metadata": {
    "id": "mnXHuEYtIVEt"
   },
   "source": [
    "### 2.1.5 节省内存"
   ]
  },
  {
   "cell_type": "code",
   "execution_count": 21,
   "metadata": {
    "colab": {
     "base_uri": "https://localhost:8080/"
    },
    "executionInfo": {
     "elapsed": 527,
     "status": "ok",
     "timestamp": 1651668858083,
     "user": {
      "displayName": "stu shi",
      "userId": "14122045057611715520"
     },
     "user_tz": -480
    },
    "id": "m04b2ZXGIZo7",
    "outputId": "3ba7f5f1-ef61-4f93-ea91-f022f9c50d46"
   },
   "outputs": [
    {
     "data": {
      "text/plain": [
       "(False, 139891643471168)"
      ]
     },
     "execution_count": 21,
     "metadata": {},
     "output_type": "execute_result"
    }
   ],
   "source": [
    "before = id(Y)\n",
    "Y = Y + X\n",
    "id(y) == before, id(Y)"
   ]
  },
  {
   "cell_type": "code",
   "execution_count": 22,
   "metadata": {
    "colab": {
     "base_uri": "https://localhost:8080/"
    },
    "executionInfo": {
     "elapsed": 387,
     "status": "ok",
     "timestamp": 1651668935672,
     "user": {
      "displayName": "stu shi",
      "userId": "14122045057611715520"
     },
     "user_tz": -480
    },
    "id": "vSn_UFUgI8Li",
    "outputId": "e85cea57-27e6-4d94-a4f3-3a8774f82dd8"
   },
   "outputs": [
    {
     "name": "stdout",
     "output_type": "stream",
     "text": [
      "id(Z): 139891643526896\n",
      "id(Z): 139891643526896\n"
     ]
    }
   ],
   "source": [
    "Z = torch.zeros_like(Y)\n",
    "print('id(Z):', id(Z))\n",
    "Z[:] = X + Y\n",
    "print('id(Z):', id(Z))"
   ]
  },
  {
   "cell_type": "code",
   "execution_count": 23,
   "metadata": {
    "colab": {
     "base_uri": "https://localhost:8080/"
    },
    "executionInfo": {
     "elapsed": 364,
     "status": "ok",
     "timestamp": 1651668968263,
     "user": {
      "displayName": "stu shi",
      "userId": "14122045057611715520"
     },
     "user_tz": -480
    },
    "id": "X6RR27ezJEyn",
    "outputId": "70eebb73-e7cc-44f0-9d19-3226c84149af"
   },
   "outputs": [
    {
     "data": {
      "text/plain": [
       "True"
      ]
     },
     "execution_count": 23,
     "metadata": {},
     "output_type": "execute_result"
    }
   ],
   "source": [
    "before = id(X)\n",
    "X += Y\n",
    "id(X) == before"
   ]
  },
  {
   "cell_type": "markdown",
   "metadata": {
    "id": "o9GwBTMOJKff"
   },
   "source": [
    "### 2.1.6 转换为其他Python对象"
   ]
  },
  {
   "cell_type": "code",
   "execution_count": 24,
   "metadata": {
    "colab": {
     "base_uri": "https://localhost:8080/"
    },
    "executionInfo": {
     "elapsed": 357,
     "status": "ok",
     "timestamp": 1651669073299,
     "user": {
      "displayName": "stu shi",
      "userId": "14122045057611715520"
     },
     "user_tz": -480
    },
    "id": "UU285CXPJQpv",
    "outputId": "b82ff5f6-8e5a-4614-dfb4-8b583c7b24f6"
   },
   "outputs": [
    {
     "data": {
      "text/plain": [
       "(numpy.ndarray, torch.Tensor, 139891643527040, 139891643634848)"
      ]
     },
     "execution_count": 24,
     "metadata": {},
     "output_type": "execute_result"
    }
   ],
   "source": [
    "A = X.numpy()\n",
    "B = torch.tensor(A)\n",
    "type(A), type(B), id(A), id(B) "
   ]
  },
  {
   "cell_type": "code",
   "execution_count": 25,
   "metadata": {
    "colab": {
     "base_uri": "https://localhost:8080/"
    },
    "executionInfo": {
     "elapsed": 5,
     "status": "ok",
     "timestamp": 1651669120866,
     "user": {
      "displayName": "stu shi",
      "userId": "14122045057611715520"
     },
     "user_tz": -480
    },
    "id": "TCj1JHaUJmm3",
    "outputId": "e75d6b82-7f10-452e-c63b-49cbb38bdf01"
   },
   "outputs": [
    {
     "data": {
      "text/plain": [
       "(tensor([3.5000]), 3.5, 3.5, 3, torch.Tensor)"
      ]
     },
     "execution_count": 25,
     "metadata": {},
     "output_type": "execute_result"
    }
   ],
   "source": [
    "a = torch.tensor([3.5])\n",
    "a, a.item(), float(a), int(a), type(a)"
   ]
  },
  {
   "cell_type": "markdown",
   "metadata": {
    "id": "aQ3Vbnz4KZMd",
    "jp-MarkdownHeadingCollapsed": true,
    "tags": []
   },
   "source": [
    "## 2.2 数据预处理"
   ]
  },
  {
   "cell_type": "markdown",
   "metadata": {
    "id": "IMyVEo-1Kdwd"
   },
   "source": [
    "### 2.2.1读取数据集"
   ]
  },
  {
   "cell_type": "code",
   "execution_count": 26,
   "metadata": {
    "executionInfo": {
     "elapsed": 358,
     "status": "ok",
     "timestamp": 1651669519932,
     "user": {
      "displayName": "stu shi",
      "userId": "14122045057611715520"
     },
     "user_tz": -480
    },
    "id": "elM5rEHpKNEt"
   },
   "outputs": [],
   "source": [
    "import os\n",
    "os.makedirs(os.path.join('..', 'data'), exist_ok=True)\n",
    "data_file = os.path.join('..', 'data', 'house_tiny.csv')\n",
    "with open(data_file, 'w') as f:\n",
    "  f.write('NumRooms,Alley,Price\\n') # 列名\n",
    "  f.write('NA,Pave,127500\\n') # 每⾏表⽰⼀个数据样本\n",
    "  f.write('2,NA,106000\\n')\n",
    "  f.write('4,NA,178100\\n')\n",
    "  f.write('NA,NA,140000\\n')"
   ]
  },
  {
   "cell_type": "code",
   "execution_count": 27,
   "metadata": {
    "colab": {
     "base_uri": "https://localhost:8080/",
     "height": 175
    },
    "executionInfo": {
     "elapsed": 368,
     "status": "ok",
     "timestamp": 1651669649786,
     "user": {
      "displayName": "stu shi",
      "userId": "14122045057611715520"
     },
     "user_tz": -480
    },
    "id": "J9Q09Z99LdfC",
    "outputId": "782e2a73-4875-46aa-9edb-5c63680124ce"
   },
   "outputs": [
    {
     "data": {
      "text/html": [
       "<div>\n",
       "<style scoped>\n",
       "    .dataframe tbody tr th:only-of-type {\n",
       "        vertical-align: middle;\n",
       "    }\n",
       "\n",
       "    .dataframe tbody tr th {\n",
       "        vertical-align: top;\n",
       "    }\n",
       "\n",
       "    .dataframe thead th {\n",
       "        text-align: right;\n",
       "    }\n",
       "</style>\n",
       "<table border=\"1\" class=\"dataframe\">\n",
       "  <thead>\n",
       "    <tr style=\"text-align: right;\">\n",
       "      <th></th>\n",
       "      <th>NumRooms</th>\n",
       "      <th>Alley</th>\n",
       "      <th>Price</th>\n",
       "    </tr>\n",
       "  </thead>\n",
       "  <tbody>\n",
       "    <tr>\n",
       "      <th>0</th>\n",
       "      <td>NaN</td>\n",
       "      <td>Pave</td>\n",
       "      <td>127500</td>\n",
       "    </tr>\n",
       "    <tr>\n",
       "      <th>1</th>\n",
       "      <td>2.0</td>\n",
       "      <td>NaN</td>\n",
       "      <td>106000</td>\n",
       "    </tr>\n",
       "    <tr>\n",
       "      <th>2</th>\n",
       "      <td>4.0</td>\n",
       "      <td>NaN</td>\n",
       "      <td>178100</td>\n",
       "    </tr>\n",
       "    <tr>\n",
       "      <th>3</th>\n",
       "      <td>NaN</td>\n",
       "      <td>NaN</td>\n",
       "      <td>140000</td>\n",
       "    </tr>\n",
       "  </tbody>\n",
       "</table>\n",
       "</div>"
      ],
      "text/plain": [
       "   NumRooms Alley   Price\n",
       "0       NaN  Pave  127500\n",
       "1       2.0   NaN  106000\n",
       "2       4.0   NaN  178100\n",
       "3       NaN   NaN  140000"
      ]
     },
     "execution_count": 27,
     "metadata": {},
     "output_type": "execute_result"
    }
   ],
   "source": [
    "import pandas as pd\n",
    "\n",
    "data = pd.read_csv(data_file)\n",
    "data"
   ]
  },
  {
   "cell_type": "markdown",
   "metadata": {
    "id": "mHorwt6eL1YC"
   },
   "source": [
    "### 2.2.2处理缺失值"
   ]
  },
  {
   "cell_type": "code",
   "execution_count": 28,
   "metadata": {
    "colab": {
     "base_uri": "https://localhost:8080/"
    },
    "executionInfo": {
     "elapsed": 6,
     "status": "ok",
     "timestamp": 1651669913323,
     "user": {
      "displayName": "stu shi",
      "userId": "14122045057611715520"
     },
     "user_tz": -480
    },
    "id": "fqc3Sh4NMJEF",
    "outputId": "694cd1d0-79b0-4d54-94ad-3aaae1ee7f25"
   },
   "outputs": [
    {
     "name": "stdout",
     "output_type": "stream",
     "text": [
      "   NumRooms Alley\n",
      "0       3.0  Pave\n",
      "1       2.0   NaN\n",
      "2       4.0   NaN\n",
      "3       3.0   NaN\n"
     ]
    }
   ],
   "source": [
    "inputs, outputs = data.iloc[:,0:2], data.iloc[:,-1]\n",
    "inputs = inputs.fillna(inputs.mean())\n",
    "print(inputs)"
   ]
  },
  {
   "cell_type": "code",
   "execution_count": 29,
   "metadata": {
    "colab": {
     "base_uri": "https://localhost:8080/"
    },
    "executionInfo": {
     "elapsed": 579,
     "status": "ok",
     "timestamp": 1651670005880,
     "user": {
      "displayName": "stu shi",
      "userId": "14122045057611715520"
     },
     "user_tz": -480
    },
    "id": "ihIwJQwZM3Yk",
    "outputId": "fe81ac40-d72a-49f2-bedb-61774d1012a9"
   },
   "outputs": [
    {
     "name": "stdout",
     "output_type": "stream",
     "text": [
      "   NumRooms  Alley_Pave  Alley_nan\n",
      "0       3.0           1          0\n",
      "1       2.0           0          1\n",
      "2       4.0           0          1\n",
      "3       3.0           0          1\n"
     ]
    }
   ],
   "source": [
    "inputs = pd.get_dummies(inputs, dummy_na=True)\n",
    "print(inputs)"
   ]
  },
  {
   "cell_type": "markdown",
   "metadata": {
    "id": "HGEQ1od5R0Tq"
   },
   "source": [
    "### 2.2.3转换成张量格式"
   ]
  },
  {
   "cell_type": "code",
   "execution_count": 30,
   "metadata": {
    "colab": {
     "base_uri": "https://localhost:8080/"
    },
    "executionInfo": {
     "elapsed": 7,
     "status": "ok",
     "timestamp": 1651671351007,
     "user": {
      "displayName": "stu shi",
      "userId": "14122045057611715520"
     },
     "user_tz": -480
    },
    "id": "OvtCc2LwR4Yl",
    "outputId": "d3c4ad9d-245c-40dd-dbb6-a9134812ffba"
   },
   "outputs": [
    {
     "data": {
      "text/plain": [
       "(tensor([[3., 1., 0.],\n",
       "         [2., 0., 1.],\n",
       "         [4., 0., 1.],\n",
       "         [3., 0., 1.]], dtype=torch.float64),\n",
       " tensor([127500, 106000, 178100, 140000]))"
      ]
     },
     "execution_count": 30,
     "metadata": {},
     "output_type": "execute_result"
    }
   ],
   "source": [
    "import torch\n",
    "\n",
    "X, y =torch.tensor(inputs.values), torch.tensor(outputs.values)\n",
    "X,y"
   ]
  },
  {
   "cell_type": "markdown",
   "metadata": {
    "id": "7O-XgheQSRsj",
    "jp-MarkdownHeadingCollapsed": true,
    "tags": []
   },
   "source": [
    "## 2.3线性代数"
   ]
  },
  {
   "cell_type": "markdown",
   "metadata": {
    "id": "NGtbOYIkSVRB"
   },
   "source": [
    "### 2.3.1标量"
   ]
  },
  {
   "cell_type": "code",
   "execution_count": 31,
   "metadata": {
    "colab": {
     "base_uri": "https://localhost:8080/"
    },
    "executionInfo": {
     "elapsed": 372,
     "status": "ok",
     "timestamp": 1651671492170,
     "user": {
      "displayName": "stu shi",
      "userId": "14122045057611715520"
     },
     "user_tz": -480
    },
    "id": "zAb8MZ9xSZTR",
    "outputId": "ecf31d7c-fecd-40b8-d096-13ecfe5709c5"
   },
   "outputs": [
    {
     "data": {
      "text/plain": [
       "(tensor(5.), tensor(1.), tensor(6.), tensor(1.5000), tensor(9.))"
      ]
     },
     "execution_count": 31,
     "metadata": {},
     "output_type": "execute_result"
    }
   ],
   "source": [
    "import torch\n",
    "\n",
    "x = torch.tensor(3.0)\n",
    "y = torch.tensor(2.0)\n",
    "x+y, x-y, x*y, x/y, x**y "
   ]
  },
  {
   "cell_type": "markdown",
   "metadata": {
    "id": "QMTZnoxES0PY"
   },
   "source": [
    "### 2.3.2向量"
   ]
  },
  {
   "cell_type": "code",
   "execution_count": 32,
   "metadata": {
    "colab": {
     "base_uri": "https://localhost:8080/"
    },
    "executionInfo": {
     "elapsed": 386,
     "status": "ok",
     "timestamp": 1651730273631,
     "user": {
      "displayName": "stu shi",
      "userId": "14122045057611715520"
     },
     "user_tz": -480
    },
    "id": "y34gBnouSzAA",
    "outputId": "71b75c98-1fa4-44f4-ebf1-661092ead4a0"
   },
   "outputs": [
    {
     "data": {
      "text/plain": [
       "tensor([0., 1., 2., 3.])"
      ]
     },
     "execution_count": 32,
     "metadata": {},
     "output_type": "execute_result"
    }
   ],
   "source": [
    "x = torch.arange(4,dtype=torch.float32)\n",
    "x"
   ]
  },
  {
   "cell_type": "code",
   "execution_count": 33,
   "metadata": {
    "colab": {
     "base_uri": "https://localhost:8080/"
    },
    "executionInfo": {
     "elapsed": 6,
     "status": "ok",
     "timestamp": 1651671576765,
     "user": {
      "displayName": "stu shi",
      "userId": "14122045057611715520"
     },
     "user_tz": -480
    },
    "id": "70uQogzBTAFZ",
    "outputId": "4167953b-7624-4010-bfbd-2a0ec4048bd1"
   },
   "outputs": [
    {
     "data": {
      "text/plain": [
       "tensor(3.)"
      ]
     },
     "execution_count": 33,
     "metadata": {},
     "output_type": "execute_result"
    }
   ],
   "source": [
    "x[3]"
   ]
  },
  {
   "cell_type": "code",
   "execution_count": 34,
   "metadata": {
    "colab": {
     "base_uri": "https://localhost:8080/"
    },
    "executionInfo": {
     "elapsed": 401,
     "status": "ok",
     "timestamp": 1651671595152,
     "user": {
      "displayName": "stu shi",
      "userId": "14122045057611715520"
     },
     "user_tz": -480
    },
    "id": "drAPgfz8TDkl",
    "outputId": "08b82f10-c5e5-4270-92c0-71181dd74331"
   },
   "outputs": [
    {
     "data": {
      "text/plain": [
       "4"
      ]
     },
     "execution_count": 34,
     "metadata": {},
     "output_type": "execute_result"
    }
   ],
   "source": [
    "len(x)"
   ]
  },
  {
   "cell_type": "code",
   "execution_count": 35,
   "metadata": {
    "colab": {
     "base_uri": "https://localhost:8080/"
    },
    "executionInfo": {
     "elapsed": 5,
     "status": "ok",
     "timestamp": 1651671602698,
     "user": {
      "displayName": "stu shi",
      "userId": "14122045057611715520"
     },
     "user_tz": -480
    },
    "id": "3HtKwV1HTDdn",
    "outputId": "5984ac56-a95a-496f-ef92-1563a12983e1"
   },
   "outputs": [
    {
     "data": {
      "text/plain": [
       "torch.Size([4])"
      ]
     },
     "execution_count": 35,
     "metadata": {},
     "output_type": "execute_result"
    }
   ],
   "source": [
    "x.shape"
   ]
  },
  {
   "cell_type": "markdown",
   "metadata": {
    "id": "i664w7w0TP5s"
   },
   "source": [
    "### 2.3.3矩阵"
   ]
  },
  {
   "cell_type": "code",
   "execution_count": 36,
   "metadata": {
    "colab": {
     "base_uri": "https://localhost:8080/"
    },
    "executionInfo": {
     "elapsed": 2670,
     "status": "ok",
     "timestamp": 1651727320411,
     "user": {
      "displayName": "stu shi",
      "userId": "14122045057611715520"
     },
     "user_tz": -480
    },
    "id": "om-pew3NTJvv",
    "outputId": "8778c0ff-1439-4fcf-b112-ab2268047f2b"
   },
   "outputs": [
    {
     "data": {
      "text/plain": [
       "tensor([[ 0,  1,  2,  3],\n",
       "        [ 4,  5,  6,  7],\n",
       "        [ 8,  9, 10, 11],\n",
       "        [12, 13, 14, 15],\n",
       "        [16, 17, 18, 19]])"
      ]
     },
     "execution_count": 36,
     "metadata": {},
     "output_type": "execute_result"
    }
   ],
   "source": [
    "import torch\n",
    "\n",
    "A = torch.arange(20).reshape(5, 4)\n",
    "A"
   ]
  },
  {
   "cell_type": "code",
   "execution_count": 37,
   "metadata": {
    "colab": {
     "base_uri": "https://localhost:8080/"
    },
    "executionInfo": {
     "elapsed": 393,
     "status": "ok",
     "timestamp": 1651716401729,
     "user": {
      "displayName": "stu shi",
      "userId": "14122045057611715520"
     },
     "user_tz": -480
    },
    "id": "tvqAAcgH-BMg",
    "outputId": "de1e6c4e-2108-4ef4-ec0e-4082b40f74d9"
   },
   "outputs": [
    {
     "data": {
      "text/plain": [
       "tensor([[ 0,  4,  8, 12, 16],\n",
       "        [ 1,  5,  9, 13, 17],\n",
       "        [ 2,  6, 10, 14, 18],\n",
       "        [ 3,  7, 11, 15, 19]])"
      ]
     },
     "execution_count": 37,
     "metadata": {},
     "output_type": "execute_result"
    }
   ],
   "source": [
    "A.T"
   ]
  },
  {
   "cell_type": "code",
   "execution_count": 38,
   "metadata": {
    "colab": {
     "base_uri": "https://localhost:8080/"
    },
    "executionInfo": {
     "elapsed": 326,
     "status": "ok",
     "timestamp": 1651716473074,
     "user": {
      "displayName": "stu shi",
      "userId": "14122045057611715520"
     },
     "user_tz": -480
    },
    "id": "ZXyH_f9t-FHT",
    "outputId": "3b7cd5af-c81a-48d4-b26f-9ebcb9ea7750"
   },
   "outputs": [
    {
     "data": {
      "text/plain": [
       "tensor([[1, 2, 3],\n",
       "        [2, 0, 4],\n",
       "        [3, 4, 5]])"
      ]
     },
     "execution_count": 38,
     "metadata": {},
     "output_type": "execute_result"
    }
   ],
   "source": [
    "B = torch.tensor([[1,2,3],[2,0,4],[3,4,5]])\n",
    "B"
   ]
  },
  {
   "cell_type": "code",
   "execution_count": 39,
   "metadata": {
    "colab": {
     "base_uri": "https://localhost:8080/"
    },
    "executionInfo": {
     "elapsed": 350,
     "status": "ok",
     "timestamp": 1651716486244,
     "user": {
      "displayName": "stu shi",
      "userId": "14122045057611715520"
     },
     "user_tz": -480
    },
    "id": "w2iAnyrV-T0B",
    "outputId": "b7e3935a-0d69-4d15-edee-9b4e469f941b"
   },
   "outputs": [
    {
     "data": {
      "text/plain": [
       "tensor([[True, True, True],\n",
       "        [True, True, True],\n",
       "        [True, True, True]])"
      ]
     },
     "execution_count": 39,
     "metadata": {},
     "output_type": "execute_result"
    }
   ],
   "source": [
    "B == B.T"
   ]
  },
  {
   "cell_type": "markdown",
   "metadata": {
    "id": "pQV9Tc1ZDj8F"
   },
   "source": [
    "### 2.3.4张量"
   ]
  },
  {
   "cell_type": "code",
   "execution_count": 40,
   "metadata": {
    "colab": {
     "base_uri": "https://localhost:8080/"
    },
    "executionInfo": {
     "elapsed": 343,
     "status": "ok",
     "timestamp": 1651717901926,
     "user": {
      "displayName": "stu shi",
      "userId": "14122045057611715520"
     },
     "user_tz": -480
    },
    "id": "U4cUAbIj-W93",
    "outputId": "8eeab40c-1057-4855-ef32-431c46871b0d"
   },
   "outputs": [
    {
     "data": {
      "text/plain": [
       "tensor([[[ 0,  1,  2,  3],\n",
       "         [ 4,  5,  6,  7],\n",
       "         [ 8,  9, 10, 11]],\n",
       "\n",
       "        [[12, 13, 14, 15],\n",
       "         [16, 17, 18, 19],\n",
       "         [20, 21, 22, 23]]])"
      ]
     },
     "execution_count": 40,
     "metadata": {},
     "output_type": "execute_result"
    }
   ],
   "source": [
    "X = torch.arange(24).reshape(2,3,4)\n",
    "X"
   ]
  },
  {
   "cell_type": "markdown",
   "metadata": {
    "id": "n8kvr4J-D1uS"
   },
   "source": [
    "### 2.3.5张量算法的基本性质"
   ]
  },
  {
   "cell_type": "code",
   "execution_count": 41,
   "metadata": {
    "colab": {
     "base_uri": "https://localhost:8080/"
    },
    "executionInfo": {
     "elapsed": 319,
     "status": "ok",
     "timestamp": 1651718009598,
     "user": {
      "displayName": "stu shi",
      "userId": "14122045057611715520"
     },
     "user_tz": -480
    },
    "id": "GkEvhEMgDwpq",
    "outputId": "0cbc9090-804a-431f-f0ea-b921bf30a9b6"
   },
   "outputs": [
    {
     "data": {
      "text/plain": [
       "(tensor([[ 0.,  1.,  2.,  3.],\n",
       "         [ 4.,  5.,  6.,  7.],\n",
       "         [ 8.,  9., 10., 11.],\n",
       "         [12., 13., 14., 15.],\n",
       "         [16., 17., 18., 19.]]),\n",
       " tensor([[ 0.,  1.,  2.,  3.],\n",
       "         [ 4.,  5.,  6.,  7.],\n",
       "         [ 8.,  9., 10., 11.],\n",
       "         [12., 13., 14., 15.],\n",
       "         [16., 17., 18., 19.]]),\n",
       " tensor([[ 0.,  2.,  4.,  6.],\n",
       "         [ 8., 10., 12., 14.],\n",
       "         [16., 18., 20., 22.],\n",
       "         [24., 26., 28., 30.],\n",
       "         [32., 34., 36., 38.]]))"
      ]
     },
     "execution_count": 41,
     "metadata": {},
     "output_type": "execute_result"
    }
   ],
   "source": [
    "A = torch.arange(20,dtype=torch.float32).reshape(5,4)\n",
    "B = A.clone() #分配新的内存\n",
    "A,B,A+B"
   ]
  },
  {
   "cell_type": "code",
   "execution_count": 42,
   "metadata": {
    "colab": {
     "base_uri": "https://localhost:8080/"
    },
    "executionInfo": {
     "elapsed": 322,
     "status": "ok",
     "timestamp": 1651718059254,
     "user": {
      "displayName": "stu shi",
      "userId": "14122045057611715520"
     },
     "user_tz": -480
    },
    "id": "OmGrdlcWEK8p",
    "outputId": "733b3431-3f47-4a4b-f6fb-ca4555173aa1"
   },
   "outputs": [
    {
     "data": {
      "text/plain": [
       "tensor([[  0.,   1.,   4.,   9.],\n",
       "        [ 16.,  25.,  36.,  49.],\n",
       "        [ 64.,  81., 100., 121.],\n",
       "        [144., 169., 196., 225.],\n",
       "        [256., 289., 324., 361.]])"
      ]
     },
     "execution_count": 42,
     "metadata": {},
     "output_type": "execute_result"
    }
   ],
   "source": [
    "A * B"
   ]
  },
  {
   "cell_type": "code",
   "execution_count": 43,
   "metadata": {
    "colab": {
     "base_uri": "https://localhost:8080/"
    },
    "executionInfo": {
     "elapsed": 374,
     "status": "ok",
     "timestamp": 1651718114985,
     "user": {
      "displayName": "stu shi",
      "userId": "14122045057611715520"
     },
     "user_tz": -480
    },
    "id": "egJQi5JDEW5x",
    "outputId": "500a6905-7b35-436c-e8b9-6bcb404d1a94"
   },
   "outputs": [
    {
     "data": {
      "text/plain": [
       "(tensor([[[ 2,  3,  4,  5],\n",
       "          [ 6,  7,  8,  9],\n",
       "          [10, 11, 12, 13]],\n",
       " \n",
       "         [[14, 15, 16, 17],\n",
       "          [18, 19, 20, 21],\n",
       "          [22, 23, 24, 25]]]),\n",
       " torch.Size([2, 3, 4]))"
      ]
     },
     "execution_count": 43,
     "metadata": {},
     "output_type": "execute_result"
    }
   ],
   "source": [
    "a = 2\n",
    "X = torch.arange(24).reshape(2,3,4)\n",
    "a+X,(a*X).shape"
   ]
  },
  {
   "cell_type": "markdown",
   "metadata": {
    "id": "ppU5wj0XEz6H"
   },
   "source": [
    "### 2.3.6降维"
   ]
  },
  {
   "cell_type": "code",
   "execution_count": 44,
   "metadata": {
    "colab": {
     "base_uri": "https://localhost:8080/"
    },
    "executionInfo": {
     "elapsed": 332,
     "status": "ok",
     "timestamp": 1651718345341,
     "user": {
      "displayName": "stu shi",
      "userId": "14122045057611715520"
     },
     "user_tz": -480
    },
    "id": "uF1VVU6LExca",
    "outputId": "de00dbdb-7706-48b3-ef52-d7a14383a44f"
   },
   "outputs": [
    {
     "data": {
      "text/plain": [
       "(tensor([0., 1., 2., 3.]), tensor(6.))"
      ]
     },
     "execution_count": 44,
     "metadata": {},
     "output_type": "execute_result"
    }
   ],
   "source": [
    "x = torch.arange(4,dtype=torch.float32)\n",
    "x,x.sum()"
   ]
  },
  {
   "cell_type": "code",
   "execution_count": 45,
   "metadata": {
    "colab": {
     "base_uri": "https://localhost:8080/"
    },
    "executionInfo": {
     "elapsed": 522,
     "status": "ok",
     "timestamp": 1651718563548,
     "user": {
      "displayName": "stu shi",
      "userId": "14122045057611715520"
     },
     "user_tz": -480
    },
    "id": "-O1sBHSfFc32",
    "outputId": "1c556fe7-7e36-4c79-f15d-9c68a234bc33"
   },
   "outputs": [
    {
     "data": {
      "text/plain": [
       "tensor([[ 0.,  1.,  2.,  3.],\n",
       "        [ 4.,  5.,  6.,  7.],\n",
       "        [ 8.,  9., 10., 11.],\n",
       "        [12., 13., 14., 15.],\n",
       "        [16., 17., 18., 19.]])"
      ]
     },
     "execution_count": 45,
     "metadata": {},
     "output_type": "execute_result"
    }
   ],
   "source": [
    "A"
   ]
  },
  {
   "cell_type": "code",
   "execution_count": 46,
   "metadata": {
    "colab": {
     "base_uri": "https://localhost:8080/"
    },
    "executionInfo": {
     "elapsed": 343,
     "status": "ok",
     "timestamp": 1651718579496,
     "user": {
      "displayName": "stu shi",
      "userId": "14122045057611715520"
     },
     "user_tz": -480
    },
    "id": "hMqINGdsGSFh",
    "outputId": "d13eec40-6660-4391-d731-f9c6bd6acb40"
   },
   "outputs": [
    {
     "data": {
      "text/plain": [
       "(torch.Size([5, 4]), tensor(190.))"
      ]
     },
     "execution_count": 46,
     "metadata": {},
     "output_type": "execute_result"
    }
   ],
   "source": [
    "A.shape, A.sum()"
   ]
  },
  {
   "cell_type": "code",
   "execution_count": 47,
   "metadata": {
    "colab": {
     "base_uri": "https://localhost:8080/"
    },
    "executionInfo": {
     "elapsed": 9,
     "status": "ok",
     "timestamp": 1651718968036,
     "user": {
      "displayName": "stu shi",
      "userId": "14122045057611715520"
     },
     "user_tz": -480
    },
    "id": "JJe47Om2GWEW",
    "outputId": "9b132e2a-76fa-4f08-873b-9ea186c3daee"
   },
   "outputs": [
    {
     "data": {
      "text/plain": [
       "tensor([40., 45., 50., 55.])"
      ]
     },
     "execution_count": 47,
     "metadata": {},
     "output_type": "execute_result"
    }
   ],
   "source": [
    "A_sum_axis0 = A.sum(axis=0)\n",
    "A_sum_axis0"
   ]
  },
  {
   "cell_type": "code",
   "execution_count": 48,
   "metadata": {
    "colab": {
     "base_uri": "https://localhost:8080/"
    },
    "executionInfo": {
     "elapsed": 322,
     "status": "ok",
     "timestamp": 1651719406465,
     "user": {
      "displayName": "stu shi",
      "userId": "14122045057611715520"
     },
     "user_tz": -480
    },
    "id": "zeaoYVEZEvMn",
    "outputId": "a8d78107-4f85-49ef-f5ea-5699a56d8874"
   },
   "outputs": [
    {
     "data": {
      "text/plain": [
       "(tensor([[ 6.],\n",
       "         [22.],\n",
       "         [38.],\n",
       "         [54.],\n",
       "         [70.]]),\n",
       " torch.Size([5, 1]))"
      ]
     },
     "execution_count": 48,
     "metadata": {},
     "output_type": "execute_result"
    }
   ],
   "source": [
    "#非降维求和\n",
    "sum_A = A.sum(axis=1, keepdim=True)\n",
    "sum_A,sum_A.shape"
   ]
  },
  {
   "cell_type": "code",
   "execution_count": 49,
   "metadata": {
    "colab": {
     "base_uri": "https://localhost:8080/"
    },
    "executionInfo": {
     "elapsed": 371,
     "status": "ok",
     "timestamp": 1651727327024,
     "user": {
      "displayName": "stu shi",
      "userId": "14122045057611715520"
     },
     "user_tz": -480
    },
    "id": "BPI3E83rJcv9",
    "outputId": "45e70740-cbc0-4fd3-b497-099b2dc3c739"
   },
   "outputs": [
    {
     "data": {
      "text/plain": [
       "(tensor([[ 0.,  1.,  2.,  3.],\n",
       "         [ 4.,  5.,  6.,  7.],\n",
       "         [ 8.,  9., 10., 11.],\n",
       "         [12., 13., 14., 15.],\n",
       "         [16., 17., 18., 19.]]),\n",
       " tensor([[ 0.,  1.,  2.,  3.],\n",
       "         [ 4.,  6.,  8., 10.],\n",
       "         [12., 15., 18., 21.],\n",
       "         [24., 28., 32., 36.],\n",
       "         [40., 45., 50., 55.]]))"
      ]
     },
     "execution_count": 49,
     "metadata": {},
     "output_type": "execute_result"
    }
   ],
   "source": [
    "A, A.cumsum(axis=0)"
   ]
  },
  {
   "cell_type": "markdown",
   "metadata": {
    "id": "c-Ht3bPbn77F"
   },
   "source": [
    "### 2.3.7点积"
   ]
  },
  {
   "cell_type": "code",
   "execution_count": 50,
   "metadata": {
    "colab": {
     "base_uri": "https://localhost:8080/"
    },
    "executionInfo": {
     "elapsed": 340,
     "status": "ok",
     "timestamp": 1651730279016,
     "user": {
      "displayName": "stu shi",
      "userId": "14122045057611715520"
     },
     "user_tz": -480
    },
    "id": "aG0l1M5Fnmqe",
    "outputId": "76e44d82-984b-47c2-dc7b-5fd1d0ee6464"
   },
   "outputs": [
    {
     "data": {
      "text/plain": [
       "(tensor([0., 1., 2., 3.]), tensor([1., 1., 1., 1.]), tensor(6.))"
      ]
     },
     "execution_count": 50,
     "metadata": {},
     "output_type": "execute_result"
    }
   ],
   "source": [
    "y = torch.ones(4,dtype=torch.float32)\n",
    "x,y,torch.dot(x,y)"
   ]
  },
  {
   "cell_type": "markdown",
   "metadata": {
    "id": "3GbiXxXszMVR"
   },
   "source": [
    "### 2.3.8 矩阵-向量积"
   ]
  },
  {
   "cell_type": "code",
   "execution_count": 51,
   "metadata": {
    "colab": {
     "base_uri": "https://localhost:8080/"
    },
    "executionInfo": {
     "elapsed": 9,
     "status": "ok",
     "timestamp": 1651730620450,
     "user": {
      "displayName": "stu shi",
      "userId": "14122045057611715520"
     },
     "user_tz": -480
    },
    "id": "KYCn2qcjzQ0J",
    "outputId": "7df0d585-0b70-4ef0-8de4-ebbe3094e844"
   },
   "outputs": [
    {
     "data": {
      "text/plain": [
       "(torch.Size([5, 4]), torch.Size([4]), tensor([ 14.,  38.,  62.,  86., 110.]))"
      ]
     },
     "execution_count": 51,
     "metadata": {},
     "output_type": "execute_result"
    }
   ],
   "source": [
    "A.shape, x.shape, torch.mv(A,x)"
   ]
  },
  {
   "cell_type": "code",
   "execution_count": 52,
   "metadata": {
    "colab": {
     "base_uri": "https://localhost:8080/"
    },
    "executionInfo": {
     "elapsed": 353,
     "status": "ok",
     "timestamp": 1651730636257,
     "user": {
      "displayName": "stu shi",
      "userId": "14122045057611715520"
     },
     "user_tz": -480
    },
    "id": "pIbaGyMVzgi4",
    "outputId": "ea03a9c2-5c7c-4584-f80d-2d689545213c"
   },
   "outputs": [
    {
     "data": {
      "text/plain": [
       "tensor([[ 0.,  1.,  2.,  3.],\n",
       "        [ 4.,  5.,  6.,  7.],\n",
       "        [ 8.,  9., 10., 11.],\n",
       "        [12., 13., 14., 15.],\n",
       "        [16., 17., 18., 19.]])"
      ]
     },
     "execution_count": 52,
     "metadata": {},
     "output_type": "execute_result"
    }
   ],
   "source": [
    "A = torch.arange(20,dtype=torch.float32).reshape(5,4)\n",
    "A"
   ]
  },
  {
   "cell_type": "code",
   "execution_count": 53,
   "metadata": {
    "colab": {
     "base_uri": "https://localhost:8080/"
    },
    "executionInfo": {
     "elapsed": 324,
     "status": "ok",
     "timestamp": 1651730542168,
     "user": {
      "displayName": "stu shi",
      "userId": "14122045057611715520"
     },
     "user_tz": -480
    },
    "id": "FoOptIHQzS85",
    "outputId": "56d94b74-7cb3-43f7-b9d7-805e04ed41f3"
   },
   "outputs": [
    {
     "data": {
      "text/plain": [
       "tensor([0., 1., 2., 3.])"
      ]
     },
     "execution_count": 53,
     "metadata": {},
     "output_type": "execute_result"
    }
   ],
   "source": [
    "x"
   ]
  },
  {
   "cell_type": "markdown",
   "metadata": {
    "id": "6i_tCmgvzEBa"
   },
   "source": [
    "### 2.3.9矩阵与矩阵乘法"
   ]
  },
  {
   "cell_type": "code",
   "execution_count": 54,
   "metadata": {
    "colab": {
     "base_uri": "https://localhost:8080/"
    },
    "executionInfo": {
     "elapsed": 8,
     "status": "ok",
     "timestamp": 1651730716107,
     "user": {
      "displayName": "stu shi",
      "userId": "14122045057611715520"
     },
     "user_tz": -480
    },
    "id": "UHkk-FwxzJMH",
    "outputId": "499ac489-0e37-4d4c-9b24-0280f97c74e6"
   },
   "outputs": [
    {
     "data": {
      "text/plain": [
       "(tensor([[ 0,  1,  2,  3],\n",
       "         [ 4,  5,  6,  7],\n",
       "         [ 8,  9, 10, 11],\n",
       "         [12, 13, 14, 15],\n",
       "         [16, 17, 18, 19]]),\n",
       " tensor([[ 0,  1,  2],\n",
       "         [ 3,  4,  5],\n",
       "         [ 6,  7,  8],\n",
       "         [ 9, 10, 11]]))"
      ]
     },
     "execution_count": 54,
     "metadata": {},
     "output_type": "execute_result"
    }
   ],
   "source": [
    "A = torch.arange(20).reshape(5,4)\n",
    "B = torch.arange(12).reshape(4,3)\n",
    "A,B"
   ]
  },
  {
   "cell_type": "code",
   "execution_count": 55,
   "metadata": {
    "colab": {
     "base_uri": "https://localhost:8080/"
    },
    "executionInfo": {
     "elapsed": 8,
     "status": "ok",
     "timestamp": 1651730748397,
     "user": {
      "displayName": "stu shi",
      "userId": "14122045057611715520"
     },
     "user_tz": -480
    },
    "id": "ya0f0r060p4l",
    "outputId": "39469399-c1a9-497e-88b6-488ada5d9f84"
   },
   "outputs": [
    {
     "data": {
      "text/plain": [
       "tensor([[ 42,  48,  54],\n",
       "        [114, 136, 158],\n",
       "        [186, 224, 262],\n",
       "        [258, 312, 366],\n",
       "        [330, 400, 470]])"
      ]
     },
     "execution_count": 55,
     "metadata": {},
     "output_type": "execute_result"
    }
   ],
   "source": [
    "torch.mm(A,B)"
   ]
  },
  {
   "cell_type": "markdown",
   "metadata": {
    "id": "hL_NFM3L0zjl"
   },
   "source": [
    "### 2.3.10 范数"
   ]
  },
  {
   "cell_type": "code",
   "execution_count": 56,
   "metadata": {
    "colab": {
     "base_uri": "https://localhost:8080/"
    },
    "executionInfo": {
     "elapsed": 9,
     "status": "ok",
     "timestamp": 1651731002401,
     "user": {
      "displayName": "stu shi",
      "userId": "14122045057611715520"
     },
     "user_tz": -480
    },
    "id": "2j5fkeLx049N",
    "outputId": "356c397e-ab8a-4097-e7a9-bf8583ce69c3"
   },
   "outputs": [
    {
     "data": {
      "text/plain": [
       "tensor(5.)"
      ]
     },
     "execution_count": 56,
     "metadata": {},
     "output_type": "execute_result"
    }
   ],
   "source": [
    "u = torch.tensor([3.,4.])\n",
    "torch.norm(u) # L2范数"
   ]
  },
  {
   "cell_type": "code",
   "execution_count": 57,
   "metadata": {
    "colab": {
     "base_uri": "https://localhost:8080/"
    },
    "executionInfo": {
     "elapsed": 338,
     "status": "ok",
     "timestamp": 1651731053980,
     "user": {
      "displayName": "stu shi",
      "userId": "14122045057611715520"
     },
     "user_tz": -480
    },
    "id": "kv7uvuIq1u_I",
    "outputId": "138b7bdc-27df-469a-c39e-d9ee5fb8d5ad"
   },
   "outputs": [
    {
     "data": {
      "text/plain": [
       "tensor(7.)"
      ]
     },
     "execution_count": 57,
     "metadata": {},
     "output_type": "execute_result"
    }
   ],
   "source": [
    "torch.abs(u).sum() # L1范数"
   ]
  },
  {
   "cell_type": "code",
   "execution_count": 58,
   "metadata": {
    "colab": {
     "base_uri": "https://localhost:8080/"
    },
    "executionInfo": {
     "elapsed": 331,
     "status": "ok",
     "timestamp": 1651731170539,
     "user": {
      "displayName": "stu shi",
      "userId": "14122045057611715520"
     },
     "user_tz": -480
    },
    "id": "3USZrGxr17jJ",
    "outputId": "c0bd73f4-f3d7-4916-8ba3-1041b4e8c5d4"
   },
   "outputs": [
    {
     "data": {
      "text/plain": [
       "tensor(6.)"
      ]
     },
     "execution_count": 58,
     "metadata": {},
     "output_type": "execute_result"
    }
   ],
   "source": [
    "torch.norm(torch.ones(4,9)) #矩阵的Frobenius范数，类似于向量的L2范数"
   ]
  },
  {
   "cell_type": "markdown",
   "metadata": {
    "id": "XJ2ef8wF2dDU",
    "jp-MarkdownHeadingCollapsed": true,
    "tags": []
   },
   "source": [
    "## 2.4微积分"
   ]
  },
  {
   "cell_type": "markdown",
   "metadata": {
    "id": "u4f8u8hrNkT5",
    "jp-MarkdownHeadingCollapsed": true,
    "tags": []
   },
   "source": [
    "### *2.4.1导数和微分*\n"
   ]
  },
  {
   "cell_type": "code",
   "execution_count": 59,
   "metadata": {
    "executionInfo": {
     "elapsed": 371,
     "status": "ok",
     "timestamp": 1651738555952,
     "user": {
      "displayName": "stu shi",
      "userId": "14122045057611715520"
     },
     "user_tz": -480
    },
    "id": "KuCtKkKj4Qw5"
   },
   "outputs": [],
   "source": [
    "%matplotlib inline\n",
    "import numpy as np\n",
    "from IPython import display\n",
    "from d2l import torch as d2l\n",
    "\n",
    "def f(x):\n",
    "  return 3 * x ** 2 - 4 * x"
   ]
  },
  {
   "cell_type": "code",
   "execution_count": 60,
   "metadata": {
    "colab": {
     "base_uri": "https://localhost:8080/"
    },
    "executionInfo": {
     "elapsed": 347,
     "status": "ok",
     "timestamp": 1651738558837,
     "user": {
      "displayName": "stu shi",
      "userId": "14122045057611715520"
     },
     "user_tz": -480
    },
    "id": "wQg9KoXpBgN4",
    "outputId": "fe30173a-4f2b-4528-fa91-7f3775dab5af"
   },
   "outputs": [
    {
     "name": "stdout",
     "output_type": "stream",
     "text": [
      "h=0.10000, numerical limit= 2.30000\n",
      "h=0.01000, numerical limit= 2.03000\n",
      "h=0.00100, numerical limit= 2.00300\n",
      "h=0.00010, numerical limit= 2.00030\n",
      "h=0.00001, numerical limit= 2.00003\n"
     ]
    }
   ],
   "source": [
    "def nmumerical_lim(f,x,h):\n",
    "  return (f(x + h) - f(x)) / h\n",
    "\n",
    "h = 0.1\n",
    "for i in range(5):\n",
    "  print(f'h={h:.5f}, numerical limit={nmumerical_lim(f, 1, h): .5f}')\n",
    "  h *= 0.1"
   ]
  },
  {
   "cell_type": "code",
   "execution_count": 61,
   "metadata": {
    "executionInfo": {
     "elapsed": 3,
     "status": "ok",
     "timestamp": 1651738561991,
     "user": {
      "displayName": "stu shi",
      "userId": "14122045057611715520"
     },
     "user_tz": -480
    },
    "id": "zsXGqVkQCPSI"
   },
   "outputs": [],
   "source": [
    "def use_svg_display():\n",
    "  \"\"\"使用svg格式在Jupyter中显示绘图\"\"\"\n",
    "  display.set_matplotlib_formats('svg')"
   ]
  },
  {
   "cell_type": "code",
   "execution_count": 62,
   "metadata": {
    "executionInfo": {
     "elapsed": 4,
     "status": "ok",
     "timestamp": 1651738563645,
     "user": {
      "displayName": "stu shi",
      "userId": "14122045057611715520"
     },
     "user_tz": -480
    },
    "id": "q_dgo01yFXFn"
   },
   "outputs": [],
   "source": [
    "def set_figsize(figsize=(3.5, 2.5)):\n",
    "  \"\"\"设置matplotlib的图表⼤⼩\"\"\"\n",
    "  use_svg_display()\n",
    "  d2l.plt.rcParams['figure.figsize'] = figsize"
   ]
  },
  {
   "cell_type": "code",
   "execution_count": 63,
   "metadata": {
    "executionInfo": {
     "elapsed": 3,
     "status": "ok",
     "timestamp": 1651738565821,
     "user": {
      "displayName": "stu shi",
      "userId": "14122045057611715520"
     },
     "user_tz": -480
    },
    "id": "Zso1NEblJfQU"
   },
   "outputs": [],
   "source": [
    "def set_axes(axes, xlabel, ylabel, xlim, ylim, xscale, yscale, legend):\n",
    "  \"\"\"设置matplotlib的轴\"\"\"\n",
    "  axes.set_xlabel(xlabel)\n",
    "  axes.set_ylabel(ylabel)\n",
    "  axes.set_xscale(xscale)\n",
    "  axes.set_yscale(yscale)\n",
    "  axes.set_xlim(xlim)\n",
    "  axes.set_ylim(ylim)\n",
    "  if legend:\n",
    "    axes.legend(legend)\n",
    "    axes.grid()"
   ]
  },
  {
   "cell_type": "code",
   "execution_count": 64,
   "metadata": {
    "executionInfo": {
     "elapsed": 370,
     "status": "ok",
     "timestamp": 1651738569069,
     "user": {
      "displayName": "stu shi",
      "userId": "14122045057611715520"
     },
     "user_tz": -480
    },
    "id": "YsDuBepUJqp0"
   },
   "outputs": [],
   "source": [
    "def plot(X, Y=None, xlabel=None, ylabel=None, legend=None, xlim=None,\n",
    "     ylim=None, xscale='linear', yscale='linear',\n",
    "     fmts=('-', 'm--', 'g-', 'r:'), figsize=(3.5,2.5), axes=None):\n",
    "  \"\"\"绘制数据点\"\"\"\n",
    "  if legend is None:\n",
    "    legend = []\n",
    "  \n",
    "  set_figsize(figsize)\n",
    "  axes = axes if axes else d2l.plt.gca()\n",
    "\n",
    "  def has_one_axis(X):\n",
    "    return (hasattr(X, \"ndim\") and X.ndim == 1 or isinstance(X, list) and not hasattr(X[0], \"__len__\"))\n",
    "\n",
    "  if has_one_axis(X):\n",
    "    X=[X]\n",
    "  if Y is None:\n",
    "    X, Y = [[]] * len(X), X\n",
    "  elif has_one_axis(Y):\n",
    "    Y = [Y]\n",
    "  if len(X) != len(Y):\n",
    "    X = X * len(Y)\n",
    "  axes.cla()\n",
    "  for x, y, fmt in zip(X, Y, fmts):\n",
    "    if len(X):\n",
    "      axes.plot(x, y, fmt)\n",
    "    else:\n",
    "      axes.plot(y, fmt)\n",
    "  set_axes(axes, xlabel, ylabel, xlim, ylim, xscale, yscale, legend)"
   ]
  },
  {
   "cell_type": "code",
   "execution_count": 65,
   "metadata": {
    "colab": {
     "base_uri": "https://localhost:8080/",
     "height": 1000
    },
    "executionInfo": {
     "elapsed": 399,
     "status": "ok",
     "timestamp": 1651738572881,
     "user": {
      "displayName": "stu shi",
      "userId": "14122045057611715520"
     },
     "user_tz": -480
    },
    "id": "VbrStAD0N9iZ",
    "outputId": "6a50da85-5c71-4211-a759-dbf4dedc3070"
   },
   "outputs": [
    {
     "name": "stderr",
     "output_type": "stream",
     "text": [
      "/tmp/ipykernel_14241/759461320.py:3: DeprecationWarning: `set_matplotlib_formats` is deprecated since IPython 7.23, directly use `matplotlib_inline.backend_inline.set_matplotlib_formats()`\n",
      "  display.set_matplotlib_formats('svg')\n"
     ]
    },
    {
     "data": {
      "image/svg+xml": [
       "<?xml version=\"1.0\" encoding=\"utf-8\" standalone=\"no\"?>\n",
       "<!DOCTYPE svg PUBLIC \"-//W3C//DTD SVG 1.1//EN\"\n",
       "  \"http://www.w3.org/Graphics/SVG/1.1/DTD/svg11.dtd\">\n",
       "<!-- Created with matplotlib (https://matplotlib.org/) -->\n",
       "<svg height=\"180.65625pt\" version=\"1.1\" viewBox=\"0 0 243.529359 180.65625\" width=\"243.529359pt\" xmlns=\"http://www.w3.org/2000/svg\" xmlns:xlink=\"http://www.w3.org/1999/xlink\">\n",
       " <metadata>\n",
       "  <rdf:RDF xmlns:cc=\"http://creativecommons.org/ns#\" xmlns:dc=\"http://purl.org/dc/elements/1.1/\" xmlns:rdf=\"http://www.w3.org/1999/02/22-rdf-syntax-ns#\">\n",
       "   <cc:Work>\n",
       "    <dc:type rdf:resource=\"http://purl.org/dc/dcmitype/StillImage\"/>\n",
       "    <dc:date>2022-05-16T14:35:12.783604</dc:date>\n",
       "    <dc:format>image/svg+xml</dc:format>\n",
       "    <dc:creator>\n",
       "     <cc:Agent>\n",
       "      <dc:title>Matplotlib v3.3.3, https://matplotlib.org/</dc:title>\n",
       "     </cc:Agent>\n",
       "    </dc:creator>\n",
       "   </cc:Work>\n",
       "  </rdf:RDF>\n",
       " </metadata>\n",
       " <defs>\n",
       "  <style type=\"text/css\">*{stroke-linecap:butt;stroke-linejoin:round;}</style>\n",
       " </defs>\n",
       " <g id=\"figure_1\">\n",
       "  <g id=\"patch_1\">\n",
       "   <path d=\"M 0 180.65625 \n",
       "L 243.529359 180.65625 \n",
       "L 243.529359 0 \n",
       "L 0 0 \n",
       "z\n",
       "\" style=\"fill:none;\"/>\n",
       "  </g>\n",
       "  <g id=\"axes_1\">\n",
       "   <g id=\"patch_2\">\n",
       "    <path d=\"M 40.603125 143.1 \n",
       "L 235.903125 143.1 \n",
       "L 235.903125 7.2 \n",
       "L 40.603125 7.2 \n",
       "z\n",
       "\" style=\"fill:#ffffff;\"/>\n",
       "   </g>\n",
       "   <g id=\"matplotlib.axis_1\">\n",
       "    <g id=\"xtick_1\">\n",
       "     <g id=\"line2d_1\">\n",
       "      <path clip-path=\"url(#p51d91d8524)\" d=\"M 49.480398 143.1 \n",
       "L 49.480398 7.2 \n",
       "\" style=\"fill:none;stroke:#b0b0b0;stroke-linecap:square;stroke-width:0.8;\"/>\n",
       "     </g>\n",
       "     <g id=\"line2d_2\">\n",
       "      <defs>\n",
       "       <path d=\"M 0 0 \n",
       "L 0 3.5 \n",
       "\" id=\"m1e5af8d284\" style=\"stroke:#000000;stroke-width:0.8;\"/>\n",
       "      </defs>\n",
       "      <g>\n",
       "       <use style=\"stroke:#000000;stroke-width:0.8;\" x=\"49.480398\" xlink:href=\"#m1e5af8d284\" y=\"143.1\"/>\n",
       "      </g>\n",
       "     </g>\n",
       "     <g id=\"text_1\">\n",
       "      <!-- 0 -->\n",
       "      <g transform=\"translate(46.299148 157.698438)scale(0.1 -0.1)\">\n",
       "       <defs>\n",
       "        <path d=\"M 31.78125 66.40625 \n",
       "Q 24.171875 66.40625 20.328125 58.90625 \n",
       "Q 16.5 51.421875 16.5 36.375 \n",
       "Q 16.5 21.390625 20.328125 13.890625 \n",
       "Q 24.171875 6.390625 31.78125 6.390625 \n",
       "Q 39.453125 6.390625 43.28125 13.890625 \n",
       "Q 47.125 21.390625 47.125 36.375 \n",
       "Q 47.125 51.421875 43.28125 58.90625 \n",
       "Q 39.453125 66.40625 31.78125 66.40625 \n",
       "z\n",
       "M 31.78125 74.21875 \n",
       "Q 44.046875 74.21875 50.515625 64.515625 \n",
       "Q 56.984375 54.828125 56.984375 36.375 \n",
       "Q 56.984375 17.96875 50.515625 8.265625 \n",
       "Q 44.046875 -1.421875 31.78125 -1.421875 \n",
       "Q 19.53125 -1.421875 13.0625 8.265625 \n",
       "Q 6.59375 17.96875 6.59375 36.375 \n",
       "Q 6.59375 54.828125 13.0625 64.515625 \n",
       "Q 19.53125 74.21875 31.78125 74.21875 \n",
       "z\n",
       "\" id=\"DejaVuSans-48\"/>\n",
       "       </defs>\n",
       "       <use xlink:href=\"#DejaVuSans-48\"/>\n",
       "      </g>\n",
       "     </g>\n",
       "    </g>\n",
       "    <g id=\"xtick_2\">\n",
       "     <g id=\"line2d_3\">\n",
       "      <path clip-path=\"url(#p51d91d8524)\" d=\"M 110.702968 143.1 \n",
       "L 110.702968 7.2 \n",
       "\" style=\"fill:none;stroke:#b0b0b0;stroke-linecap:square;stroke-width:0.8;\"/>\n",
       "     </g>\n",
       "     <g id=\"line2d_4\">\n",
       "      <g>\n",
       "       <use style=\"stroke:#000000;stroke-width:0.8;\" x=\"110.702968\" xlink:href=\"#m1e5af8d284\" y=\"143.1\"/>\n",
       "      </g>\n",
       "     </g>\n",
       "     <g id=\"text_2\">\n",
       "      <!-- 1 -->\n",
       "      <g transform=\"translate(107.521718 157.698438)scale(0.1 -0.1)\">\n",
       "       <defs>\n",
       "        <path d=\"M 12.40625 8.296875 \n",
       "L 28.515625 8.296875 \n",
       "L 28.515625 63.921875 \n",
       "L 10.984375 60.40625 \n",
       "L 10.984375 69.390625 \n",
       "L 28.421875 72.90625 \n",
       "L 38.28125 72.90625 \n",
       "L 38.28125 8.296875 \n",
       "L 54.390625 8.296875 \n",
       "L 54.390625 0 \n",
       "L 12.40625 0 \n",
       "z\n",
       "\" id=\"DejaVuSans-49\"/>\n",
       "       </defs>\n",
       "       <use xlink:href=\"#DejaVuSans-49\"/>\n",
       "      </g>\n",
       "     </g>\n",
       "    </g>\n",
       "    <g id=\"xtick_3\">\n",
       "     <g id=\"line2d_5\">\n",
       "      <path clip-path=\"url(#p51d91d8524)\" d=\"M 171.925539 143.1 \n",
       "L 171.925539 7.2 \n",
       "\" style=\"fill:none;stroke:#b0b0b0;stroke-linecap:square;stroke-width:0.8;\"/>\n",
       "     </g>\n",
       "     <g id=\"line2d_6\">\n",
       "      <g>\n",
       "       <use style=\"stroke:#000000;stroke-width:0.8;\" x=\"171.925539\" xlink:href=\"#m1e5af8d284\" y=\"143.1\"/>\n",
       "      </g>\n",
       "     </g>\n",
       "     <g id=\"text_3\">\n",
       "      <!-- 2 -->\n",
       "      <g transform=\"translate(168.744289 157.698438)scale(0.1 -0.1)\">\n",
       "       <defs>\n",
       "        <path d=\"M 19.1875 8.296875 \n",
       "L 53.609375 8.296875 \n",
       "L 53.609375 0 \n",
       "L 7.328125 0 \n",
       "L 7.328125 8.296875 \n",
       "Q 12.9375 14.109375 22.625 23.890625 \n",
       "Q 32.328125 33.6875 34.8125 36.53125 \n",
       "Q 39.546875 41.84375 41.421875 45.53125 \n",
       "Q 43.3125 49.21875 43.3125 52.78125 \n",
       "Q 43.3125 58.59375 39.234375 62.25 \n",
       "Q 35.15625 65.921875 28.609375 65.921875 \n",
       "Q 23.96875 65.921875 18.8125 64.3125 \n",
       "Q 13.671875 62.703125 7.8125 59.421875 \n",
       "L 7.8125 69.390625 \n",
       "Q 13.765625 71.78125 18.9375 73 \n",
       "Q 24.125 74.21875 28.421875 74.21875 \n",
       "Q 39.75 74.21875 46.484375 68.546875 \n",
       "Q 53.21875 62.890625 53.21875 53.421875 \n",
       "Q 53.21875 48.921875 51.53125 44.890625 \n",
       "Q 49.859375 40.875 45.40625 35.40625 \n",
       "Q 44.1875 33.984375 37.640625 27.21875 \n",
       "Q 31.109375 20.453125 19.1875 8.296875 \n",
       "z\n",
       "\" id=\"DejaVuSans-50\"/>\n",
       "       </defs>\n",
       "       <use xlink:href=\"#DejaVuSans-50\"/>\n",
       "      </g>\n",
       "     </g>\n",
       "    </g>\n",
       "    <g id=\"xtick_4\">\n",
       "     <g id=\"line2d_7\">\n",
       "      <path clip-path=\"url(#p51d91d8524)\" d=\"M 233.148109 143.1 \n",
       "L 233.148109 7.2 \n",
       "\" style=\"fill:none;stroke:#b0b0b0;stroke-linecap:square;stroke-width:0.8;\"/>\n",
       "     </g>\n",
       "     <g id=\"line2d_8\">\n",
       "      <g>\n",
       "       <use style=\"stroke:#000000;stroke-width:0.8;\" x=\"233.148109\" xlink:href=\"#m1e5af8d284\" y=\"143.1\"/>\n",
       "      </g>\n",
       "     </g>\n",
       "     <g id=\"text_4\">\n",
       "      <!-- 3 -->\n",
       "      <g transform=\"translate(229.966859 157.698438)scale(0.1 -0.1)\">\n",
       "       <defs>\n",
       "        <path d=\"M 40.578125 39.3125 \n",
       "Q 47.65625 37.796875 51.625 33 \n",
       "Q 55.609375 28.21875 55.609375 21.1875 \n",
       "Q 55.609375 10.40625 48.1875 4.484375 \n",
       "Q 40.765625 -1.421875 27.09375 -1.421875 \n",
       "Q 22.515625 -1.421875 17.65625 -0.515625 \n",
       "Q 12.796875 0.390625 7.625 2.203125 \n",
       "L 7.625 11.71875 \n",
       "Q 11.71875 9.328125 16.59375 8.109375 \n",
       "Q 21.484375 6.890625 26.8125 6.890625 \n",
       "Q 36.078125 6.890625 40.9375 10.546875 \n",
       "Q 45.796875 14.203125 45.796875 21.1875 \n",
       "Q 45.796875 27.640625 41.28125 31.265625 \n",
       "Q 36.765625 34.90625 28.71875 34.90625 \n",
       "L 20.21875 34.90625 \n",
       "L 20.21875 43.015625 \n",
       "L 29.109375 43.015625 \n",
       "Q 36.375 43.015625 40.234375 45.921875 \n",
       "Q 44.09375 48.828125 44.09375 54.296875 \n",
       "Q 44.09375 59.90625 40.109375 62.90625 \n",
       "Q 36.140625 65.921875 28.71875 65.921875 \n",
       "Q 24.65625 65.921875 20.015625 65.03125 \n",
       "Q 15.375 64.15625 9.8125 62.3125 \n",
       "L 9.8125 71.09375 \n",
       "Q 15.4375 72.65625 20.34375 73.4375 \n",
       "Q 25.25 74.21875 29.59375 74.21875 \n",
       "Q 40.828125 74.21875 47.359375 69.109375 \n",
       "Q 53.90625 64.015625 53.90625 55.328125 \n",
       "Q 53.90625 49.265625 50.4375 45.09375 \n",
       "Q 46.96875 40.921875 40.578125 39.3125 \n",
       "z\n",
       "\" id=\"DejaVuSans-51\"/>\n",
       "       </defs>\n",
       "       <use xlink:href=\"#DejaVuSans-51\"/>\n",
       "      </g>\n",
       "     </g>\n",
       "    </g>\n",
       "    <g id=\"text_5\">\n",
       "     <!-- x -->\n",
       "     <g transform=\"translate(135.29375 171.376563)scale(0.1 -0.1)\">\n",
       "      <defs>\n",
       "       <path d=\"M 54.890625 54.6875 \n",
       "L 35.109375 28.078125 \n",
       "L 55.90625 0 \n",
       "L 45.3125 0 \n",
       "L 29.390625 21.484375 \n",
       "L 13.484375 0 \n",
       "L 2.875 0 \n",
       "L 24.125 28.609375 \n",
       "L 4.6875 54.6875 \n",
       "L 15.28125 54.6875 \n",
       "L 29.78125 35.203125 \n",
       "L 44.28125 54.6875 \n",
       "z\n",
       "\" id=\"DejaVuSans-120\"/>\n",
       "      </defs>\n",
       "      <use xlink:href=\"#DejaVuSans-120\"/>\n",
       "     </g>\n",
       "    </g>\n",
       "   </g>\n",
       "   <g id=\"matplotlib.axis_2\">\n",
       "    <g id=\"ytick_1\">\n",
       "     <g id=\"line2d_9\">\n",
       "      <path clip-path=\"url(#p51d91d8524)\" d=\"M 40.603125 114.635514 \n",
       "L 235.903125 114.635514 \n",
       "\" style=\"fill:none;stroke:#b0b0b0;stroke-linecap:square;stroke-width:0.8;\"/>\n",
       "     </g>\n",
       "     <g id=\"line2d_10\">\n",
       "      <defs>\n",
       "       <path d=\"M 0 0 \n",
       "L -3.5 0 \n",
       "\" id=\"m4212e0938a\" style=\"stroke:#000000;stroke-width:0.8;\"/>\n",
       "      </defs>\n",
       "      <g>\n",
       "       <use style=\"stroke:#000000;stroke-width:0.8;\" x=\"40.603125\" xlink:href=\"#m4212e0938a\" y=\"114.635514\"/>\n",
       "      </g>\n",
       "     </g>\n",
       "     <g id=\"text_6\">\n",
       "      <!-- 0 -->\n",
       "      <g transform=\"translate(27.240625 118.434732)scale(0.1 -0.1)\">\n",
       "       <use xlink:href=\"#DejaVuSans-48\"/>\n",
       "      </g>\n",
       "     </g>\n",
       "    </g>\n",
       "    <g id=\"ytick_2\">\n",
       "     <g id=\"line2d_11\">\n",
       "      <path clip-path=\"url(#p51d91d8524)\" d=\"M 40.603125 77.490157 \n",
       "L 235.903125 77.490157 \n",
       "\" style=\"fill:none;stroke:#b0b0b0;stroke-linecap:square;stroke-width:0.8;\"/>\n",
       "     </g>\n",
       "     <g id=\"line2d_12\">\n",
       "      <g>\n",
       "       <use style=\"stroke:#000000;stroke-width:0.8;\" x=\"40.603125\" xlink:href=\"#m4212e0938a\" y=\"77.490157\"/>\n",
       "      </g>\n",
       "     </g>\n",
       "     <g id=\"text_7\">\n",
       "      <!-- 5 -->\n",
       "      <g transform=\"translate(27.240625 81.289376)scale(0.1 -0.1)\">\n",
       "       <defs>\n",
       "        <path d=\"M 10.796875 72.90625 \n",
       "L 49.515625 72.90625 \n",
       "L 49.515625 64.59375 \n",
       "L 19.828125 64.59375 \n",
       "L 19.828125 46.734375 \n",
       "Q 21.96875 47.46875 24.109375 47.828125 \n",
       "Q 26.265625 48.1875 28.421875 48.1875 \n",
       "Q 40.625 48.1875 47.75 41.5 \n",
       "Q 54.890625 34.8125 54.890625 23.390625 \n",
       "Q 54.890625 11.625 47.5625 5.09375 \n",
       "Q 40.234375 -1.421875 26.90625 -1.421875 \n",
       "Q 22.3125 -1.421875 17.546875 -0.640625 \n",
       "Q 12.796875 0.140625 7.71875 1.703125 \n",
       "L 7.71875 11.625 \n",
       "Q 12.109375 9.234375 16.796875 8.0625 \n",
       "Q 21.484375 6.890625 26.703125 6.890625 \n",
       "Q 35.15625 6.890625 40.078125 11.328125 \n",
       "Q 45.015625 15.765625 45.015625 23.390625 \n",
       "Q 45.015625 31 40.078125 35.4375 \n",
       "Q 35.15625 39.890625 26.703125 39.890625 \n",
       "Q 22.75 39.890625 18.8125 39.015625 \n",
       "Q 14.890625 38.140625 10.796875 36.28125 \n",
       "z\n",
       "\" id=\"DejaVuSans-53\"/>\n",
       "       </defs>\n",
       "       <use xlink:href=\"#DejaVuSans-53\"/>\n",
       "      </g>\n",
       "     </g>\n",
       "    </g>\n",
       "    <g id=\"ytick_3\">\n",
       "     <g id=\"line2d_13\">\n",
       "      <path clip-path=\"url(#p51d91d8524)\" d=\"M 40.603125 40.344801 \n",
       "L 235.903125 40.344801 \n",
       "\" style=\"fill:none;stroke:#b0b0b0;stroke-linecap:square;stroke-width:0.8;\"/>\n",
       "     </g>\n",
       "     <g id=\"line2d_14\">\n",
       "      <g>\n",
       "       <use style=\"stroke:#000000;stroke-width:0.8;\" x=\"40.603125\" xlink:href=\"#m4212e0938a\" y=\"40.344801\"/>\n",
       "      </g>\n",
       "     </g>\n",
       "     <g id=\"text_8\">\n",
       "      <!-- 10 -->\n",
       "      <g transform=\"translate(20.878125 44.14402)scale(0.1 -0.1)\">\n",
       "       <use xlink:href=\"#DejaVuSans-49\"/>\n",
       "       <use x=\"63.623047\" xlink:href=\"#DejaVuSans-48\"/>\n",
       "      </g>\n",
       "     </g>\n",
       "    </g>\n",
       "    <g id=\"text_9\">\n",
       "     <!-- f(x) -->\n",
       "     <g transform=\"translate(14.798437 83.771094)rotate(-90)scale(0.1 -0.1)\">\n",
       "      <defs>\n",
       "       <path d=\"M 37.109375 75.984375 \n",
       "L 37.109375 68.5 \n",
       "L 28.515625 68.5 \n",
       "Q 23.6875 68.5 21.796875 66.546875 \n",
       "Q 19.921875 64.59375 19.921875 59.515625 \n",
       "L 19.921875 54.6875 \n",
       "L 34.71875 54.6875 \n",
       "L 34.71875 47.703125 \n",
       "L 19.921875 47.703125 \n",
       "L 19.921875 0 \n",
       "L 10.890625 0 \n",
       "L 10.890625 47.703125 \n",
       "L 2.296875 47.703125 \n",
       "L 2.296875 54.6875 \n",
       "L 10.890625 54.6875 \n",
       "L 10.890625 58.5 \n",
       "Q 10.890625 67.625 15.140625 71.796875 \n",
       "Q 19.390625 75.984375 28.609375 75.984375 \n",
       "z\n",
       "\" id=\"DejaVuSans-102\"/>\n",
       "       <path d=\"M 31 75.875 \n",
       "Q 24.46875 64.65625 21.28125 53.65625 \n",
       "Q 18.109375 42.671875 18.109375 31.390625 \n",
       "Q 18.109375 20.125 21.3125 9.0625 \n",
       "Q 24.515625 -2 31 -13.1875 \n",
       "L 23.1875 -13.1875 \n",
       "Q 15.875 -1.703125 12.234375 9.375 \n",
       "Q 8.59375 20.453125 8.59375 31.390625 \n",
       "Q 8.59375 42.28125 12.203125 53.3125 \n",
       "Q 15.828125 64.359375 23.1875 75.875 \n",
       "z\n",
       "\" id=\"DejaVuSans-40\"/>\n",
       "       <path d=\"M 8.015625 75.875 \n",
       "L 15.828125 75.875 \n",
       "Q 23.140625 64.359375 26.78125 53.3125 \n",
       "Q 30.421875 42.28125 30.421875 31.390625 \n",
       "Q 30.421875 20.453125 26.78125 9.375 \n",
       "Q 23.140625 -1.703125 15.828125 -13.1875 \n",
       "L 8.015625 -13.1875 \n",
       "Q 14.5 -2 17.703125 9.0625 \n",
       "Q 20.90625 20.125 20.90625 31.390625 \n",
       "Q 20.90625 42.671875 17.703125 53.65625 \n",
       "Q 14.5 64.65625 8.015625 75.875 \n",
       "z\n",
       "\" id=\"DejaVuSans-41\"/>\n",
       "      </defs>\n",
       "      <use xlink:href=\"#DejaVuSans-102\"/>\n",
       "      <use x=\"35.205078\" xlink:href=\"#DejaVuSans-40\"/>\n",
       "      <use x=\"74.21875\" xlink:href=\"#DejaVuSans-120\"/>\n",
       "      <use x=\"133.398438\" xlink:href=\"#DejaVuSans-41\"/>\n",
       "     </g>\n",
       "    </g>\n",
       "   </g>\n",
       "   <g id=\"line2d_15\">\n",
       "    <path clip-path=\"url(#p51d91d8524)\" d=\"M 49.480398 114.635514 \n",
       "L 55.602655 117.38427 \n",
       "L 61.724912 119.687282 \n",
       "L 67.847169 121.54455 \n",
       "L 73.969426 122.956073 \n",
       "L 80.091683 123.921853 \n",
       "L 86.21394 124.441888 \n",
       "L 92.336197 124.516178 \n",
       "L 98.458454 124.144725 \n",
       "L 104.580711 123.327527 \n",
       "L 110.702968 122.064585 \n",
       "L 116.825225 120.355898 \n",
       "L 122.947482 118.201468 \n",
       "L 129.069739 115.601293 \n",
       "L 135.191996 112.555374 \n",
       "L 141.314254 109.06371 \n",
       "L 147.436511 105.126302 \n",
       "L 153.558768 100.74315 \n",
       "L 159.681025 95.914254 \n",
       "L 165.803282 90.639614 \n",
       "L 171.925539 84.919229 \n",
       "L 178.047796 78.7531 \n",
       "L 184.170053 72.141226 \n",
       "L 190.29231 65.083608 \n",
       "L 196.414567 57.580247 \n",
       "L 202.536824 49.63114 \n",
       "L 208.659081 41.23629 \n",
       "L 214.781338 32.395695 \n",
       "L 220.903595 23.109356 \n",
       "L 227.025852 13.377273 \n",
       "\" style=\"fill:none;stroke:#1f77b4;stroke-linecap:square;stroke-width:1.5;\"/>\n",
       "   </g>\n",
       "   <g id=\"line2d_16\">\n",
       "    <path clip-path=\"url(#p51d91d8524)\" d=\"M 49.480398 136.922727 \n",
       "L 55.602655 135.436913 \n",
       "L 61.724912 133.951099 \n",
       "L 67.847169 132.465285 \n",
       "L 73.969426 130.97947 \n",
       "L 80.091683 129.493656 \n",
       "L 86.21394 128.007842 \n",
       "L 92.336197 126.522028 \n",
       "L 98.458454 125.036213 \n",
       "L 104.580711 123.550399 \n",
       "L 110.702968 122.064585 \n",
       "L 116.825225 120.578771 \n",
       "L 122.947482 119.092956 \n",
       "L 129.069739 117.607142 \n",
       "L 135.191996 116.121328 \n",
       "L 141.314254 114.635514 \n",
       "L 147.436511 113.149699 \n",
       "L 153.558768 111.663885 \n",
       "L 159.681025 110.178071 \n",
       "L 165.803282 108.692257 \n",
       "L 171.925539 107.206442 \n",
       "L 178.047796 105.720628 \n",
       "L 184.170053 104.234814 \n",
       "L 190.29231 102.749 \n",
       "L 196.414567 101.263185 \n",
       "L 202.536824 99.777371 \n",
       "L 208.659081 98.291557 \n",
       "L 214.781338 96.805743 \n",
       "L 220.903595 95.319928 \n",
       "L 227.025852 93.834114 \n",
       "\" style=\"fill:none;stroke:#bf00bf;stroke-dasharray:5.55,2.4;stroke-dashoffset:0;stroke-width:1.5;\"/>\n",
       "   </g>\n",
       "   <g id=\"patch_3\">\n",
       "    <path d=\"M 40.603125 143.1 \n",
       "L 40.603125 7.2 \n",
       "\" style=\"fill:none;stroke:#000000;stroke-linecap:square;stroke-linejoin:miter;stroke-width:0.8;\"/>\n",
       "   </g>\n",
       "   <g id=\"patch_4\">\n",
       "    <path d=\"M 235.903125 143.1 \n",
       "L 235.903125 7.2 \n",
       "\" style=\"fill:none;stroke:#000000;stroke-linecap:square;stroke-linejoin:miter;stroke-width:0.8;\"/>\n",
       "   </g>\n",
       "   <g id=\"patch_5\">\n",
       "    <path d=\"M 40.603125 143.1 \n",
       "L 235.903125 143.1 \n",
       "\" style=\"fill:none;stroke:#000000;stroke-linecap:square;stroke-linejoin:miter;stroke-width:0.8;\"/>\n",
       "   </g>\n",
       "   <g id=\"patch_6\">\n",
       "    <path d=\"M 40.603125 7.2 \n",
       "L 235.903125 7.2 \n",
       "\" style=\"fill:none;stroke:#000000;stroke-linecap:square;stroke-linejoin:miter;stroke-width:0.8;\"/>\n",
       "   </g>\n",
       "   <g id=\"legend_1\">\n",
       "    <g id=\"patch_7\">\n",
       "     <path d=\"M 47.603125 44.55625 \n",
       "L 172.153125 44.55625 \n",
       "Q 174.153125 44.55625 174.153125 42.55625 \n",
       "L 174.153125 14.2 \n",
       "Q 174.153125 12.2 172.153125 12.2 \n",
       "L 47.603125 12.2 \n",
       "Q 45.603125 12.2 45.603125 14.2 \n",
       "L 45.603125 42.55625 \n",
       "Q 45.603125 44.55625 47.603125 44.55625 \n",
       "z\n",
       "\" style=\"fill:#ffffff;opacity:0.8;stroke:#cccccc;stroke-linejoin:miter;\"/>\n",
       "    </g>\n",
       "    <g id=\"line2d_17\">\n",
       "     <path d=\"M 49.603125 20.298437 \n",
       "L 69.603125 20.298437 \n",
       "\" style=\"fill:none;stroke:#1f77b4;stroke-linecap:square;stroke-width:1.5;\"/>\n",
       "    </g>\n",
       "    <g id=\"line2d_18\"/>\n",
       "    <g id=\"text_10\">\n",
       "     <!-- f(x) -->\n",
       "     <g transform=\"translate(77.603125 23.798437)scale(0.1 -0.1)\">\n",
       "      <use xlink:href=\"#DejaVuSans-102\"/>\n",
       "      <use x=\"35.205078\" xlink:href=\"#DejaVuSans-40\"/>\n",
       "      <use x=\"74.21875\" xlink:href=\"#DejaVuSans-120\"/>\n",
       "      <use x=\"133.398438\" xlink:href=\"#DejaVuSans-41\"/>\n",
       "     </g>\n",
       "    </g>\n",
       "    <g id=\"line2d_19\">\n",
       "     <path d=\"M 49.603125 34.976562 \n",
       "L 69.603125 34.976562 \n",
       "\" style=\"fill:none;stroke:#bf00bf;stroke-dasharray:5.55,2.4;stroke-dashoffset:0;stroke-width:1.5;\"/>\n",
       "    </g>\n",
       "    <g id=\"line2d_20\"/>\n",
       "    <g id=\"text_11\">\n",
       "     <!-- Tangent line (x=1) -->\n",
       "     <g transform=\"translate(77.603125 38.476562)scale(0.1 -0.1)\">\n",
       "      <defs>\n",
       "       <path d=\"M -0.296875 72.90625 \n",
       "L 61.375 72.90625 \n",
       "L 61.375 64.59375 \n",
       "L 35.5 64.59375 \n",
       "L 35.5 0 \n",
       "L 25.59375 0 \n",
       "L 25.59375 64.59375 \n",
       "L -0.296875 64.59375 \n",
       "z\n",
       "\" id=\"DejaVuSans-84\"/>\n",
       "       <path d=\"M 34.28125 27.484375 \n",
       "Q 23.390625 27.484375 19.1875 25 \n",
       "Q 14.984375 22.515625 14.984375 16.5 \n",
       "Q 14.984375 11.71875 18.140625 8.90625 \n",
       "Q 21.296875 6.109375 26.703125 6.109375 \n",
       "Q 34.1875 6.109375 38.703125 11.40625 \n",
       "Q 43.21875 16.703125 43.21875 25.484375 \n",
       "L 43.21875 27.484375 \n",
       "z\n",
       "M 52.203125 31.203125 \n",
       "L 52.203125 0 \n",
       "L 43.21875 0 \n",
       "L 43.21875 8.296875 \n",
       "Q 40.140625 3.328125 35.546875 0.953125 \n",
       "Q 30.953125 -1.421875 24.3125 -1.421875 \n",
       "Q 15.921875 -1.421875 10.953125 3.296875 \n",
       "Q 6 8.015625 6 15.921875 \n",
       "Q 6 25.140625 12.171875 29.828125 \n",
       "Q 18.359375 34.515625 30.609375 34.515625 \n",
       "L 43.21875 34.515625 \n",
       "L 43.21875 35.40625 \n",
       "Q 43.21875 41.609375 39.140625 45 \n",
       "Q 35.0625 48.390625 27.6875 48.390625 \n",
       "Q 23 48.390625 18.546875 47.265625 \n",
       "Q 14.109375 46.140625 10.015625 43.890625 \n",
       "L 10.015625 52.203125 \n",
       "Q 14.9375 54.109375 19.578125 55.046875 \n",
       "Q 24.21875 56 28.609375 56 \n",
       "Q 40.484375 56 46.34375 49.84375 \n",
       "Q 52.203125 43.703125 52.203125 31.203125 \n",
       "z\n",
       "\" id=\"DejaVuSans-97\"/>\n",
       "       <path d=\"M 54.890625 33.015625 \n",
       "L 54.890625 0 \n",
       "L 45.90625 0 \n",
       "L 45.90625 32.71875 \n",
       "Q 45.90625 40.484375 42.875 44.328125 \n",
       "Q 39.84375 48.1875 33.796875 48.1875 \n",
       "Q 26.515625 48.1875 22.3125 43.546875 \n",
       "Q 18.109375 38.921875 18.109375 30.90625 \n",
       "L 18.109375 0 \n",
       "L 9.078125 0 \n",
       "L 9.078125 54.6875 \n",
       "L 18.109375 54.6875 \n",
       "L 18.109375 46.1875 \n",
       "Q 21.34375 51.125 25.703125 53.5625 \n",
       "Q 30.078125 56 35.796875 56 \n",
       "Q 45.21875 56 50.046875 50.171875 \n",
       "Q 54.890625 44.34375 54.890625 33.015625 \n",
       "z\n",
       "\" id=\"DejaVuSans-110\"/>\n",
       "       <path d=\"M 45.40625 27.984375 \n",
       "Q 45.40625 37.75 41.375 43.109375 \n",
       "Q 37.359375 48.484375 30.078125 48.484375 \n",
       "Q 22.859375 48.484375 18.828125 43.109375 \n",
       "Q 14.796875 37.75 14.796875 27.984375 \n",
       "Q 14.796875 18.265625 18.828125 12.890625 \n",
       "Q 22.859375 7.515625 30.078125 7.515625 \n",
       "Q 37.359375 7.515625 41.375 12.890625 \n",
       "Q 45.40625 18.265625 45.40625 27.984375 \n",
       "z\n",
       "M 54.390625 6.78125 \n",
       "Q 54.390625 -7.171875 48.1875 -13.984375 \n",
       "Q 42 -20.796875 29.203125 -20.796875 \n",
       "Q 24.46875 -20.796875 20.265625 -20.09375 \n",
       "Q 16.0625 -19.390625 12.109375 -17.921875 \n",
       "L 12.109375 -9.1875 \n",
       "Q 16.0625 -11.328125 19.921875 -12.34375 \n",
       "Q 23.78125 -13.375 27.78125 -13.375 \n",
       "Q 36.625 -13.375 41.015625 -8.765625 \n",
       "Q 45.40625 -4.15625 45.40625 5.171875 \n",
       "L 45.40625 9.625 \n",
       "Q 42.625 4.78125 38.28125 2.390625 \n",
       "Q 33.9375 0 27.875 0 \n",
       "Q 17.828125 0 11.671875 7.65625 \n",
       "Q 5.515625 15.328125 5.515625 27.984375 \n",
       "Q 5.515625 40.671875 11.671875 48.328125 \n",
       "Q 17.828125 56 27.875 56 \n",
       "Q 33.9375 56 38.28125 53.609375 \n",
       "Q 42.625 51.21875 45.40625 46.390625 \n",
       "L 45.40625 54.6875 \n",
       "L 54.390625 54.6875 \n",
       "z\n",
       "\" id=\"DejaVuSans-103\"/>\n",
       "       <path d=\"M 56.203125 29.59375 \n",
       "L 56.203125 25.203125 \n",
       "L 14.890625 25.203125 \n",
       "Q 15.484375 15.921875 20.484375 11.0625 \n",
       "Q 25.484375 6.203125 34.421875 6.203125 \n",
       "Q 39.59375 6.203125 44.453125 7.46875 \n",
       "Q 49.3125 8.734375 54.109375 11.28125 \n",
       "L 54.109375 2.78125 \n",
       "Q 49.265625 0.734375 44.1875 -0.34375 \n",
       "Q 39.109375 -1.421875 33.890625 -1.421875 \n",
       "Q 20.796875 -1.421875 13.15625 6.1875 \n",
       "Q 5.515625 13.8125 5.515625 26.8125 \n",
       "Q 5.515625 40.234375 12.765625 48.109375 \n",
       "Q 20.015625 56 32.328125 56 \n",
       "Q 43.359375 56 49.78125 48.890625 \n",
       "Q 56.203125 41.796875 56.203125 29.59375 \n",
       "z\n",
       "M 47.21875 32.234375 \n",
       "Q 47.125 39.59375 43.09375 43.984375 \n",
       "Q 39.0625 48.390625 32.421875 48.390625 \n",
       "Q 24.90625 48.390625 20.390625 44.140625 \n",
       "Q 15.875 39.890625 15.1875 32.171875 \n",
       "z\n",
       "\" id=\"DejaVuSans-101\"/>\n",
       "       <path d=\"M 18.3125 70.21875 \n",
       "L 18.3125 54.6875 \n",
       "L 36.8125 54.6875 \n",
       "L 36.8125 47.703125 \n",
       "L 18.3125 47.703125 \n",
       "L 18.3125 18.015625 \n",
       "Q 18.3125 11.328125 20.140625 9.421875 \n",
       "Q 21.96875 7.515625 27.59375 7.515625 \n",
       "L 36.8125 7.515625 \n",
       "L 36.8125 0 \n",
       "L 27.59375 0 \n",
       "Q 17.1875 0 13.234375 3.875 \n",
       "Q 9.28125 7.765625 9.28125 18.015625 \n",
       "L 9.28125 47.703125 \n",
       "L 2.6875 47.703125 \n",
       "L 2.6875 54.6875 \n",
       "L 9.28125 54.6875 \n",
       "L 9.28125 70.21875 \n",
       "z\n",
       "\" id=\"DejaVuSans-116\"/>\n",
       "       <path id=\"DejaVuSans-32\"/>\n",
       "       <path d=\"M 9.421875 75.984375 \n",
       "L 18.40625 75.984375 \n",
       "L 18.40625 0 \n",
       "L 9.421875 0 \n",
       "z\n",
       "\" id=\"DejaVuSans-108\"/>\n",
       "       <path d=\"M 9.421875 54.6875 \n",
       "L 18.40625 54.6875 \n",
       "L 18.40625 0 \n",
       "L 9.421875 0 \n",
       "z\n",
       "M 9.421875 75.984375 \n",
       "L 18.40625 75.984375 \n",
       "L 18.40625 64.59375 \n",
       "L 9.421875 64.59375 \n",
       "z\n",
       "\" id=\"DejaVuSans-105\"/>\n",
       "       <path d=\"M 10.59375 45.40625 \n",
       "L 73.1875 45.40625 \n",
       "L 73.1875 37.203125 \n",
       "L 10.59375 37.203125 \n",
       "z\n",
       "M 10.59375 25.484375 \n",
       "L 73.1875 25.484375 \n",
       "L 73.1875 17.1875 \n",
       "L 10.59375 17.1875 \n",
       "z\n",
       "\" id=\"DejaVuSans-61\"/>\n",
       "      </defs>\n",
       "      <use xlink:href=\"#DejaVuSans-84\"/>\n",
       "      <use x=\"44.583984\" xlink:href=\"#DejaVuSans-97\"/>\n",
       "      <use x=\"105.863281\" xlink:href=\"#DejaVuSans-110\"/>\n",
       "      <use x=\"169.242188\" xlink:href=\"#DejaVuSans-103\"/>\n",
       "      <use x=\"232.71875\" xlink:href=\"#DejaVuSans-101\"/>\n",
       "      <use x=\"294.242188\" xlink:href=\"#DejaVuSans-110\"/>\n",
       "      <use x=\"357.621094\" xlink:href=\"#DejaVuSans-116\"/>\n",
       "      <use x=\"396.830078\" xlink:href=\"#DejaVuSans-32\"/>\n",
       "      <use x=\"428.617188\" xlink:href=\"#DejaVuSans-108\"/>\n",
       "      <use x=\"456.400391\" xlink:href=\"#DejaVuSans-105\"/>\n",
       "      <use x=\"484.183594\" xlink:href=\"#DejaVuSans-110\"/>\n",
       "      <use x=\"547.5625\" xlink:href=\"#DejaVuSans-101\"/>\n",
       "      <use x=\"609.085938\" xlink:href=\"#DejaVuSans-32\"/>\n",
       "      <use x=\"640.873047\" xlink:href=\"#DejaVuSans-40\"/>\n",
       "      <use x=\"679.886719\" xlink:href=\"#DejaVuSans-120\"/>\n",
       "      <use x=\"739.066406\" xlink:href=\"#DejaVuSans-61\"/>\n",
       "      <use x=\"822.855469\" xlink:href=\"#DejaVuSans-49\"/>\n",
       "      <use x=\"886.478516\" xlink:href=\"#DejaVuSans-41\"/>\n",
       "     </g>\n",
       "    </g>\n",
       "   </g>\n",
       "  </g>\n",
       " </g>\n",
       " <defs>\n",
       "  <clipPath id=\"p51d91d8524\">\n",
       "   <rect height=\"135.9\" width=\"195.3\" x=\"40.603125\" y=\"7.2\"/>\n",
       "  </clipPath>\n",
       " </defs>\n",
       "</svg>\n"
      ],
      "text/plain": [
       "<Figure size 252x180 with 1 Axes>"
      ]
     },
     "metadata": {
      "needs_background": "light"
     },
     "output_type": "display_data"
    }
   ],
   "source": [
    "x = np.arange(0, 3, 0.1)\n",
    "plot(x, [f(x), 2 * x - 3], 'x', 'f(x)', legend=['f(x)', 'Tangent line (x=1)'])"
   ]
  },
  {
   "cell_type": "markdown",
   "metadata": {
    "jp-MarkdownHeadingCollapsed": true,
    "tags": []
   },
   "source": [
    "## 2.5自动微分"
   ]
  },
  {
   "cell_type": "markdown",
   "metadata": {
    "jp-MarkdownHeadingCollapsed": true,
    "tags": []
   },
   "source": [
    "### 2.5.1一个简单的例子"
   ]
  },
  {
   "cell_type": "code",
   "execution_count": 66,
   "metadata": {},
   "outputs": [
    {
     "data": {
      "text/plain": [
       "tensor([0., 1., 2., 3.])"
      ]
     },
     "execution_count": 66,
     "metadata": {},
     "output_type": "execute_result"
    }
   ],
   "source": [
    "import torch\n",
    "x = torch.arange(4.0)\n",
    "x"
   ]
  },
  {
   "cell_type": "code",
   "execution_count": 67,
   "metadata": {},
   "outputs": [],
   "source": [
    "x.requires_grad_(True) # 等价于x=torch.arange(4.0,requires_grad=True)\n",
    "x.grad # 默认值是None"
   ]
  },
  {
   "cell_type": "code",
   "execution_count": 68,
   "metadata": {},
   "outputs": [
    {
     "data": {
      "text/plain": [
       "tensor(28., grad_fn=<MulBackward0>)"
      ]
     },
     "execution_count": 68,
     "metadata": {},
     "output_type": "execute_result"
    }
   ],
   "source": [
    "y = 2 * torch.dot(x, x)\n",
    "y"
   ]
  },
  {
   "cell_type": "code",
   "execution_count": 69,
   "metadata": {},
   "outputs": [
    {
     "data": {
      "text/plain": [
       "tensor([ 0.,  4.,  8., 12.])"
      ]
     },
     "execution_count": 69,
     "metadata": {},
     "output_type": "execute_result"
    }
   ],
   "source": [
    "y.backward()\n",
    "x.grad"
   ]
  },
  {
   "cell_type": "code",
   "execution_count": 70,
   "metadata": {},
   "outputs": [
    {
     "data": {
      "text/plain": [
       "tensor([True, True, True, True])"
      ]
     },
     "execution_count": 70,
     "metadata": {},
     "output_type": "execute_result"
    }
   ],
   "source": [
    "x.grad == 4 * x"
   ]
  },
  {
   "cell_type": "code",
   "execution_count": 71,
   "metadata": {},
   "outputs": [
    {
     "data": {
      "text/plain": [
       "tensor([1., 1., 1., 1.])"
      ]
     },
     "execution_count": 71,
     "metadata": {},
     "output_type": "execute_result"
    }
   ],
   "source": [
    "# 在默认情况下， PyTorch会累积梯度，我们需要清除之前的值\n",
    "x.grad.zero_()\n",
    "y = x.sum()\n",
    "y.backward()\n",
    "x.grad"
   ]
  },
  {
   "cell_type": "markdown",
   "metadata": {
    "jp-MarkdownHeadingCollapsed": true,
    "tags": []
   },
   "source": [
    "### 2.5.2非标量变量的反向传播"
   ]
  },
  {
   "cell_type": "code",
   "execution_count": 72,
   "metadata": {},
   "outputs": [
    {
     "data": {
      "text/plain": [
       "tensor([0., 2., 4., 6.])"
      ]
     },
     "execution_count": 72,
     "metadata": {},
     "output_type": "execute_result"
    }
   ],
   "source": [
    "# 对⾮标量调⽤backward需要传⼊⼀个gradient参数，该参数指定微分函数关于self的梯度。\n",
    "# 在我们的例⼦中，我们只想求偏导数的和，所以传递⼀个1的梯度是合适的\n",
    "x.grad.zero_()\n",
    "y = x * x\n",
    "# 等价于y.backward(torch.ones(len(x)))\n",
    "y.sum().backward()\n",
    "x.grad"
   ]
  },
  {
   "cell_type": "markdown",
   "metadata": {
    "jp-MarkdownHeadingCollapsed": true,
    "tags": []
   },
   "source": [
    "### 2.5.3 *分离计算*"
   ]
  },
  {
   "cell_type": "markdown",
   "metadata": {},
   "source": [
    "    有时，我们希望将某些计算移动到记录的计算图之外。例如，假设y是作为x的函数计算的，而z则是作为y和x的函数计算的。想象⼀下，我们想计算z关于x的梯度，但由于某种原因，我们希望将y视为⼀个常数，并且只考虑到x在y被计算后发挥的作⽤。\n",
    "\n",
    "    在这⾥，我们可以分离y来返回⼀个新变量u，该变量与y具有相同的值，但丢弃计算图中如何计算y的任何信息。换句话说，梯度不会向后流经u到x。因此，下⾯的反向传播函数计算z=u*x关于x的偏导数，同时将u作为常数处理，而不是z=x*x*x关于x的偏导数。"
   ]
  },
  {
   "cell_type": "code",
   "execution_count": 73,
   "metadata": {},
   "outputs": [
    {
     "data": {
      "text/plain": [
       "tensor([True, True, True, True])"
      ]
     },
     "execution_count": 73,
     "metadata": {},
     "output_type": "execute_result"
    }
   ],
   "source": [
    "x.grad.zero_()\n",
    "y = x * x\n",
    "u = y.detach()\n",
    "z = u * x\n",
    "z.sum().backward()\n",
    "x.grad == u"
   ]
  },
  {
   "cell_type": "code",
   "execution_count": 74,
   "metadata": {},
   "outputs": [
    {
     "data": {
      "text/plain": [
       "tensor([True, True, True, True])"
      ]
     },
     "execution_count": 74,
     "metadata": {},
     "output_type": "execute_result"
    }
   ],
   "source": [
    "x.grad.zero_()\n",
    "y.sum().backward()\n",
    "x.grad == 2 * x"
   ]
  },
  {
   "cell_type": "markdown",
   "metadata": {
    "jp-MarkdownHeadingCollapsed": true,
    "tags": []
   },
   "source": [
    "### 2.5.4Python控制流的梯度计算"
   ]
  },
  {
   "cell_type": "code",
   "execution_count": 75,
   "metadata": {},
   "outputs": [],
   "source": [
    "def f(a):\n",
    "    b = a * 2\n",
    "    while b.norm() < 1000:\n",
    "        b = b * 2\n",
    "    if b.sum() > 0:\n",
    "        c = b\n",
    "    else:\n",
    "        c = 100 * b\n",
    "    return c"
   ]
  },
  {
   "cell_type": "code",
   "execution_count": 76,
   "metadata": {},
   "outputs": [],
   "source": [
    "a = torch.randn(size=(), requires_grad=True)\n",
    "d = f(a)\n",
    "d.backward()"
   ]
  },
  {
   "cell_type": "code",
   "execution_count": 77,
   "metadata": {},
   "outputs": [
    {
     "data": {
      "text/plain": [
       "tensor(False)"
      ]
     },
     "execution_count": 77,
     "metadata": {},
     "output_type": "execute_result"
    }
   ],
   "source": [
    "a.grad == d / a"
   ]
  },
  {
   "cell_type": "markdown",
   "metadata": {},
   "source": [
    "## 2.6概率"
   ]
  },
  {
   "cell_type": "markdown",
   "metadata": {},
   "source": [
    "### 2.6.1基本概率论"
   ]
  },
  {
   "cell_type": "code",
   "execution_count": 78,
   "metadata": {},
   "outputs": [],
   "source": [
    "%matplotlib inline\n",
    "import torch\n",
    "from torch.distributions import multinomial\n",
    "from d2l import torch as d2l"
   ]
  },
  {
   "cell_type": "code",
   "execution_count": 79,
   "metadata": {},
   "outputs": [
    {
     "data": {
      "text/plain": [
       "tensor([0., 0., 0., 1., 0., 0.])"
      ]
     },
     "execution_count": 79,
     "metadata": {},
     "output_type": "execute_result"
    }
   ],
   "source": [
    "fair_probs = torch.ones([6]) / 6\n",
    "multinomial.Multinomial(1, fair_probs).sample()"
   ]
  },
  {
   "cell_type": "code",
   "execution_count": 80,
   "metadata": {},
   "outputs": [
    {
     "data": {
      "text/plain": [
       "tensor([1., 0., 1., 1., 2., 5.])"
      ]
     },
     "execution_count": 80,
     "metadata": {},
     "output_type": "execute_result"
    }
   ],
   "source": [
    "multinomial.Multinomial(10, fair_probs).sample()"
   ]
  },
  {
   "cell_type": "code",
   "execution_count": 81,
   "metadata": {},
   "outputs": [
    {
     "data": {
      "text/plain": [
       "tensor([0.1710, 0.1470, 0.1600, 0.1910, 0.1670, 0.1640])"
      ]
     },
     "execution_count": 81,
     "metadata": {},
     "output_type": "execute_result"
    }
   ],
   "source": [
    "# 将结果存储为32位浮点数以进⾏除法\n",
    "counts = multinomial.Multinomial(1000, fair_probs).sample()\n",
    "counts / 1000 # 相对频率作为估计值"
   ]
  },
  {
   "cell_type": "code",
   "execution_count": 82,
   "metadata": {},
   "outputs": [
    {
     "data": {
      "image/svg+xml": [
       "<?xml version=\"1.0\" encoding=\"utf-8\" standalone=\"no\"?>\n",
       "<!DOCTYPE svg PUBLIC \"-//W3C//DTD SVG 1.1//EN\"\n",
       "  \"http://www.w3.org/Graphics/SVG/1.1/DTD/svg11.dtd\">\n",
       "<!-- Created with matplotlib (https://matplotlib.org/) -->\n",
       "<svg height=\"289.37625pt\" version=\"1.1\" viewBox=\"0 0 392.14375 289.37625\" width=\"392.14375pt\" xmlns=\"http://www.w3.org/2000/svg\" xmlns:xlink=\"http://www.w3.org/1999/xlink\">\n",
       " <metadata>\n",
       "  <rdf:RDF xmlns:cc=\"http://creativecommons.org/ns#\" xmlns:dc=\"http://purl.org/dc/elements/1.1/\" xmlns:rdf=\"http://www.w3.org/1999/02/22-rdf-syntax-ns#\">\n",
       "   <cc:Work>\n",
       "    <dc:type rdf:resource=\"http://purl.org/dc/dcmitype/StillImage\"/>\n",
       "    <dc:date>2022-05-16T14:35:13.260623</dc:date>\n",
       "    <dc:format>image/svg+xml</dc:format>\n",
       "    <dc:creator>\n",
       "     <cc:Agent>\n",
       "      <dc:title>Matplotlib v3.3.3, https://matplotlib.org/</dc:title>\n",
       "     </cc:Agent>\n",
       "    </dc:creator>\n",
       "   </cc:Work>\n",
       "  </rdf:RDF>\n",
       " </metadata>\n",
       " <defs>\n",
       "  <style type=\"text/css\">*{stroke-linecap:butt;stroke-linejoin:round;}</style>\n",
       " </defs>\n",
       " <g id=\"figure_1\">\n",
       "  <g id=\"patch_1\">\n",
       "   <path d=\"M 0 289.37625 \n",
       "L 392.14375 289.37625 \n",
       "L 392.14375 0 \n",
       "L 0 0 \n",
       "z\n",
       "\" style=\"fill:none;\"/>\n",
       "  </g>\n",
       "  <g id=\"axes_1\">\n",
       "   <g id=\"patch_2\">\n",
       "    <path d=\"M 50.14375 251.82 \n",
       "L 384.94375 251.82 \n",
       "L 384.94375 7.2 \n",
       "L 50.14375 7.2 \n",
       "z\n",
       "\" style=\"fill:#ffffff;\"/>\n",
       "   </g>\n",
       "   <g id=\"matplotlib.axis_1\">\n",
       "    <g id=\"xtick_1\">\n",
       "     <g id=\"line2d_1\">\n",
       "      <defs>\n",
       "       <path d=\"M 0 0 \n",
       "L 0 3.5 \n",
       "\" id=\"m0afbfba837\" style=\"stroke:#000000;stroke-width:0.8;\"/>\n",
       "      </defs>\n",
       "      <g>\n",
       "       <use style=\"stroke:#000000;stroke-width:0.8;\" x=\"65.361932\" xlink:href=\"#m0afbfba837\" y=\"251.82\"/>\n",
       "      </g>\n",
       "     </g>\n",
       "     <g id=\"text_1\">\n",
       "      <!-- 0 -->\n",
       "      <g transform=\"translate(62.180682 266.418437)scale(0.1 -0.1)\">\n",
       "       <defs>\n",
       "        <path d=\"M 31.78125 66.40625 \n",
       "Q 24.171875 66.40625 20.328125 58.90625 \n",
       "Q 16.5 51.421875 16.5 36.375 \n",
       "Q 16.5 21.390625 20.328125 13.890625 \n",
       "Q 24.171875 6.390625 31.78125 6.390625 \n",
       "Q 39.453125 6.390625 43.28125 13.890625 \n",
       "Q 47.125 21.390625 47.125 36.375 \n",
       "Q 47.125 51.421875 43.28125 58.90625 \n",
       "Q 39.453125 66.40625 31.78125 66.40625 \n",
       "z\n",
       "M 31.78125 74.21875 \n",
       "Q 44.046875 74.21875 50.515625 64.515625 \n",
       "Q 56.984375 54.828125 56.984375 36.375 \n",
       "Q 56.984375 17.96875 50.515625 8.265625 \n",
       "Q 44.046875 -1.421875 31.78125 -1.421875 \n",
       "Q 19.53125 -1.421875 13.0625 8.265625 \n",
       "Q 6.59375 17.96875 6.59375 36.375 \n",
       "Q 6.59375 54.828125 13.0625 64.515625 \n",
       "Q 19.53125 74.21875 31.78125 74.21875 \n",
       "z\n",
       "\" id=\"DejaVuSans-48\"/>\n",
       "       </defs>\n",
       "       <use xlink:href=\"#DejaVuSans-48\"/>\n",
       "      </g>\n",
       "     </g>\n",
       "    </g>\n",
       "    <g id=\"xtick_2\">\n",
       "     <g id=\"line2d_2\">\n",
       "      <g>\n",
       "       <use style=\"stroke:#000000;stroke-width:0.8;\" x=\"126.356649\" xlink:href=\"#m0afbfba837\" y=\"251.82\"/>\n",
       "      </g>\n",
       "     </g>\n",
       "     <g id=\"text_2\">\n",
       "      <!-- 100 -->\n",
       "      <g transform=\"translate(116.812899 266.418437)scale(0.1 -0.1)\">\n",
       "       <defs>\n",
       "        <path d=\"M 12.40625 8.296875 \n",
       "L 28.515625 8.296875 \n",
       "L 28.515625 63.921875 \n",
       "L 10.984375 60.40625 \n",
       "L 10.984375 69.390625 \n",
       "L 28.421875 72.90625 \n",
       "L 38.28125 72.90625 \n",
       "L 38.28125 8.296875 \n",
       "L 54.390625 8.296875 \n",
       "L 54.390625 0 \n",
       "L 12.40625 0 \n",
       "z\n",
       "\" id=\"DejaVuSans-49\"/>\n",
       "       </defs>\n",
       "       <use xlink:href=\"#DejaVuSans-49\"/>\n",
       "       <use x=\"63.623047\" xlink:href=\"#DejaVuSans-48\"/>\n",
       "       <use x=\"127.246094\" xlink:href=\"#DejaVuSans-48\"/>\n",
       "      </g>\n",
       "     </g>\n",
       "    </g>\n",
       "    <g id=\"xtick_3\">\n",
       "     <g id=\"line2d_3\">\n",
       "      <g>\n",
       "       <use style=\"stroke:#000000;stroke-width:0.8;\" x=\"187.351365\" xlink:href=\"#m0afbfba837\" y=\"251.82\"/>\n",
       "      </g>\n",
       "     </g>\n",
       "     <g id=\"text_3\">\n",
       "      <!-- 200 -->\n",
       "      <g transform=\"translate(177.807615 266.418437)scale(0.1 -0.1)\">\n",
       "       <defs>\n",
       "        <path d=\"M 19.1875 8.296875 \n",
       "L 53.609375 8.296875 \n",
       "L 53.609375 0 \n",
       "L 7.328125 0 \n",
       "L 7.328125 8.296875 \n",
       "Q 12.9375 14.109375 22.625 23.890625 \n",
       "Q 32.328125 33.6875 34.8125 36.53125 \n",
       "Q 39.546875 41.84375 41.421875 45.53125 \n",
       "Q 43.3125 49.21875 43.3125 52.78125 \n",
       "Q 43.3125 58.59375 39.234375 62.25 \n",
       "Q 35.15625 65.921875 28.609375 65.921875 \n",
       "Q 23.96875 65.921875 18.8125 64.3125 \n",
       "Q 13.671875 62.703125 7.8125 59.421875 \n",
       "L 7.8125 69.390625 \n",
       "Q 13.765625 71.78125 18.9375 73 \n",
       "Q 24.125 74.21875 28.421875 74.21875 \n",
       "Q 39.75 74.21875 46.484375 68.546875 \n",
       "Q 53.21875 62.890625 53.21875 53.421875 \n",
       "Q 53.21875 48.921875 51.53125 44.890625 \n",
       "Q 49.859375 40.875 45.40625 35.40625 \n",
       "Q 44.1875 33.984375 37.640625 27.21875 \n",
       "Q 31.109375 20.453125 19.1875 8.296875 \n",
       "z\n",
       "\" id=\"DejaVuSans-50\"/>\n",
       "       </defs>\n",
       "       <use xlink:href=\"#DejaVuSans-50\"/>\n",
       "       <use x=\"63.623047\" xlink:href=\"#DejaVuSans-48\"/>\n",
       "       <use x=\"127.246094\" xlink:href=\"#DejaVuSans-48\"/>\n",
       "      </g>\n",
       "     </g>\n",
       "    </g>\n",
       "    <g id=\"xtick_4\">\n",
       "     <g id=\"line2d_4\">\n",
       "      <g>\n",
       "       <use style=\"stroke:#000000;stroke-width:0.8;\" x=\"248.346082\" xlink:href=\"#m0afbfba837\" y=\"251.82\"/>\n",
       "      </g>\n",
       "     </g>\n",
       "     <g id=\"text_4\">\n",
       "      <!-- 300 -->\n",
       "      <g transform=\"translate(238.802332 266.418437)scale(0.1 -0.1)\">\n",
       "       <defs>\n",
       "        <path d=\"M 40.578125 39.3125 \n",
       "Q 47.65625 37.796875 51.625 33 \n",
       "Q 55.609375 28.21875 55.609375 21.1875 \n",
       "Q 55.609375 10.40625 48.1875 4.484375 \n",
       "Q 40.765625 -1.421875 27.09375 -1.421875 \n",
       "Q 22.515625 -1.421875 17.65625 -0.515625 \n",
       "Q 12.796875 0.390625 7.625 2.203125 \n",
       "L 7.625 11.71875 \n",
       "Q 11.71875 9.328125 16.59375 8.109375 \n",
       "Q 21.484375 6.890625 26.8125 6.890625 \n",
       "Q 36.078125 6.890625 40.9375 10.546875 \n",
       "Q 45.796875 14.203125 45.796875 21.1875 \n",
       "Q 45.796875 27.640625 41.28125 31.265625 \n",
       "Q 36.765625 34.90625 28.71875 34.90625 \n",
       "L 20.21875 34.90625 \n",
       "L 20.21875 43.015625 \n",
       "L 29.109375 43.015625 \n",
       "Q 36.375 43.015625 40.234375 45.921875 \n",
       "Q 44.09375 48.828125 44.09375 54.296875 \n",
       "Q 44.09375 59.90625 40.109375 62.90625 \n",
       "Q 36.140625 65.921875 28.71875 65.921875 \n",
       "Q 24.65625 65.921875 20.015625 65.03125 \n",
       "Q 15.375 64.15625 9.8125 62.3125 \n",
       "L 9.8125 71.09375 \n",
       "Q 15.4375 72.65625 20.34375 73.4375 \n",
       "Q 25.25 74.21875 29.59375 74.21875 \n",
       "Q 40.828125 74.21875 47.359375 69.109375 \n",
       "Q 53.90625 64.015625 53.90625 55.328125 \n",
       "Q 53.90625 49.265625 50.4375 45.09375 \n",
       "Q 46.96875 40.921875 40.578125 39.3125 \n",
       "z\n",
       "\" id=\"DejaVuSans-51\"/>\n",
       "       </defs>\n",
       "       <use xlink:href=\"#DejaVuSans-51\"/>\n",
       "       <use x=\"63.623047\" xlink:href=\"#DejaVuSans-48\"/>\n",
       "       <use x=\"127.246094\" xlink:href=\"#DejaVuSans-48\"/>\n",
       "      </g>\n",
       "     </g>\n",
       "    </g>\n",
       "    <g id=\"xtick_5\">\n",
       "     <g id=\"line2d_5\">\n",
       "      <g>\n",
       "       <use style=\"stroke:#000000;stroke-width:0.8;\" x=\"309.340799\" xlink:href=\"#m0afbfba837\" y=\"251.82\"/>\n",
       "      </g>\n",
       "     </g>\n",
       "     <g id=\"text_5\">\n",
       "      <!-- 400 -->\n",
       "      <g transform=\"translate(299.797049 266.418437)scale(0.1 -0.1)\">\n",
       "       <defs>\n",
       "        <path d=\"M 37.796875 64.3125 \n",
       "L 12.890625 25.390625 \n",
       "L 37.796875 25.390625 \n",
       "z\n",
       "M 35.203125 72.90625 \n",
       "L 47.609375 72.90625 \n",
       "L 47.609375 25.390625 \n",
       "L 58.015625 25.390625 \n",
       "L 58.015625 17.1875 \n",
       "L 47.609375 17.1875 \n",
       "L 47.609375 0 \n",
       "L 37.796875 0 \n",
       "L 37.796875 17.1875 \n",
       "L 4.890625 17.1875 \n",
       "L 4.890625 26.703125 \n",
       "z\n",
       "\" id=\"DejaVuSans-52\"/>\n",
       "       </defs>\n",
       "       <use xlink:href=\"#DejaVuSans-52\"/>\n",
       "       <use x=\"63.623047\" xlink:href=\"#DejaVuSans-48\"/>\n",
       "       <use x=\"127.246094\" xlink:href=\"#DejaVuSans-48\"/>\n",
       "      </g>\n",
       "     </g>\n",
       "    </g>\n",
       "    <g id=\"xtick_6\">\n",
       "     <g id=\"line2d_6\">\n",
       "      <g>\n",
       "       <use style=\"stroke:#000000;stroke-width:0.8;\" x=\"370.335515\" xlink:href=\"#m0afbfba837\" y=\"251.82\"/>\n",
       "      </g>\n",
       "     </g>\n",
       "     <g id=\"text_6\">\n",
       "      <!-- 500 -->\n",
       "      <g transform=\"translate(360.791765 266.418437)scale(0.1 -0.1)\">\n",
       "       <defs>\n",
       "        <path d=\"M 10.796875 72.90625 \n",
       "L 49.515625 72.90625 \n",
       "L 49.515625 64.59375 \n",
       "L 19.828125 64.59375 \n",
       "L 19.828125 46.734375 \n",
       "Q 21.96875 47.46875 24.109375 47.828125 \n",
       "Q 26.265625 48.1875 28.421875 48.1875 \n",
       "Q 40.625 48.1875 47.75 41.5 \n",
       "Q 54.890625 34.8125 54.890625 23.390625 \n",
       "Q 54.890625 11.625 47.5625 5.09375 \n",
       "Q 40.234375 -1.421875 26.90625 -1.421875 \n",
       "Q 22.3125 -1.421875 17.546875 -0.640625 \n",
       "Q 12.796875 0.140625 7.71875 1.703125 \n",
       "L 7.71875 11.625 \n",
       "Q 12.109375 9.234375 16.796875 8.0625 \n",
       "Q 21.484375 6.890625 26.703125 6.890625 \n",
       "Q 35.15625 6.890625 40.078125 11.328125 \n",
       "Q 45.015625 15.765625 45.015625 23.390625 \n",
       "Q 45.015625 31 40.078125 35.4375 \n",
       "Q 35.15625 39.890625 26.703125 39.890625 \n",
       "Q 22.75 39.890625 18.8125 39.015625 \n",
       "Q 14.890625 38.140625 10.796875 36.28125 \n",
       "z\n",
       "\" id=\"DejaVuSans-53\"/>\n",
       "       </defs>\n",
       "       <use xlink:href=\"#DejaVuSans-53\"/>\n",
       "       <use x=\"63.623047\" xlink:href=\"#DejaVuSans-48\"/>\n",
       "       <use x=\"127.246094\" xlink:href=\"#DejaVuSans-48\"/>\n",
       "      </g>\n",
       "     </g>\n",
       "    </g>\n",
       "    <g id=\"text_7\">\n",
       "     <!-- Groups of experiments -->\n",
       "     <g transform=\"translate(160.397656 280.096562)scale(0.1 -0.1)\">\n",
       "      <defs>\n",
       "       <path d=\"M 59.515625 10.40625 \n",
       "L 59.515625 29.984375 \n",
       "L 43.40625 29.984375 \n",
       "L 43.40625 38.09375 \n",
       "L 69.28125 38.09375 \n",
       "L 69.28125 6.78125 \n",
       "Q 63.578125 2.734375 56.6875 0.65625 \n",
       "Q 49.8125 -1.421875 42 -1.421875 \n",
       "Q 24.90625 -1.421875 15.25 8.5625 \n",
       "Q 5.609375 18.5625 5.609375 36.375 \n",
       "Q 5.609375 54.25 15.25 64.234375 \n",
       "Q 24.90625 74.21875 42 74.21875 \n",
       "Q 49.125 74.21875 55.546875 72.453125 \n",
       "Q 61.96875 70.703125 67.390625 67.28125 \n",
       "L 67.390625 56.78125 \n",
       "Q 61.921875 61.421875 55.765625 63.765625 \n",
       "Q 49.609375 66.109375 42.828125 66.109375 \n",
       "Q 29.4375 66.109375 22.71875 58.640625 \n",
       "Q 16.015625 51.171875 16.015625 36.375 \n",
       "Q 16.015625 21.625 22.71875 14.15625 \n",
       "Q 29.4375 6.6875 42.828125 6.6875 \n",
       "Q 48.046875 6.6875 52.140625 7.59375 \n",
       "Q 56.25 8.5 59.515625 10.40625 \n",
       "z\n",
       "\" id=\"DejaVuSans-71\"/>\n",
       "       <path d=\"M 41.109375 46.296875 \n",
       "Q 39.59375 47.171875 37.8125 47.578125 \n",
       "Q 36.03125 48 33.890625 48 \n",
       "Q 26.265625 48 22.1875 43.046875 \n",
       "Q 18.109375 38.09375 18.109375 28.8125 \n",
       "L 18.109375 0 \n",
       "L 9.078125 0 \n",
       "L 9.078125 54.6875 \n",
       "L 18.109375 54.6875 \n",
       "L 18.109375 46.1875 \n",
       "Q 20.953125 51.171875 25.484375 53.578125 \n",
       "Q 30.03125 56 36.53125 56 \n",
       "Q 37.453125 56 38.578125 55.875 \n",
       "Q 39.703125 55.765625 41.0625 55.515625 \n",
       "z\n",
       "\" id=\"DejaVuSans-114\"/>\n",
       "       <path d=\"M 30.609375 48.390625 \n",
       "Q 23.390625 48.390625 19.1875 42.75 \n",
       "Q 14.984375 37.109375 14.984375 27.296875 \n",
       "Q 14.984375 17.484375 19.15625 11.84375 \n",
       "Q 23.34375 6.203125 30.609375 6.203125 \n",
       "Q 37.796875 6.203125 41.984375 11.859375 \n",
       "Q 46.1875 17.53125 46.1875 27.296875 \n",
       "Q 46.1875 37.015625 41.984375 42.703125 \n",
       "Q 37.796875 48.390625 30.609375 48.390625 \n",
       "z\n",
       "M 30.609375 56 \n",
       "Q 42.328125 56 49.015625 48.375 \n",
       "Q 55.71875 40.765625 55.71875 27.296875 \n",
       "Q 55.71875 13.875 49.015625 6.21875 \n",
       "Q 42.328125 -1.421875 30.609375 -1.421875 \n",
       "Q 18.84375 -1.421875 12.171875 6.21875 \n",
       "Q 5.515625 13.875 5.515625 27.296875 \n",
       "Q 5.515625 40.765625 12.171875 48.375 \n",
       "Q 18.84375 56 30.609375 56 \n",
       "z\n",
       "\" id=\"DejaVuSans-111\"/>\n",
       "       <path d=\"M 8.5 21.578125 \n",
       "L 8.5 54.6875 \n",
       "L 17.484375 54.6875 \n",
       "L 17.484375 21.921875 \n",
       "Q 17.484375 14.15625 20.5 10.265625 \n",
       "Q 23.53125 6.390625 29.59375 6.390625 \n",
       "Q 36.859375 6.390625 41.078125 11.03125 \n",
       "Q 45.3125 15.671875 45.3125 23.6875 \n",
       "L 45.3125 54.6875 \n",
       "L 54.296875 54.6875 \n",
       "L 54.296875 0 \n",
       "L 45.3125 0 \n",
       "L 45.3125 8.40625 \n",
       "Q 42.046875 3.421875 37.71875 1 \n",
       "Q 33.40625 -1.421875 27.6875 -1.421875 \n",
       "Q 18.265625 -1.421875 13.375 4.4375 \n",
       "Q 8.5 10.296875 8.5 21.578125 \n",
       "z\n",
       "M 31.109375 56 \n",
       "z\n",
       "\" id=\"DejaVuSans-117\"/>\n",
       "       <path d=\"M 18.109375 8.203125 \n",
       "L 18.109375 -20.796875 \n",
       "L 9.078125 -20.796875 \n",
       "L 9.078125 54.6875 \n",
       "L 18.109375 54.6875 \n",
       "L 18.109375 46.390625 \n",
       "Q 20.953125 51.265625 25.265625 53.625 \n",
       "Q 29.59375 56 35.59375 56 \n",
       "Q 45.5625 56 51.78125 48.09375 \n",
       "Q 58.015625 40.1875 58.015625 27.296875 \n",
       "Q 58.015625 14.40625 51.78125 6.484375 \n",
       "Q 45.5625 -1.421875 35.59375 -1.421875 \n",
       "Q 29.59375 -1.421875 25.265625 0.953125 \n",
       "Q 20.953125 3.328125 18.109375 8.203125 \n",
       "z\n",
       "M 48.6875 27.296875 \n",
       "Q 48.6875 37.203125 44.609375 42.84375 \n",
       "Q 40.53125 48.484375 33.40625 48.484375 \n",
       "Q 26.265625 48.484375 22.1875 42.84375 \n",
       "Q 18.109375 37.203125 18.109375 27.296875 \n",
       "Q 18.109375 17.390625 22.1875 11.75 \n",
       "Q 26.265625 6.109375 33.40625 6.109375 \n",
       "Q 40.53125 6.109375 44.609375 11.75 \n",
       "Q 48.6875 17.390625 48.6875 27.296875 \n",
       "z\n",
       "\" id=\"DejaVuSans-112\"/>\n",
       "       <path d=\"M 44.28125 53.078125 \n",
       "L 44.28125 44.578125 \n",
       "Q 40.484375 46.53125 36.375 47.5 \n",
       "Q 32.28125 48.484375 27.875 48.484375 \n",
       "Q 21.1875 48.484375 17.84375 46.4375 \n",
       "Q 14.5 44.390625 14.5 40.28125 \n",
       "Q 14.5 37.15625 16.890625 35.375 \n",
       "Q 19.28125 33.59375 26.515625 31.984375 \n",
       "L 29.59375 31.296875 \n",
       "Q 39.15625 29.25 43.1875 25.515625 \n",
       "Q 47.21875 21.78125 47.21875 15.09375 \n",
       "Q 47.21875 7.46875 41.1875 3.015625 \n",
       "Q 35.15625 -1.421875 24.609375 -1.421875 \n",
       "Q 20.21875 -1.421875 15.453125 -0.5625 \n",
       "Q 10.6875 0.296875 5.421875 2 \n",
       "L 5.421875 11.28125 \n",
       "Q 10.40625 8.6875 15.234375 7.390625 \n",
       "Q 20.0625 6.109375 24.8125 6.109375 \n",
       "Q 31.15625 6.109375 34.5625 8.28125 \n",
       "Q 37.984375 10.453125 37.984375 14.40625 \n",
       "Q 37.984375 18.0625 35.515625 20.015625 \n",
       "Q 33.0625 21.96875 24.703125 23.78125 \n",
       "L 21.578125 24.515625 \n",
       "Q 13.234375 26.265625 9.515625 29.90625 \n",
       "Q 5.8125 33.546875 5.8125 39.890625 \n",
       "Q 5.8125 47.609375 11.28125 51.796875 \n",
       "Q 16.75 56 26.8125 56 \n",
       "Q 31.78125 56 36.171875 55.265625 \n",
       "Q 40.578125 54.546875 44.28125 53.078125 \n",
       "z\n",
       "\" id=\"DejaVuSans-115\"/>\n",
       "       <path id=\"DejaVuSans-32\"/>\n",
       "       <path d=\"M 37.109375 75.984375 \n",
       "L 37.109375 68.5 \n",
       "L 28.515625 68.5 \n",
       "Q 23.6875 68.5 21.796875 66.546875 \n",
       "Q 19.921875 64.59375 19.921875 59.515625 \n",
       "L 19.921875 54.6875 \n",
       "L 34.71875 54.6875 \n",
       "L 34.71875 47.703125 \n",
       "L 19.921875 47.703125 \n",
       "L 19.921875 0 \n",
       "L 10.890625 0 \n",
       "L 10.890625 47.703125 \n",
       "L 2.296875 47.703125 \n",
       "L 2.296875 54.6875 \n",
       "L 10.890625 54.6875 \n",
       "L 10.890625 58.5 \n",
       "Q 10.890625 67.625 15.140625 71.796875 \n",
       "Q 19.390625 75.984375 28.609375 75.984375 \n",
       "z\n",
       "\" id=\"DejaVuSans-102\"/>\n",
       "       <path d=\"M 56.203125 29.59375 \n",
       "L 56.203125 25.203125 \n",
       "L 14.890625 25.203125 \n",
       "Q 15.484375 15.921875 20.484375 11.0625 \n",
       "Q 25.484375 6.203125 34.421875 6.203125 \n",
       "Q 39.59375 6.203125 44.453125 7.46875 \n",
       "Q 49.3125 8.734375 54.109375 11.28125 \n",
       "L 54.109375 2.78125 \n",
       "Q 49.265625 0.734375 44.1875 -0.34375 \n",
       "Q 39.109375 -1.421875 33.890625 -1.421875 \n",
       "Q 20.796875 -1.421875 13.15625 6.1875 \n",
       "Q 5.515625 13.8125 5.515625 26.8125 \n",
       "Q 5.515625 40.234375 12.765625 48.109375 \n",
       "Q 20.015625 56 32.328125 56 \n",
       "Q 43.359375 56 49.78125 48.890625 \n",
       "Q 56.203125 41.796875 56.203125 29.59375 \n",
       "z\n",
       "M 47.21875 32.234375 \n",
       "Q 47.125 39.59375 43.09375 43.984375 \n",
       "Q 39.0625 48.390625 32.421875 48.390625 \n",
       "Q 24.90625 48.390625 20.390625 44.140625 \n",
       "Q 15.875 39.890625 15.1875 32.171875 \n",
       "z\n",
       "\" id=\"DejaVuSans-101\"/>\n",
       "       <path d=\"M 54.890625 54.6875 \n",
       "L 35.109375 28.078125 \n",
       "L 55.90625 0 \n",
       "L 45.3125 0 \n",
       "L 29.390625 21.484375 \n",
       "L 13.484375 0 \n",
       "L 2.875 0 \n",
       "L 24.125 28.609375 \n",
       "L 4.6875 54.6875 \n",
       "L 15.28125 54.6875 \n",
       "L 29.78125 35.203125 \n",
       "L 44.28125 54.6875 \n",
       "z\n",
       "\" id=\"DejaVuSans-120\"/>\n",
       "       <path d=\"M 9.421875 54.6875 \n",
       "L 18.40625 54.6875 \n",
       "L 18.40625 0 \n",
       "L 9.421875 0 \n",
       "z\n",
       "M 9.421875 75.984375 \n",
       "L 18.40625 75.984375 \n",
       "L 18.40625 64.59375 \n",
       "L 9.421875 64.59375 \n",
       "z\n",
       "\" id=\"DejaVuSans-105\"/>\n",
       "       <path d=\"M 52 44.1875 \n",
       "Q 55.375 50.25 60.0625 53.125 \n",
       "Q 64.75 56 71.09375 56 \n",
       "Q 79.640625 56 84.28125 50.015625 \n",
       "Q 88.921875 44.046875 88.921875 33.015625 \n",
       "L 88.921875 0 \n",
       "L 79.890625 0 \n",
       "L 79.890625 32.71875 \n",
       "Q 79.890625 40.578125 77.09375 44.375 \n",
       "Q 74.3125 48.1875 68.609375 48.1875 \n",
       "Q 61.625 48.1875 57.5625 43.546875 \n",
       "Q 53.515625 38.921875 53.515625 30.90625 \n",
       "L 53.515625 0 \n",
       "L 44.484375 0 \n",
       "L 44.484375 32.71875 \n",
       "Q 44.484375 40.625 41.703125 44.40625 \n",
       "Q 38.921875 48.1875 33.109375 48.1875 \n",
       "Q 26.21875 48.1875 22.15625 43.53125 \n",
       "Q 18.109375 38.875 18.109375 30.90625 \n",
       "L 18.109375 0 \n",
       "L 9.078125 0 \n",
       "L 9.078125 54.6875 \n",
       "L 18.109375 54.6875 \n",
       "L 18.109375 46.1875 \n",
       "Q 21.1875 51.21875 25.484375 53.609375 \n",
       "Q 29.78125 56 35.6875 56 \n",
       "Q 41.65625 56 45.828125 52.96875 \n",
       "Q 50 49.953125 52 44.1875 \n",
       "z\n",
       "\" id=\"DejaVuSans-109\"/>\n",
       "       <path d=\"M 54.890625 33.015625 \n",
       "L 54.890625 0 \n",
       "L 45.90625 0 \n",
       "L 45.90625 32.71875 \n",
       "Q 45.90625 40.484375 42.875 44.328125 \n",
       "Q 39.84375 48.1875 33.796875 48.1875 \n",
       "Q 26.515625 48.1875 22.3125 43.546875 \n",
       "Q 18.109375 38.921875 18.109375 30.90625 \n",
       "L 18.109375 0 \n",
       "L 9.078125 0 \n",
       "L 9.078125 54.6875 \n",
       "L 18.109375 54.6875 \n",
       "L 18.109375 46.1875 \n",
       "Q 21.34375 51.125 25.703125 53.5625 \n",
       "Q 30.078125 56 35.796875 56 \n",
       "Q 45.21875 56 50.046875 50.171875 \n",
       "Q 54.890625 44.34375 54.890625 33.015625 \n",
       "z\n",
       "\" id=\"DejaVuSans-110\"/>\n",
       "       <path d=\"M 18.3125 70.21875 \n",
       "L 18.3125 54.6875 \n",
       "L 36.8125 54.6875 \n",
       "L 36.8125 47.703125 \n",
       "L 18.3125 47.703125 \n",
       "L 18.3125 18.015625 \n",
       "Q 18.3125 11.328125 20.140625 9.421875 \n",
       "Q 21.96875 7.515625 27.59375 7.515625 \n",
       "L 36.8125 7.515625 \n",
       "L 36.8125 0 \n",
       "L 27.59375 0 \n",
       "Q 17.1875 0 13.234375 3.875 \n",
       "Q 9.28125 7.765625 9.28125 18.015625 \n",
       "L 9.28125 47.703125 \n",
       "L 2.6875 47.703125 \n",
       "L 2.6875 54.6875 \n",
       "L 9.28125 54.6875 \n",
       "L 9.28125 70.21875 \n",
       "z\n",
       "\" id=\"DejaVuSans-116\"/>\n",
       "      </defs>\n",
       "      <use xlink:href=\"#DejaVuSans-71\"/>\n",
       "      <use x=\"77.490234\" xlink:href=\"#DejaVuSans-114\"/>\n",
       "      <use x=\"116.353516\" xlink:href=\"#DejaVuSans-111\"/>\n",
       "      <use x=\"177.535156\" xlink:href=\"#DejaVuSans-117\"/>\n",
       "      <use x=\"240.914062\" xlink:href=\"#DejaVuSans-112\"/>\n",
       "      <use x=\"304.390625\" xlink:href=\"#DejaVuSans-115\"/>\n",
       "      <use x=\"356.490234\" xlink:href=\"#DejaVuSans-32\"/>\n",
       "      <use x=\"388.277344\" xlink:href=\"#DejaVuSans-111\"/>\n",
       "      <use x=\"449.458984\" xlink:href=\"#DejaVuSans-102\"/>\n",
       "      <use x=\"484.664062\" xlink:href=\"#DejaVuSans-32\"/>\n",
       "      <use x=\"516.451172\" xlink:href=\"#DejaVuSans-101\"/>\n",
       "      <use x=\"576.224609\" xlink:href=\"#DejaVuSans-120\"/>\n",
       "      <use x=\"635.404297\" xlink:href=\"#DejaVuSans-112\"/>\n",
       "      <use x=\"698.880859\" xlink:href=\"#DejaVuSans-101\"/>\n",
       "      <use x=\"760.404297\" xlink:href=\"#DejaVuSans-114\"/>\n",
       "      <use x=\"801.517578\" xlink:href=\"#DejaVuSans-105\"/>\n",
       "      <use x=\"829.300781\" xlink:href=\"#DejaVuSans-109\"/>\n",
       "      <use x=\"926.712891\" xlink:href=\"#DejaVuSans-101\"/>\n",
       "      <use x=\"988.236328\" xlink:href=\"#DejaVuSans-110\"/>\n",
       "      <use x=\"1051.615234\" xlink:href=\"#DejaVuSans-116\"/>\n",
       "      <use x=\"1090.824219\" xlink:href=\"#DejaVuSans-115\"/>\n",
       "     </g>\n",
       "    </g>\n",
       "   </g>\n",
       "   <g id=\"matplotlib.axis_2\">\n",
       "    <g id=\"ytick_1\">\n",
       "     <g id=\"line2d_7\">\n",
       "      <defs>\n",
       "       <path d=\"M 0 0 \n",
       "L -3.5 0 \n",
       "\" id=\"med54670aa4\" style=\"stroke:#000000;stroke-width:0.8;\"/>\n",
       "      </defs>\n",
       "      <g>\n",
       "       <use style=\"stroke:#000000;stroke-width:0.8;\" x=\"50.14375\" xlink:href=\"#med54670aa4\" y=\"226.802047\"/>\n",
       "      </g>\n",
       "     </g>\n",
       "     <g id=\"text_8\">\n",
       "      <!-- 0.05 -->\n",
       "      <g transform=\"translate(20.878125 230.601266)scale(0.1 -0.1)\">\n",
       "       <defs>\n",
       "        <path d=\"M 10.6875 12.40625 \n",
       "L 21 12.40625 \n",
       "L 21 0 \n",
       "L 10.6875 0 \n",
       "z\n",
       "\" id=\"DejaVuSans-46\"/>\n",
       "       </defs>\n",
       "       <use xlink:href=\"#DejaVuSans-48\"/>\n",
       "       <use x=\"63.623047\" xlink:href=\"#DejaVuSans-46\"/>\n",
       "       <use x=\"95.410156\" xlink:href=\"#DejaVuSans-48\"/>\n",
       "       <use x=\"159.033203\" xlink:href=\"#DejaVuSans-53\"/>\n",
       "      </g>\n",
       "     </g>\n",
       "    </g>\n",
       "    <g id=\"ytick_2\">\n",
       "     <g id=\"line2d_8\">\n",
       "      <g>\n",
       "       <use style=\"stroke:#000000;stroke-width:0.8;\" x=\"50.14375\" xlink:href=\"#med54670aa4\" y=\"185.105458\"/>\n",
       "      </g>\n",
       "     </g>\n",
       "     <g id=\"text_9\">\n",
       "      <!-- 0.10 -->\n",
       "      <g transform=\"translate(20.878125 188.904677)scale(0.1 -0.1)\">\n",
       "       <use xlink:href=\"#DejaVuSans-48\"/>\n",
       "       <use x=\"63.623047\" xlink:href=\"#DejaVuSans-46\"/>\n",
       "       <use x=\"95.410156\" xlink:href=\"#DejaVuSans-49\"/>\n",
       "       <use x=\"159.033203\" xlink:href=\"#DejaVuSans-48\"/>\n",
       "      </g>\n",
       "     </g>\n",
       "    </g>\n",
       "    <g id=\"ytick_3\">\n",
       "     <g id=\"line2d_9\">\n",
       "      <g>\n",
       "       <use style=\"stroke:#000000;stroke-width:0.8;\" x=\"50.14375\" xlink:href=\"#med54670aa4\" y=\"143.408869\"/>\n",
       "      </g>\n",
       "     </g>\n",
       "     <g id=\"text_10\">\n",
       "      <!-- 0.15 -->\n",
       "      <g transform=\"translate(20.878125 147.208088)scale(0.1 -0.1)\">\n",
       "       <use xlink:href=\"#DejaVuSans-48\"/>\n",
       "       <use x=\"63.623047\" xlink:href=\"#DejaVuSans-46\"/>\n",
       "       <use x=\"95.410156\" xlink:href=\"#DejaVuSans-49\"/>\n",
       "       <use x=\"159.033203\" xlink:href=\"#DejaVuSans-53\"/>\n",
       "      </g>\n",
       "     </g>\n",
       "    </g>\n",
       "    <g id=\"ytick_4\">\n",
       "     <g id=\"line2d_10\">\n",
       "      <g>\n",
       "       <use style=\"stroke:#000000;stroke-width:0.8;\" x=\"50.14375\" xlink:href=\"#med54670aa4\" y=\"101.712279\"/>\n",
       "      </g>\n",
       "     </g>\n",
       "     <g id=\"text_11\">\n",
       "      <!-- 0.20 -->\n",
       "      <g transform=\"translate(20.878125 105.511498)scale(0.1 -0.1)\">\n",
       "       <use xlink:href=\"#DejaVuSans-48\"/>\n",
       "       <use x=\"63.623047\" xlink:href=\"#DejaVuSans-46\"/>\n",
       "       <use x=\"95.410156\" xlink:href=\"#DejaVuSans-50\"/>\n",
       "       <use x=\"159.033203\" xlink:href=\"#DejaVuSans-48\"/>\n",
       "      </g>\n",
       "     </g>\n",
       "    </g>\n",
       "    <g id=\"ytick_5\">\n",
       "     <g id=\"line2d_11\">\n",
       "      <g>\n",
       "       <use style=\"stroke:#000000;stroke-width:0.8;\" x=\"50.14375\" xlink:href=\"#med54670aa4\" y=\"60.01569\"/>\n",
       "      </g>\n",
       "     </g>\n",
       "     <g id=\"text_12\">\n",
       "      <!-- 0.25 -->\n",
       "      <g transform=\"translate(20.878125 63.814909)scale(0.1 -0.1)\">\n",
       "       <use xlink:href=\"#DejaVuSans-48\"/>\n",
       "       <use x=\"63.623047\" xlink:href=\"#DejaVuSans-46\"/>\n",
       "       <use x=\"95.410156\" xlink:href=\"#DejaVuSans-50\"/>\n",
       "       <use x=\"159.033203\" xlink:href=\"#DejaVuSans-53\"/>\n",
       "      </g>\n",
       "     </g>\n",
       "    </g>\n",
       "    <g id=\"ytick_6\">\n",
       "     <g id=\"line2d_12\">\n",
       "      <g>\n",
       "       <use style=\"stroke:#000000;stroke-width:0.8;\" x=\"50.14375\" xlink:href=\"#med54670aa4\" y=\"18.319101\"/>\n",
       "      </g>\n",
       "     </g>\n",
       "     <g id=\"text_13\">\n",
       "      <!-- 0.30 -->\n",
       "      <g transform=\"translate(20.878125 22.11832)scale(0.1 -0.1)\">\n",
       "       <use xlink:href=\"#DejaVuSans-48\"/>\n",
       "       <use x=\"63.623047\" xlink:href=\"#DejaVuSans-46\"/>\n",
       "       <use x=\"95.410156\" xlink:href=\"#DejaVuSans-51\"/>\n",
       "       <use x=\"159.033203\" xlink:href=\"#DejaVuSans-48\"/>\n",
       "      </g>\n",
       "     </g>\n",
       "    </g>\n",
       "    <g id=\"text_14\">\n",
       "     <!-- Estimated probability -->\n",
       "     <g transform=\"translate(14.798438 183.033437)rotate(-90)scale(0.1 -0.1)\">\n",
       "      <defs>\n",
       "       <path d=\"M 9.8125 72.90625 \n",
       "L 55.90625 72.90625 \n",
       "L 55.90625 64.59375 \n",
       "L 19.671875 64.59375 \n",
       "L 19.671875 43.015625 \n",
       "L 54.390625 43.015625 \n",
       "L 54.390625 34.71875 \n",
       "L 19.671875 34.71875 \n",
       "L 19.671875 8.296875 \n",
       "L 56.78125 8.296875 \n",
       "L 56.78125 0 \n",
       "L 9.8125 0 \n",
       "z\n",
       "\" id=\"DejaVuSans-69\"/>\n",
       "       <path d=\"M 34.28125 27.484375 \n",
       "Q 23.390625 27.484375 19.1875 25 \n",
       "Q 14.984375 22.515625 14.984375 16.5 \n",
       "Q 14.984375 11.71875 18.140625 8.90625 \n",
       "Q 21.296875 6.109375 26.703125 6.109375 \n",
       "Q 34.1875 6.109375 38.703125 11.40625 \n",
       "Q 43.21875 16.703125 43.21875 25.484375 \n",
       "L 43.21875 27.484375 \n",
       "z\n",
       "M 52.203125 31.203125 \n",
       "L 52.203125 0 \n",
       "L 43.21875 0 \n",
       "L 43.21875 8.296875 \n",
       "Q 40.140625 3.328125 35.546875 0.953125 \n",
       "Q 30.953125 -1.421875 24.3125 -1.421875 \n",
       "Q 15.921875 -1.421875 10.953125 3.296875 \n",
       "Q 6 8.015625 6 15.921875 \n",
       "Q 6 25.140625 12.171875 29.828125 \n",
       "Q 18.359375 34.515625 30.609375 34.515625 \n",
       "L 43.21875 34.515625 \n",
       "L 43.21875 35.40625 \n",
       "Q 43.21875 41.609375 39.140625 45 \n",
       "Q 35.0625 48.390625 27.6875 48.390625 \n",
       "Q 23 48.390625 18.546875 47.265625 \n",
       "Q 14.109375 46.140625 10.015625 43.890625 \n",
       "L 10.015625 52.203125 \n",
       "Q 14.9375 54.109375 19.578125 55.046875 \n",
       "Q 24.21875 56 28.609375 56 \n",
       "Q 40.484375 56 46.34375 49.84375 \n",
       "Q 52.203125 43.703125 52.203125 31.203125 \n",
       "z\n",
       "\" id=\"DejaVuSans-97\"/>\n",
       "       <path d=\"M 45.40625 46.390625 \n",
       "L 45.40625 75.984375 \n",
       "L 54.390625 75.984375 \n",
       "L 54.390625 0 \n",
       "L 45.40625 0 \n",
       "L 45.40625 8.203125 \n",
       "Q 42.578125 3.328125 38.25 0.953125 \n",
       "Q 33.9375 -1.421875 27.875 -1.421875 \n",
       "Q 17.96875 -1.421875 11.734375 6.484375 \n",
       "Q 5.515625 14.40625 5.515625 27.296875 \n",
       "Q 5.515625 40.1875 11.734375 48.09375 \n",
       "Q 17.96875 56 27.875 56 \n",
       "Q 33.9375 56 38.25 53.625 \n",
       "Q 42.578125 51.265625 45.40625 46.390625 \n",
       "z\n",
       "M 14.796875 27.296875 \n",
       "Q 14.796875 17.390625 18.875 11.75 \n",
       "Q 22.953125 6.109375 30.078125 6.109375 \n",
       "Q 37.203125 6.109375 41.296875 11.75 \n",
       "Q 45.40625 17.390625 45.40625 27.296875 \n",
       "Q 45.40625 37.203125 41.296875 42.84375 \n",
       "Q 37.203125 48.484375 30.078125 48.484375 \n",
       "Q 22.953125 48.484375 18.875 42.84375 \n",
       "Q 14.796875 37.203125 14.796875 27.296875 \n",
       "z\n",
       "\" id=\"DejaVuSans-100\"/>\n",
       "       <path d=\"M 48.6875 27.296875 \n",
       "Q 48.6875 37.203125 44.609375 42.84375 \n",
       "Q 40.53125 48.484375 33.40625 48.484375 \n",
       "Q 26.265625 48.484375 22.1875 42.84375 \n",
       "Q 18.109375 37.203125 18.109375 27.296875 \n",
       "Q 18.109375 17.390625 22.1875 11.75 \n",
       "Q 26.265625 6.109375 33.40625 6.109375 \n",
       "Q 40.53125 6.109375 44.609375 11.75 \n",
       "Q 48.6875 17.390625 48.6875 27.296875 \n",
       "z\n",
       "M 18.109375 46.390625 \n",
       "Q 20.953125 51.265625 25.265625 53.625 \n",
       "Q 29.59375 56 35.59375 56 \n",
       "Q 45.5625 56 51.78125 48.09375 \n",
       "Q 58.015625 40.1875 58.015625 27.296875 \n",
       "Q 58.015625 14.40625 51.78125 6.484375 \n",
       "Q 45.5625 -1.421875 35.59375 -1.421875 \n",
       "Q 29.59375 -1.421875 25.265625 0.953125 \n",
       "Q 20.953125 3.328125 18.109375 8.203125 \n",
       "L 18.109375 0 \n",
       "L 9.078125 0 \n",
       "L 9.078125 75.984375 \n",
       "L 18.109375 75.984375 \n",
       "z\n",
       "\" id=\"DejaVuSans-98\"/>\n",
       "       <path d=\"M 9.421875 75.984375 \n",
       "L 18.40625 75.984375 \n",
       "L 18.40625 0 \n",
       "L 9.421875 0 \n",
       "z\n",
       "\" id=\"DejaVuSans-108\"/>\n",
       "       <path d=\"M 32.171875 -5.078125 \n",
       "Q 28.375 -14.84375 24.75 -17.8125 \n",
       "Q 21.140625 -20.796875 15.09375 -20.796875 \n",
       "L 7.90625 -20.796875 \n",
       "L 7.90625 -13.28125 \n",
       "L 13.1875 -13.28125 \n",
       "Q 16.890625 -13.28125 18.9375 -11.515625 \n",
       "Q 21 -9.765625 23.484375 -3.21875 \n",
       "L 25.09375 0.875 \n",
       "L 2.984375 54.6875 \n",
       "L 12.5 54.6875 \n",
       "L 29.59375 11.921875 \n",
       "L 46.6875 54.6875 \n",
       "L 56.203125 54.6875 \n",
       "z\n",
       "\" id=\"DejaVuSans-121\"/>\n",
       "      </defs>\n",
       "      <use xlink:href=\"#DejaVuSans-69\"/>\n",
       "      <use x=\"63.183594\" xlink:href=\"#DejaVuSans-115\"/>\n",
       "      <use x=\"115.283203\" xlink:href=\"#DejaVuSans-116\"/>\n",
       "      <use x=\"154.492188\" xlink:href=\"#DejaVuSans-105\"/>\n",
       "      <use x=\"182.275391\" xlink:href=\"#DejaVuSans-109\"/>\n",
       "      <use x=\"279.6875\" xlink:href=\"#DejaVuSans-97\"/>\n",
       "      <use x=\"340.966797\" xlink:href=\"#DejaVuSans-116\"/>\n",
       "      <use x=\"380.175781\" xlink:href=\"#DejaVuSans-101\"/>\n",
       "      <use x=\"441.699219\" xlink:href=\"#DejaVuSans-100\"/>\n",
       "      <use x=\"505.175781\" xlink:href=\"#DejaVuSans-32\"/>\n",
       "      <use x=\"536.962891\" xlink:href=\"#DejaVuSans-112\"/>\n",
       "      <use x=\"600.439453\" xlink:href=\"#DejaVuSans-114\"/>\n",
       "      <use x=\"639.302734\" xlink:href=\"#DejaVuSans-111\"/>\n",
       "      <use x=\"700.484375\" xlink:href=\"#DejaVuSans-98\"/>\n",
       "      <use x=\"763.960938\" xlink:href=\"#DejaVuSans-97\"/>\n",
       "      <use x=\"825.240234\" xlink:href=\"#DejaVuSans-98\"/>\n",
       "      <use x=\"888.716797\" xlink:href=\"#DejaVuSans-105\"/>\n",
       "      <use x=\"916.5\" xlink:href=\"#DejaVuSans-108\"/>\n",
       "      <use x=\"944.283203\" xlink:href=\"#DejaVuSans-105\"/>\n",
       "      <use x=\"972.066406\" xlink:href=\"#DejaVuSans-116\"/>\n",
       "      <use x=\"1011.275391\" xlink:href=\"#DejaVuSans-121\"/>\n",
       "     </g>\n",
       "    </g>\n",
       "   </g>\n",
       "   <g id=\"line2d_13\">\n",
       "    <path clip-path=\"url(#p7ce4fe06ae)\" d=\"M 65.361932 18.319091 \n",
       "L 65.971879 101.712277 \n",
       "L 66.581826 101.712277 \n",
       "L 67.191773 143.408864 \n",
       "L 67.80172 168.426825 \n",
       "L 68.411668 171.206595 \n",
       "L 69.021615 173.192146 \n",
       "L 69.631562 185.105457 \n",
       "L 70.241509 185.105457 \n",
       "L 70.851456 193.444773 \n",
       "L 71.461403 192.686654 \n",
       "L 72.071351 171.206595 \n",
       "L 72.681298 165.860878 \n",
       "L 73.901192 179.545911 \n",
       "L 74.511139 179.893382 \n",
       "L 75.731034 189.738411 \n",
       "L 76.340981 176.327229 \n",
       "L 77.560875 177.16325 \n",
       "L 78.170822 181.314861 \n",
       "L 78.780769 174.228086 \n",
       "L 79.390717 174.681313 \n",
       "L 80.000664 171.762552 \n",
       "L 81.830505 173.192146 \n",
       "L 82.440452 173.60295 \n",
       "L 83.0504 171.206595 \n",
       "L 83.660347 163.584638 \n",
       "L 84.880241 164.888929 \n",
       "L 85.490188 160.578047 \n",
       "L 86.100135 161.27883 \n",
       "L 86.710083 159.624209 \n",
       "L 87.32003 155.805157 \n",
       "L 88.539924 153.031153 \n",
       "L 89.149871 155.917841 \n",
       "L 89.759819 154.595755 \n",
       "L 90.369766 155.322174 \n",
       "L 90.979713 154.075443 \n",
       "L 91.58966 150.990067 \n",
       "L 92.199607 149.895002 \n",
       "L 92.809554 145.221761 \n",
       "L 93.419502 146.070358 \n",
       "L 94.029449 145.146232 \n",
       "L 94.639396 147.663628 \n",
       "L 95.249343 145.076731 \n",
       "L 95.85929 144.226444 \n",
       "L 96.469237 145.012585 \n",
       "L 97.079185 147.342514 \n",
       "L 97.689132 148.041818 \n",
       "L 98.299079 150.231948 \n",
       "L 98.909026 147.876358 \n",
       "L 99.518973 142.67735 \n",
       "L 100.12892 143.408864 \n",
       "L 100.738868 142.702141 \n",
       "L 101.348815 143.408864 \n",
       "L 101.958762 141.358222 \n",
       "L 102.568709 142.063814 \n",
       "L 103.178656 144.070714 \n",
       "L 103.788603 140.802829 \n",
       "L 104.398551 142.76738 \n",
       "L 105.008498 143.408864 \n",
       "L 106.228392 142.1825 \n",
       "L 106.838339 142.804573 \n",
       "L 107.448286 141.026209 \n",
       "L 108.058234 136.948834 \n",
       "L 108.668181 138.77591 \n",
       "L 109.278128 138.268198 \n",
       "L 109.888075 138.901132 \n",
       "L 110.498022 140.629094 \n",
       "L 111.107969 139.019756 \n",
       "L 111.717917 139.618268 \n",
       "L 112.327864 141.270577 \n",
       "L 113.547758 142.36645 \n",
       "L 114.157705 139.805462 \n",
       "L 114.767652 140.357897 \n",
       "L 115.3776 138.88755 \n",
       "L 115.987547 138.444991 \n",
       "L 116.597494 137.031744 \n",
       "L 117.207441 134.681672 \n",
       "L 117.817388 133.344177 \n",
       "L 118.427335 133.932375 \n",
       "L 119.037283 133.570353 \n",
       "L 119.64723 132.289784 \n",
       "L 120.867124 131.62505 \n",
       "L 121.477071 133.096814 \n",
       "L 122.087018 131.875769 \n",
       "L 122.696966 132.436082 \n",
       "L 123.91686 131.802601 \n",
       "L 124.526807 133.197457 \n",
       "L 125.136754 132.879424 \n",
       "L 126.966596 134.415482 \n",
       "L 127.576543 132.478692 \n",
       "L 128.18649 132.984726 \n",
       "L 128.796437 131.892669 \n",
       "L 129.406384 132.394676 \n",
       "L 130.016332 131.328553 \n",
       "L 130.626279 131.054324 \n",
       "L 131.236226 130.020062 \n",
       "L 131.846173 131.278946 \n",
       "L 132.45612 131.76388 \n",
       "L 133.066067 130.750979 \n",
       "L 133.676015 130.493998 \n",
       "L 134.285962 130.973042 \n",
       "L 134.895909 130.718608 \n",
       "L 135.505856 131.187449 \n",
       "L 136.115803 130.222764 \n",
       "L 137.335698 131.145162 \n",
       "L 138.555592 130.658675 \n",
       "L 139.165539 128.37076 \n",
       "L 139.775486 128.154016 \n",
       "L 140.385433 128.613302 \n",
       "L 140.995381 127.730954 \n",
       "L 141.605328 128.1863 \n",
       "L 142.215275 126.007926 \n",
       "L 143.435169 124.338332 \n",
       "L 144.045116 122.239835 \n",
       "L 144.655064 122.719723 \n",
       "L 145.265011 123.824108 \n",
       "L 145.874958 123.030835 \n",
       "L 146.484905 121.627069 \n",
       "L 147.704799 122.560577 \n",
       "L 149.534641 122.110611 \n",
       "L 150.144588 122.560577 \n",
       "L 150.754535 121.821271 \n",
       "L 151.97443 122.706365 \n",
       "L 152.584377 123.718818 \n",
       "L 153.194324 122.991915 \n",
       "L 155.024165 125.941382 \n",
       "L 156.24406 125.618329 \n",
       "L 158.073901 126.784734 \n",
       "L 158.683848 126.621934 \n",
       "L 159.293796 127.537262 \n",
       "L 159.903743 126.302572 \n",
       "L 160.51369 125.614787 \n",
       "L 161.123637 125.991312 \n",
       "L 161.733584 125.838614 \n",
       "L 163.563426 128.480462 \n",
       "L 164.173373 128.827858 \n",
       "L 164.78332 127.645522 \n",
       "L 166.003214 126.328332 \n",
       "L 166.613162 125.182219 \n",
       "L 167.223109 125.538898 \n",
       "L 169.05295 125.120894 \n",
       "L 169.662897 125.469632 \n",
       "L 170.272845 126.296396 \n",
       "L 170.882792 126.155106 \n",
       "L 172.102686 127.772645 \n",
       "L 172.712633 127.625416 \n",
       "L 175.152422 125.209806 \n",
       "L 175.762369 125.080694 \n",
       "L 176.372316 125.408705 \n",
       "L 176.982263 124.826695 \n",
       "L 177.592211 124.701746 \n",
       "L 178.202158 124.129802 \n",
       "L 178.812105 124.455874 \n",
       "L 179.422052 124.334902 \n",
       "L 180.031999 123.332738 \n",
       "L 180.641946 123.657854 \n",
       "L 181.251894 123.542958 \n",
       "L 181.861841 123.863588 \n",
       "L 182.471788 122.884636 \n",
       "L 183.081735 123.635225 \n",
       "L 184.301629 123.411522 \n",
       "L 184.911577 124.148007 \n",
       "L 185.521524 124.455874 \n",
       "L 186.131471 124.341587 \n",
       "L 186.741418 123.811471 \n",
       "L 187.351365 123.70152 \n",
       "L 187.961312 124.418346 \n",
       "L 188.57126 124.717292 \n",
       "L 189.791154 124.492856 \n",
       "L 190.401101 124.787092 \n",
       "L 191.011048 124.675613 \n",
       "L 191.620995 124.164285 \n",
       "L 192.230943 123.258837 \n",
       "L 192.84089 123.950462 \n",
       "L 194.060784 124.527389 \n",
       "L 194.670731 124.028761 \n",
       "L 196.500573 126.035289 \n",
       "L 197.11052 126.307505 \n",
       "L 197.720467 125.812145 \n",
       "L 198.940361 126.351172 \n",
       "L 199.550309 126.99437 \n",
       "L 200.770203 126.767623 \n",
       "L 201.38015 127.400358 \n",
       "L 201.990097 127.65683 \n",
       "L 202.600044 127.173027 \n",
       "L 203.819939 126.949684 \n",
       "L 205.039833 127.455395 \n",
       "L 205.64978 126.982938 \n",
       "L 206.259727 127.59292 \n",
       "L 206.869675 126.408111 \n",
       "L 207.479622 126.658953 \n",
       "L 208.089569 126.552805 \n",
       "L 209.309463 125.639441 \n",
       "L 209.91941 125.538898 \n",
       "L 211.139305 124.645404 \n",
       "L 212.359199 124.455874 \n",
       "L 213.579093 124.952999 \n",
       "L 214.189041 124.177383 \n",
       "L 216.018882 124.914414 \n",
       "L 216.628829 124.486319 \n",
       "L 217.238776 124.728799 \n",
       "L 217.848724 124.304854 \n",
       "L 218.458671 124.215197 \n",
       "L 219.068618 124.785489 \n",
       "L 219.678565 124.366329 \n",
       "L 220.288512 124.277491 \n",
       "L 220.898459 123.537838 \n",
       "L 221.508407 123.777397 \n",
       "L 222.118354 123.045423 \n",
       "L 222.728301 122.641063 \n",
       "L 223.338248 121.919093 \n",
       "L 223.948195 121.841663 \n",
       "L 224.558142 122.083136 \n",
       "L 225.16809 122.639846 \n",
       "L 226.387984 122.481904 \n",
       "L 226.997931 123.030835 \n",
       "L 227.607878 122.638653 \n",
       "L 228.217825 122.871737 \n",
       "L 228.827773 121.863049 \n",
       "L 230.047667 121.714328 \n",
       "L 231.267561 122.178734 \n",
       "L 231.877508 121.799686 \n",
       "L 232.487456 122.029888 \n",
       "L 233.70735 121.883193 \n",
       "L 234.317297 122.410588 \n",
       "L 234.927244 122.336402 \n",
       "L 235.537191 122.560577 \n",
       "L 236.147139 122.486378 \n",
       "L 236.757086 123.004155 \n",
       "L 237.97698 123.441482 \n",
       "L 238.586927 122.78003 \n",
       "L 239.196874 122.706365 \n",
       "L 239.806822 122.92378 \n",
       "L 240.416769 122.560577 \n",
       "L 241.636663 122.991915 \n",
       "L 242.24661 122.632216 \n",
       "L 242.856557 122.560577 \n",
       "L 243.466505 122.77404 \n",
       "L 244.686399 123.762001 \n",
       "L 245.906293 123.613516 \n",
       "L 246.51624 123.260179 \n",
       "L 247.126188 123.467019 \n",
       "L 247.736135 123.39451 \n",
       "L 248.346082 123.045423 \n",
       "L 248.956029 123.527052 \n",
       "L 250.175923 123.93217 \n",
       "L 250.785871 123.585904 \n",
       "L 251.395818 122.96936 \n",
       "L 252.005765 122.628488 \n",
       "L 252.615712 121.748303 \n",
       "L 253.835606 121.619042 \n",
       "L 254.445554 121.823173 \n",
       "L 255.055501 121.758716 \n",
       "L 255.665448 121.428244 \n",
       "L 256.275395 121.631033 \n",
       "L 256.885342 122.097277 \n",
       "L 258.105237 121.968663 \n",
       "L 258.715184 121.642727 \n",
       "L 259.325131 121.841663 \n",
       "L 259.935078 121.77876 \n",
       "L 260.545025 122.235834 \n",
       "L 261.154972 121.913116 \n",
       "L 262.984814 122.496431 \n",
       "L 263.594761 122.43267 \n",
       "L 264.204708 122.879355 \n",
       "L 266.644497 122.623554 \n",
       "L 267.254444 122.811755 \n",
       "L 267.864391 122.748392 \n",
       "L 268.474338 122.9351 \n",
       "L 269.084286 122.622809 \n",
       "L 269.694233 123.056968 \n",
       "L 270.914127 122.437206 \n",
       "L 271.524074 122.622076 \n",
       "L 272.134021 122.560577 \n",
       "L 272.743969 122.010329 \n",
       "L 273.353916 122.43866 \n",
       "L 273.963863 122.135104 \n",
       "L 274.57381 122.318147 \n",
       "L 275.183757 122.741868 \n",
       "L 275.793704 121.958026 \n",
       "L 276.403652 121.899683 \n",
       "L 278.233493 122.441443 \n",
       "L 278.84344 122.38238 \n",
       "L 279.453387 122.797489 \n",
       "L 280.673282 122.678355 \n",
       "L 281.283229 122.384393 \n",
       "L 281.893176 122.79483 \n",
       "L 282.503123 122.735766 \n",
       "L 283.11307 123.142935 \n",
       "L 283.723018 123.083237 \n",
       "L 284.332965 123.255519 \n",
       "L 286.162806 122.38827 \n",
       "L 286.772753 122.560577 \n",
       "L 287.382701 122.046503 \n",
       "L 288.602595 121.481231 \n",
       "L 289.212542 121.880732 \n",
       "L 289.822489 122.052082 \n",
       "L 290.432436 121.771714 \n",
       "L 292.262278 121.61038 \n",
       "L 292.872225 122.003134 \n",
       "L 293.482172 122.171402 \n",
       "L 294.092119 121.895197 \n",
       "L 294.702067 122.062868 \n",
       "L 295.921961 121.955478 \n",
       "L 296.531908 121.682753 \n",
       "L 297.141855 121.630337 \n",
       "L 298.36175 121.961803 \n",
       "L 299.581644 121.8566 \n",
       "L 300.191591 122.020469 \n",
       "L 300.801538 122.398957 \n",
       "L 301.411485 122.345647 \n",
       "L 302.021433 121.435091 \n",
       "L 302.63138 121.598339 \n",
       "L 303.241327 121.120923 \n",
       "L 303.851274 120.858673 \n",
       "L 305.071168 120.761485 \n",
       "L 305.681116 120.502131 \n",
       "L 306.291063 120.454686 \n",
       "L 306.90101 120.617536 \n",
       "L 307.510957 120.98909 \n",
       "L 308.120904 120.940788 \n",
       "L 309.340799 121.260809 \n",
       "L 309.950746 121.627069 \n",
       "L 310.560693 121.577649 \n",
       "L 311.780587 121.89137 \n",
       "L 312.390534 122.252473 \n",
       "L 313.000482 122.406897 \n",
       "L 313.610429 122.764969 \n",
       "L 314.220376 122.713498 \n",
       "L 314.830323 123.069071 \n",
       "L 315.44027 122.814203 \n",
       "L 316.660165 123.519695 \n",
       "L 317.270112 123.467019 \n",
       "L 317.880059 123.615554 \n",
       "L 318.490006 123.96382 \n",
       "L 321.539742 123.699557 \n",
       "L 322.759636 123.989891 \n",
       "L 323.369583 124.330714 \n",
       "L 323.979531 124.473706 \n",
       "L 324.589478 124.420285 \n",
       "L 325.809372 123.534793 \n",
       "L 327.029266 123.821163 \n",
       "L 328.859108 123.667994 \n",
       "L 329.469055 123.233102 \n",
       "L 330.079002 123.183632 \n",
       "L 330.688949 123.516924 \n",
       "L 331.298897 123.657854 \n",
       "L 331.908844 123.41735 \n",
       "L 332.518791 123.367917 \n",
       "L 333.128738 123.129166 \n",
       "L 333.738685 122.702401 \n",
       "L 334.348632 123.032251 \n",
       "L 334.95858 123.172373 \n",
       "L 336.178474 123.075931 \n",
       "L 336.788421 122.841044 \n",
       "L 338.008315 122.746714 \n",
       "L 338.618263 122.885606 \n",
       "L 339.838157 122.421896 \n",
       "L 341.058051 122.698648 \n",
       "L 341.667998 123.019787 \n",
       "L 342.277946 122.789673 \n",
       "L 343.49784 123.062398 \n",
       "L 344.107787 123.015774 \n",
       "L 344.717734 123.332738 \n",
       "L 345.327681 123.467019 \n",
       "L 345.937629 123.23893 \n",
       "L 346.547576 123.372851 \n",
       "L 347.157523 123.686298 \n",
       "L 347.76747 123.63894 \n",
       "L 348.377417 123.412442 \n",
       "L 349.597312 123.676655 \n",
       "L 350.207259 123.62972 \n",
       "L 350.817206 123.227361 \n",
       "L 351.427153 123.181581 \n",
       "L 352.0371 123.313066 \n",
       "L 352.647048 123.090619 \n",
       "L 353.256995 123.045423 \n",
       "L 353.866942 122.824479 \n",
       "L 355.086836 123.086158 \n",
       "L 355.696783 122.866518 \n",
       "L 356.306731 122.996736 \n",
       "L 356.916678 123.300491 \n",
       "L 357.526625 123.429255 \n",
       "L 358.746519 124.031197 \n",
       "L 359.356466 124.15765 \n",
       "L 360.576361 124.752869 \n",
       "L 361.186308 124.190692 \n",
       "L 362.406202 124.098561 \n",
       "L 363.626097 123.666813 \n",
       "L 364.236044 123.622102 \n",
       "L 364.845991 123.916562 \n",
       "L 365.455938 124.040678 \n",
       "L 366.065885 123.657854 \n",
       "L 366.675832 123.950462 \n",
       "L 367.28578 124.073758 \n",
       "L 367.895727 123.860966 \n",
       "L 368.505674 124.151411 \n",
       "L 369.115621 124.273564 \n",
       "L 369.725568 124.56201 \n",
       "L 369.725568 124.56201 \n",
       "\" style=\"fill:none;stroke:#1f77b4;stroke-linecap:square;stroke-width:1.5;\"/>\n",
       "   </g>\n",
       "   <g id=\"line2d_14\">\n",
       "    <path clip-path=\"url(#p7ce4fe06ae)\" d=\"M 65.361932 18.319091 \n",
       "L 65.971879 143.408864 \n",
       "L 66.581826 129.510002 \n",
       "L 67.191773 164.257163 \n",
       "L 67.80172 135.069554 \n",
       "L 68.411668 157.307726 \n",
       "L 69.021615 149.365519 \n",
       "L 69.631562 153.833014 \n",
       "L 70.241509 157.307726 \n",
       "L 70.851456 135.069554 \n",
       "L 71.461403 124.455874 \n",
       "L 72.071351 136.459439 \n",
       "L 72.681298 127.371715 \n",
       "L 73.901192 123.950462 \n",
       "L 74.511139 127.772645 \n",
       "L 75.121086 116.428719 \n",
       "L 75.731034 120.244093 \n",
       "L 76.340981 119.268733 \n",
       "L 76.950928 126.730232 \n",
       "L 77.560875 121.567795 \n",
       "L 78.170822 120.665279 \n",
       "L 78.780769 123.467019 \n",
       "L 79.390717 122.560577 \n",
       "L 80.610611 127.371715 \n",
       "L 81.220558 126.42137 \n",
       "L 81.830505 119.582243 \n",
       "L 82.440452 121.841663 \n",
       "L 83.0504 126.730232 \n",
       "L 83.660347 128.613302 \n",
       "L 84.270294 125.166611 \n",
       "L 84.880241 124.455874 \n",
       "L 85.490188 128.692421 \n",
       "L 86.100135 130.304232 \n",
       "L 86.710083 127.193531 \n",
       "L 87.32003 128.758717 \n",
       "L 87.929977 132.436082 \n",
       "L 89.149871 130.899887 \n",
       "L 89.759819 134.255963 \n",
       "L 91.58966 137.722971 \n",
       "L 92.809554 136.157287 \n",
       "L 93.419502 137.198744 \n",
       "L 94.029449 134.722083 \n",
       "L 94.639396 130.644608 \n",
       "L 95.85929 132.780322 \n",
       "L 96.469237 135.390296 \n",
       "L 97.079185 134.754864 \n",
       "L 97.689132 137.2316 \n",
       "L 98.299079 135.069554 \n",
       "L 98.909026 134.473887 \n",
       "L 99.518973 135.362162 \n",
       "L 100.12892 134.781991 \n",
       "L 100.738868 135.634925 \n",
       "L 101.348815 135.069554 \n",
       "L 101.958762 133.155604 \n",
       "L 102.568709 132.648464 \n",
       "L 103.178656 134.804806 \n",
       "L 103.788603 135.590761 \n",
       "L 105.008498 134.564141 \n",
       "L 105.618445 136.563163 \n",
       "L 106.838339 135.552984 \n",
       "L 107.448286 137.452209 \n",
       "L 108.058234 136.948834 \n",
       "L 108.668181 137.617681 \n",
       "L 109.888075 136.647254 \n",
       "L 110.498022 138.405275 \n",
       "L 111.107969 139.019756 \n",
       "L 111.717917 138.535245 \n",
       "L 112.327864 133.786575 \n",
       "L 113.547758 132.984726 \n",
       "L 114.157705 134.657738 \n",
       "L 115.3776 133.863868 \n",
       "L 115.987547 132.488335 \n",
       "L 116.597494 133.107364 \n",
       "L 117.207441 134.681672 \n",
       "L 117.817388 135.261258 \n",
       "L 118.427335 134.880024 \n",
       "L 119.037283 135.444351 \n",
       "L 119.64723 136.922738 \n",
       "L 120.257177 135.619392 \n",
       "L 120.867124 137.06373 \n",
       "L 121.477071 134.890214 \n",
       "L 123.306913 139.065473 \n",
       "L 123.91686 138.680387 \n",
       "L 124.526807 139.154112 \n",
       "L 125.136754 137.933563 \n",
       "L 125.746701 135.903487 \n",
       "L 126.356649 134.739281 \n",
       "L 128.796437 136.65799 \n",
       "L 130.016332 136.004801 \n",
       "L 132.45612 137.774193 \n",
       "L 134.285962 136.825202 \n",
       "L 136.115803 138.063148 \n",
       "L 136.72575 137.755093 \n",
       "L 137.335698 138.152992 \n",
       "L 137.945645 136.459439 \n",
       "L 138.555592 136.172274 \n",
       "L 139.165539 136.573366 \n",
       "L 139.775486 137.645926 \n",
       "L 140.385433 138.028664 \n",
       "L 140.995381 137.070987 \n",
       "L 141.605328 136.790358 \n",
       "L 142.825222 137.545283 \n",
       "L 143.435169 137.267513 \n",
       "L 144.045116 138.276984 \n",
       "L 146.484905 137.185497 \n",
       "L 147.094852 136.305002 \n",
       "L 148.314747 135.799999 \n",
       "L 148.924694 136.157287 \n",
       "L 149.534641 134.109628 \n",
       "L 150.144588 135.069554 \n",
       "L 151.364482 134.599731 \n",
       "L 151.97443 135.536084 \n",
       "L 152.584377 135.301197 \n",
       "L 153.194324 135.64468 \n",
       "L 153.804271 135.412266 \n",
       "L 154.414218 134.048414 \n",
       "L 155.634113 133.614367 \n",
       "L 156.24406 134.513602 \n",
       "L 157.463954 135.17928 \n",
       "L 159.293796 134.531534 \n",
       "L 159.903743 135.390296 \n",
       "L 160.51369 134.644616 \n",
       "L 161.123637 134.96399 \n",
       "L 161.733584 135.803826 \n",
       "L 162.343531 136.111968 \n",
       "L 162.953479 135.898306 \n",
       "L 163.563426 136.202048 \n",
       "L 164.173373 137.013688 \n",
       "L 164.78332 137.30693 \n",
       "L 165.393267 138.10203 \n",
       "L 169.05295 133.899122 \n",
       "L 171.492739 135.069554 \n",
       "L 172.102686 134.880024 \n",
       "L 172.712633 133.750339 \n",
       "L 173.32258 134.507352 \n",
       "L 173.932528 134.324135 \n",
       "L 175.762369 135.161187 \n",
       "L 176.982263 134.797611 \n",
       "L 177.592211 135.520327 \n",
       "L 178.202158 134.441864 \n",
       "L 178.812105 134.712788 \n",
       "L 179.422052 134.53725 \n",
       "L 180.031999 135.246048 \n",
       "L 180.641946 135.069554 \n",
       "L 182.471788 135.847307 \n",
       "L 183.081735 135.2415 \n",
       "L 183.691682 135.069554 \n",
       "L 184.301629 134.048414 \n",
       "L 185.521524 132.879424 \n",
       "L 186.741418 132.567753 \n",
       "L 187.351365 133.244031 \n",
       "L 187.961312 132.675094 \n",
       "L 188.57126 131.290155 \n",
       "L 190.401101 132.073873 \n",
       "L 191.011048 132.732927 \n",
       "L 191.620995 132.583796 \n",
       "L 192.230943 133.234102 \n",
       "L 192.84089 132.686887 \n",
       "L 193.450837 132.935318 \n",
       "L 194.060784 132.788039 \n",
       "L 194.670731 133.425173 \n",
       "L 195.280678 132.887302 \n",
       "L 195.890626 133.130179 \n",
       "L 197.720467 131.550205 \n",
       "L 199.550309 131.145162 \n",
       "L 200.770203 131.629114 \n",
       "L 201.38015 131.123266 \n",
       "L 201.990097 131.73382 \n",
       "L 203.209992 132.204053 \n",
       "L 203.819939 131.704568 \n",
       "L 204.429886 131.937752 \n",
       "L 205.039833 131.806341 \n",
       "L 205.64978 131.315058 \n",
       "L 206.259727 131.187449 \n",
       "L 206.869675 131.418857 \n",
       "L 207.479622 131.291907 \n",
       "L 208.089569 131.875769 \n",
       "L 209.91941 132.546728 \n",
       "L 211.139305 133.679669 \n",
       "L 212.359199 134.104669 \n",
       "L 212.969146 134.657738 \n",
       "L 213.579093 134.180931 \n",
       "L 215.408935 135.812326 \n",
       "L 216.628829 136.208249 \n",
       "L 217.238776 136.070264 \n",
       "L 217.848724 136.265634 \n",
       "L 218.458671 136.790358 \n",
       "L 219.068618 136.322101 \n",
       "L 219.678565 136.842475 \n",
       "L 220.288512 137.031744 \n",
       "L 220.898459 137.545283 \n",
       "L 221.508407 137.405858 \n",
       "L 222.118354 137.59074 \n",
       "L 222.728301 137.452209 \n",
       "L 223.338248 136.994004 \n",
       "L 223.948195 136.858828 \n",
       "L 224.558142 137.042977 \n",
       "L 225.16809 136.908634 \n",
       "L 225.778037 137.407088 \n",
       "L 226.387984 136.643004 \n",
       "L 229.43772 137.540462 \n",
       "L 230.047667 136.792806 \n",
       "L 230.657614 136.357243 \n",
       "L 231.267561 136.230331 \n",
       "L 231.877508 135.495648 \n",
       "L 233.097403 135.250845 \n",
       "L 233.70735 134.828702 \n",
       "L 234.927244 135.18911 \n",
       "L 235.537191 134.473887 \n",
       "L 236.147139 134.060518 \n",
       "L 236.757086 133.945808 \n",
       "L 237.367033 134.421261 \n",
       "L 237.97698 133.131546 \n",
       "L 239.196874 134.078164 \n",
       "L 240.416769 134.432519 \n",
       "L 241.026716 134.319301 \n",
       "L 241.636663 133.919303 \n",
       "L 242.24661 133.808619 \n",
       "L 242.856557 133.984293 \n",
       "L 243.466505 133.589539 \n",
       "L 245.296346 134.111653 \n",
       "L 246.51624 133.894213 \n",
       "L 247.126188 134.065489 \n",
       "L 247.736135 134.513602 \n",
       "L 248.346082 134.404622 \n",
       "L 248.956029 134.572504 \n",
       "L 249.565976 134.464058 \n",
       "L 250.175923 133.533359 \n",
       "L 251.395818 133.870429 \n",
       "L 252.005765 133.765686 \n",
       "L 253.225659 134.097984 \n",
       "L 253.835606 134.531534 \n",
       "L 255.665448 135.016269 \n",
       "L 256.275395 134.644616 \n",
       "L 256.885342 134.804806 \n",
       "L 257.495289 134.700088 \n",
       "L 258.105237 135.122168 \n",
       "L 258.715184 135.279339 \n",
       "L 259.325131 135.174123 \n",
       "L 259.935078 135.590761 \n",
       "L 260.545025 135.485222 \n",
       "L 261.76492 135.792469 \n",
       "L 262.374867 136.202048 \n",
       "L 262.984814 135.582746 \n",
       "L 263.594761 135.478847 \n",
       "L 264.204708 135.88563 \n",
       "L 265.424603 136.184837 \n",
       "L 266.644497 136.984324 \n",
       "L 267.254444 137.129267 \n",
       "L 268.474338 136.917183 \n",
       "L 269.694233 137.204013 \n",
       "L 270.30418 136.603786 \n",
       "L 270.914127 136.747288 \n",
       "L 271.524074 136.39794 \n",
       "L 272.134021 136.541193 \n",
       "L 272.743969 136.928168 \n",
       "L 273.353916 137.069036 \n",
       "L 273.963863 136.965958 \n",
       "L 274.57381 136.621046 \n",
       "L 276.403652 136.319243 \n",
       "L 277.013599 135.740526 \n",
       "L 277.623546 135.643027 \n",
       "L 278.233493 135.784354 \n",
       "L 278.84344 135.687278 \n",
       "L 280.063335 135.967273 \n",
       "L 280.673282 136.341648 \n",
       "L 281.283229 136.244099 \n",
       "L 281.893176 136.38135 \n",
       "L 282.503123 136.751426 \n",
       "L 283.11307 136.420618 \n",
       "L 283.723018 135.859348 \n",
       "L 284.332965 135.764496 \n",
       "L 284.942912 135.439157 \n",
       "L 285.552859 135.345995 \n",
       "L 286.162806 135.023601 \n",
       "L 287.382701 135.754978 \n",
       "L 289.212542 135.477455 \n",
       "L 289.822489 135.611948 \n",
       "L 290.432436 135.9711 \n",
       "L 291.652331 135.786914 \n",
       "L 292.262278 135.919132 \n",
       "L 292.872225 136.273625 \n",
       "L 293.482172 136.181457 \n",
       "L 294.092119 136.533364 \n",
       "L 295.312014 136.790358 \n",
       "L 295.921961 136.697805 \n",
       "L 296.531908 136.825202 \n",
       "L 297.751802 136.204744 \n",
       "L 299.581644 136.585792 \n",
       "L 300.191591 136.279403 \n",
       "L 300.801538 135.759103 \n",
       "L 302.021433 136.012816 \n",
       "L 302.63138 136.352521 \n",
       "L 303.241327 136.477209 \n",
       "L 303.851274 136.388521 \n",
       "L 305.071168 135.789188 \n",
       "L 305.681116 135.914038 \n",
       "L 306.291063 135.827673 \n",
       "L 306.90101 135.951802 \n",
       "L 307.510957 135.656236 \n",
       "L 308.120904 135.780166 \n",
       "L 308.730851 135.278034 \n",
       "L 309.950746 135.111046 \n",
       "L 310.560693 135.442027 \n",
       "L 311.17064 135.152116 \n",
       "L 311.780587 134.657738 \n",
       "L 312.390534 134.781991 \n",
       "L 313.000482 134.290943 \n",
       "L 313.610429 134.21109 \n",
       "L 315.44027 134.582582 \n",
       "L 317.270112 134.34439 \n",
       "L 317.880059 133.461968 \n",
       "L 318.490006 133.185192 \n",
       "L 319.099953 132.509759 \n",
       "L 319.7099 132.63559 \n",
       "L 320.319848 132.561789 \n",
       "L 320.929795 132.686887 \n",
       "L 322.149689 131.3544 \n",
       "L 322.759636 131.481474 \n",
       "L 323.979531 131.34139 \n",
       "L 325.199425 131.593214 \n",
       "L 325.809372 131.913085 \n",
       "L 326.419319 132.037078 \n",
       "L 327.029266 132.354427 \n",
       "L 327.639214 132.283335 \n",
       "L 328.249161 132.405599 \n",
       "L 328.859108 132.334718 \n",
       "L 329.469055 132.648464 \n",
       "L 331.298897 133.008573 \n",
       "L 331.908844 132.746733 \n",
       "L 332.518791 132.676038 \n",
       "L 333.128738 132.984726 \n",
       "L 333.738685 133.102903 \n",
       "L 334.348632 133.031885 \n",
       "L 336.178474 133.382948 \n",
       "L 336.788421 133.685895 \n",
       "L 338.008315 133.91545 \n",
       "L 338.618263 134.215191 \n",
       "L 339.22821 134.142956 \n",
       "L 339.838157 134.255963 \n",
       "L 340.448104 134.183963 \n",
       "L 341.058051 134.296374 \n",
       "L 341.667998 133.673543 \n",
       "L 342.277946 133.603295 \n",
       "L 342.887893 133.350477 \n",
       "L 344.107787 133.212319 \n",
       "L 344.717734 132.962011 \n",
       "L 345.327681 133.256657 \n",
       "L 345.937629 133.188224 \n",
       "L 346.547576 133.300609 \n",
       "L 347.157523 133.052265 \n",
       "L 348.377417 133.276154 \n",
       "L 348.987365 133.566326 \n",
       "L 349.597312 133.498117 \n",
       "L 350.207259 133.786575 \n",
       "L 351.427153 133.650094 \n",
       "L 352.0371 133.228175 \n",
       "L 352.647048 133.161407 \n",
       "L 353.256995 133.271221 \n",
       "L 353.866942 133.204639 \n",
       "L 354.476889 132.787206 \n",
       "L 355.086836 132.72193 \n",
       "L 355.696783 132.831743 \n",
       "L 356.306731 133.115566 \n",
       "L 356.916678 133.224112 \n",
       "L 357.526625 133.158462 \n",
       "L 358.136572 133.439824 \n",
       "L 358.746519 133.374001 \n",
       "L 359.356466 133.135796 \n",
       "L 361.796255 132.877697 \n",
       "L 362.406202 132.984726 \n",
       "L 363.016149 133.261851 \n",
       "L 364.236044 133.133336 \n",
       "L 364.845991 133.408472 \n",
       "L 365.455938 133.175014 \n",
       "L 367.28578 133.48912 \n",
       "L 367.895727 133.425173 \n",
       "L 368.505674 133.696408 \n",
       "L 369.115621 133.799436 \n",
       "L 369.725568 133.735265 \n",
       "L 369.725568 133.735265 \n",
       "\" style=\"fill:none;stroke:#ff7f0e;stroke-linecap:square;stroke-width:1.5;\"/>\n",
       "   </g>\n",
       "   <g id=\"line2d_15\">\n",
       "    <path clip-path=\"url(#p7ce4fe06ae)\" d=\"M 65.361932 185.105457 \n",
       "L 65.971879 60.01569 \n",
       "L 66.581826 46.116815 \n",
       "L 67.80172 118.390909 \n",
       "L 68.411668 115.611139 \n",
       "L 69.021615 125.538898 \n",
       "L 69.631562 101.712277 \n",
       "L 70.241509 120.244093 \n",
       "L 70.851456 118.390909 \n",
       "L 71.461403 124.455874 \n",
       "L 72.071351 136.459439 \n",
       "L 72.681298 140.201434 \n",
       "L 73.291245 149.365519 \n",
       "L 73.901192 151.748186 \n",
       "L 74.511139 148.620945 \n",
       "L 75.731034 134.142956 \n",
       "L 76.340981 141.21431 \n",
       "L 76.950928 139.239209 \n",
       "L 77.560875 145.394416 \n",
       "L 78.170822 143.408864 \n",
       "L 78.780769 148.847556 \n",
       "L 79.390717 150.358301 \n",
       "L 80.000664 155.083908 \n",
       "L 80.610611 156.238583 \n",
       "L 81.220558 160.39637 \n",
       "L 83.0504 162.867278 \n",
       "L 84.270294 164.257163 \n",
       "L 84.880241 157.307726 \n",
       "L 85.490188 160.578047 \n",
       "L 86.100135 158.896175 \n",
       "L 86.710083 159.624209 \n",
       "L 87.32003 162.566767 \n",
       "L 88.539924 159.446013 \n",
       "L 89.759819 160.697702 \n",
       "L 90.979713 154.075443 \n",
       "L 91.58966 152.885365 \n",
       "L 92.199607 149.895002 \n",
       "L 92.809554 152.47335 \n",
       "L 94.029449 150.358301 \n",
       "L 94.639396 147.663628 \n",
       "L 95.249343 148.412465 \n",
       "L 95.85929 150.767085 \n",
       "L 96.469237 149.823723 \n",
       "L 97.079185 145.769051 \n",
       "L 97.689132 148.041818 \n",
       "L 98.299079 145.683234 \n",
       "L 98.909026 146.387198 \n",
       "L 99.518973 148.529498 \n",
       "L 100.12892 144.846678 \n",
       "L 100.738868 146.942478 \n",
       "L 101.348815 147.578531 \n",
       "L 101.958762 149.560827 \n",
       "L 102.568709 148.789076 \n",
       "L 103.178656 145.394416 \n",
       "L 103.788603 146.014911 \n",
       "L 104.398551 144.05036 \n",
       "L 105.008498 145.93594 \n",
       "L 105.618445 146.520559 \n",
       "L 106.838339 145.221761 \n",
       "L 107.448286 142.217543 \n",
       "L 108.058234 143.996143 \n",
       "L 108.668181 144.567105 \n",
       "L 109.888075 143.408864 \n",
       "L 110.498022 143.964828 \n",
       "L 111.107969 143.408864 \n",
       "L 111.717917 145.033412 \n",
       "L 112.937811 146.047891 \n",
       "L 113.547758 147.578531 \n",
       "L 114.767652 148.493821 \n",
       "L 115.987547 147.379967 \n",
       "L 116.597494 147.823806 \n",
       "L 117.817388 144.846678 \n",
       "L 118.427335 144.356513 \n",
       "L 119.037283 145.751368 \n",
       "L 120.257177 146.616294 \n",
       "L 120.867124 146.128216 \n",
       "L 121.477071 147.444026 \n",
       "L 122.087018 146.957514 \n",
       "L 122.696966 145.60343 \n",
       "L 123.306913 143.408864 \n",
       "L 123.91686 142.979005 \n",
       "L 124.526807 143.408864 \n",
       "L 125.136754 142.987691 \n",
       "L 127.576543 144.623336 \n",
       "L 128.18649 141.805155 \n",
       "L 128.796437 142.217543 \n",
       "L 129.406384 141.048689 \n",
       "L 130.016332 140.681049 \n",
       "L 130.626279 141.864554 \n",
       "L 131.236226 142.261259 \n",
       "L 133.066067 141.175129 \n",
       "L 133.676015 141.563881 \n",
       "L 134.895909 140.870815 \n",
       "L 135.505856 141.97105 \n",
       "L 136.72575 141.288708 \n",
       "L 137.335698 140.25534 \n",
       "L 138.555592 140.996671 \n",
       "L 139.165539 139.991115 \n",
       "L 140.385433 139.373714 \n",
       "L 140.995381 139.739564 \n",
       "L 141.605328 138.77591 \n",
       "L 143.435169 139.853342 \n",
       "L 144.045116 139.559951 \n",
       "L 144.655064 139.907633 \n",
       "L 145.265011 139.618268 \n",
       "L 145.874958 139.960284 \n",
       "L 148.314747 136.408714 \n",
       "L 148.924694 136.157287 \n",
       "L 149.534641 137.109385 \n",
       "L 151.364482 138.123391 \n",
       "L 151.97443 137.868759 \n",
       "L 152.584377 137.038554 \n",
       "L 153.194324 137.370057 \n",
       "L 153.804271 135.412266 \n",
       "L 154.414218 136.317615 \n",
       "L 155.024165 135.520327 \n",
       "L 155.634113 135.85311 \n",
       "L 156.24406 135.625505 \n",
       "L 156.854007 133.744101 \n",
       "L 157.463954 132.984726 \n",
       "L 158.073901 132.780322 \n",
       "L 158.683848 133.661613 \n",
       "L 159.293796 133.993514 \n",
       "L 159.903743 133.786575 \n",
       "L 160.51369 134.113455 \n",
       "L 161.123637 133.90838 \n",
       "L 161.733584 132.656914 \n",
       "L 162.343531 131.942313 \n",
       "L 162.953479 132.790487 \n",
       "L 164.173373 131.385926 \n",
       "L 166.003214 132.356763 \n",
       "L 166.613162 133.171982 \n",
       "L 167.833056 133.786575 \n",
       "L 168.443003 133.597902 \n",
       "L 169.05295 133.899122 \n",
       "L 169.662897 133.71199 \n",
       "L 170.272845 133.044983 \n",
       "L 172.102686 132.510902 \n",
       "L 172.712633 133.279186 \n",
       "L 173.32258 133.101847 \n",
       "L 173.932528 133.392367 \n",
       "L 174.542475 134.142956 \n",
       "L 175.152422 133.042311 \n",
       "L 175.762369 133.786575 \n",
       "L 176.372316 134.067005 \n",
       "L 176.982263 134.797611 \n",
       "L 177.592211 134.618781 \n",
       "L 179.422052 136.755154 \n",
       "L 180.031999 136.569749 \n",
       "L 180.641946 135.947378 \n",
       "L 181.251894 136.641364 \n",
       "L 181.861841 136.893772 \n",
       "L 182.471788 137.575666 \n",
       "L 183.081735 137.820668 \n",
       "L 184.301629 139.154112 \n",
       "L 185.521524 139.618268 \n",
       "L 186.131471 139.008721 \n",
       "L 187.351365 140.297181 \n",
       "L 187.961312 139.693337 \n",
       "L 188.57126 140.327837 \n",
       "L 189.791154 139.951101 \n",
       "L 191.011048 138.77591 \n",
       "L 191.620995 138.597725 \n",
       "L 192.230943 139.219264 \n",
       "L 192.84089 139.040657 \n",
       "L 193.450837 139.258967 \n",
       "L 194.060784 139.081864 \n",
       "L 194.670731 139.297937 \n",
       "L 195.280678 139.901681 \n",
       "L 196.500573 138.77591 \n",
       "L 197.720467 139.966025 \n",
       "L 198.330414 139.029772 \n",
       "L 198.940361 139.618268 \n",
       "L 199.550309 139.446745 \n",
       "L 200.160256 138.901132 \n",
       "L 200.770203 137.986438 \n",
       "L 201.38015 137.824508 \n",
       "L 201.990097 136.922738 \n",
       "L 202.600044 137.135928 \n",
       "L 203.209992 136.979875 \n",
       "L 203.819939 137.556716 \n",
       "L 204.429886 136.671871 \n",
       "L 205.039833 136.519869 \n",
       "L 205.64978 137.091205 \n",
       "L 206.259727 137.298157 \n",
       "L 206.869675 137.861253 \n",
       "L 208.089569 138.263327 \n",
       "L 209.309463 137.954887 \n",
       "L 209.91941 138.503383 \n",
       "L 210.529358 138.69838 \n",
       "L 211.139305 138.544266 \n",
       "L 211.749252 138.737462 \n",
       "L 212.359199 139.273668 \n",
       "L 212.969146 139.119094 \n",
       "L 214.189041 140.175251 \n",
       "L 214.798988 139.340908 \n",
       "L 215.408935 139.188571 \n",
       "L 216.018882 138.701189 \n",
       "L 216.628829 138.88755 \n",
       "L 217.238776 138.738854 \n",
       "L 217.848724 139.255823 \n",
       "L 218.458671 138.77591 \n",
       "L 220.288512 138.339874 \n",
       "L 221.508407 138.703811 \n",
       "L 222.118354 138.560433 \n",
       "L 223.338248 139.559951 \n",
       "L 223.948195 139.414945 \n",
       "L 224.558142 139.589339 \n",
       "L 225.778037 139.302385 \n",
       "L 226.387984 139.475226 \n",
       "L 226.997931 139.333265 \n",
       "L 227.607878 139.50469 \n",
       "L 228.217825 139.363673 \n",
       "L 228.827773 138.913695 \n",
       "L 230.657614 139.423172 \n",
       "L 231.267561 138.979556 \n",
       "L 231.877508 139.452262 \n",
       "L 233.70735 139.043528 \n",
       "L 234.317297 138.609257 \n",
       "L 234.927244 138.477014 \n",
       "L 235.537191 138.941382 \n",
       "L 236.147139 139.105661 \n",
       "L 237.367033 138.252044 \n",
       "L 238.586927 139.166054 \n",
       "L 239.196874 137.577182 \n",
       "L 239.806822 138.033349 \n",
       "L 240.416769 137.617681 \n",
       "L 241.636663 138.520308 \n",
       "L 245.296346 137.774193 \n",
       "L 246.51624 138.091853 \n",
       "L 247.126188 137.691271 \n",
       "L 247.736135 137.01539 \n",
       "L 248.346082 136.621046 \n",
       "L 248.956029 136.505454 \n",
       "L 249.565976 136.94108 \n",
       "L 250.175923 136.825202 \n",
       "L 250.785871 137.256913 \n",
       "L 251.395818 136.868223 \n",
       "L 252.615712 137.181459 \n",
       "L 253.835606 136.952624 \n",
       "L 254.445554 137.107459 \n",
       "L 255.055501 136.994004 \n",
       "L 255.665448 137.414146 \n",
       "L 256.275395 137.566036 \n",
       "L 256.885342 137.452209 \n",
       "L 257.495289 137.603017 \n",
       "L 258.105237 137.489799 \n",
       "L 259.325131 137.788322 \n",
       "L 259.935078 137.675588 \n",
       "L 261.154972 137.970185 \n",
       "L 261.76492 137.599749 \n",
       "L 262.374867 136.974209 \n",
       "L 262.984814 136.865713 \n",
       "L 263.594761 137.013688 \n",
       "L 264.814655 136.798435 \n",
       "L 265.424603 136.945267 \n",
       "L 266.644497 136.732376 \n",
       "L 267.254444 136.375709 \n",
       "L 267.864391 136.271612 \n",
       "L 268.474338 136.667509 \n",
       "L 269.084286 136.563163 \n",
       "L 269.694233 136.211243 \n",
       "L 270.914127 136.500558 \n",
       "L 273.353916 138.044396 \n",
       "L 273.963863 137.452209 \n",
       "L 274.57381 137.59074 \n",
       "L 275.183757 137.970185 \n",
       "L 276.403652 137.761207 \n",
       "L 277.013599 137.897253 \n",
       "L 277.623546 137.554616 \n",
       "L 278.233493 137.452209 \n",
       "L 278.84344 137.112802 \n",
       "L 279.453387 137.249146 \n",
       "L 280.063335 137.148479 \n",
       "L 280.673282 137.283941 \n",
       "L 281.283229 137.653568 \n",
       "L 282.503123 136.517831 \n",
       "L 283.723018 137.25311 \n",
       "L 284.332965 137.154381 \n",
       "L 284.942912 137.287209 \n",
       "L 285.552859 137.18894 \n",
       "L 286.162806 137.550664 \n",
       "L 286.772753 137.452209 \n",
       "L 287.382701 137.811249 \n",
       "L 287.992648 137.712619 \n",
       "L 288.602595 138.068976 \n",
       "L 289.212542 137.516963 \n",
       "L 289.822489 137.193935 \n",
       "L 290.432436 137.32342 \n",
       "L 291.042384 137.227437 \n",
       "L 291.652331 137.580314 \n",
       "L 292.262278 137.260579 \n",
       "L 292.872225 137.165528 \n",
       "L 294.092119 137.420533 \n",
       "L 295.312014 136.790358 \n",
       "L 296.531908 137.044655 \n",
       "L 297.141855 136.951916 \n",
       "L 299.581644 137.452209 \n",
       "L 300.191591 137.359618 \n",
       "L 300.801538 137.052024 \n",
       "L 301.411485 137.175879 \n",
       "L 302.021433 137.513459 \n",
       "L 302.63138 137.20784 \n",
       "L 303.851274 137.452209 \n",
       "L 304.461221 137.785663 \n",
       "L 305.071168 137.270793 \n",
       "L 305.681116 137.180775 \n",
       "L 306.291063 137.301798 \n",
       "L 306.90101 137.002094 \n",
       "L 307.510957 136.913418 \n",
       "L 308.120904 137.034204 \n",
       "L 308.730851 136.945901 \n",
       "L 309.340799 137.273962 \n",
       "L 311.17064 137.009885 \n",
       "L 311.780587 136.716818 \n",
       "L 313.610429 136.459439 \n",
       "L 314.220376 136.578373 \n",
       "L 314.830323 136.493339 \n",
       "L 315.44027 136.611614 \n",
       "L 317.270112 136.358722 \n",
       "L 317.880059 136.677127 \n",
       "L 318.490006 136.392621 \n",
       "L 319.099953 136.709411 \n",
       "L 319.7099 136.625694 \n",
       "L 320.319848 136.741397 \n",
       "L 320.929795 136.65799 \n",
       "L 321.539742 136.971152 \n",
       "L 322.149689 136.492369 \n",
       "L 323.369583 136.721676 \n",
       "L 323.979531 136.639301 \n",
       "L 324.589478 136.753078 \n",
       "L 325.199425 137.061617 \n",
       "L 325.809372 137.173866 \n",
       "L 327.639214 136.927038 \n",
       "L 329.469055 137.260057 \n",
       "L 330.079002 137.17834 \n",
       "L 330.688949 136.5232 \n",
       "L 331.298897 136.634367 \n",
       "L 332.518791 136.47527 \n",
       "L 333.738685 135.939413 \n",
       "L 334.348632 135.295953 \n",
       "L 336.178474 135.631756 \n",
       "L 338.008315 135.404611 \n",
       "L 338.618263 135.14384 \n",
       "L 339.22821 135.440188 \n",
       "L 340.448104 135.659939 \n",
       "L 341.058051 135.40092 \n",
       "L 341.667998 135.510398 \n",
       "L 342.277946 135.436112 \n",
       "L 344.107787 134.668972 \n",
       "L 344.717734 134.77886 \n",
       "L 345.937629 134.635395 \n",
       "L 346.547576 134.383633 \n",
       "L 347.76747 134.961716 \n",
       "L 348.377417 134.890214 \n",
       "L 348.987365 135.176919 \n",
       "L 349.597312 135.105268 \n",
       "L 352.0371 135.529896 \n",
       "L 352.647048 135.458244 \n",
       "L 353.256995 135.563211 \n",
       "L 353.866942 135.843666 \n",
       "L 355.696783 135.628997 \n",
       "L 356.306731 135.73251 \n",
       "L 356.916678 135.487384 \n",
       "L 357.526625 135.764496 \n",
       "L 358.136572 135.346952 \n",
       "L 359.356466 135.898306 \n",
       "L 359.966414 135.827673 \n",
       "L 361.186308 136.030462 \n",
       "L 362.406202 135.889806 \n",
       "L 363.626097 136.090693 \n",
       "L 364.236044 136.360362 \n",
       "L 364.845991 136.289941 \n",
       "L 365.455938 136.558106 \n",
       "L 366.065885 136.487573 \n",
       "L 367.28578 136.011089 \n",
       "L 368.505674 136.208249 \n",
       "L 369.115621 135.972007 \n",
       "L 369.725568 135.903487 \n",
       "L 369.725568 135.903487 \n",
       "\" style=\"fill:none;stroke:#2ca02c;stroke-linecap:square;stroke-width:1.5;\"/>\n",
       "   </g>\n",
       "   <g id=\"line2d_16\">\n",
       "    <path clip-path=\"url(#p7ce4fe06ae)\" d=\"M 65.361932 185.105457 \n",
       "L 65.971879 226.802047 \n",
       "L 66.581826 240.700909 \n",
       "L 67.191773 143.408864 \n",
       "L 67.80172 118.390909 \n",
       "L 68.411668 129.510002 \n",
       "L 69.021615 113.625588 \n",
       "L 69.631562 112.136427 \n",
       "L 70.241509 110.978185 \n",
       "L 71.461403 139.618268 \n",
       "L 72.681298 146.616294 \n",
       "L 73.291245 137.452209 \n",
       "L 74.511139 132.984726 \n",
       "L 75.121086 136.050643 \n",
       "L 76.340981 132.436082 \n",
       "L 76.950928 122.560577 \n",
       "L 77.560875 125.538898 \n",
       "L 78.170822 132.037078 \n",
       "L 79.390717 129.510002 \n",
       "L 80.000664 128.398099 \n",
       "L 80.610611 120.956856 \n",
       "L 81.220558 120.244093 \n",
       "L 81.830505 125.538898 \n",
       "L 82.440452 127.59292 \n",
       "L 83.0504 126.730232 \n",
       "L 83.660347 128.613302 \n",
       "L 84.270294 127.772645 \n",
       "L 85.490188 131.145162 \n",
       "L 86.100135 130.304232 \n",
       "L 86.710083 131.826485 \n",
       "L 87.32003 124.250973 \n",
       "L 87.929977 121.4633 \n",
       "L 88.539924 123.095142 \n",
       "L 89.149871 122.560577 \n",
       "L 90.369766 117.596691 \n",
       "L 90.979713 117.227287 \n",
       "L 91.58966 118.769981 \n",
       "L 92.199607 118.390909 \n",
       "L 92.809554 119.841237 \n",
       "L 93.419502 123.004155 \n",
       "L 95.249343 126.730232 \n",
       "L 95.85929 126.239681 \n",
       "L 96.469237 127.371715 \n",
       "L 97.689132 126.42137 \n",
       "L 98.909026 128.517232 \n",
       "L 99.518973 128.046961 \n",
       "L 100.12892 129.030734 \n",
       "L 100.738868 125.740817 \n",
       "L 101.348815 125.340347 \n",
       "L 101.958762 127.6872 \n",
       "L 102.568709 127.268252 \n",
       "L 103.178656 125.538898 \n",
       "L 103.788603 127.772645 \n",
       "L 104.398551 127.371715 \n",
       "L 105.008498 128.24647 \n",
       "L 105.618445 130.339785 \n",
       "L 106.228392 131.145162 \n",
       "L 106.838339 128.301408 \n",
       "L 108.058234 129.901525 \n",
       "L 109.278128 126.844469 \n",
       "L 109.888075 127.631778 \n",
       "L 110.498022 125.062365 \n",
       "L 111.107969 125.852408 \n",
       "L 111.717917 124.455874 \n",
       "L 112.937811 125.991312 \n",
       "L 113.547758 124.645404 \n",
       "L 114.157705 124.362278 \n",
       "L 114.767652 121.035093 \n",
       "L 115.3776 120.802282 \n",
       "L 117.817388 123.758757 \n",
       "L 118.427335 123.508225 \n",
       "L 119.037283 122.326324 \n",
       "L 119.64723 123.023876 \n",
       "L 120.867124 122.560577 \n",
       "L 121.477071 121.439702 \n",
       "L 122.087018 123.004155 \n",
       "L 122.696966 123.657854 \n",
       "L 123.91686 126.644265 \n",
       "L 124.526807 124.687953 \n",
       "L 126.356649 126.482533 \n",
       "L 126.966596 124.604521 \n",
       "L 127.576543 124.382272 \n",
       "L 128.18649 124.966146 \n",
       "L 128.796437 124.74468 \n",
       "L 130.016332 125.872924 \n",
       "L 130.626279 125.649209 \n",
       "L 131.236226 126.95975 \n",
       "L 131.846173 124.455874 \n",
       "L 132.45612 123.499688 \n",
       "L 134.285962 122.92634 \n",
       "L 134.895909 123.467019 \n",
       "L 136.115803 123.095142 \n",
       "L 136.72575 124.327384 \n",
       "L 137.335698 124.137332 \n",
       "L 137.945645 125.340347 \n",
       "L 138.555592 124.455874 \n",
       "L 139.165539 125.636546 \n",
       "L 139.775486 125.442045 \n",
       "L 140.385433 123.905627 \n",
       "L 140.995381 123.728076 \n",
       "L 141.605328 124.215197 \n",
       "L 142.215275 124.038007 \n",
       "L 144.655064 125.902673 \n",
       "L 145.265011 125.719406 \n",
       "L 145.874958 124.911892 \n",
       "L 146.484905 125.983433 \n",
       "L 147.094852 126.42137 \n",
       "L 147.704799 127.466057 \n",
       "L 148.924694 128.301408 \n",
       "L 149.534641 128.110126 \n",
       "L 150.144588 126.134565 \n",
       "L 150.754535 125.961364 \n",
       "L 151.364482 125.203319 \n",
       "L 151.97443 123.872709 \n",
       "L 152.584377 123.139691 \n",
       "L 153.194324 124.142166 \n",
       "L 154.414218 124.971601 \n",
       "L 155.024165 123.687503 \n",
       "L 155.634113 124.659396 \n",
       "L 156.854007 125.460002 \n",
       "L 157.463954 125.303775 \n",
       "L 158.073901 125.694628 \n",
       "L 159.293796 125.385182 \n",
       "L 159.903743 125.768006 \n",
       "L 160.51369 125.614787 \n",
       "L 161.123637 125.991312 \n",
       "L 161.733584 125.838614 \n",
       "L 162.343531 126.730232 \n",
       "L 162.953479 127.092814 \n",
       "L 163.563426 126.42137 \n",
       "L 164.78332 127.137027 \n",
       "L 165.393267 125.4667 \n",
       "L 166.003214 126.328332 \n",
       "L 167.223109 127.028071 \n",
       "L 167.833056 126.878269 \n",
       "L 168.443003 127.711333 \n",
       "L 169.662897 128.378701 \n",
       "L 170.272845 129.188638 \n",
       "L 170.882792 128.551467 \n",
       "L 171.492739 126.968498 \n",
       "L 172.102686 126.351172 \n",
       "L 172.712633 126.683123 \n",
       "L 173.32258 126.074333 \n",
       "L 174.542475 125.803646 \n",
       "L 175.152422 126.592011 \n",
       "L 175.762369 125.997102 \n",
       "L 176.372316 126.320106 \n",
       "L 176.982263 125.733137 \n",
       "L 178.812105 125.347778 \n",
       "L 179.422052 125.665636 \n",
       "L 180.641946 127.16915 \n",
       "L 181.251894 127.035863 \n",
       "L 181.861841 127.772645 \n",
       "L 182.471788 128.069714 \n",
       "L 183.081735 128.793574 \n",
       "L 183.691682 128.227035 \n",
       "L 184.301629 128.517232 \n",
       "L 184.911577 128.381161 \n",
       "L 185.521524 127.404123 \n",
       "L 186.741418 127.981126 \n",
       "L 187.351365 127.850436 \n",
       "L 187.961312 128.133885 \n",
       "L 188.57126 128.003729 \n",
       "L 189.181207 128.283638 \n",
       "L 189.791154 128.154016 \n",
       "L 190.401101 127.216023 \n",
       "L 191.620995 126.168937 \n",
       "L 192.230943 126.45092 \n",
       "L 192.84089 125.936013 \n",
       "L 194.060784 125.707489 \n",
       "L 195.280678 123.924478 \n",
       "L 195.890626 124.209046 \n",
       "L 197.11052 125.538898 \n",
       "L 197.720467 125.812145 \n",
       "L 198.330414 126.463682 \n",
       "L 200.160256 127.256136 \n",
       "L 200.770203 127.889505 \n",
       "L 201.38015 127.400358 \n",
       "L 202.600044 127.173027 \n",
       "L 203.209992 127.428243 \n",
       "L 205.039833 127.092814 \n",
       "L 205.64978 127.343954 \n",
       "L 208.089569 126.90767 \n",
       "L 208.699516 127.154263 \n",
       "L 209.309463 127.04691 \n",
       "L 209.91941 126.590073 \n",
       "L 210.529358 126.485988 \n",
       "L 211.139305 126.730232 \n",
       "L 212.359199 125.834277 \n",
       "L 212.969146 126.42137 \n",
       "L 213.579093 125.978326 \n",
       "L 214.798988 126.459035 \n",
       "L 215.408935 127.034098 \n",
       "L 216.018882 126.931989 \n",
       "L 216.628829 127.165621 \n",
       "L 217.238776 126.730232 \n",
       "L 217.848724 125.301588 \n",
       "L 218.458671 125.86983 \n",
       "L 219.068618 125.44473 \n",
       "L 220.288512 125.258592 \n",
       "L 220.898459 125.818123 \n",
       "L 221.508407 125.07535 \n",
       "L 222.118354 125.308025 \n",
       "L 222.728301 125.216926 \n",
       "L 223.338248 125.447265 \n",
       "L 223.948195 125.99535 \n",
       "L 224.558142 126.220967 \n",
       "L 225.16809 126.127767 \n",
       "L 225.778037 126.667055 \n",
       "L 226.387984 126.887577 \n",
       "L 226.997931 126.479426 \n",
       "L 227.607878 127.011333 \n",
       "L 228.217825 126.916928 \n",
       "L 228.827773 127.443255 \n",
       "L 229.43772 127.347955 \n",
       "L 230.047667 127.868814 \n",
       "L 230.657614 128.079246 \n",
       "L 231.267561 127.982654 \n",
       "L 231.877508 127.582432 \n",
       "L 233.097403 128.603559 \n",
       "L 233.70735 128.807541 \n",
       "L 234.317297 128.41009 \n",
       "L 235.537191 128.815059 \n",
       "L 236.147139 129.312158 \n",
       "L 236.757086 129.214287 \n",
       "L 237.97698 130.195164 \n",
       "L 238.586927 129.510002 \n",
       "L 239.196874 129.995979 \n",
       "L 239.806822 129.897437 \n",
       "L 241.026716 130.279491 \n",
       "L 241.636663 129.893423 \n",
       "L 242.24661 130.369733 \n",
       "L 242.856557 130.271588 \n",
       "L 243.466505 130.458732 \n",
       "L 244.076452 130.360959 \n",
       "L 244.686399 129.981154 \n",
       "L 245.296346 130.167379 \n",
       "L 245.906293 130.07157 \n",
       "L 246.51624 129.696574 \n",
       "L 247.126188 130.160793 \n",
       "L 247.736135 130.343935 \n",
       "L 248.346082 130.24881 \n",
       "L 248.956029 129.878188 \n",
       "L 249.565976 129.785225 \n",
       "L 250.175923 130.241528 \n",
       "L 250.785871 130.147981 \n",
       "L 251.395818 130.600108 \n",
       "L 252.005765 130.506015 \n",
       "L 252.615712 130.683292 \n",
       "L 253.835606 130.496372 \n",
       "L 255.665448 131.01979 \n",
       "L 256.275395 131.457615 \n",
       "L 256.885342 131.363186 \n",
       "L 257.495289 131.533255 \n",
       "L 258.105237 131.965327 \n",
       "L 259.325131 132.298495 \n",
       "L 259.935078 132.20291 \n",
       "L 261.154972 132.531493 \n",
       "L 261.76492 132.952455 \n",
       "L 262.374867 133.113416 \n",
       "L 262.984814 133.529979 \n",
       "L 263.594761 133.17658 \n",
       "L 264.204708 132.570301 \n",
       "L 264.814655 132.730479 \n",
       "L 265.424603 132.129245 \n",
       "L 266.03455 132.54249 \n",
       "L 267.254444 131.854395 \n",
       "L 268.474338 132.17326 \n",
       "L 269.694233 132.984726 \n",
       "L 270.30418 133.139387 \n",
       "L 270.914127 132.552953 \n",
       "L 271.524074 132.215983 \n",
       "L 272.134021 131.635712 \n",
       "L 272.743969 131.792523 \n",
       "L 273.353916 131.460722 \n",
       "L 273.963863 131.860248 \n",
       "L 274.57381 131.287769 \n",
       "L 275.183757 131.685481 \n",
       "L 275.793704 131.839868 \n",
       "L 276.403652 131.512727 \n",
       "L 277.013599 131.427095 \n",
       "L 277.623546 131.819849 \n",
       "L 278.233493 131.495553 \n",
       "L 279.453387 131.326329 \n",
       "L 280.063335 131.478678 \n",
       "L 280.673282 130.923447 \n",
       "L 281.283229 131.07607 \n",
       "L 281.893176 130.759342 \n",
       "L 282.503123 130.911567 \n",
       "L 283.723018 130.284312 \n",
       "L 284.332965 130.204944 \n",
       "L 286.162806 130.658675 \n",
       "L 286.772753 130.579145 \n",
       "L 287.382701 130.728537 \n",
       "L 287.992648 130.649255 \n",
       "L 288.602595 130.343177 \n",
       "L 290.432436 130.787203 \n",
       "L 291.042384 130.484044 \n",
       "L 291.652331 130.406702 \n",
       "L 292.262278 129.882624 \n",
       "L 293.482172 129.732387 \n",
       "L 294.092119 129.436076 \n",
       "L 294.702067 129.362536 \n",
       "L 295.312014 129.510002 \n",
       "L 295.921961 129.43666 \n",
       "L 297.141855 129.728883 \n",
       "L 297.751802 129.655541 \n",
       "L 298.971697 129.075669 \n",
       "L 299.581644 129.437803 \n",
       "L 300.191591 129.365978 \n",
       "L 300.801538 129.72549 \n",
       "L 301.411485 129.223433 \n",
       "L 302.021433 129.367084 \n",
       "L 302.63138 128.868518 \n",
       "L 303.241327 129.225632 \n",
       "L 303.851274 128.942705 \n",
       "L 304.461221 129.08561 \n",
       "L 305.071168 129.439456 \n",
       "L 305.681116 129.580386 \n",
       "L 306.90101 129.43999 \n",
       "L 308.730851 130.482926 \n",
       "L 310.560693 129.647961 \n",
       "L 311.17064 129.578807 \n",
       "L 311.780587 129.92183 \n",
       "L 312.390534 129.441544 \n",
       "L 313.000482 129.57831 \n",
       "L 313.610429 129.510002 \n",
       "L 314.220376 129.238146 \n",
       "L 314.830323 129.171005 \n",
       "L 315.44027 128.901299 \n",
       "L 316.050217 129.037718 \n",
       "L 316.660165 128.971547 \n",
       "L 317.270112 129.308567 \n",
       "L 317.880059 129.443022 \n",
       "L 318.490006 129.376366 \n",
       "L 319.099953 129.709994 \n",
       "L 319.7099 129.643015 \n",
       "L 320.319848 129.377323 \n",
       "L 321.539742 129.642059 \n",
       "L 322.149689 129.971101 \n",
       "L 322.759636 129.707149 \n",
       "L 323.369583 129.247764 \n",
       "L 323.979531 129.575415 \n",
       "L 324.589478 129.510002 \n",
       "L 325.199425 129.640207 \n",
       "L 327.029266 129.445359 \n",
       "L 327.639214 129.18752 \n",
       "L 328.249161 129.123921 \n",
       "L 328.859108 129.253219 \n",
       "L 329.469055 129.57406 \n",
       "L 331.298897 129.382791 \n",
       "L 331.908844 129.510002 \n",
       "L 332.518791 129.066759 \n",
       "L 333.738685 129.320907 \n",
       "L 334.348632 129.069766 \n",
       "L 334.95858 129.008019 \n",
       "L 335.568527 128.758717 \n",
       "L 336.178474 128.697939 \n",
       "L 336.788421 128.450452 \n",
       "L 337.398368 128.763762 \n",
       "L 338.008315 128.331082 \n",
       "L 338.618263 128.271795 \n",
       "L 339.22821 127.65683 \n",
       "L 339.838157 127.969109 \n",
       "L 340.448104 127.726518 \n",
       "L 341.058051 127.853182 \n",
       "L 341.667998 128.162976 \n",
       "L 342.277946 128.288124 \n",
       "L 343.49784 128.901734 \n",
       "L 344.107787 129.024459 \n",
       "L 344.717734 128.783272 \n",
       "L 345.327681 128.905711 \n",
       "L 345.937629 128.846722 \n",
       "L 346.547576 128.607486 \n",
       "L 347.76747 128.491559 \n",
       "L 348.377417 128.613302 \n",
       "L 348.987365 128.197671 \n",
       "L 349.597312 128.319525 \n",
       "L 350.207259 127.906293 \n",
       "L 351.427153 127.794827 \n",
       "L 352.0371 127.5624 \n",
       "L 352.647048 127.684305 \n",
       "L 353.256995 127.629404 \n",
       "L 353.866942 127.39878 \n",
       "L 354.476889 127.520274 \n",
       "L 355.696783 128.111381 \n",
       "L 356.306731 127.881688 \n",
       "L 357.526625 128.120117 \n",
       "L 358.136572 127.891841 \n",
       "L 358.746519 127.491495 \n",
       "L 359.356466 127.610777 \n",
       "L 359.966414 127.212668 \n",
       "L 360.576361 127.332037 \n",
       "L 361.186308 127.622508 \n",
       "L 361.796255 127.740535 \n",
       "L 362.406202 127.345433 \n",
       "L 363.016149 127.293005 \n",
       "L 364.236044 127.868181 \n",
       "L 364.845991 127.645522 \n",
       "L 365.455938 127.254607 \n",
       "L 366.065885 127.54053 \n",
       "L 366.675832 127.488351 \n",
       "L 367.895727 127.720218 \n",
       "L 368.505674 127.333081 \n",
       "L 369.115621 127.448847 \n",
       "L 369.725568 127.06381 \n",
       "L 369.725568 127.06381 \n",
       "\" style=\"fill:none;stroke:#d62728;stroke-linecap:square;stroke-width:1.5;\"/>\n",
       "   </g>\n",
       "   <g id=\"line2d_17\">\n",
       "    <path clip-path=\"url(#p7ce4fe06ae)\" d=\"M 65.361932 185.105457 \n",
       "L 65.971879 101.712277 \n",
       "L 66.581826 73.914552 \n",
       "L 67.191773 101.712277 \n",
       "L 67.80172 118.390909 \n",
       "L 68.411668 87.813415 \n",
       "L 69.021615 113.625588 \n",
       "L 69.631562 101.712277 \n",
       "L 70.241509 83.180461 \n",
       "L 70.851456 85.033645 \n",
       "L 71.461403 94.131086 \n",
       "L 72.071351 87.813415 \n",
       "L 73.291245 89.798966 \n",
       "L 74.511139 101.712277 \n",
       "L 75.121086 106.617758 \n",
       "L 75.731034 101.712277 \n",
       "L 76.340981 110.490505 \n",
       "L 76.950928 110.051599 \n",
       "L 77.560875 101.712277 \n",
       "L 78.170822 86.549883 \n",
       "L 80.000664 88.369366 \n",
       "L 80.610611 88.882558 \n",
       "L 81.220558 83.180461 \n",
       "L 81.830505 83.842311 \n",
       "L 82.440452 78.707262 \n",
       "L 83.0504 76.694322 \n",
       "L 84.270294 78.257943 \n",
       "L 84.880241 81.495756 \n",
       "L 85.490188 77.184873 \n",
       "L 86.100135 77.885656 \n",
       "L 87.32003 83.681325 \n",
       "L 87.929977 81.961267 \n",
       "L 88.539924 84.605985 \n",
       "L 89.149871 85.033645 \n",
       "L 90.369766 89.798966 \n",
       "L 90.979713 90.076016 \n",
       "L 91.58966 88.445181 \n",
       "L 92.199607 90.593185 \n",
       "L 92.809554 94.4607 \n",
       "L 93.419502 92.840663 \n",
       "L 94.029449 94.762852 \n",
       "L 94.639396 98.30847 \n",
       "L 95.249343 96.708689 \n",
       "L 95.85929 93.536476 \n",
       "L 96.469237 95.297417 \n",
       "L 97.079185 98.565365 \n",
       "L 98.299079 98.679801 \n",
       "L 98.909026 101.712277 \n",
       "L 99.518973 101.712277 \n",
       "L 100.12892 103.150091 \n",
       "L 101.348815 100.322392 \n",
       "L 102.568709 100.367227 \n",
       "L 103.178656 101.712277 \n",
       "L 103.788603 100.409266 \n",
       "L 104.398551 101.712277 \n",
       "L 105.618445 96.733579 \n",
       "L 106.228392 96.806796 \n",
       "L 106.838339 98.086495 \n",
       "L 107.448286 100.520943 \n",
       "L 108.058234 101.712277 \n",
       "L 108.668181 99.395806 \n",
       "L 109.278128 100.569904 \n",
       "L 109.888075 99.458411 \n",
       "L 110.498022 99.488459 \n",
       "L 111.107969 100.615 \n",
       "L 111.717917 99.546217 \n",
       "L 112.327864 100.643134 \n",
       "L 112.937811 98.545445 \n",
       "L 113.547758 98.585036 \n",
       "L 114.157705 97.594093 \n",
       "L 114.767652 99.678299 \n",
       "L 115.3776 100.707541 \n",
       "L 115.987547 102.705059 \n",
       "L 116.597494 101.712277 \n",
       "L 117.207441 102.681971 \n",
       "L 119.64723 102.638875 \n",
       "L 120.257177 104.461503 \n",
       "L 120.867124 103.525174 \n",
       "L 121.477071 103.505677 \n",
       "L 122.087018 104.373759 \n",
       "L 122.696966 103.467925 \n",
       "L 123.306913 104.318311 \n",
       "L 123.91686 102.572008 \n",
       "L 125.136754 104.239341 \n",
       "L 126.356649 102.537959 \n",
       "L 127.576543 104.141208 \n",
       "L 128.18649 104.117846 \n",
       "L 128.796437 103.300726 \n",
       "L 129.406384 104.072464 \n",
       "L 130.016332 105.609157 \n",
       "L 131.236226 105.537654 \n",
       "L 131.846173 106.261004 \n",
       "L 133.066067 109.158093 \n",
       "L 133.676015 109.092207 \n",
       "L 134.895909 107.513538 \n",
       "L 135.505856 107.463534 \n",
       "L 136.115803 108.839899 \n",
       "L 136.72575 108.07277 \n",
       "L 138.555592 107.915077 \n",
       "L 139.775486 110.526194 \n",
       "L 140.385433 111.127639 \n",
       "L 140.995381 112.386611 \n",
       "L 141.605328 112.963737 \n",
       "L 142.825222 115.393973 \n",
       "L 143.435169 115.287912 \n",
       "L 144.045116 116.466459 \n",
       "L 144.655064 116.990424 \n",
       "L 145.265011 115.611139 \n",
       "L 146.484905 117.893039 \n",
       "L 148.314747 119.364853 \n",
       "L 148.924694 119.236934 \n",
       "L 149.534641 119.710808 \n",
       "L 150.144588 120.773576 \n",
       "L 150.754535 121.22983 \n",
       "L 151.364482 121.09238 \n",
       "L 152.584377 121.98145 \n",
       "L 153.194324 120.691412 \n",
       "L 153.804271 120.561418 \n",
       "L 154.414218 119.865891 \n",
       "L 155.024165 120.306698 \n",
       "L 155.634113 119.06254 \n",
       "L 158.073901 118.608933 \n",
       "L 158.683848 119.040731 \n",
       "L 159.293796 118.928942 \n",
       "L 160.51369 119.771947 \n",
       "L 161.123637 119.129842 \n",
       "L 162.343531 118.912129 \n",
       "L 162.953479 116.733406 \n",
       "L 163.563426 116.640692 \n",
       "L 164.173373 117.060721 \n",
       "L 164.78332 116.967125 \n",
       "L 165.393267 117.380084 \n",
       "L 166.003214 116.783336 \n",
       "L 167.223109 116.603921 \n",
       "L 169.05295 117.805706 \n",
       "L 170.272845 116.655566 \n",
       "L 170.882792 117.528233 \n",
       "L 172.102686 118.296144 \n",
       "L 172.712633 118.202461 \n",
       "L 173.32258 118.578314 \n",
       "L 174.542475 118.390909 \n",
       "L 175.152422 119.220245 \n",
       "L 175.762369 119.124039 \n",
       "L 176.372316 117.661794 \n",
       "L 176.982263 118.481561 \n",
       "L 177.592211 117.940136 \n",
       "L 178.202158 118.749602 \n",
       "L 178.812105 117.320623 \n",
       "L 180.031999 117.155461 \n",
       "L 180.641946 117.952003 \n",
       "L 181.251894 117.866981 \n",
       "L 181.861841 116.479817 \n",
       "L 182.471788 116.403307 \n",
       "L 183.081735 115.467861 \n",
       "L 184.301629 117.029394 \n",
       "L 184.911577 117.374952 \n",
       "L 186.131471 118.893787 \n",
       "L 188.57126 118.555238 \n",
       "L 189.791154 119.204513 \n",
       "L 191.620995 121.357786 \n",
       "L 192.230943 120.864775 \n",
       "L 192.84089 121.170692 \n",
       "L 193.450837 120.683235 \n",
       "L 194.670731 121.288147 \n",
       "L 195.280678 120.806979 \n",
       "L 195.890626 119.942414 \n",
       "L 196.500573 119.858013 \n",
       "L 197.11052 120.158698 \n",
       "L 197.720467 119.691547 \n",
       "L 198.330414 120.371031 \n",
       "L 198.940361 119.5281 \n",
       "L 199.550309 119.070132 \n",
       "L 200.160256 119.367587 \n",
       "L 200.770203 119.288417 \n",
       "L 201.38015 119.582243 \n",
       "L 201.990097 119.502825 \n",
       "L 202.600044 119.793097 \n",
       "L 203.209992 119.713455 \n",
       "L 203.819939 120.00026 \n",
       "L 204.429886 120.648727 \n",
       "L 205.039833 120.92897 \n",
       "L 206.259727 120.763312 \n",
       "L 206.869675 121.039455 \n",
       "L 208.699516 120.793769 \n",
       "L 209.91941 121.3342 \n",
       "L 210.529358 121.252098 \n",
       "L 211.749252 121.782003 \n",
       "L 212.359199 121.35448 \n",
       "L 214.189041 121.113952 \n",
       "L 214.798988 121.374089 \n",
       "L 215.408935 120.619239 \n",
       "L 216.018882 120.879264 \n",
       "L 216.628829 120.802282 \n",
       "L 217.848724 121.979151 \n",
       "L 218.458671 121.567795 \n",
       "L 219.068618 121.818935 \n",
       "L 219.678565 121.411456 \n",
       "L 220.288512 121.66123 \n",
       "L 220.898459 121.583315 \n",
       "L 221.508407 121.830479 \n",
       "L 222.728301 121.675123 \n",
       "L 223.948195 122.161187 \n",
       "L 224.558142 121.128243 \n",
       "L 225.16809 120.73734 \n",
       "L 225.778037 120.033513 \n",
       "L 227.607878 120.764654 \n",
       "L 228.217825 120.693562 \n",
       "L 228.827773 120.933009 \n",
       "L 229.43772 120.552955 \n",
       "L 230.047667 120.483441 \n",
       "L 230.657614 120.107836 \n",
       "L 231.267561 120.345917 \n",
       "L 231.877508 120.886621 \n",
       "L 232.487456 120.51365 \n",
       "L 233.097403 120.747679 \n",
       "L 233.70735 121.281077 \n",
       "L 234.317297 121.21068 \n",
       "L 235.537191 120.475749 \n",
       "L 236.147139 120.408969 \n",
       "L 236.757086 120.934115 \n",
       "L 237.367033 119.982167 \n",
       "L 238.586927 120.439165 \n",
       "L 239.196874 120.956856 \n",
       "L 239.806822 120.599232 \n",
       "L 240.416769 120.533657 \n",
       "L 241.026716 119.891415 \n",
       "L 241.636663 119.828723 \n",
       "L 243.466505 120.497086 \n",
       "L 244.076452 120.149552 \n",
       "L 244.686399 120.369738 \n",
       "L 245.296346 120.306698 \n",
       "L 246.51624 120.74159 \n",
       "L 247.126188 119.841237 \n",
       "L 248.346082 120.828986 \n",
       "L 249.565976 120.702807 \n",
       "L 250.175923 121.188971 \n",
       "L 250.785871 121.398532 \n",
       "L 251.395818 121.3342 \n",
       "L 252.005765 121.813567 \n",
       "L 252.615712 122.019065 \n",
       "L 253.225659 121.953341 \n",
       "L 254.445554 122.359465 \n",
       "L 255.055501 122.025999 \n",
       "L 256.275395 121.896614 \n",
       "L 256.885342 122.362013 \n",
       "L 257.495289 121.768869 \n",
       "L 258.105237 121.705593 \n",
       "L 258.715184 121.380477 \n",
       "L 259.325131 120.795981 \n",
       "L 259.935078 120.475749 \n",
       "L 261.76492 120.301467 \n",
       "L 262.984814 120.70026 \n",
       "L 264.814655 120.526599 \n",
       "L 266.03455 120.917985 \n",
       "L 266.644497 120.859953 \n",
       "L 267.864391 121.245823 \n",
       "L 268.474338 121.187331 \n",
       "L 269.084286 120.880258 \n",
       "L 269.694233 119.830438 \n",
       "L 270.914127 120.710139 \n",
       "L 271.524074 120.654095 \n",
       "L 272.134021 120.84365 \n",
       "L 272.743969 120.543002 \n",
       "L 273.353916 120.48794 \n",
       "L 273.963863 120.919452 \n",
       "L 274.57381 121.106036 \n",
       "L 275.183757 120.566388 \n",
       "L 276.403652 121.419024 \n",
       "L 277.623546 121.306091 \n",
       "L 278.233493 121.488376 \n",
       "L 278.84344 121.907213 \n",
       "L 279.453387 121.84984 \n",
       "L 280.063335 122.029031 \n",
       "L 280.673282 121.971645 \n",
       "L 281.283229 121.679658 \n",
       "L 281.893176 122.092071 \n",
       "L 283.11307 122.444103 \n",
       "L 283.723018 122.850935 \n",
       "L 284.942912 122.733828 \n",
       "L 285.552859 122.906122 \n",
       "L 286.162806 122.847742 \n",
       "L 286.772753 122.331468 \n",
       "L 287.382701 122.274977 \n",
       "L 287.992648 122.44665 \n",
       "L 288.602595 122.390146 \n",
       "L 289.212542 122.107355 \n",
       "L 289.822489 122.278071 \n",
       "L 290.432436 122.2225 \n",
       "L 291.042384 122.391986 \n",
       "L 291.652331 122.112227 \n",
       "L 292.262278 122.504682 \n",
       "L 292.872225 121.780152 \n",
       "L 293.482172 121.281884 \n",
       "L 294.702067 122.062868 \n",
       "L 295.312014 122.009037 \n",
       "L 296.531908 122.341124 \n",
       "L 297.141855 122.724731 \n",
       "L 298.971697 123.212088 \n",
       "L 299.581644 122.939636 \n",
       "L 300.191591 123.316732 \n",
       "L 301.411485 123.205366 \n",
       "L 302.63138 123.522802 \n",
       "L 303.241327 123.467019 \n",
       "L 303.851274 123.836995 \n",
       "L 305.071168 124.148007 \n",
       "L 305.681116 124.091205 \n",
       "L 306.291063 124.245282 \n",
       "L 306.90101 124.608646 \n",
       "L 307.510957 124.551111 \n",
       "L 308.120904 124.702877 \n",
       "L 308.730851 124.436924 \n",
       "L 309.340799 124.380246 \n",
       "L 309.950746 124.116418 \n",
       "L 310.560693 124.060822 \n",
       "L 311.780587 124.362278 \n",
       "L 312.390534 124.306495 \n",
       "L 313.000482 124.660776 \n",
       "L 313.610429 124.808925 \n",
       "L 314.830323 124.696254 \n",
       "L 315.44027 124.843235 \n",
       "L 316.050217 124.382272 \n",
       "L 316.660165 124.125452 \n",
       "L 317.270112 124.071322 \n",
       "L 317.880059 124.41934 \n",
       "L 320.319848 124.202559 \n",
       "L 321.539742 124.491886 \n",
       "L 322.149689 124.833132 \n",
       "L 323.979531 124.669934 \n",
       "L 324.589478 124.811796 \n",
       "L 325.809372 124.703859 \n",
       "L 326.419319 124.844651 \n",
       "L 327.029266 124.596916 \n",
       "L 327.639214 124.930792 \n",
       "L 328.859108 125.208737 \n",
       "L 329.469055 124.962455 \n",
       "L 330.079002 124.909009 \n",
       "L 330.688949 125.047068 \n",
       "L 331.298897 124.802836 \n",
       "L 331.908844 124.940522 \n",
       "L 334.348632 126.239681 \n",
       "L 334.95858 125.807821 \n",
       "L 335.568527 125.941382 \n",
       "L 336.178474 125.886928 \n",
       "L 336.788421 126.019706 \n",
       "L 337.398368 125.592208 \n",
       "L 338.008315 125.911198 \n",
       "L 338.618263 126.043031 \n",
       "L 339.22821 126.359597 \n",
       "L 339.838157 126.304945 \n",
       "L 340.448104 126.435039 \n",
       "L 341.058051 126.380461 \n",
       "L 342.887893 126.766803 \n",
       "L 343.49784 126.711989 \n",
       "L 344.107787 126.839486 \n",
       "L 344.717734 126.603058 \n",
       "L 345.327681 126.548941 \n",
       "L 345.937629 126.675965 \n",
       "L 346.547576 126.982938 \n",
       "L 347.76747 126.874019 \n",
       "L 348.377417 126.999242 \n",
       "L 349.597312 126.890944 \n",
       "L 350.817206 127.494825 \n",
       "L 351.427153 127.6174 \n",
       "L 352.0371 127.916508 \n",
       "L 352.647048 127.860986 \n",
       "L 353.256995 127.629404 \n",
       "L 354.476889 127.520274 \n",
       "L 355.696783 127.761722 \n",
       "L 356.306731 127.358294 \n",
       "L 356.916678 127.478857 \n",
       "L 358.136572 127.371715 \n",
       "L 358.746519 127.491495 \n",
       "L 359.356466 127.265468 \n",
       "L 359.966414 127.557268 \n",
       "L 360.576361 127.160091 \n",
       "L 361.186308 127.279324 \n",
       "L 361.796255 127.226821 \n",
       "L 362.406202 127.345433 \n",
       "L 364.845991 127.137027 \n",
       "L 365.455938 127.42377 \n",
       "L 366.065885 127.371715 \n",
       "L 367.28578 126.931989 \n",
       "L 367.895727 127.049035 \n",
       "L 368.505674 126.830713 \n",
       "L 369.115621 127.11461 \n",
       "L 369.725568 127.230587 \n",
       "L 369.725568 127.230587 \n",
       "\" style=\"fill:none;stroke:#9467bd;stroke-linecap:square;stroke-width:1.5;\"/>\n",
       "   </g>\n",
       "   <g id=\"line2d_18\">\n",
       "    <path clip-path=\"url(#p7ce4fe06ae)\" d=\"M 65.361932 185.105457 \n",
       "L 65.971879 143.408864 \n",
       "L 66.581826 185.105457 \n",
       "L 67.191773 143.408864 \n",
       "L 67.80172 118.390909 \n",
       "L 68.411668 115.611139 \n",
       "L 69.021615 101.712277 \n",
       "L 69.631562 122.560577 \n",
       "L 70.241509 120.244093 \n",
       "L 70.851456 118.390909 \n",
       "L 71.461403 101.712277 \n",
       "L 72.071351 101.712277 \n",
       "L 72.681298 108.127137 \n",
       "L 73.291245 101.712277 \n",
       "L 73.901192 90.593185 \n",
       "L 74.511139 86.076058 \n",
       "L 75.731034 97.079323 \n",
       "L 76.340981 97.323169 \n",
       "L 77.560875 105.683381 \n",
       "L 78.170822 113.084076 \n",
       "L 79.390717 112.136427 \n",
       "L 80.000664 108.383732 \n",
       "L 81.220558 114.06683 \n",
       "L 83.0504 112.831369 \n",
       "L 84.880241 119.401747 \n",
       "L 86.710083 117.927623 \n",
       "L 87.929977 125.852408 \n",
       "L 88.539924 125.233429 \n",
       "L 89.759819 120.018104 \n",
       "L 90.369766 121.567795 \n",
       "L 92.199607 131.363186 \n",
       "L 93.419502 126.552805 \n",
       "L 94.029449 127.772645 \n",
       "L 94.639396 127.240801 \n",
       "L 95.85929 129.510002 \n",
       "L 96.469237 124.164285 \n",
       "L 97.079185 123.740664 \n",
       "L 97.689132 118.699784 \n",
       "L 98.299079 119.90716 \n",
       "L 98.909026 118.093082 \n",
       "L 99.518973 120.731773 \n",
       "L 100.12892 121.841663 \n",
       "L 100.738868 124.327384 \n",
       "L 101.348815 125.340347 \n",
       "L 101.958762 124.952999 \n",
       "L 102.568709 125.923202 \n",
       "L 103.178656 125.538898 \n",
       "L 103.788603 126.469634 \n",
       "L 105.008498 125.719406 \n",
       "L 105.618445 124.116418 \n",
       "L 106.228392 125.013317 \n",
       "L 106.838339 127.092814 \n",
       "L 107.448286 126.730232 \n",
       "L 108.668181 128.351772 \n",
       "L 109.278128 130.271588 \n",
       "L 109.888075 131.012583 \n",
       "L 110.498022 129.510002 \n",
       "L 111.107969 129.144251 \n",
       "L 112.937811 131.269353 \n",
       "L 113.547758 130.899887 \n",
       "L 114.157705 132.598646 \n",
       "L 114.767652 133.238974 \n",
       "L 115.3776 134.868604 \n",
       "L 115.987547 134.473887 \n",
       "L 117.207441 135.651365 \n",
       "L 117.817388 137.17834 \n",
       "L 118.427335 137.722971 \n",
       "L 119.037283 137.31835 \n",
       "L 119.64723 135.99614 \n",
       "L 120.257177 135.619392 \n",
       "L 121.477071 136.683614 \n",
       "L 122.087018 134.53725 \n",
       "L 122.696966 134.19173 \n",
       "L 123.306913 132.984726 \n",
       "L 123.91686 134.381769 \n",
       "L 124.526807 133.197457 \n",
       "L 125.136754 133.721783 \n",
       "L 125.746701 135.069554 \n",
       "L 126.356649 135.564951 \n",
       "L 126.966596 135.233062 \n",
       "L 127.576543 135.717263 \n",
       "L 128.796437 138.246439 \n",
       "L 130.016332 137.56355 \n",
       "L 131.236226 135.375583 \n",
       "L 131.846173 135.827673 \n",
       "L 132.45612 134.76903 \n",
       "L 133.676015 135.659939 \n",
       "L 134.285962 136.825202 \n",
       "L 134.895909 137.245021 \n",
       "L 135.505856 135.500892 \n",
       "L 136.72575 134.928202 \n",
       "L 137.945645 135.764496 \n",
       "L 138.555592 136.861475 \n",
       "L 139.165539 137.256913 \n",
       "L 139.775486 135.611948 \n",
       "L 140.995381 136.403843 \n",
       "L 141.605328 136.128507 \n",
       "L 142.215275 136.514153 \n",
       "L 142.825222 134.939249 \n",
       "L 143.435169 135.328138 \n",
       "L 144.045116 135.069554 \n",
       "L 144.655064 133.541734 \n",
       "L 145.265011 134.564141 \n",
       "L 147.094852 135.687278 \n",
       "L 147.704799 134.824279 \n",
       "L 148.314747 135.191297 \n",
       "L 148.924694 134.948693 \n",
       "L 149.534641 135.909477 \n",
       "L 150.144588 135.069554 \n",
       "L 151.364482 135.774276 \n",
       "L 151.97443 135.536084 \n",
       "L 153.194324 136.219805 \n",
       "L 153.804271 137.125825 \n",
       "L 154.414218 136.884912 \n",
       "L 155.024165 137.774193 \n",
       "L 155.634113 138.091853 \n",
       "L 156.24406 137.293372 \n",
       "L 156.854007 138.162274 \n",
       "L 157.463954 138.471111 \n",
       "L 158.073901 138.230856 \n",
       "L 159.293796 136.683614 \n",
       "L 159.903743 136.459439 \n",
       "L 160.51369 137.300456 \n",
       "L 161.123637 137.075212 \n",
       "L 161.733584 137.901776 \n",
       "L 162.343531 136.633175 \n",
       "L 163.563426 137.2316 \n",
       "L 164.173373 135.990461 \n",
       "L 164.78332 136.289941 \n",
       "L 166.613162 138.664941 \n",
       "L 167.223109 138.444991 \n",
       "L 167.833056 138.721084 \n",
       "L 169.662897 138.075587 \n",
       "L 170.272845 137.383353 \n",
       "L 170.882792 137.17834 \n",
       "L 171.492739 137.452209 \n",
       "L 172.102686 137.249146 \n",
       "L 173.32258 137.786856 \n",
       "L 173.932528 138.51709 \n",
       "L 175.762369 137.910413 \n",
       "L 176.372316 138.62402 \n",
       "L 176.982263 138.423406 \n",
       "L 178.812105 139.172317 \n",
       "L 179.422052 138.529479 \n",
       "L 180.031999 138.33468 \n",
       "L 180.641946 137.264108 \n",
       "L 181.251894 136.641364 \n",
       "L 183.081735 136.101219 \n",
       "L 184.911577 134.307583 \n",
       "L 185.521524 134.564141 \n",
       "L 186.741418 134.23562 \n",
       "L 187.351365 133.244031 \n",
       "L 187.961312 133.500764 \n",
       "L 188.57126 134.165783 \n",
       "L 189.181207 133.597902 \n",
       "L 189.791154 133.442371 \n",
       "L 190.401101 133.693164 \n",
       "L 191.011048 133.538665 \n",
       "L 191.620995 134.187505 \n",
       "L 192.230943 134.032123 \n",
       "L 192.84089 134.275336 \n",
       "L 194.060784 133.968126 \n",
       "L 194.670731 134.208207 \n",
       "L 195.280678 134.835736 \n",
       "L 195.890626 135.069554 \n",
       "L 196.500573 134.915117 \n",
       "L 197.11052 133.60921 \n",
       "L 197.720467 134.227966 \n",
       "L 198.330414 133.698706 \n",
       "L 200.160256 133.266461 \n",
       "L 201.990097 133.957638 \n",
       "L 205.039833 133.256657 \n",
       "L 205.64978 133.481105 \n",
       "L 206.259727 132.984726 \n",
       "L 206.869675 133.208417 \n",
       "L 207.479622 133.073812 \n",
       "L 208.089569 132.585499 \n",
       "L 209.309463 133.028704 \n",
       "L 209.91941 132.546728 \n",
       "L 210.529358 132.417715 \n",
       "L 211.139305 131.942313 \n",
       "L 211.749252 131.816867 \n",
       "L 212.359199 132.037078 \n",
       "L 212.969146 130.882738 \n",
       "L 213.579093 131.104962 \n",
       "L 215.408935 129.735084 \n",
       "L 217.238776 129.398809 \n",
       "L 217.848724 129.952996 \n",
       "L 218.458671 129.840933 \n",
       "L 219.068618 130.059367 \n",
       "L 219.678565 130.604408 \n",
       "L 220.288512 130.491103 \n",
       "L 220.898459 130.05293 \n",
       "L 221.508407 130.267139 \n",
       "L 222.118354 130.802922 \n",
       "L 223.338248 131.220641 \n",
       "L 223.948195 130.78806 \n",
       "L 225.16809 131.201119 \n",
       "L 225.778037 131.089416 \n",
       "L 226.387984 131.293261 \n",
       "L 226.997931 130.868547 \n",
       "L 227.607878 130.134672 \n",
       "L 228.217825 130.028624 \n",
       "L 228.827773 130.543381 \n",
       "L 231.267561 131.342819 \n",
       "L 231.877508 131.843397 \n",
       "L 232.487456 131.73382 \n",
       "L 233.097403 131.322899 \n",
       "L 233.70735 131.216006 \n",
       "L 235.537191 131.793393 \n",
       "L 236.147139 131.686338 \n",
       "L 236.757086 131.284327 \n",
       "L 237.367033 131.474515 \n",
       "L 237.97698 131.36971 \n",
       "L 239.196874 131.745489 \n",
       "L 239.806822 131.350274 \n",
       "L 240.416769 131.826485 \n",
       "L 241.026716 131.722276 \n",
       "L 241.636663 131.906363 \n",
       "L 244.076452 131.495553 \n",
       "L 244.686399 131.111908 \n",
       "L 245.906293 130.913929 \n",
       "L 247.126188 131.834227 \n",
       "L 247.736135 131.45585 \n",
       "L 248.346082 131.911134 \n",
       "L 248.956029 131.811138 \n",
       "L 249.565976 131.436577 \n",
       "L 250.175923 131.338805 \n",
       "L 250.785871 130.968245 \n",
       "L 251.395818 131.417689 \n",
       "L 252.005765 131.320935 \n",
       "L 253.225659 131.669053 \n",
       "L 253.835606 131.303402 \n",
       "L 254.445554 130.403819 \n",
       "L 255.055501 130.579145 \n",
       "L 256.275395 129.864121 \n",
       "L 256.885342 128.980531 \n",
       "L 257.495289 129.422034 \n",
       "L 258.105237 128.808485 \n",
       "L 259.935078 129.336266 \n",
       "L 260.545025 128.730633 \n",
       "L 261.154972 128.646717 \n",
       "L 262.374867 127.965692 \n",
       "L 262.984814 127.884907 \n",
       "L 263.594761 128.316232 \n",
       "L 264.814655 128.154016 \n",
       "L 265.424603 128.327118 \n",
       "L 266.03455 127.488351 \n",
       "L 267.254444 127.835449 \n",
       "L 267.864391 127.757 \n",
       "L 268.474338 127.179663 \n",
       "L 269.084286 127.352566 \n",
       "L 269.694233 127.772645 \n",
       "L 271.524074 128.280021 \n",
       "L 272.743969 128.124192 \n",
       "L 273.353916 127.559294 \n",
       "L 273.963863 127.727065 \n",
       "L 274.57381 128.136284 \n",
       "L 275.183757 127.576256 \n",
       "L 275.793704 127.983536 \n",
       "L 276.403652 128.148163 \n",
       "L 277.013599 128.551467 \n",
       "L 278.233493 128.398099 \n",
       "L 278.84344 128.559656 \n",
       "L 279.453387 128.009558 \n",
       "L 280.063335 127.698819 \n",
       "L 281.283229 128.022245 \n",
       "L 282.503123 127.874841 \n",
       "L 283.11307 127.568825 \n",
       "L 284.332965 127.888473 \n",
       "L 284.942912 128.277971 \n",
       "L 286.772753 128.746328 \n",
       "L 287.382701 128.443791 \n",
       "L 289.212542 129.585543 \n",
       "L 290.432436 128.984097 \n",
       "L 291.042384 129.36015 \n",
       "L 291.652331 129.510002 \n",
       "L 292.262278 129.882624 \n",
       "L 292.872225 130.030289 \n",
       "L 293.482172 130.399531 \n",
       "L 294.702067 129.804946 \n",
       "L 295.312014 129.951244 \n",
       "L 295.921961 129.876734 \n",
       "L 296.531908 129.583157 \n",
       "L 297.751802 129.437232 \n",
       "L 298.36175 129.147109 \n",
       "L 298.971697 129.075669 \n",
       "L 299.581644 128.787982 \n",
       "L 300.191591 128.717846 \n",
       "L 300.801538 128.863547 \n",
       "L 301.411485 129.223433 \n",
       "L 302.63138 129.510002 \n",
       "L 303.241327 129.438909 \n",
       "L 303.851274 129.58092 \n",
       "L 304.461221 129.297806 \n",
       "L 305.071168 129.651105 \n",
       "L 305.681116 129.7915 \n",
       "L 306.291063 129.720594 \n",
       "L 307.510957 129.160791 \n",
       "L 308.120904 128.464978 \n",
       "L 308.730851 128.815059 \n",
       "L 309.340799 128.747471 \n",
       "L 309.950746 129.095116 \n",
       "L 312.390534 129.646942 \n",
       "L 313.000482 129.57831 \n",
       "L 313.610429 129.30561 \n",
       "L 314.220376 129.442041 \n",
       "L 314.830323 129.171005 \n",
       "L 316.660165 129.577316 \n",
       "L 317.880059 129.443022 \n",
       "L 318.490006 129.777297 \n",
       "L 319.7099 130.04202 \n",
       "L 320.319848 130.372466 \n",
       "L 320.929795 130.105668 \n",
       "L 321.539742 130.236309 \n",
       "L 322.149689 130.563947 \n",
       "L 322.759636 130.495738 \n",
       "L 323.369583 130.624539 \n",
       "L 324.589478 130.09728 \n",
       "L 325.199425 130.030811 \n",
       "L 325.809372 130.159488 \n",
       "L 326.419319 129.898791 \n",
       "L 327.029266 129.833241 \n",
       "L 327.639214 129.961483 \n",
       "L 328.859108 129.445806 \n",
       "L 329.469055 129.381909 \n",
       "L 330.688949 129.637523 \n",
       "L 331.298897 129.573613 \n",
       "L 332.518791 130.206535 \n",
       "L 333.128738 129.952238 \n",
       "L 333.738685 130.077311 \n",
       "L 334.348632 130.390472 \n",
       "L 334.95858 130.513992 \n",
       "L 336.178474 130.384545 \n",
       "L 338.008315 130.750979 \n",
       "L 338.618263 130.500572 \n",
       "L 339.22821 130.807234 \n",
       "L 339.838157 130.557808 \n",
       "L 341.058051 130.430461 \n",
       "L 341.667998 130.183521 \n",
       "L 342.277946 130.304232 \n",
       "L 343.49784 130.179097 \n",
       "L 344.107787 130.299025 \n",
       "L 344.717734 130.600108 \n",
       "L 345.327681 130.174735 \n",
       "L 345.937629 130.474787 \n",
       "L 346.547576 130.41253 \n",
       "L 347.76747 129.929373 \n",
       "L 348.377417 129.868682 \n",
       "L 348.987365 129.629309 \n",
       "L 349.597312 129.569525 \n",
       "L 350.207259 129.331817 \n",
       "L 350.817206 129.450739 \n",
       "L 351.427153 129.391713 \n",
       "L 352.0371 129.510002 \n",
       "L 352.647048 129.804474 \n",
       "L 353.256995 129.921383 \n",
       "L 354.476889 130.504871 \n",
       "L 355.086836 130.093987 \n",
       "L 355.696783 129.85966 \n",
       "L 356.306731 129.975239 \n",
       "L 357.526625 129.16253 \n",
       "L 358.136572 129.278843 \n",
       "L 358.746519 129.048629 \n",
       "L 360.576361 128.87954 \n",
       "L 361.796255 129.110451 \n",
       "L 362.406202 129.396075 \n",
       "L 363.626097 129.28308 \n",
       "L 364.236044 128.887245 \n",
       "L 364.845991 128.662511 \n",
       "L 365.455938 128.607846 \n",
       "L 367.28578 128.949564 \n",
       "L 368.505674 128.840186 \n",
       "L 369.115621 128.45157 \n",
       "L 369.725568 128.564888 \n",
       "L 369.725568 128.564888 \n",
       "\" style=\"fill:none;stroke:#8c564b;stroke-linecap:square;stroke-width:1.5;\"/>\n",
       "   </g>\n",
       "   <g id=\"line2d_19\">\n",
       "    <path clip-path=\"url(#p7ce4fe06ae)\" d=\"M 50.14375 129.232028 \n",
       "L 384.94375 129.232028 \n",
       "\" style=\"fill:none;stroke:#000000;stroke-dasharray:5.55,2.4;stroke-dashoffset:0;stroke-width:1.5;\"/>\n",
       "   </g>\n",
       "   <g id=\"patch_3\">\n",
       "    <path d=\"M 50.14375 251.82 \n",
       "L 50.14375 7.2 \n",
       "\" style=\"fill:none;stroke:#000000;stroke-linecap:square;stroke-linejoin:miter;stroke-width:0.8;\"/>\n",
       "   </g>\n",
       "   <g id=\"patch_4\">\n",
       "    <path d=\"M 384.94375 251.82 \n",
       "L 384.94375 7.2 \n",
       "\" style=\"fill:none;stroke:#000000;stroke-linecap:square;stroke-linejoin:miter;stroke-width:0.8;\"/>\n",
       "   </g>\n",
       "   <g id=\"patch_5\">\n",
       "    <path d=\"M 50.14375 251.82 \n",
       "L 384.94375 251.82 \n",
       "\" style=\"fill:none;stroke:#000000;stroke-linecap:square;stroke-linejoin:miter;stroke-width:0.8;\"/>\n",
       "   </g>\n",
       "   <g id=\"patch_6\">\n",
       "    <path d=\"M 50.14375 7.2 \n",
       "L 384.94375 7.2 \n",
       "\" style=\"fill:none;stroke:#000000;stroke-linecap:square;stroke-linejoin:miter;stroke-width:0.8;\"/>\n",
       "   </g>\n",
       "   <g id=\"legend_1\">\n",
       "    <g id=\"patch_7\">\n",
       "     <path d=\"M 302.089063 103.26875 \n",
       "L 377.94375 103.26875 \n",
       "Q 379.94375 103.26875 379.94375 101.26875 \n",
       "L 379.94375 14.2 \n",
       "Q 379.94375 12.2 377.94375 12.2 \n",
       "L 302.089063 12.2 \n",
       "Q 300.089063 12.2 300.089063 14.2 \n",
       "L 300.089063 101.26875 \n",
       "Q 300.089063 103.26875 302.089063 103.26875 \n",
       "z\n",
       "\" style=\"fill:#ffffff;opacity:0.8;stroke:#cccccc;stroke-linejoin:miter;\"/>\n",
       "    </g>\n",
       "    <g id=\"line2d_20\">\n",
       "     <path d=\"M 304.089063 20.298437 \n",
       "L 324.089063 20.298437 \n",
       "\" style=\"fill:none;stroke:#1f77b4;stroke-linecap:square;stroke-width:1.5;\"/>\n",
       "    </g>\n",
       "    <g id=\"line2d_21\"/>\n",
       "    <g id=\"text_15\">\n",
       "     <!-- P(die=1) -->\n",
       "     <g transform=\"translate(332.089063 23.798437)scale(0.1 -0.1)\">\n",
       "      <defs>\n",
       "       <path d=\"M 19.671875 64.796875 \n",
       "L 19.671875 37.40625 \n",
       "L 32.078125 37.40625 \n",
       "Q 38.96875 37.40625 42.71875 40.96875 \n",
       "Q 46.484375 44.53125 46.484375 51.125 \n",
       "Q 46.484375 57.671875 42.71875 61.234375 \n",
       "Q 38.96875 64.796875 32.078125 64.796875 \n",
       "z\n",
       "M 9.8125 72.90625 \n",
       "L 32.078125 72.90625 \n",
       "Q 44.34375 72.90625 50.609375 67.359375 \n",
       "Q 56.890625 61.8125 56.890625 51.125 \n",
       "Q 56.890625 40.328125 50.609375 34.8125 \n",
       "Q 44.34375 29.296875 32.078125 29.296875 \n",
       "L 19.671875 29.296875 \n",
       "L 19.671875 0 \n",
       "L 9.8125 0 \n",
       "z\n",
       "\" id=\"DejaVuSans-80\"/>\n",
       "       <path d=\"M 31 75.875 \n",
       "Q 24.46875 64.65625 21.28125 53.65625 \n",
       "Q 18.109375 42.671875 18.109375 31.390625 \n",
       "Q 18.109375 20.125 21.3125 9.0625 \n",
       "Q 24.515625 -2 31 -13.1875 \n",
       "L 23.1875 -13.1875 \n",
       "Q 15.875 -1.703125 12.234375 9.375 \n",
       "Q 8.59375 20.453125 8.59375 31.390625 \n",
       "Q 8.59375 42.28125 12.203125 53.3125 \n",
       "Q 15.828125 64.359375 23.1875 75.875 \n",
       "z\n",
       "\" id=\"DejaVuSans-40\"/>\n",
       "       <path d=\"M 10.59375 45.40625 \n",
       "L 73.1875 45.40625 \n",
       "L 73.1875 37.203125 \n",
       "L 10.59375 37.203125 \n",
       "z\n",
       "M 10.59375 25.484375 \n",
       "L 73.1875 25.484375 \n",
       "L 73.1875 17.1875 \n",
       "L 10.59375 17.1875 \n",
       "z\n",
       "\" id=\"DejaVuSans-61\"/>\n",
       "       <path d=\"M 8.015625 75.875 \n",
       "L 15.828125 75.875 \n",
       "Q 23.140625 64.359375 26.78125 53.3125 \n",
       "Q 30.421875 42.28125 30.421875 31.390625 \n",
       "Q 30.421875 20.453125 26.78125 9.375 \n",
       "Q 23.140625 -1.703125 15.828125 -13.1875 \n",
       "L 8.015625 -13.1875 \n",
       "Q 14.5 -2 17.703125 9.0625 \n",
       "Q 20.90625 20.125 20.90625 31.390625 \n",
       "Q 20.90625 42.671875 17.703125 53.65625 \n",
       "Q 14.5 64.65625 8.015625 75.875 \n",
       "z\n",
       "\" id=\"DejaVuSans-41\"/>\n",
       "      </defs>\n",
       "      <use xlink:href=\"#DejaVuSans-80\"/>\n",
       "      <use x=\"60.302734\" xlink:href=\"#DejaVuSans-40\"/>\n",
       "      <use x=\"99.316406\" xlink:href=\"#DejaVuSans-100\"/>\n",
       "      <use x=\"162.792969\" xlink:href=\"#DejaVuSans-105\"/>\n",
       "      <use x=\"190.576172\" xlink:href=\"#DejaVuSans-101\"/>\n",
       "      <use x=\"252.099609\" xlink:href=\"#DejaVuSans-61\"/>\n",
       "      <use x=\"335.888672\" xlink:href=\"#DejaVuSans-49\"/>\n",
       "      <use x=\"399.511719\" xlink:href=\"#DejaVuSans-41\"/>\n",
       "     </g>\n",
       "    </g>\n",
       "    <g id=\"line2d_22\">\n",
       "     <path d=\"M 304.089063 34.976562 \n",
       "L 324.089063 34.976562 \n",
       "\" style=\"fill:none;stroke:#ff7f0e;stroke-linecap:square;stroke-width:1.5;\"/>\n",
       "    </g>\n",
       "    <g id=\"line2d_23\"/>\n",
       "    <g id=\"text_16\">\n",
       "     <!-- P(die=2) -->\n",
       "     <g transform=\"translate(332.089063 38.476562)scale(0.1 -0.1)\">\n",
       "      <use xlink:href=\"#DejaVuSans-80\"/>\n",
       "      <use x=\"60.302734\" xlink:href=\"#DejaVuSans-40\"/>\n",
       "      <use x=\"99.316406\" xlink:href=\"#DejaVuSans-100\"/>\n",
       "      <use x=\"162.792969\" xlink:href=\"#DejaVuSans-105\"/>\n",
       "      <use x=\"190.576172\" xlink:href=\"#DejaVuSans-101\"/>\n",
       "      <use x=\"252.099609\" xlink:href=\"#DejaVuSans-61\"/>\n",
       "      <use x=\"335.888672\" xlink:href=\"#DejaVuSans-50\"/>\n",
       "      <use x=\"399.511719\" xlink:href=\"#DejaVuSans-41\"/>\n",
       "     </g>\n",
       "    </g>\n",
       "    <g id=\"line2d_24\">\n",
       "     <path d=\"M 304.089063 49.654687 \n",
       "L 324.089063 49.654687 \n",
       "\" style=\"fill:none;stroke:#2ca02c;stroke-linecap:square;stroke-width:1.5;\"/>\n",
       "    </g>\n",
       "    <g id=\"line2d_25\"/>\n",
       "    <g id=\"text_17\">\n",
       "     <!-- P(die=3) -->\n",
       "     <g transform=\"translate(332.089063 53.154687)scale(0.1 -0.1)\">\n",
       "      <use xlink:href=\"#DejaVuSans-80\"/>\n",
       "      <use x=\"60.302734\" xlink:href=\"#DejaVuSans-40\"/>\n",
       "      <use x=\"99.316406\" xlink:href=\"#DejaVuSans-100\"/>\n",
       "      <use x=\"162.792969\" xlink:href=\"#DejaVuSans-105\"/>\n",
       "      <use x=\"190.576172\" xlink:href=\"#DejaVuSans-101\"/>\n",
       "      <use x=\"252.099609\" xlink:href=\"#DejaVuSans-61\"/>\n",
       "      <use x=\"335.888672\" xlink:href=\"#DejaVuSans-51\"/>\n",
       "      <use x=\"399.511719\" xlink:href=\"#DejaVuSans-41\"/>\n",
       "     </g>\n",
       "    </g>\n",
       "    <g id=\"line2d_26\">\n",
       "     <path d=\"M 304.089063 64.332812 \n",
       "L 324.089063 64.332812 \n",
       "\" style=\"fill:none;stroke:#d62728;stroke-linecap:square;stroke-width:1.5;\"/>\n",
       "    </g>\n",
       "    <g id=\"line2d_27\"/>\n",
       "    <g id=\"text_18\">\n",
       "     <!-- P(die=4) -->\n",
       "     <g transform=\"translate(332.089063 67.832812)scale(0.1 -0.1)\">\n",
       "      <use xlink:href=\"#DejaVuSans-80\"/>\n",
       "      <use x=\"60.302734\" xlink:href=\"#DejaVuSans-40\"/>\n",
       "      <use x=\"99.316406\" xlink:href=\"#DejaVuSans-100\"/>\n",
       "      <use x=\"162.792969\" xlink:href=\"#DejaVuSans-105\"/>\n",
       "      <use x=\"190.576172\" xlink:href=\"#DejaVuSans-101\"/>\n",
       "      <use x=\"252.099609\" xlink:href=\"#DejaVuSans-61\"/>\n",
       "      <use x=\"335.888672\" xlink:href=\"#DejaVuSans-52\"/>\n",
       "      <use x=\"399.511719\" xlink:href=\"#DejaVuSans-41\"/>\n",
       "     </g>\n",
       "    </g>\n",
       "    <g id=\"line2d_28\">\n",
       "     <path d=\"M 304.089063 79.010937 \n",
       "L 324.089063 79.010937 \n",
       "\" style=\"fill:none;stroke:#9467bd;stroke-linecap:square;stroke-width:1.5;\"/>\n",
       "    </g>\n",
       "    <g id=\"line2d_29\"/>\n",
       "    <g id=\"text_19\">\n",
       "     <!-- P(die=5) -->\n",
       "     <g transform=\"translate(332.089063 82.510937)scale(0.1 -0.1)\">\n",
       "      <use xlink:href=\"#DejaVuSans-80\"/>\n",
       "      <use x=\"60.302734\" xlink:href=\"#DejaVuSans-40\"/>\n",
       "      <use x=\"99.316406\" xlink:href=\"#DejaVuSans-100\"/>\n",
       "      <use x=\"162.792969\" xlink:href=\"#DejaVuSans-105\"/>\n",
       "      <use x=\"190.576172\" xlink:href=\"#DejaVuSans-101\"/>\n",
       "      <use x=\"252.099609\" xlink:href=\"#DejaVuSans-61\"/>\n",
       "      <use x=\"335.888672\" xlink:href=\"#DejaVuSans-53\"/>\n",
       "      <use x=\"399.511719\" xlink:href=\"#DejaVuSans-41\"/>\n",
       "     </g>\n",
       "    </g>\n",
       "    <g id=\"line2d_30\">\n",
       "     <path d=\"M 304.089063 93.689062 \n",
       "L 324.089063 93.689062 \n",
       "\" style=\"fill:none;stroke:#8c564b;stroke-linecap:square;stroke-width:1.5;\"/>\n",
       "    </g>\n",
       "    <g id=\"line2d_31\"/>\n",
       "    <g id=\"text_20\">\n",
       "     <!-- P(die=6) -->\n",
       "     <g transform=\"translate(332.089063 97.189062)scale(0.1 -0.1)\">\n",
       "      <defs>\n",
       "       <path d=\"M 33.015625 40.375 \n",
       "Q 26.375 40.375 22.484375 35.828125 \n",
       "Q 18.609375 31.296875 18.609375 23.390625 \n",
       "Q 18.609375 15.53125 22.484375 10.953125 \n",
       "Q 26.375 6.390625 33.015625 6.390625 \n",
       "Q 39.65625 6.390625 43.53125 10.953125 \n",
       "Q 47.40625 15.53125 47.40625 23.390625 \n",
       "Q 47.40625 31.296875 43.53125 35.828125 \n",
       "Q 39.65625 40.375 33.015625 40.375 \n",
       "z\n",
       "M 52.59375 71.296875 \n",
       "L 52.59375 62.3125 \n",
       "Q 48.875 64.0625 45.09375 64.984375 \n",
       "Q 41.3125 65.921875 37.59375 65.921875 \n",
       "Q 27.828125 65.921875 22.671875 59.328125 \n",
       "Q 17.53125 52.734375 16.796875 39.40625 \n",
       "Q 19.671875 43.65625 24.015625 45.921875 \n",
       "Q 28.375 48.1875 33.59375 48.1875 \n",
       "Q 44.578125 48.1875 50.953125 41.515625 \n",
       "Q 57.328125 34.859375 57.328125 23.390625 \n",
       "Q 57.328125 12.15625 50.6875 5.359375 \n",
       "Q 44.046875 -1.421875 33.015625 -1.421875 \n",
       "Q 20.359375 -1.421875 13.671875 8.265625 \n",
       "Q 6.984375 17.96875 6.984375 36.375 \n",
       "Q 6.984375 53.65625 15.1875 63.9375 \n",
       "Q 23.390625 74.21875 37.203125 74.21875 \n",
       "Q 40.921875 74.21875 44.703125 73.484375 \n",
       "Q 48.484375 72.75 52.59375 71.296875 \n",
       "z\n",
       "\" id=\"DejaVuSans-54\"/>\n",
       "      </defs>\n",
       "      <use xlink:href=\"#DejaVuSans-80\"/>\n",
       "      <use x=\"60.302734\" xlink:href=\"#DejaVuSans-40\"/>\n",
       "      <use x=\"99.316406\" xlink:href=\"#DejaVuSans-100\"/>\n",
       "      <use x=\"162.792969\" xlink:href=\"#DejaVuSans-105\"/>\n",
       "      <use x=\"190.576172\" xlink:href=\"#DejaVuSans-101\"/>\n",
       "      <use x=\"252.099609\" xlink:href=\"#DejaVuSans-61\"/>\n",
       "      <use x=\"335.888672\" xlink:href=\"#DejaVuSans-54\"/>\n",
       "      <use x=\"399.511719\" xlink:href=\"#DejaVuSans-41\"/>\n",
       "     </g>\n",
       "    </g>\n",
       "   </g>\n",
       "  </g>\n",
       " </g>\n",
       " <defs>\n",
       "  <clipPath id=\"p7ce4fe06ae\">\n",
       "   <rect height=\"244.62\" width=\"334.8\" x=\"50.14375\" y=\"7.2\"/>\n",
       "  </clipPath>\n",
       " </defs>\n",
       "</svg>\n"
      ],
      "text/plain": [
       "<Figure size 432x324 with 1 Axes>"
      ]
     },
     "metadata": {
      "needs_background": "light"
     },
     "output_type": "display_data"
    }
   ],
   "source": [
    "counts = multinomial.Multinomial(10, fair_probs).sample((500,))\n",
    "cum_counts = counts.cumsum(dim=0)\n",
    "estimates = cum_counts / cum_counts.sum(dim=1, keepdims=True)\n",
    "d2l.set_figsize((6, 4.5))\n",
    "for i in range(6):\n",
    "    d2l.plt.plot(estimates[:, i].numpy(),\n",
    "                 label=(\"P(die=\" + str(i + 1) + \")\"))\n",
    "d2l.plt.axhline(y=0.167, color='black', linestyle='dashed')\n",
    "d2l.plt.gca().set_xlabel('Groups of experiments')\n",
    "d2l.plt.gca().set_ylabel('Estimated probability')\n",
    "d2l.plt.legend();"
   ]
  },
  {
   "cell_type": "code",
   "execution_count": null,
   "metadata": {},
   "outputs": [],
   "source": []
  }
 ],
 "metadata": {
  "colab": {
   "authorship_tag": "ABX9TyPJf3QU4Xj/DrTvCeJihjPG",
   "collapsed_sections": [
    "CX1oCFIkKEC-",
    "elHA6S5pEghJ",
    "9oCHQtwLEqU7",
    "t6tkUyaQGtJN",
    "Ix6UBm-xHxJC",
    "mnXHuEYtIVEt",
    "o9GwBTMOJKff",
    "aQ3Vbnz4KZMd",
    "IMyVEo-1Kdwd",
    "mHorwt6eL1YC",
    "HGEQ1od5R0Tq",
    "7O-XgheQSRsj",
    "NGtbOYIkSVRB",
    "QMTZnoxES0PY",
    "i664w7w0TP5s",
    "pQV9Tc1ZDj8F",
    "n8kvr4J-D1uS",
    "ppU5wj0XEz6H",
    "3GbiXxXszMVR",
    "6i_tCmgvzEBa",
    "hL_NFM3L0zjl"
   ],
   "name": "Dive_into_Deep_Learning.ipynb",
   "provenance": [],
   "toc_visible": true
  },
  "kernelspec": {
   "display_name": "Python 3 (ipykernel)",
   "language": "python",
   "name": "python3"
  },
  "language_info": {
   "codemirror_mode": {
    "name": "ipython",
    "version": 3
   },
   "file_extension": ".py",
   "mimetype": "text/x-python",
   "name": "python",
   "nbconvert_exporter": "python",
   "pygments_lexer": "ipython3",
   "version": "3.9.12"
  },
  "toc-autonumbering": false,
  "toc-showcode": false,
  "toc-showmarkdowntxt": true
 },
 "nbformat": 4,
 "nbformat_minor": 4
}
