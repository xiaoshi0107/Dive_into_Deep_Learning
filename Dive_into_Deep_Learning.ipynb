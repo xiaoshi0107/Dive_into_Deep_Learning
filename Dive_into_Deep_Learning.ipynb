{
 "cells": [
  {
   "cell_type": "markdown",
   "metadata": {
    "id": "CX1oCFIkKEC-",
    "jp-MarkdownHeadingCollapsed": true,
    "tags": []
   },
   "source": [
    "## 2.1 数据操作"
   ]
  },
  {
   "cell_type": "markdown",
   "metadata": {
    "id": "elHA6S5pEghJ"
   },
   "source": [
    "### 2.1.1入门"
   ]
  },
  {
   "cell_type": "code",
   "execution_count": 14,
   "metadata": {
    "executionInfo": {
     "elapsed": 400,
     "status": "ok",
     "timestamp": 1651667871164,
     "user": {
      "displayName": "stu shi",
      "userId": "14122045057611715520"
     },
     "user_tz": -480
    },
    "id": "Ou3oVuVD__yH"
   },
   "outputs": [],
   "source": [
    "import torch"
   ]
  },
  {
   "cell_type": "code",
   "execution_count": 15,
   "metadata": {
    "colab": {
     "base_uri": "https://localhost:8080/"
    },
    "executionInfo": {
     "elapsed": 368,
     "status": "ok",
     "timestamp": 1651667871913,
     "user": {
      "displayName": "stu shi",
      "userId": "14122045057611715520"
     },
     "user_tz": -480
    },
    "id": "2rbSir6CBauS",
    "outputId": "c143824b-7db9-4fbd-d144-ee462f874374"
   },
   "outputs": [
    {
     "data": {
      "text/plain": [
       "tensor([ 0,  1,  2,  3,  4,  5,  6,  7,  8,  9, 10, 11])"
      ]
     },
     "execution_count": 15,
     "metadata": {},
     "output_type": "execute_result"
    }
   ],
   "source": [
    "x = torch.arange(12)\n",
    "x"
   ]
  },
  {
   "cell_type": "code",
   "execution_count": 16,
   "metadata": {
    "colab": {
     "base_uri": "https://localhost:8080/"
    },
    "executionInfo": {
     "elapsed": 16,
     "status": "ok",
     "timestamp": 1651667871913,
     "user": {
      "displayName": "stu shi",
      "userId": "14122045057611715520"
     },
     "user_tz": -480
    },
    "id": "Laf12IieDCfv",
    "outputId": "5a532581-99da-4869-8f98-a8dabe5aec0a"
   },
   "outputs": [
    {
     "data": {
      "text/plain": [
       "torch.Size([12])"
      ]
     },
     "execution_count": 16,
     "metadata": {},
     "output_type": "execute_result"
    }
   ],
   "source": [
    "# x.shape\n",
    "x.size()"
   ]
  },
  {
   "cell_type": "code",
   "execution_count": 17,
   "metadata": {
    "colab": {
     "base_uri": "https://localhost:8080/"
    },
    "executionInfo": {
     "elapsed": 16,
     "status": "ok",
     "timestamp": 1651667871914,
     "user": {
      "displayName": "stu shi",
      "userId": "14122045057611715520"
     },
     "user_tz": -480
    },
    "id": "Fr-voY68DZgt",
    "outputId": "ff11edad-d953-45ad-d0d4-250f9e7e2842"
   },
   "outputs": [
    {
     "data": {
      "text/plain": [
       "12"
      ]
     },
     "execution_count": 17,
     "metadata": {},
     "output_type": "execute_result"
    }
   ],
   "source": [
    "x.numel()"
   ]
  },
  {
   "cell_type": "code",
   "execution_count": 18,
   "metadata": {
    "colab": {
     "base_uri": "https://localhost:8080/"
    },
    "executionInfo": {
     "elapsed": 15,
     "status": "ok",
     "timestamp": 1651667871915,
     "user": {
      "displayName": "stu shi",
      "userId": "14122045057611715520"
     },
     "user_tz": -480
    },
    "id": "eDQzp8kdDgDV",
    "outputId": "78707df9-afcf-4f04-e31f-a28847e969ba"
   },
   "outputs": [
    {
     "data": {
      "text/plain": [
       "tensor([[ 0,  1,  2,  3],\n",
       "        [ 4,  5,  6,  7],\n",
       "        [ 8,  9, 10, 11]])"
      ]
     },
     "execution_count": 18,
     "metadata": {},
     "output_type": "execute_result"
    }
   ],
   "source": [
    "X = x.reshape(3, 4)\n",
    "X"
   ]
  },
  {
   "cell_type": "code",
   "execution_count": 19,
   "metadata": {
    "colab": {
     "base_uri": "https://localhost:8080/"
    },
    "executionInfo": {
     "elapsed": 15,
     "status": "ok",
     "timestamp": 1651667871916,
     "user": {
      "displayName": "stu shi",
      "userId": "14122045057611715520"
     },
     "user_tz": -480
    },
    "id": "HaoYqiH1Drd0",
    "outputId": "0b1d49a3-c663-4895-d086-f5e4474fc8d1"
   },
   "outputs": [
    {
     "data": {
      "text/plain": [
       "tensor([[[0., 0., 0., 0.],\n",
       "         [0., 0., 0., 0.],\n",
       "         [0., 0., 0., 0.]],\n",
       "\n",
       "        [[0., 0., 0., 0.],\n",
       "         [0., 0., 0., 0.],\n",
       "         [0., 0., 0., 0.]]])"
      ]
     },
     "execution_count": 19,
     "metadata": {},
     "output_type": "execute_result"
    }
   ],
   "source": [
    "torch.zeros((2,3,4))"
   ]
  },
  {
   "cell_type": "code",
   "execution_count": 20,
   "metadata": {
    "colab": {
     "base_uri": "https://localhost:8080/"
    },
    "executionInfo": {
     "elapsed": 13,
     "status": "ok",
     "timestamp": 1651667871916,
     "user": {
      "displayName": "stu shi",
      "userId": "14122045057611715520"
     },
     "user_tz": -480
    },
    "id": "tiD3kywUEDBU",
    "outputId": "334c22f9-486c-46d4-a319-c8b3ebef113a"
   },
   "outputs": [
    {
     "data": {
      "text/plain": [
       "tensor([[[1., 1., 1., 1.],\n",
       "         [1., 1., 1., 1.],\n",
       "         [1., 1., 1., 1.]],\n",
       "\n",
       "        [[1., 1., 1., 1.],\n",
       "         [1., 1., 1., 1.],\n",
       "         [1., 1., 1., 1.]]])"
      ]
     },
     "execution_count": 20,
     "metadata": {},
     "output_type": "execute_result"
    }
   ],
   "source": [
    "torch.ones((2,3,4))"
   ]
  },
  {
   "cell_type": "code",
   "execution_count": 21,
   "metadata": {
    "colab": {
     "base_uri": "https://localhost:8080/"
    },
    "executionInfo": {
     "elapsed": 12,
     "status": "ok",
     "timestamp": 1651667871917,
     "user": {
      "displayName": "stu shi",
      "userId": "14122045057611715520"
     },
     "user_tz": -480
    },
    "id": "qj0j1rwgEMdt",
    "outputId": "363f677a-1a10-4b83-9349-a1f17e95bcfa"
   },
   "outputs": [
    {
     "data": {
      "text/plain": [
       "tensor([[-1.5048, -0.6776,  0.4755,  0.2938],\n",
       "        [-0.5075,  0.2841,  0.4160, -0.1201],\n",
       "        [ 1.1300, -0.9871,  1.2910,  0.8725]])"
      ]
     },
     "execution_count": 21,
     "metadata": {},
     "output_type": "execute_result"
    }
   ],
   "source": [
    "torch.randn(3,4)"
   ]
  },
  {
   "cell_type": "code",
   "execution_count": 22,
   "metadata": {
    "colab": {
     "base_uri": "https://localhost:8080/"
    },
    "executionInfo": {
     "elapsed": 13,
     "status": "ok",
     "timestamp": 1651667871918,
     "user": {
      "displayName": "stu shi",
      "userId": "14122045057611715520"
     },
     "user_tz": -480
    },
    "id": "-lt7xorsEU1M",
    "outputId": "2e5fda48-9aa4-4411-8edf-36c6a810b56c"
   },
   "outputs": [
    {
     "data": {
      "text/plain": [
       "tensor([[2, 1, 4, 3],\n",
       "        [1, 2, 3, 4],\n",
       "        [4, 3, 2, 1]])"
      ]
     },
     "execution_count": 22,
     "metadata": {},
     "output_type": "execute_result"
    }
   ],
   "source": [
    "torch.tensor([[2,1,4,3],[1,2,3,4],[4,3,2,1]])"
   ]
  },
  {
   "cell_type": "markdown",
   "metadata": {
    "id": "9oCHQtwLEqU7"
   },
   "source": [
    "### 2.1.2 运算符"
   ]
  },
  {
   "cell_type": "code",
   "execution_count": 23,
   "metadata": {
    "colab": {
     "base_uri": "https://localhost:8080/"
    },
    "executionInfo": {
     "elapsed": 348,
     "status": "ok",
     "timestamp": 1651668007927,
     "user": {
      "displayName": "stu shi",
      "userId": "14122045057611715520"
     },
     "user_tz": -480
    },
    "id": "ht_CT8LdEyfq",
    "outputId": "d9f4e355-c881-4430-e619-49ed2c33ee20"
   },
   "outputs": [
    {
     "data": {
      "text/plain": [
       "(tensor([ 3.,  4.,  6., 10.]),\n",
       " tensor([-1.,  0.,  2.,  6.]),\n",
       " tensor([ 2.,  4.,  8., 16.]),\n",
       " tensor([0.5000, 1.0000, 2.0000, 4.0000]),\n",
       " tensor([ 1.,  4., 16., 64.]))"
      ]
     },
     "execution_count": 23,
     "metadata": {},
     "output_type": "execute_result"
    }
   ],
   "source": [
    "x = torch.tensor([1.0,2,4,8])\n",
    "y = torch.tensor([2,2,2,2])\n",
    "x+y, x-y, x*y, x/y, x**y"
   ]
  },
  {
   "cell_type": "code",
   "execution_count": 24,
   "metadata": {
    "colab": {
     "base_uri": "https://localhost:8080/"
    },
    "executionInfo": {
     "elapsed": 336,
     "status": "ok",
     "timestamp": 1651668051127,
     "user": {
      "displayName": "stu shi",
      "userId": "14122045057611715520"
     },
     "user_tz": -480
    },
    "id": "H09b42TdFjPh",
    "outputId": "ea1554af-d65e-4276-9b0a-36a00efcc6f5"
   },
   "outputs": [
    {
     "data": {
      "text/plain": [
       "tensor([2.7183e+00, 7.3891e+00, 5.4598e+01, 2.9810e+03])"
      ]
     },
     "execution_count": 24,
     "metadata": {},
     "output_type": "execute_result"
    }
   ],
   "source": [
    "torch.exp(x)"
   ]
  },
  {
   "cell_type": "code",
   "execution_count": 43,
   "metadata": {
    "colab": {
     "base_uri": "https://localhost:8080/"
    },
    "executionInfo": {
     "elapsed": 372,
     "status": "ok",
     "timestamp": 1651669178533,
     "user": {
      "displayName": "stu shi",
      "userId": "14122045057611715520"
     },
     "user_tz": -480
    },
    "id": "65KfJvKDFunr",
    "outputId": "1e0fa586-c4dc-4269-b8e0-3679b87fc93a"
   },
   "outputs": [
    {
     "data": {
      "text/plain": [
       "(tensor([[ 0.,  1.,  2.,  3.],\n",
       "         [ 4.,  5.,  6.,  7.],\n",
       "         [ 8.,  9., 10., 11.],\n",
       "         [ 2.,  1.,  4.,  3.],\n",
       "         [ 1.,  2.,  3.,  4.],\n",
       "         [ 4.,  3.,  2.,  1.]]),\n",
       " tensor([[ 0.,  1.,  2.,  3.,  2.,  1.,  4.,  3.],\n",
       "         [ 4.,  5.,  6.,  7.,  1.,  2.,  3.,  4.],\n",
       "         [ 8.,  9., 10., 11.,  4.,  3.,  2.,  1.]]))"
      ]
     },
     "execution_count": 43,
     "metadata": {},
     "output_type": "execute_result"
    }
   ],
   "source": [
    "X = torch.arange(12, dtype=torch.float32).reshape(3,4)\n",
    "Y = torch.tensor([[2.0,1,4,3],[1,2,3,4],[4,3,2,1]])\n",
    "torch.cat((X,Y),dim=0), torch.cat((X,Y),dim=1)"
   ]
  },
  {
   "cell_type": "code",
   "execution_count": 44,
   "metadata": {
    "colab": {
     "base_uri": "https://localhost:8080/"
    },
    "executionInfo": {
     "elapsed": 334,
     "status": "ok",
     "timestamp": 1651669181042,
     "user": {
      "displayName": "stu shi",
      "userId": "14122045057611715520"
     },
     "user_tz": -480
    },
    "id": "5U_30FnQGkoo",
    "outputId": "8f397d29-3b39-4999-8f1b-45aee177daca"
   },
   "outputs": [
    {
     "data": {
      "text/plain": [
       "tensor([[False, False, False, False],\n",
       "        [ True,  True,  True,  True],\n",
       "        [ True,  True,  True,  True]])"
      ]
     },
     "execution_count": 44,
     "metadata": {},
     "output_type": "execute_result"
    }
   ],
   "source": [
    "X > Y"
   ]
  },
  {
   "cell_type": "code",
   "execution_count": 28,
   "metadata": {
    "colab": {
     "base_uri": "https://localhost:8080/"
    },
    "executionInfo": {
     "elapsed": 334,
     "status": "ok",
     "timestamp": 1651668335315,
     "user": {
      "displayName": "stu shi",
      "userId": "14122045057611715520"
     },
     "user_tz": -480
    },
    "id": "Z3jMJCVcGqD9",
    "outputId": "4c0d4942-b529-4a10-a9e2-cb49e707602b"
   },
   "outputs": [
    {
     "data": {
      "text/plain": [
       "tensor(66.)"
      ]
     },
     "execution_count": 28,
     "metadata": {},
     "output_type": "execute_result"
    }
   ],
   "source": [
    "X.sum()"
   ]
  },
  {
   "cell_type": "markdown",
   "metadata": {
    "id": "t6tkUyaQGtJN"
   },
   "source": [
    "### 2.1.3 广播机制"
   ]
  },
  {
   "cell_type": "code",
   "execution_count": 29,
   "metadata": {
    "colab": {
     "base_uri": "https://localhost:8080/"
    },
    "executionInfo": {
     "elapsed": 336,
     "status": "ok",
     "timestamp": 1651668454353,
     "user": {
      "displayName": "stu shi",
      "userId": "14122045057611715520"
     },
     "user_tz": -480
    },
    "id": "jjcMFlgIGxne",
    "outputId": "e9765f02-b103-49d4-b9a0-bc24bda1ba96"
   },
   "outputs": [
    {
     "data": {
      "text/plain": [
       "(tensor([[0],\n",
       "         [1],\n",
       "         [2]]), tensor([[0, 1]]))"
      ]
     },
     "execution_count": 29,
     "metadata": {},
     "output_type": "execute_result"
    }
   ],
   "source": [
    "a = torch.arange(3).reshape((3,1))\n",
    "b = torch.arange(2).reshape((1,2))\n",
    "a,b"
   ]
  },
  {
   "cell_type": "code",
   "execution_count": 30,
   "metadata": {
    "colab": {
     "base_uri": "https://localhost:8080/"
    },
    "executionInfo": {
     "elapsed": 453,
     "status": "ok",
     "timestamp": 1651668586927,
     "user": {
      "displayName": "stu shi",
      "userId": "14122045057611715520"
     },
     "user_tz": -480
    },
    "id": "zsdjgtC2HnXx",
    "outputId": "bb3c0838-8542-4742-f8d7-85dfc2300e9c"
   },
   "outputs": [
    {
     "data": {
      "text/plain": [
       "tensor([[0, 1],\n",
       "        [1, 2],\n",
       "        [2, 3]])"
      ]
     },
     "execution_count": 30,
     "metadata": {},
     "output_type": "execute_result"
    }
   ],
   "source": [
    "a+b"
   ]
  },
  {
   "cell_type": "markdown",
   "metadata": {
    "id": "Ix6UBm-xHxJC"
   },
   "source": [
    "### 2.1.4 索引和切片"
   ]
  },
  {
   "cell_type": "code",
   "execution_count": 31,
   "metadata": {
    "colab": {
     "base_uri": "https://localhost:8080/"
    },
    "executionInfo": {
     "elapsed": 377,
     "status": "ok",
     "timestamp": 1651668675426,
     "user": {
      "displayName": "stu shi",
      "userId": "14122045057611715520"
     },
     "user_tz": -480
    },
    "id": "1Ttd1MKLHKtg",
    "outputId": "758da497-fe08-4d30-8be2-010ab6da82fd"
   },
   "outputs": [
    {
     "data": {
      "text/plain": [
       "tensor([[ 0.,  1.,  2.,  3.],\n",
       "        [ 4.,  5.,  6.,  7.],\n",
       "        [ 8.,  9., 10., 11.]])"
      ]
     },
     "execution_count": 31,
     "metadata": {},
     "output_type": "execute_result"
    }
   ],
   "source": [
    "X"
   ]
  },
  {
   "cell_type": "code",
   "execution_count": 32,
   "metadata": {
    "colab": {
     "base_uri": "https://localhost:8080/"
    },
    "executionInfo": {
     "elapsed": 808,
     "status": "ok",
     "timestamp": 1651668700229,
     "user": {
      "displayName": "stu shi",
      "userId": "14122045057611715520"
     },
     "user_tz": -480
    },
    "id": "Wi6G7j99H_rZ",
    "outputId": "8c845943-600b-412e-d34a-9421caba37eb"
   },
   "outputs": [
    {
     "data": {
      "text/plain": [
       "(tensor([ 8.,  9., 10., 11.]), tensor([[ 4.,  5.,  6.,  7.],\n",
       "         [ 8.,  9., 10., 11.]]))"
      ]
     },
     "execution_count": 32,
     "metadata": {},
     "output_type": "execute_result"
    }
   ],
   "source": [
    "X[-1], X[1:3]"
   ]
  },
  {
   "cell_type": "code",
   "execution_count": 33,
   "metadata": {
    "colab": {
     "base_uri": "https://localhost:8080/"
    },
    "executionInfo": {
     "elapsed": 368,
     "status": "ok",
     "timestamp": 1651668725171,
     "user": {
      "displayName": "stu shi",
      "userId": "14122045057611715520"
     },
     "user_tz": -480
    },
    "id": "moEp3_-CIIKp",
    "outputId": "0cdff266-b4b9-41c4-f9c9-6fd0a959d989"
   },
   "outputs": [
    {
     "data": {
      "text/plain": [
       "tensor([[ 0.,  1.,  2.,  3.],\n",
       "        [ 4.,  5.,  9.,  7.],\n",
       "        [ 8.,  9., 10., 11.]])"
      ]
     },
     "execution_count": 33,
     "metadata": {},
     "output_type": "execute_result"
    }
   ],
   "source": [
    "X[1,2]=9\n",
    "X"
   ]
  },
  {
   "cell_type": "code",
   "execution_count": 34,
   "metadata": {
    "colab": {
     "base_uri": "https://localhost:8080/"
    },
    "executionInfo": {
     "elapsed": 373,
     "status": "ok",
     "timestamp": 1651668756047,
     "user": {
      "displayName": "stu shi",
      "userId": "14122045057611715520"
     },
     "user_tz": -480
    },
    "id": "7HodrJSzINpT",
    "outputId": "52ecf0f0-947e-413a-80aa-7a870d3e5808"
   },
   "outputs": [
    {
     "data": {
      "text/plain": [
       "tensor([[12., 12., 12., 12.],\n",
       "        [12., 12., 12., 12.],\n",
       "        [ 8.,  9., 10., 11.]])"
      ]
     },
     "execution_count": 34,
     "metadata": {},
     "output_type": "execute_result"
    }
   ],
   "source": [
    "X[0:2,:] = 12\n",
    "X"
   ]
  },
  {
   "cell_type": "markdown",
   "metadata": {
    "id": "mnXHuEYtIVEt"
   },
   "source": [
    "### 2.1.5 节省内存"
   ]
  },
  {
   "cell_type": "code",
   "execution_count": 35,
   "metadata": {
    "colab": {
     "base_uri": "https://localhost:8080/"
    },
    "executionInfo": {
     "elapsed": 527,
     "status": "ok",
     "timestamp": 1651668858083,
     "user": {
      "displayName": "stu shi",
      "userId": "14122045057611715520"
     },
     "user_tz": -480
    },
    "id": "m04b2ZXGIZo7",
    "outputId": "3ba7f5f1-ef61-4f93-ea91-f022f9c50d46"
   },
   "outputs": [
    {
     "data": {
      "text/plain": [
       "(False, 139663649717424)"
      ]
     },
     "execution_count": 35,
     "metadata": {},
     "output_type": "execute_result"
    }
   ],
   "source": [
    "before = id(Y)\n",
    "Y = Y + X\n",
    "id(y) == before, id(Y)"
   ]
  },
  {
   "cell_type": "code",
   "execution_count": 36,
   "metadata": {
    "colab": {
     "base_uri": "https://localhost:8080/"
    },
    "executionInfo": {
     "elapsed": 387,
     "status": "ok",
     "timestamp": 1651668935672,
     "user": {
      "displayName": "stu shi",
      "userId": "14122045057611715520"
     },
     "user_tz": -480
    },
    "id": "vSn_UFUgI8Li",
    "outputId": "e85cea57-27e6-4d94-a4f3-3a8774f82dd8"
   },
   "outputs": [
    {
     "name": "stdout",
     "output_type": "stream",
     "text": [
      "id(Z): 139663649657488\n",
      "id(Z): 139663649657488\n"
     ]
    }
   ],
   "source": [
    "Z = torch.zeros_like(Y)\n",
    "print('id(Z):', id(Z))\n",
    "Z[:] = X + Y\n",
    "print('id(Z):', id(Z))"
   ]
  },
  {
   "cell_type": "code",
   "execution_count": 37,
   "metadata": {
    "colab": {
     "base_uri": "https://localhost:8080/"
    },
    "executionInfo": {
     "elapsed": 364,
     "status": "ok",
     "timestamp": 1651668968263,
     "user": {
      "displayName": "stu shi",
      "userId": "14122045057611715520"
     },
     "user_tz": -480
    },
    "id": "X6RR27ezJEyn",
    "outputId": "70eebb73-e7cc-44f0-9d19-3226c84149af"
   },
   "outputs": [
    {
     "data": {
      "text/plain": [
       "True"
      ]
     },
     "execution_count": 37,
     "metadata": {},
     "output_type": "execute_result"
    }
   ],
   "source": [
    "before = id(X)\n",
    "X += Y\n",
    "id(X) == before"
   ]
  },
  {
   "cell_type": "markdown",
   "metadata": {
    "id": "o9GwBTMOJKff"
   },
   "source": [
    "### 2.1.6 转换为其他Python对象"
   ]
  },
  {
   "cell_type": "code",
   "execution_count": 39,
   "metadata": {
    "colab": {
     "base_uri": "https://localhost:8080/"
    },
    "executionInfo": {
     "elapsed": 357,
     "status": "ok",
     "timestamp": 1651669073299,
     "user": {
      "displayName": "stu shi",
      "userId": "14122045057611715520"
     },
     "user_tz": -480
    },
    "id": "UU285CXPJQpv",
    "outputId": "b82ff5f6-8e5a-4614-dfb4-8b583c7b24f6"
   },
   "outputs": [
    {
     "data": {
      "text/plain": [
       "(numpy.ndarray, torch.Tensor, 139663649716144, 139663649717328)"
      ]
     },
     "execution_count": 39,
     "metadata": {},
     "output_type": "execute_result"
    }
   ],
   "source": [
    "A = X.numpy()\n",
    "B = torch.tensor(A)\n",
    "type(A), type(B), id(A), id(B) "
   ]
  },
  {
   "cell_type": "code",
   "execution_count": 41,
   "metadata": {
    "colab": {
     "base_uri": "https://localhost:8080/"
    },
    "executionInfo": {
     "elapsed": 5,
     "status": "ok",
     "timestamp": 1651669120866,
     "user": {
      "displayName": "stu shi",
      "userId": "14122045057611715520"
     },
     "user_tz": -480
    },
    "id": "TCj1JHaUJmm3",
    "outputId": "e75d6b82-7f10-452e-c63b-49cbb38bdf01"
   },
   "outputs": [
    {
     "data": {
      "text/plain": [
       "(tensor([3.5000]), 3.5, 3.5, 3, torch.Tensor)"
      ]
     },
     "execution_count": 41,
     "metadata": {},
     "output_type": "execute_result"
    }
   ],
   "source": [
    "a = torch.tensor([3.5])\n",
    "a, a.item(), float(a), int(a), type(a)"
   ]
  },
  {
   "cell_type": "markdown",
   "metadata": {
    "id": "aQ3Vbnz4KZMd",
    "jp-MarkdownHeadingCollapsed": true,
    "tags": []
   },
   "source": [
    "## 2.2 数据预处理"
   ]
  },
  {
   "cell_type": "markdown",
   "metadata": {
    "id": "IMyVEo-1Kdwd"
   },
   "source": [
    "### 2.2.1读取数据集"
   ]
  },
  {
   "cell_type": "code",
   "execution_count": 47,
   "metadata": {
    "executionInfo": {
     "elapsed": 358,
     "status": "ok",
     "timestamp": 1651669519932,
     "user": {
      "displayName": "stu shi",
      "userId": "14122045057611715520"
     },
     "user_tz": -480
    },
    "id": "elM5rEHpKNEt"
   },
   "outputs": [],
   "source": [
    "import os\n",
    "os.makedirs(os.path.join('..', 'data'), exist_ok=True)\n",
    "data_file = os.path.join('..', 'data', 'house_tiny.csv')\n",
    "with open(data_file, 'w') as f:\n",
    "  f.write('NumRooms,Alley,Price\\n') # 列名\n",
    "  f.write('NA,Pave,127500\\n') # 每⾏表⽰⼀个数据样本\n",
    "  f.write('2,NA,106000\\n')\n",
    "  f.write('4,NA,178100\\n')\n",
    "  f.write('NA,NA,140000\\n')"
   ]
  },
  {
   "cell_type": "code",
   "execution_count": 49,
   "metadata": {
    "colab": {
     "base_uri": "https://localhost:8080/",
     "height": 175
    },
    "executionInfo": {
     "elapsed": 368,
     "status": "ok",
     "timestamp": 1651669649786,
     "user": {
      "displayName": "stu shi",
      "userId": "14122045057611715520"
     },
     "user_tz": -480
    },
    "id": "J9Q09Z99LdfC",
    "outputId": "782e2a73-4875-46aa-9edb-5c63680124ce"
   },
   "outputs": [
    {
     "data": {
      "text/html": [
       "\n",
       "  <div id=\"df-15e1fc12-1426-448d-b0f9-0595e40fd0b9\">\n",
       "    <div class=\"colab-df-container\">\n",
       "      <div>\n",
       "<style scoped>\n",
       "    .dataframe tbody tr th:only-of-type {\n",
       "        vertical-align: middle;\n",
       "    }\n",
       "\n",
       "    .dataframe tbody tr th {\n",
       "        vertical-align: top;\n",
       "    }\n",
       "\n",
       "    .dataframe thead th {\n",
       "        text-align: right;\n",
       "    }\n",
       "</style>\n",
       "<table border=\"1\" class=\"dataframe\">\n",
       "  <thead>\n",
       "    <tr style=\"text-align: right;\">\n",
       "      <th></th>\n",
       "      <th>NumRooms</th>\n",
       "      <th>Alley</th>\n",
       "      <th>Price</th>\n",
       "    </tr>\n",
       "  </thead>\n",
       "  <tbody>\n",
       "    <tr>\n",
       "      <th>0</th>\n",
       "      <td>NaN</td>\n",
       "      <td>Pave</td>\n",
       "      <td>127500</td>\n",
       "    </tr>\n",
       "    <tr>\n",
       "      <th>1</th>\n",
       "      <td>2.0</td>\n",
       "      <td>NaN</td>\n",
       "      <td>106000</td>\n",
       "    </tr>\n",
       "    <tr>\n",
       "      <th>2</th>\n",
       "      <td>4.0</td>\n",
       "      <td>NaN</td>\n",
       "      <td>178100</td>\n",
       "    </tr>\n",
       "    <tr>\n",
       "      <th>3</th>\n",
       "      <td>NaN</td>\n",
       "      <td>NaN</td>\n",
       "      <td>140000</td>\n",
       "    </tr>\n",
       "  </tbody>\n",
       "</table>\n",
       "</div>\n",
       "      <button class=\"colab-df-convert\" onclick=\"convertToInteractive('df-15e1fc12-1426-448d-b0f9-0595e40fd0b9')\"\n",
       "              title=\"Convert this dataframe to an interactive table.\"\n",
       "              style=\"display:none;\">\n",
       "        \n",
       "  <svg xmlns=\"http://www.w3.org/2000/svg\" height=\"24px\"viewBox=\"0 0 24 24\"\n",
       "       width=\"24px\">\n",
       "    <path d=\"M0 0h24v24H0V0z\" fill=\"none\"/>\n",
       "    <path d=\"M18.56 5.44l.94 2.06.94-2.06 2.06-.94-2.06-.94-.94-2.06-.94 2.06-2.06.94zm-11 1L8.5 8.5l.94-2.06 2.06-.94-2.06-.94L8.5 2.5l-.94 2.06-2.06.94zm10 10l.94 2.06.94-2.06 2.06-.94-2.06-.94-.94-2.06-.94 2.06-2.06.94z\"/><path d=\"M17.41 7.96l-1.37-1.37c-.4-.4-.92-.59-1.43-.59-.52 0-1.04.2-1.43.59L10.3 9.45l-7.72 7.72c-.78.78-.78 2.05 0 2.83L4 21.41c.39.39.9.59 1.41.59.51 0 1.02-.2 1.41-.59l7.78-7.78 2.81-2.81c.8-.78.8-2.07 0-2.86zM5.41 20L4 18.59l7.72-7.72 1.47 1.35L5.41 20z\"/>\n",
       "  </svg>\n",
       "      </button>\n",
       "      \n",
       "  <style>\n",
       "    .colab-df-container {\n",
       "      display:flex;\n",
       "      flex-wrap:wrap;\n",
       "      gap: 12px;\n",
       "    }\n",
       "\n",
       "    .colab-df-convert {\n",
       "      background-color: #E8F0FE;\n",
       "      border: none;\n",
       "      border-radius: 50%;\n",
       "      cursor: pointer;\n",
       "      display: none;\n",
       "      fill: #1967D2;\n",
       "      height: 32px;\n",
       "      padding: 0 0 0 0;\n",
       "      width: 32px;\n",
       "    }\n",
       "\n",
       "    .colab-df-convert:hover {\n",
       "      background-color: #E2EBFA;\n",
       "      box-shadow: 0px 1px 2px rgba(60, 64, 67, 0.3), 0px 1px 3px 1px rgba(60, 64, 67, 0.15);\n",
       "      fill: #174EA6;\n",
       "    }\n",
       "\n",
       "    [theme=dark] .colab-df-convert {\n",
       "      background-color: #3B4455;\n",
       "      fill: #D2E3FC;\n",
       "    }\n",
       "\n",
       "    [theme=dark] .colab-df-convert:hover {\n",
       "      background-color: #434B5C;\n",
       "      box-shadow: 0px 1px 3px 1px rgba(0, 0, 0, 0.15);\n",
       "      filter: drop-shadow(0px 1px 2px rgba(0, 0, 0, 0.3));\n",
       "      fill: #FFFFFF;\n",
       "    }\n",
       "  </style>\n",
       "\n",
       "      <script>\n",
       "        const buttonEl =\n",
       "          document.querySelector('#df-15e1fc12-1426-448d-b0f9-0595e40fd0b9 button.colab-df-convert');\n",
       "        buttonEl.style.display =\n",
       "          google.colab.kernel.accessAllowed ? 'block' : 'none';\n",
       "\n",
       "        async function convertToInteractive(key) {\n",
       "          const element = document.querySelector('#df-15e1fc12-1426-448d-b0f9-0595e40fd0b9');\n",
       "          const dataTable =\n",
       "            await google.colab.kernel.invokeFunction('convertToInteractive',\n",
       "                                                     [key], {});\n",
       "          if (!dataTable) return;\n",
       "\n",
       "          const docLinkHtml = 'Like what you see? Visit the ' +\n",
       "            '<a target=\"_blank\" href=https://colab.research.google.com/notebooks/data_table.ipynb>data table notebook</a>'\n",
       "            + ' to learn more about interactive tables.';\n",
       "          element.innerHTML = '';\n",
       "          dataTable['output_type'] = 'display_data';\n",
       "          await google.colab.output.renderOutput(dataTable, element);\n",
       "          const docLink = document.createElement('div');\n",
       "          docLink.innerHTML = docLinkHtml;\n",
       "          element.appendChild(docLink);\n",
       "        }\n",
       "      </script>\n",
       "    </div>\n",
       "  </div>\n",
       "  "
      ],
      "text/plain": [
       "   NumRooms Alley   Price\n",
       "0       NaN  Pave  127500\n",
       "1       2.0   NaN  106000\n",
       "2       4.0   NaN  178100\n",
       "3       NaN   NaN  140000"
      ]
     },
     "execution_count": 49,
     "metadata": {},
     "output_type": "execute_result"
    }
   ],
   "source": [
    "import pandas as pd\n",
    "\n",
    "data = pd.read_csv(data_file)\n",
    "data"
   ]
  },
  {
   "cell_type": "markdown",
   "metadata": {
    "id": "mHorwt6eL1YC"
   },
   "source": [
    "### 2.2.2处理缺失值"
   ]
  },
  {
   "cell_type": "code",
   "execution_count": 51,
   "metadata": {
    "colab": {
     "base_uri": "https://localhost:8080/"
    },
    "executionInfo": {
     "elapsed": 6,
     "status": "ok",
     "timestamp": 1651669913323,
     "user": {
      "displayName": "stu shi",
      "userId": "14122045057611715520"
     },
     "user_tz": -480
    },
    "id": "fqc3Sh4NMJEF",
    "outputId": "694cd1d0-79b0-4d54-94ad-3aaae1ee7f25"
   },
   "outputs": [
    {
     "name": "stdout",
     "output_type": "stream",
     "text": [
      "   NumRooms Alley\n",
      "0       3.0  Pave\n",
      "1       2.0   NaN\n",
      "2       4.0   NaN\n",
      "3       3.0   NaN\n"
     ]
    },
    {
     "name": "stderr",
     "output_type": "stream",
     "text": [
      "/usr/local/lib/python3.7/dist-packages/ipykernel_launcher.py:2: FutureWarning: Dropping of nuisance columns in DataFrame reductions (with 'numeric_only=None') is deprecated; in a future version this will raise TypeError.  Select only valid columns before calling the reduction.\n",
      "  \n"
     ]
    }
   ],
   "source": [
    "inputs, outputs = data.iloc[:,0:2], data.iloc[:,-1]\n",
    "inputs = inputs.fillna(inputs.mean())\n",
    "print(inputs)"
   ]
  },
  {
   "cell_type": "code",
   "execution_count": 52,
   "metadata": {
    "colab": {
     "base_uri": "https://localhost:8080/"
    },
    "executionInfo": {
     "elapsed": 579,
     "status": "ok",
     "timestamp": 1651670005880,
     "user": {
      "displayName": "stu shi",
      "userId": "14122045057611715520"
     },
     "user_tz": -480
    },
    "id": "ihIwJQwZM3Yk",
    "outputId": "fe81ac40-d72a-49f2-bedb-61774d1012a9"
   },
   "outputs": [
    {
     "name": "stdout",
     "output_type": "stream",
     "text": [
      "   NumRooms  Alley_Pave  Alley_nan\n",
      "0       3.0           1          0\n",
      "1       2.0           0          1\n",
      "2       4.0           0          1\n",
      "3       3.0           0          1\n"
     ]
    }
   ],
   "source": [
    "inputs = pd.get_dummies(inputs, dummy_na=True)\n",
    "print(inputs)"
   ]
  },
  {
   "cell_type": "markdown",
   "metadata": {
    "id": "HGEQ1od5R0Tq"
   },
   "source": [
    "### 2.2.3转换成张量格式"
   ]
  },
  {
   "cell_type": "code",
   "execution_count": 54,
   "metadata": {
    "colab": {
     "base_uri": "https://localhost:8080/"
    },
    "executionInfo": {
     "elapsed": 7,
     "status": "ok",
     "timestamp": 1651671351007,
     "user": {
      "displayName": "stu shi",
      "userId": "14122045057611715520"
     },
     "user_tz": -480
    },
    "id": "OvtCc2LwR4Yl",
    "outputId": "d3c4ad9d-245c-40dd-dbb6-a9134812ffba"
   },
   "outputs": [
    {
     "data": {
      "text/plain": [
       "(tensor([[3., 1., 0.],\n",
       "         [2., 0., 1.],\n",
       "         [4., 0., 1.],\n",
       "         [3., 0., 1.]], dtype=torch.float64),\n",
       " tensor([127500, 106000, 178100, 140000]))"
      ]
     },
     "execution_count": 54,
     "metadata": {},
     "output_type": "execute_result"
    }
   ],
   "source": [
    "import torch\n",
    "\n",
    "X, y =torch.tensor(inputs.values), torch.tensor(outputs.values)\n",
    "X,y"
   ]
  },
  {
   "cell_type": "markdown",
   "metadata": {
    "id": "7O-XgheQSRsj",
    "jp-MarkdownHeadingCollapsed": true,
    "tags": []
   },
   "source": [
    "## 2.3线性代数"
   ]
  },
  {
   "cell_type": "markdown",
   "metadata": {
    "id": "NGtbOYIkSVRB"
   },
   "source": [
    "### 2.3.1标量"
   ]
  },
  {
   "cell_type": "code",
   "execution_count": 55,
   "metadata": {
    "colab": {
     "base_uri": "https://localhost:8080/"
    },
    "executionInfo": {
     "elapsed": 372,
     "status": "ok",
     "timestamp": 1651671492170,
     "user": {
      "displayName": "stu shi",
      "userId": "14122045057611715520"
     },
     "user_tz": -480
    },
    "id": "zAb8MZ9xSZTR",
    "outputId": "ecf31d7c-fecd-40b8-d096-13ecfe5709c5"
   },
   "outputs": [
    {
     "data": {
      "text/plain": [
       "(tensor(5.), tensor(1.), tensor(6.), tensor(1.5000), tensor(9.))"
      ]
     },
     "execution_count": 55,
     "metadata": {},
     "output_type": "execute_result"
    }
   ],
   "source": [
    "import torch\n",
    "\n",
    "x = torch.tensor(3.0)\n",
    "y = torch.tensor(2.0)\n",
    "x+y, x-y, x*y, x/y, x**y "
   ]
  },
  {
   "cell_type": "markdown",
   "metadata": {
    "id": "QMTZnoxES0PY"
   },
   "source": [
    "### 2.3.2向量"
   ]
  },
  {
   "cell_type": "code",
   "execution_count": 6,
   "metadata": {
    "colab": {
     "base_uri": "https://localhost:8080/"
    },
    "executionInfo": {
     "elapsed": 386,
     "status": "ok",
     "timestamp": 1651730273631,
     "user": {
      "displayName": "stu shi",
      "userId": "14122045057611715520"
     },
     "user_tz": -480
    },
    "id": "y34gBnouSzAA",
    "outputId": "71b75c98-1fa4-44f4-ebf1-661092ead4a0"
   },
   "outputs": [
    {
     "data": {
      "text/plain": [
       "tensor([0., 1., 2., 3.])"
      ]
     },
     "execution_count": 6,
     "metadata": {},
     "output_type": "execute_result"
    }
   ],
   "source": [
    "x = torch.arange(4,dtype=torch.float32)\n",
    "x"
   ]
  },
  {
   "cell_type": "code",
   "execution_count": 57,
   "metadata": {
    "colab": {
     "base_uri": "https://localhost:8080/"
    },
    "executionInfo": {
     "elapsed": 6,
     "status": "ok",
     "timestamp": 1651671576765,
     "user": {
      "displayName": "stu shi",
      "userId": "14122045057611715520"
     },
     "user_tz": -480
    },
    "id": "70uQogzBTAFZ",
    "outputId": "4167953b-7624-4010-bfbd-2a0ec4048bd1"
   },
   "outputs": [
    {
     "data": {
      "text/plain": [
       "tensor(3)"
      ]
     },
     "execution_count": 57,
     "metadata": {},
     "output_type": "execute_result"
    }
   ],
   "source": [
    "x[3]"
   ]
  },
  {
   "cell_type": "code",
   "execution_count": 58,
   "metadata": {
    "colab": {
     "base_uri": "https://localhost:8080/"
    },
    "executionInfo": {
     "elapsed": 401,
     "status": "ok",
     "timestamp": 1651671595152,
     "user": {
      "displayName": "stu shi",
      "userId": "14122045057611715520"
     },
     "user_tz": -480
    },
    "id": "drAPgfz8TDkl",
    "outputId": "08b82f10-c5e5-4270-92c0-71181dd74331"
   },
   "outputs": [
    {
     "data": {
      "text/plain": [
       "4"
      ]
     },
     "execution_count": 58,
     "metadata": {},
     "output_type": "execute_result"
    }
   ],
   "source": [
    "len(x)"
   ]
  },
  {
   "cell_type": "code",
   "execution_count": 59,
   "metadata": {
    "colab": {
     "base_uri": "https://localhost:8080/"
    },
    "executionInfo": {
     "elapsed": 5,
     "status": "ok",
     "timestamp": 1651671602698,
     "user": {
      "displayName": "stu shi",
      "userId": "14122045057611715520"
     },
     "user_tz": -480
    },
    "id": "3HtKwV1HTDdn",
    "outputId": "5984ac56-a95a-496f-ef92-1563a12983e1"
   },
   "outputs": [
    {
     "data": {
      "text/plain": [
       "torch.Size([4])"
      ]
     },
     "execution_count": 59,
     "metadata": {},
     "output_type": "execute_result"
    }
   ],
   "source": [
    "x.shape"
   ]
  },
  {
   "cell_type": "markdown",
   "metadata": {
    "id": "i664w7w0TP5s"
   },
   "source": [
    "### 2.3.3矩阵"
   ]
  },
  {
   "cell_type": "code",
   "execution_count": 2,
   "metadata": {
    "colab": {
     "base_uri": "https://localhost:8080/"
    },
    "executionInfo": {
     "elapsed": 2670,
     "status": "ok",
     "timestamp": 1651727320411,
     "user": {
      "displayName": "stu shi",
      "userId": "14122045057611715520"
     },
     "user_tz": -480
    },
    "id": "om-pew3NTJvv",
    "outputId": "8778c0ff-1439-4fcf-b112-ab2268047f2b"
   },
   "outputs": [
    {
     "data": {
      "text/plain": [
       "tensor([[ 0,  1,  2,  3],\n",
       "        [ 4,  5,  6,  7],\n",
       "        [ 8,  9, 10, 11],\n",
       "        [12, 13, 14, 15],\n",
       "        [16, 17, 18, 19]])"
      ]
     },
     "execution_count": 2,
     "metadata": {},
     "output_type": "execute_result"
    }
   ],
   "source": [
    "import torch\n",
    "\n",
    "A = torch.arange(20).reshape(5, 4)\n",
    "A"
   ]
  },
  {
   "cell_type": "code",
   "execution_count": 2,
   "metadata": {
    "colab": {
     "base_uri": "https://localhost:8080/"
    },
    "executionInfo": {
     "elapsed": 393,
     "status": "ok",
     "timestamp": 1651716401729,
     "user": {
      "displayName": "stu shi",
      "userId": "14122045057611715520"
     },
     "user_tz": -480
    },
    "id": "tvqAAcgH-BMg",
    "outputId": "de1e6c4e-2108-4ef4-ec0e-4082b40f74d9"
   },
   "outputs": [
    {
     "data": {
      "text/plain": [
       "tensor([[ 0,  4,  8, 12, 16],\n",
       "        [ 1,  5,  9, 13, 17],\n",
       "        [ 2,  6, 10, 14, 18],\n",
       "        [ 3,  7, 11, 15, 19]])"
      ]
     },
     "execution_count": 2,
     "metadata": {},
     "output_type": "execute_result"
    }
   ],
   "source": [
    "A.T"
   ]
  },
  {
   "cell_type": "code",
   "execution_count": 4,
   "metadata": {
    "colab": {
     "base_uri": "https://localhost:8080/"
    },
    "executionInfo": {
     "elapsed": 326,
     "status": "ok",
     "timestamp": 1651716473074,
     "user": {
      "displayName": "stu shi",
      "userId": "14122045057611715520"
     },
     "user_tz": -480
    },
    "id": "ZXyH_f9t-FHT",
    "outputId": "3b7cd5af-c81a-48d4-b26f-9ebcb9ea7750"
   },
   "outputs": [
    {
     "data": {
      "text/plain": [
       "tensor([[1, 2, 3],\n",
       "        [2, 0, 4],\n",
       "        [3, 4, 5]])"
      ]
     },
     "execution_count": 4,
     "metadata": {},
     "output_type": "execute_result"
    }
   ],
   "source": [
    "B = torch.tensor([[1,2,3],[2,0,4],[3,4,5]])\n",
    "B"
   ]
  },
  {
   "cell_type": "code",
   "execution_count": 5,
   "metadata": {
    "colab": {
     "base_uri": "https://localhost:8080/"
    },
    "executionInfo": {
     "elapsed": 350,
     "status": "ok",
     "timestamp": 1651716486244,
     "user": {
      "displayName": "stu shi",
      "userId": "14122045057611715520"
     },
     "user_tz": -480
    },
    "id": "w2iAnyrV-T0B",
    "outputId": "b7e3935a-0d69-4d15-edee-9b4e469f941b"
   },
   "outputs": [
    {
     "data": {
      "text/plain": [
       "tensor([[True, True, True],\n",
       "        [True, True, True],\n",
       "        [True, True, True]])"
      ]
     },
     "execution_count": 5,
     "metadata": {},
     "output_type": "execute_result"
    }
   ],
   "source": [
    "B == B.T"
   ]
  },
  {
   "cell_type": "markdown",
   "metadata": {
    "id": "pQV9Tc1ZDj8F"
   },
   "source": [
    "### 2.3.4张量"
   ]
  },
  {
   "cell_type": "code",
   "execution_count": 6,
   "metadata": {
    "colab": {
     "base_uri": "https://localhost:8080/"
    },
    "executionInfo": {
     "elapsed": 343,
     "status": "ok",
     "timestamp": 1651717901926,
     "user": {
      "displayName": "stu shi",
      "userId": "14122045057611715520"
     },
     "user_tz": -480
    },
    "id": "U4cUAbIj-W93",
    "outputId": "8eeab40c-1057-4855-ef32-431c46871b0d"
   },
   "outputs": [
    {
     "data": {
      "text/plain": [
       "tensor([[[ 0,  1,  2,  3],\n",
       "         [ 4,  5,  6,  7],\n",
       "         [ 8,  9, 10, 11]],\n",
       "\n",
       "        [[12, 13, 14, 15],\n",
       "         [16, 17, 18, 19],\n",
       "         [20, 21, 22, 23]]])"
      ]
     },
     "execution_count": 6,
     "metadata": {},
     "output_type": "execute_result"
    }
   ],
   "source": [
    "X = torch.arange(24).reshape(2,3,4)\n",
    "X"
   ]
  },
  {
   "cell_type": "markdown",
   "metadata": {
    "id": "n8kvr4J-D1uS"
   },
   "source": [
    "### 2.3.5张量算法的基本性质"
   ]
  },
  {
   "cell_type": "code",
   "execution_count": 7,
   "metadata": {
    "colab": {
     "base_uri": "https://localhost:8080/"
    },
    "executionInfo": {
     "elapsed": 319,
     "status": "ok",
     "timestamp": 1651718009598,
     "user": {
      "displayName": "stu shi",
      "userId": "14122045057611715520"
     },
     "user_tz": -480
    },
    "id": "GkEvhEMgDwpq",
    "outputId": "0cbc9090-804a-431f-f0ea-b921bf30a9b6"
   },
   "outputs": [
    {
     "data": {
      "text/plain": [
       "(tensor([[ 0.,  1.,  2.,  3.],\n",
       "         [ 4.,  5.,  6.,  7.],\n",
       "         [ 8.,  9., 10., 11.],\n",
       "         [12., 13., 14., 15.],\n",
       "         [16., 17., 18., 19.]]), tensor([[ 0.,  1.,  2.,  3.],\n",
       "         [ 4.,  5.,  6.,  7.],\n",
       "         [ 8.,  9., 10., 11.],\n",
       "         [12., 13., 14., 15.],\n",
       "         [16., 17., 18., 19.]]), tensor([[ 0.,  2.,  4.,  6.],\n",
       "         [ 8., 10., 12., 14.],\n",
       "         [16., 18., 20., 22.],\n",
       "         [24., 26., 28., 30.],\n",
       "         [32., 34., 36., 38.]]))"
      ]
     },
     "execution_count": 7,
     "metadata": {},
     "output_type": "execute_result"
    }
   ],
   "source": [
    "A = torch.arange(20,dtype=torch.float32).reshape(5,4)\n",
    "B = A.clone() #分配新的内存\n",
    "A,B,A+B"
   ]
  },
  {
   "cell_type": "code",
   "execution_count": 8,
   "metadata": {
    "colab": {
     "base_uri": "https://localhost:8080/"
    },
    "executionInfo": {
     "elapsed": 322,
     "status": "ok",
     "timestamp": 1651718059254,
     "user": {
      "displayName": "stu shi",
      "userId": "14122045057611715520"
     },
     "user_tz": -480
    },
    "id": "OmGrdlcWEK8p",
    "outputId": "733b3431-3f47-4a4b-f6fb-ca4555173aa1"
   },
   "outputs": [
    {
     "data": {
      "text/plain": [
       "tensor([[  0.,   1.,   4.,   9.],\n",
       "        [ 16.,  25.,  36.,  49.],\n",
       "        [ 64.,  81., 100., 121.],\n",
       "        [144., 169., 196., 225.],\n",
       "        [256., 289., 324., 361.]])"
      ]
     },
     "execution_count": 8,
     "metadata": {},
     "output_type": "execute_result"
    }
   ],
   "source": [
    "A * B"
   ]
  },
  {
   "cell_type": "code",
   "execution_count": 9,
   "metadata": {
    "colab": {
     "base_uri": "https://localhost:8080/"
    },
    "executionInfo": {
     "elapsed": 374,
     "status": "ok",
     "timestamp": 1651718114985,
     "user": {
      "displayName": "stu shi",
      "userId": "14122045057611715520"
     },
     "user_tz": -480
    },
    "id": "egJQi5JDEW5x",
    "outputId": "500a6905-7b35-436c-e8b9-6bcb404d1a94"
   },
   "outputs": [
    {
     "data": {
      "text/plain": [
       "(tensor([[[ 2,  3,  4,  5],\n",
       "          [ 6,  7,  8,  9],\n",
       "          [10, 11, 12, 13]],\n",
       " \n",
       "         [[14, 15, 16, 17],\n",
       "          [18, 19, 20, 21],\n",
       "          [22, 23, 24, 25]]]), torch.Size([2, 3, 4]))"
      ]
     },
     "execution_count": 9,
     "metadata": {},
     "output_type": "execute_result"
    }
   ],
   "source": [
    "a = 2\n",
    "X = torch.arange(24).reshape(2,3,4)\n",
    "a+X,(a*X).shape"
   ]
  },
  {
   "cell_type": "markdown",
   "metadata": {
    "id": "ppU5wj0XEz6H"
   },
   "source": [
    "### 2.3.6降维"
   ]
  },
  {
   "cell_type": "code",
   "execution_count": 12,
   "metadata": {
    "colab": {
     "base_uri": "https://localhost:8080/"
    },
    "executionInfo": {
     "elapsed": 332,
     "status": "ok",
     "timestamp": 1651718345341,
     "user": {
      "displayName": "stu shi",
      "userId": "14122045057611715520"
     },
     "user_tz": -480
    },
    "id": "uF1VVU6LExca",
    "outputId": "de00dbdb-7706-48b3-ef52-d7a14383a44f"
   },
   "outputs": [
    {
     "data": {
      "text/plain": [
       "(tensor([0., 1., 2., 3.]), tensor(6.))"
      ]
     },
     "execution_count": 12,
     "metadata": {},
     "output_type": "execute_result"
    }
   ],
   "source": [
    "x = torch.arange(4,dtype=torch.float32)\n",
    "x,x.sum()"
   ]
  },
  {
   "cell_type": "code",
   "execution_count": 13,
   "metadata": {
    "colab": {
     "base_uri": "https://localhost:8080/"
    },
    "executionInfo": {
     "elapsed": 522,
     "status": "ok",
     "timestamp": 1651718563548,
     "user": {
      "displayName": "stu shi",
      "userId": "14122045057611715520"
     },
     "user_tz": -480
    },
    "id": "-O1sBHSfFc32",
    "outputId": "1c556fe7-7e36-4c79-f15d-9c68a234bc33"
   },
   "outputs": [
    {
     "data": {
      "text/plain": [
       "tensor([[ 0.,  1.,  2.,  3.],\n",
       "        [ 4.,  5.,  6.,  7.],\n",
       "        [ 8.,  9., 10., 11.],\n",
       "        [12., 13., 14., 15.],\n",
       "        [16., 17., 18., 19.]])"
      ]
     },
     "execution_count": 13,
     "metadata": {},
     "output_type": "execute_result"
    }
   ],
   "source": [
    "A"
   ]
  },
  {
   "cell_type": "code",
   "execution_count": 14,
   "metadata": {
    "colab": {
     "base_uri": "https://localhost:8080/"
    },
    "executionInfo": {
     "elapsed": 343,
     "status": "ok",
     "timestamp": 1651718579496,
     "user": {
      "displayName": "stu shi",
      "userId": "14122045057611715520"
     },
     "user_tz": -480
    },
    "id": "hMqINGdsGSFh",
    "outputId": "d13eec40-6660-4391-d731-f9c6bd6acb40"
   },
   "outputs": [
    {
     "data": {
      "text/plain": [
       "(torch.Size([5, 4]), tensor(190.))"
      ]
     },
     "execution_count": 14,
     "metadata": {},
     "output_type": "execute_result"
    }
   ],
   "source": [
    "A.shape, A.sum()"
   ]
  },
  {
   "cell_type": "code",
   "execution_count": 15,
   "metadata": {
    "colab": {
     "base_uri": "https://localhost:8080/"
    },
    "executionInfo": {
     "elapsed": 9,
     "status": "ok",
     "timestamp": 1651718968036,
     "user": {
      "displayName": "stu shi",
      "userId": "14122045057611715520"
     },
     "user_tz": -480
    },
    "id": "JJe47Om2GWEW",
    "outputId": "9b132e2a-76fa-4f08-873b-9ea186c3daee"
   },
   "outputs": [
    {
     "data": {
      "text/plain": [
       "tensor([40., 45., 50., 55.])"
      ]
     },
     "execution_count": 15,
     "metadata": {},
     "output_type": "execute_result"
    }
   ],
   "source": [
    "A_sum_axis0 = A.sum(axis=0)\n",
    "A_sum_axis0"
   ]
  },
  {
   "cell_type": "code",
   "execution_count": 17,
   "metadata": {
    "colab": {
     "base_uri": "https://localhost:8080/"
    },
    "executionInfo": {
     "elapsed": 322,
     "status": "ok",
     "timestamp": 1651719406465,
     "user": {
      "displayName": "stu shi",
      "userId": "14122045057611715520"
     },
     "user_tz": -480
    },
    "id": "zeaoYVEZEvMn",
    "outputId": "a8d78107-4f85-49ef-f5ea-5699a56d8874"
   },
   "outputs": [
    {
     "data": {
      "text/plain": [
       "(tensor([[ 6.],\n",
       "         [22.],\n",
       "         [38.],\n",
       "         [54.],\n",
       "         [70.]]), torch.Size([5, 1]))"
      ]
     },
     "execution_count": 17,
     "metadata": {},
     "output_type": "execute_result"
    }
   ],
   "source": [
    "#非降维求和\n",
    "sum_A = A.sum(axis=1, keepdim=True)\n",
    "sum_A,sum_A.shape"
   ]
  },
  {
   "cell_type": "code",
   "execution_count": 3,
   "metadata": {
    "colab": {
     "base_uri": "https://localhost:8080/"
    },
    "executionInfo": {
     "elapsed": 371,
     "status": "ok",
     "timestamp": 1651727327024,
     "user": {
      "displayName": "stu shi",
      "userId": "14122045057611715520"
     },
     "user_tz": -480
    },
    "id": "BPI3E83rJcv9",
    "outputId": "45e70740-cbc0-4fd3-b497-099b2dc3c739"
   },
   "outputs": [
    {
     "data": {
      "text/plain": [
       "(tensor([[ 0,  1,  2,  3],\n",
       "         [ 4,  5,  6,  7],\n",
       "         [ 8,  9, 10, 11],\n",
       "         [12, 13, 14, 15],\n",
       "         [16, 17, 18, 19]]), tensor([[ 0,  1,  2,  3],\n",
       "         [ 4,  6,  8, 10],\n",
       "         [12, 15, 18, 21],\n",
       "         [24, 28, 32, 36],\n",
       "         [40, 45, 50, 55]]))"
      ]
     },
     "execution_count": 3,
     "metadata": {},
     "output_type": "execute_result"
    }
   ],
   "source": [
    "A, A.cumsum(axis=0)"
   ]
  },
  {
   "cell_type": "markdown",
   "metadata": {
    "id": "c-Ht3bPbn77F"
   },
   "source": [
    "### 2.3.7点积"
   ]
  },
  {
   "cell_type": "code",
   "execution_count": 7,
   "metadata": {
    "colab": {
     "base_uri": "https://localhost:8080/"
    },
    "executionInfo": {
     "elapsed": 340,
     "status": "ok",
     "timestamp": 1651730279016,
     "user": {
      "displayName": "stu shi",
      "userId": "14122045057611715520"
     },
     "user_tz": -480
    },
    "id": "aG0l1M5Fnmqe",
    "outputId": "76e44d82-984b-47c2-dc7b-5fd1d0ee6464"
   },
   "outputs": [
    {
     "data": {
      "text/plain": [
       "(tensor([0., 1., 2., 3.]), tensor([1., 1., 1., 1.]), tensor(6.))"
      ]
     },
     "execution_count": 7,
     "metadata": {},
     "output_type": "execute_result"
    }
   ],
   "source": [
    "y = torch.ones(4,dtype=torch.float32)\n",
    "x,y,torch.dot(x,y)"
   ]
  },
  {
   "cell_type": "markdown",
   "metadata": {
    "id": "3GbiXxXszMVR"
   },
   "source": [
    "### 2.3.8 矩阵-向量积"
   ]
  },
  {
   "cell_type": "code",
   "execution_count": 19,
   "metadata": {
    "colab": {
     "base_uri": "https://localhost:8080/"
    },
    "executionInfo": {
     "elapsed": 9,
     "status": "ok",
     "timestamp": 1651730620450,
     "user": {
      "displayName": "stu shi",
      "userId": "14122045057611715520"
     },
     "user_tz": -480
    },
    "id": "KYCn2qcjzQ0J",
    "outputId": "7df0d585-0b70-4ef0-8de4-ebbe3094e844"
   },
   "outputs": [
    {
     "data": {
      "text/plain": [
       "(torch.Size([5, 4]), torch.Size([4]), tensor([ 14.,  38.,  62.,  86., 110.]))"
      ]
     },
     "execution_count": 19,
     "metadata": {},
     "output_type": "execute_result"
    }
   ],
   "source": [
    "A.shape, x.shape, torch.mv(A,x)"
   ]
  },
  {
   "cell_type": "code",
   "execution_count": 20,
   "metadata": {
    "colab": {
     "base_uri": "https://localhost:8080/"
    },
    "executionInfo": {
     "elapsed": 353,
     "status": "ok",
     "timestamp": 1651730636257,
     "user": {
      "displayName": "stu shi",
      "userId": "14122045057611715520"
     },
     "user_tz": -480
    },
    "id": "pIbaGyMVzgi4",
    "outputId": "ea03a9c2-5c7c-4584-f80d-2d689545213c"
   },
   "outputs": [
    {
     "data": {
      "text/plain": [
       "tensor([[ 0.,  1.,  2.,  3.],\n",
       "        [ 4.,  5.,  6.,  7.],\n",
       "        [ 8.,  9., 10., 11.],\n",
       "        [12., 13., 14., 15.],\n",
       "        [16., 17., 18., 19.]])"
      ]
     },
     "execution_count": 20,
     "metadata": {},
     "output_type": "execute_result"
    }
   ],
   "source": [
    "A = torch.arange(20,dtype=torch.float32).reshape(5,4)\n",
    "A"
   ]
  },
  {
   "cell_type": "code",
   "execution_count": 16,
   "metadata": {
    "colab": {
     "base_uri": "https://localhost:8080/"
    },
    "executionInfo": {
     "elapsed": 324,
     "status": "ok",
     "timestamp": 1651730542168,
     "user": {
      "displayName": "stu shi",
      "userId": "14122045057611715520"
     },
     "user_tz": -480
    },
    "id": "FoOptIHQzS85",
    "outputId": "56d94b74-7cb3-43f7-b9d7-805e04ed41f3"
   },
   "outputs": [
    {
     "data": {
      "text/plain": [
       "tensor([0., 1., 2., 3.])"
      ]
     },
     "execution_count": 16,
     "metadata": {},
     "output_type": "execute_result"
    }
   ],
   "source": [
    "x"
   ]
  },
  {
   "cell_type": "markdown",
   "metadata": {
    "id": "6i_tCmgvzEBa"
   },
   "source": [
    "### 2.3.9矩阵与矩阵乘法"
   ]
  },
  {
   "cell_type": "code",
   "execution_count": 21,
   "metadata": {
    "colab": {
     "base_uri": "https://localhost:8080/"
    },
    "executionInfo": {
     "elapsed": 8,
     "status": "ok",
     "timestamp": 1651730716107,
     "user": {
      "displayName": "stu shi",
      "userId": "14122045057611715520"
     },
     "user_tz": -480
    },
    "id": "UHkk-FwxzJMH",
    "outputId": "499ac489-0e37-4d4c-9b24-0280f97c74e6"
   },
   "outputs": [
    {
     "data": {
      "text/plain": [
       "(tensor([[ 0,  1,  2,  3],\n",
       "         [ 4,  5,  6,  7],\n",
       "         [ 8,  9, 10, 11],\n",
       "         [12, 13, 14, 15],\n",
       "         [16, 17, 18, 19]]), tensor([[ 0,  1,  2],\n",
       "         [ 3,  4,  5],\n",
       "         [ 6,  7,  8],\n",
       "         [ 9, 10, 11]]))"
      ]
     },
     "execution_count": 21,
     "metadata": {},
     "output_type": "execute_result"
    }
   ],
   "source": [
    "A = torch.arange(20).reshape(5,4)\n",
    "B = torch.arange(12).reshape(4,3)\n",
    "A,B"
   ]
  },
  {
   "cell_type": "code",
   "execution_count": 23,
   "metadata": {
    "colab": {
     "base_uri": "https://localhost:8080/"
    },
    "executionInfo": {
     "elapsed": 8,
     "status": "ok",
     "timestamp": 1651730748397,
     "user": {
      "displayName": "stu shi",
      "userId": "14122045057611715520"
     },
     "user_tz": -480
    },
    "id": "ya0f0r060p4l",
    "outputId": "39469399-c1a9-497e-88b6-488ada5d9f84"
   },
   "outputs": [
    {
     "data": {
      "text/plain": [
       "tensor([[ 42,  48,  54],\n",
       "        [114, 136, 158],\n",
       "        [186, 224, 262],\n",
       "        [258, 312, 366],\n",
       "        [330, 400, 470]])"
      ]
     },
     "execution_count": 23,
     "metadata": {},
     "output_type": "execute_result"
    }
   ],
   "source": [
    "torch.mm(A,B)"
   ]
  },
  {
   "cell_type": "markdown",
   "metadata": {
    "id": "hL_NFM3L0zjl"
   },
   "source": [
    "### 2.3.10 范数"
   ]
  },
  {
   "cell_type": "code",
   "execution_count": 24,
   "metadata": {
    "colab": {
     "base_uri": "https://localhost:8080/"
    },
    "executionInfo": {
     "elapsed": 9,
     "status": "ok",
     "timestamp": 1651731002401,
     "user": {
      "displayName": "stu shi",
      "userId": "14122045057611715520"
     },
     "user_tz": -480
    },
    "id": "2j5fkeLx049N",
    "outputId": "356c397e-ab8a-4097-e7a9-bf8583ce69c3"
   },
   "outputs": [
    {
     "data": {
      "text/plain": [
       "tensor(5.)"
      ]
     },
     "execution_count": 24,
     "metadata": {},
     "output_type": "execute_result"
    }
   ],
   "source": [
    "u = torch.tensor([3.,4.])\n",
    "torch.norm(u) # L2范数"
   ]
  },
  {
   "cell_type": "code",
   "execution_count": 25,
   "metadata": {
    "colab": {
     "base_uri": "https://localhost:8080/"
    },
    "executionInfo": {
     "elapsed": 338,
     "status": "ok",
     "timestamp": 1651731053980,
     "user": {
      "displayName": "stu shi",
      "userId": "14122045057611715520"
     },
     "user_tz": -480
    },
    "id": "kv7uvuIq1u_I",
    "outputId": "138b7bdc-27df-469a-c39e-d9ee5fb8d5ad"
   },
   "outputs": [
    {
     "data": {
      "text/plain": [
       "tensor(7.)"
      ]
     },
     "execution_count": 25,
     "metadata": {},
     "output_type": "execute_result"
    }
   ],
   "source": [
    "torch.abs(u).sum() # L1范数"
   ]
  },
  {
   "cell_type": "code",
   "execution_count": 26,
   "metadata": {
    "colab": {
     "base_uri": "https://localhost:8080/"
    },
    "executionInfo": {
     "elapsed": 331,
     "status": "ok",
     "timestamp": 1651731170539,
     "user": {
      "displayName": "stu shi",
      "userId": "14122045057611715520"
     },
     "user_tz": -480
    },
    "id": "3USZrGxr17jJ",
    "outputId": "c0bd73f4-f3d7-4916-8ba3-1041b4e8c5d4"
   },
   "outputs": [
    {
     "data": {
      "text/plain": [
       "tensor(6.)"
      ]
     },
     "execution_count": 26,
     "metadata": {},
     "output_type": "execute_result"
    }
   ],
   "source": [
    "torch.norm(torch.ones(4,9)) #矩阵的Frobenius范数，类似于向量的L2范数"
   ]
  },
  {
   "cell_type": "markdown",
   "metadata": {
    "id": "XJ2ef8wF2dDU",
    "jp-MarkdownHeadingCollapsed": true,
    "tags": []
   },
   "source": [
    "## 2.4微积分"
   ]
  },
  {
   "cell_type": "markdown",
   "metadata": {
    "id": "u4f8u8hrNkT5",
    "jp-MarkdownHeadingCollapsed": true,
    "tags": []
   },
   "source": [
    "### *2.4.1导数和微分*\n"
   ]
  },
  {
   "cell_type": "code",
   "execution_count": 2,
   "metadata": {
    "executionInfo": {
     "elapsed": 371,
     "status": "ok",
     "timestamp": 1651738555952,
     "user": {
      "displayName": "stu shi",
      "userId": "14122045057611715520"
     },
     "user_tz": -480
    },
    "id": "KuCtKkKj4Qw5"
   },
   "outputs": [],
   "source": [
    "%matplotlib inline\n",
    "import numpy as np\n",
    "from IPython import display\n",
    "from d2l import torch as d2l\n",
    "\n",
    "def f(x):\n",
    "  return 3 * x ** 2 - 4 * x"
   ]
  },
  {
   "cell_type": "code",
   "execution_count": 3,
   "metadata": {
    "colab": {
     "base_uri": "https://localhost:8080/"
    },
    "executionInfo": {
     "elapsed": 347,
     "status": "ok",
     "timestamp": 1651738558837,
     "user": {
      "displayName": "stu shi",
      "userId": "14122045057611715520"
     },
     "user_tz": -480
    },
    "id": "wQg9KoXpBgN4",
    "outputId": "fe30173a-4f2b-4528-fa91-7f3775dab5af"
   },
   "outputs": [
    {
     "name": "stdout",
     "output_type": "stream",
     "text": [
      "h=0.10000, numerical limit= 2.30000\n",
      "h=0.01000, numerical limit= 2.03000\n",
      "h=0.00100, numerical limit= 2.00300\n",
      "h=0.00010, numerical limit= 2.00030\n",
      "h=0.00001, numerical limit= 2.00003\n"
     ]
    }
   ],
   "source": [
    "def nmumerical_lim(f,x,h):\n",
    "  return (f(x + h) - f(x)) / h\n",
    "\n",
    "h = 0.1\n",
    "for i in range(5):\n",
    "  print(f'h={h:.5f}, numerical limit={nmumerical_lim(f, 1, h): .5f}')\n",
    "  h *= 0.1"
   ]
  },
  {
   "cell_type": "code",
   "execution_count": 4,
   "metadata": {
    "executionInfo": {
     "elapsed": 3,
     "status": "ok",
     "timestamp": 1651738561991,
     "user": {
      "displayName": "stu shi",
      "userId": "14122045057611715520"
     },
     "user_tz": -480
    },
    "id": "zsXGqVkQCPSI"
   },
   "outputs": [],
   "source": [
    "def use_svg_display():\n",
    "  \"\"\"使用svg格式在Jupyter中显示绘图\"\"\"\n",
    "  display.set_matplotlib_formats('svg')"
   ]
  },
  {
   "cell_type": "code",
   "execution_count": 5,
   "metadata": {
    "executionInfo": {
     "elapsed": 4,
     "status": "ok",
     "timestamp": 1651738563645,
     "user": {
      "displayName": "stu shi",
      "userId": "14122045057611715520"
     },
     "user_tz": -480
    },
    "id": "q_dgo01yFXFn"
   },
   "outputs": [],
   "source": [
    "def set_figsize(figsize=(3.5, 2.5)):\n",
    "  \"\"\"设置matplotlib的图表⼤⼩\"\"\"\n",
    "  use_svg_display()\n",
    "  d2l.plt.rcParams['figure.figsize'] = figsize"
   ]
  },
  {
   "cell_type": "code",
   "execution_count": 6,
   "metadata": {
    "executionInfo": {
     "elapsed": 3,
     "status": "ok",
     "timestamp": 1651738565821,
     "user": {
      "displayName": "stu shi",
      "userId": "14122045057611715520"
     },
     "user_tz": -480
    },
    "id": "Zso1NEblJfQU"
   },
   "outputs": [],
   "source": [
    "def set_axes(axes, xlabel, ylabel, xlim, ylim, xscale, yscale, legend):\n",
    "  \"\"\"设置matplotlib的轴\"\"\"\n",
    "  axes.set_xlabel(xlabel)\n",
    "  axes.set_ylabel(ylabel)\n",
    "  axes.set_xscale(xscale)\n",
    "  axes.set_yscale(yscale)\n",
    "  axes.set_xlim(xlim)\n",
    "  axes.set_ylim(ylim)\n",
    "  if legend:\n",
    "    axes.legend(legend)\n",
    "    axes.grid()"
   ]
  },
  {
   "cell_type": "code",
   "execution_count": 7,
   "metadata": {
    "executionInfo": {
     "elapsed": 370,
     "status": "ok",
     "timestamp": 1651738569069,
     "user": {
      "displayName": "stu shi",
      "userId": "14122045057611715520"
     },
     "user_tz": -480
    },
    "id": "YsDuBepUJqp0"
   },
   "outputs": [],
   "source": [
    "def plot(X, Y=None, xlabel=None, ylabel=None, legend=None, xlim=None,\n",
    "     ylim=None, xscale='linear', yscale='linear',\n",
    "     fmts=('-', 'm--', 'g-', 'r:'), figsize=(3.5,2.5), axes=None):\n",
    "  \"\"\"绘制数据点\"\"\"\n",
    "  if legend is None:\n",
    "    legend = []\n",
    "  \n",
    "  set_figsize(figsize)\n",
    "  axes = axes if axes else d2l.plt.gca()\n",
    "\n",
    "  def has_one_axis(X):\n",
    "    return (hasattr(X, \"ndim\") and X.ndim == 1 or isinstance(X, list) and not hasattr(X[0], \"__len__\"))\n",
    "\n",
    "  if has_one_axis(X):\n",
    "    X=[X]\n",
    "  if Y is None:\n",
    "    X, Y = [[]] * len(X), X\n",
    "  elif has_one_axis(Y):\n",
    "    Y = [Y]\n",
    "  if len(X) != len(Y):\n",
    "    X = X * len(Y)\n",
    "  axes.cla()\n",
    "  for x, y, fmt in zip(X, Y, fmts):\n",
    "    if len(X):\n",
    "      axes.plot(x, y, fmt)\n",
    "    else:\n",
    "      axes.plot(y, fmt)\n",
    "  set_axes(axes, xlabel, ylabel, xlim, ylim, xscale, yscale, legend)"
   ]
  },
  {
   "cell_type": "code",
   "execution_count": 8,
   "metadata": {
    "colab": {
     "base_uri": "https://localhost:8080/",
     "height": 1000
    },
    "executionInfo": {
     "elapsed": 399,
     "status": "ok",
     "timestamp": 1651738572881,
     "user": {
      "displayName": "stu shi",
      "userId": "14122045057611715520"
     },
     "user_tz": -480
    },
    "id": "VbrStAD0N9iZ",
    "outputId": "6a50da85-5c71-4211-a759-dbf4dedc3070"
   },
   "outputs": [
    {
     "name": "stderr",
     "output_type": "stream",
     "text": [
      "C:\\Users\\ly\\AppData\\Local\\Temp\\ipykernel_14528\\759461320.py:3: DeprecationWarning: `set_matplotlib_formats` is deprecated since IPython 7.23, directly use `matplotlib_inline.backend_inline.set_matplotlib_formats()`\n",
      "  display.set_matplotlib_formats('svg')\n"
     ]
    },
    {
     "data": {
      "image/svg+xml": [
       "<?xml version=\"1.0\" encoding=\"utf-8\" standalone=\"no\"?>\n",
       "<!DOCTYPE svg PUBLIC \"-//W3C//DTD SVG 1.1//EN\"\n",
       "  \"http://www.w3.org/Graphics/SVG/1.1/DTD/svg11.dtd\">\n",
       "<svg xmlns:xlink=\"http://www.w3.org/1999/xlink\" width=\"243.529359pt\" height=\"180.65625pt\" viewBox=\"0 0 243.529359 180.65625\" xmlns=\"http://www.w3.org/2000/svg\" version=\"1.1\">\n",
       " <metadata>\n",
       "  <rdf:RDF xmlns:dc=\"http://purl.org/dc/elements/1.1/\" xmlns:cc=\"http://creativecommons.org/ns#\" xmlns:rdf=\"http://www.w3.org/1999/02/22-rdf-syntax-ns#\">\n",
       "   <cc:Work>\n",
       "    <dc:type rdf:resource=\"http://purl.org/dc/dcmitype/StillImage\"/>\n",
       "    <dc:date>2022-05-10T13:29:13.726139</dc:date>\n",
       "    <dc:format>image/svg+xml</dc:format>\n",
       "    <dc:creator>\n",
       "     <cc:Agent>\n",
       "      <dc:title>Matplotlib v3.5.1, https://matplotlib.org/</dc:title>\n",
       "     </cc:Agent>\n",
       "    </dc:creator>\n",
       "   </cc:Work>\n",
       "  </rdf:RDF>\n",
       " </metadata>\n",
       " <defs>\n",
       "  <style type=\"text/css\">*{stroke-linejoin: round; stroke-linecap: butt}</style>\n",
       " </defs>\n",
       " <g id=\"figure_1\">\n",
       "  <g id=\"patch_1\">\n",
       "   <path d=\"M 0 180.65625 \n",
       "L 243.529359 180.65625 \n",
       "L 243.529359 0 \n",
       "L 0 0 \n",
       "L 0 180.65625 \n",
       "z\n",
       "\" style=\"fill: none\"/>\n",
       "  </g>\n",
       "  <g id=\"axes_1\">\n",
       "   <g id=\"patch_2\">\n",
       "    <path d=\"M 40.603125 143.1 \n",
       "L 235.903125 143.1 \n",
       "L 235.903125 7.2 \n",
       "L 40.603125 7.2 \n",
       "z\n",
       "\" style=\"fill: #ffffff\"/>\n",
       "   </g>\n",
       "   <g id=\"matplotlib.axis_1\">\n",
       "    <g id=\"xtick_1\">\n",
       "     <g id=\"line2d_1\">\n",
       "      <path d=\"M 49.480398 143.1 \n",
       "L 49.480398 7.2 \n",
       "\" clip-path=\"url(#p03cc897e40)\" style=\"fill: none; stroke: #b0b0b0; stroke-width: 0.8; stroke-linecap: square\"/>\n",
       "     </g>\n",
       "     <g id=\"line2d_2\">\n",
       "      <defs>\n",
       "       <path id=\"mb59c5ce3d5\" d=\"M 0 0 \n",
       "L 0 3.5 \n",
       "\" style=\"stroke: #000000; stroke-width: 0.8\"/>\n",
       "      </defs>\n",
       "      <g>\n",
       "       <use xlink:href=\"#mb59c5ce3d5\" x=\"49.480398\" y=\"143.1\" style=\"stroke: #000000; stroke-width: 0.8\"/>\n",
       "      </g>\n",
       "     </g>\n",
       "     <g id=\"text_1\">\n",
       "      <!-- 0 -->\n",
       "      <g transform=\"translate(46.299148 157.698438)scale(0.1 -0.1)\">\n",
       "       <defs>\n",
       "        <path id=\"DejaVuSans-30\" d=\"M 2034 4250 \n",
       "Q 1547 4250 1301 3770 \n",
       "Q 1056 3291 1056 2328 \n",
       "Q 1056 1369 1301 889 \n",
       "Q 1547 409 2034 409 \n",
       "Q 2525 409 2770 889 \n",
       "Q 3016 1369 3016 2328 \n",
       "Q 3016 3291 2770 3770 \n",
       "Q 2525 4250 2034 4250 \n",
       "z\n",
       "M 2034 4750 \n",
       "Q 2819 4750 3233 4129 \n",
       "Q 3647 3509 3647 2328 \n",
       "Q 3647 1150 3233 529 \n",
       "Q 2819 -91 2034 -91 \n",
       "Q 1250 -91 836 529 \n",
       "Q 422 1150 422 2328 \n",
       "Q 422 3509 836 4129 \n",
       "Q 1250 4750 2034 4750 \n",
       "z\n",
       "\" transform=\"scale(0.015625)\"/>\n",
       "       </defs>\n",
       "       <use xlink:href=\"#DejaVuSans-30\"/>\n",
       "      </g>\n",
       "     </g>\n",
       "    </g>\n",
       "    <g id=\"xtick_2\">\n",
       "     <g id=\"line2d_3\">\n",
       "      <path d=\"M 110.702968 143.1 \n",
       "L 110.702968 7.2 \n",
       "\" clip-path=\"url(#p03cc897e40)\" style=\"fill: none; stroke: #b0b0b0; stroke-width: 0.8; stroke-linecap: square\"/>\n",
       "     </g>\n",
       "     <g id=\"line2d_4\">\n",
       "      <g>\n",
       "       <use xlink:href=\"#mb59c5ce3d5\" x=\"110.702968\" y=\"143.1\" style=\"stroke: #000000; stroke-width: 0.8\"/>\n",
       "      </g>\n",
       "     </g>\n",
       "     <g id=\"text_2\">\n",
       "      <!-- 1 -->\n",
       "      <g transform=\"translate(107.521718 157.698438)scale(0.1 -0.1)\">\n",
       "       <defs>\n",
       "        <path id=\"DejaVuSans-31\" d=\"M 794 531 \n",
       "L 1825 531 \n",
       "L 1825 4091 \n",
       "L 703 3866 \n",
       "L 703 4441 \n",
       "L 1819 4666 \n",
       "L 2450 4666 \n",
       "L 2450 531 \n",
       "L 3481 531 \n",
       "L 3481 0 \n",
       "L 794 0 \n",
       "L 794 531 \n",
       "z\n",
       "\" transform=\"scale(0.015625)\"/>\n",
       "       </defs>\n",
       "       <use xlink:href=\"#DejaVuSans-31\"/>\n",
       "      </g>\n",
       "     </g>\n",
       "    </g>\n",
       "    <g id=\"xtick_3\">\n",
       "     <g id=\"line2d_5\">\n",
       "      <path d=\"M 171.925539 143.1 \n",
       "L 171.925539 7.2 \n",
       "\" clip-path=\"url(#p03cc897e40)\" style=\"fill: none; stroke: #b0b0b0; stroke-width: 0.8; stroke-linecap: square\"/>\n",
       "     </g>\n",
       "     <g id=\"line2d_6\">\n",
       "      <g>\n",
       "       <use xlink:href=\"#mb59c5ce3d5\" x=\"171.925539\" y=\"143.1\" style=\"stroke: #000000; stroke-width: 0.8\"/>\n",
       "      </g>\n",
       "     </g>\n",
       "     <g id=\"text_3\">\n",
       "      <!-- 2 -->\n",
       "      <g transform=\"translate(168.744289 157.698438)scale(0.1 -0.1)\">\n",
       "       <defs>\n",
       "        <path id=\"DejaVuSans-32\" d=\"M 1228 531 \n",
       "L 3431 531 \n",
       "L 3431 0 \n",
       "L 469 0 \n",
       "L 469 531 \n",
       "Q 828 903 1448 1529 \n",
       "Q 2069 2156 2228 2338 \n",
       "Q 2531 2678 2651 2914 \n",
       "Q 2772 3150 2772 3378 \n",
       "Q 2772 3750 2511 3984 \n",
       "Q 2250 4219 1831 4219 \n",
       "Q 1534 4219 1204 4116 \n",
       "Q 875 4013 500 3803 \n",
       "L 500 4441 \n",
       "Q 881 4594 1212 4672 \n",
       "Q 1544 4750 1819 4750 \n",
       "Q 2544 4750 2975 4387 \n",
       "Q 3406 4025 3406 3419 \n",
       "Q 3406 3131 3298 2873 \n",
       "Q 3191 2616 2906 2266 \n",
       "Q 2828 2175 2409 1742 \n",
       "Q 1991 1309 1228 531 \n",
       "z\n",
       "\" transform=\"scale(0.015625)\"/>\n",
       "       </defs>\n",
       "       <use xlink:href=\"#DejaVuSans-32\"/>\n",
       "      </g>\n",
       "     </g>\n",
       "    </g>\n",
       "    <g id=\"xtick_4\">\n",
       "     <g id=\"line2d_7\">\n",
       "      <path d=\"M 233.148109 143.1 \n",
       "L 233.148109 7.2 \n",
       "\" clip-path=\"url(#p03cc897e40)\" style=\"fill: none; stroke: #b0b0b0; stroke-width: 0.8; stroke-linecap: square\"/>\n",
       "     </g>\n",
       "     <g id=\"line2d_8\">\n",
       "      <g>\n",
       "       <use xlink:href=\"#mb59c5ce3d5\" x=\"233.148109\" y=\"143.1\" style=\"stroke: #000000; stroke-width: 0.8\"/>\n",
       "      </g>\n",
       "     </g>\n",
       "     <g id=\"text_4\">\n",
       "      <!-- 3 -->\n",
       "      <g transform=\"translate(229.966859 157.698438)scale(0.1 -0.1)\">\n",
       "       <defs>\n",
       "        <path id=\"DejaVuSans-33\" d=\"M 2597 2516 \n",
       "Q 3050 2419 3304 2112 \n",
       "Q 3559 1806 3559 1356 \n",
       "Q 3559 666 3084 287 \n",
       "Q 2609 -91 1734 -91 \n",
       "Q 1441 -91 1130 -33 \n",
       "Q 819 25 488 141 \n",
       "L 488 750 \n",
       "Q 750 597 1062 519 \n",
       "Q 1375 441 1716 441 \n",
       "Q 2309 441 2620 675 \n",
       "Q 2931 909 2931 1356 \n",
       "Q 2931 1769 2642 2001 \n",
       "Q 2353 2234 1838 2234 \n",
       "L 1294 2234 \n",
       "L 1294 2753 \n",
       "L 1863 2753 \n",
       "Q 2328 2753 2575 2939 \n",
       "Q 2822 3125 2822 3475 \n",
       "Q 2822 3834 2567 4026 \n",
       "Q 2313 4219 1838 4219 \n",
       "Q 1578 4219 1281 4162 \n",
       "Q 984 4106 628 3988 \n",
       "L 628 4550 \n",
       "Q 988 4650 1302 4700 \n",
       "Q 1616 4750 1894 4750 \n",
       "Q 2613 4750 3031 4423 \n",
       "Q 3450 4097 3450 3541 \n",
       "Q 3450 3153 3228 2886 \n",
       "Q 3006 2619 2597 2516 \n",
       "z\n",
       "\" transform=\"scale(0.015625)\"/>\n",
       "       </defs>\n",
       "       <use xlink:href=\"#DejaVuSans-33\"/>\n",
       "      </g>\n",
       "     </g>\n",
       "    </g>\n",
       "    <g id=\"text_5\">\n",
       "     <!-- x -->\n",
       "     <g transform=\"translate(135.29375 171.376563)scale(0.1 -0.1)\">\n",
       "      <defs>\n",
       "       <path id=\"DejaVuSans-78\" d=\"M 3513 3500 \n",
       "L 2247 1797 \n",
       "L 3578 0 \n",
       "L 2900 0 \n",
       "L 1881 1375 \n",
       "L 863 0 \n",
       "L 184 0 \n",
       "L 1544 1831 \n",
       "L 300 3500 \n",
       "L 978 3500 \n",
       "L 1906 2253 \n",
       "L 2834 3500 \n",
       "L 3513 3500 \n",
       "z\n",
       "\" transform=\"scale(0.015625)\"/>\n",
       "      </defs>\n",
       "      <use xlink:href=\"#DejaVuSans-78\"/>\n",
       "     </g>\n",
       "    </g>\n",
       "   </g>\n",
       "   <g id=\"matplotlib.axis_2\">\n",
       "    <g id=\"ytick_1\">\n",
       "     <g id=\"line2d_9\">\n",
       "      <path d=\"M 40.603125 114.635514 \n",
       "L 235.903125 114.635514 \n",
       "\" clip-path=\"url(#p03cc897e40)\" style=\"fill: none; stroke: #b0b0b0; stroke-width: 0.8; stroke-linecap: square\"/>\n",
       "     </g>\n",
       "     <g id=\"line2d_10\">\n",
       "      <defs>\n",
       "       <path id=\"mc5787aaf08\" d=\"M 0 0 \n",
       "L -3.5 0 \n",
       "\" style=\"stroke: #000000; stroke-width: 0.8\"/>\n",
       "      </defs>\n",
       "      <g>\n",
       "       <use xlink:href=\"#mc5787aaf08\" x=\"40.603125\" y=\"114.635514\" style=\"stroke: #000000; stroke-width: 0.8\"/>\n",
       "      </g>\n",
       "     </g>\n",
       "     <g id=\"text_6\">\n",
       "      <!-- 0 -->\n",
       "      <g transform=\"translate(27.240625 118.434732)scale(0.1 -0.1)\">\n",
       "       <use xlink:href=\"#DejaVuSans-30\"/>\n",
       "      </g>\n",
       "     </g>\n",
       "    </g>\n",
       "    <g id=\"ytick_2\">\n",
       "     <g id=\"line2d_11\">\n",
       "      <path d=\"M 40.603125 77.490157 \n",
       "L 235.903125 77.490157 \n",
       "\" clip-path=\"url(#p03cc897e40)\" style=\"fill: none; stroke: #b0b0b0; stroke-width: 0.8; stroke-linecap: square\"/>\n",
       "     </g>\n",
       "     <g id=\"line2d_12\">\n",
       "      <g>\n",
       "       <use xlink:href=\"#mc5787aaf08\" x=\"40.603125\" y=\"77.490157\" style=\"stroke: #000000; stroke-width: 0.8\"/>\n",
       "      </g>\n",
       "     </g>\n",
       "     <g id=\"text_7\">\n",
       "      <!-- 5 -->\n",
       "      <g transform=\"translate(27.240625 81.289376)scale(0.1 -0.1)\">\n",
       "       <defs>\n",
       "        <path id=\"DejaVuSans-35\" d=\"M 691 4666 \n",
       "L 3169 4666 \n",
       "L 3169 4134 \n",
       "L 1269 4134 \n",
       "L 1269 2991 \n",
       "Q 1406 3038 1543 3061 \n",
       "Q 1681 3084 1819 3084 \n",
       "Q 2600 3084 3056 2656 \n",
       "Q 3513 2228 3513 1497 \n",
       "Q 3513 744 3044 326 \n",
       "Q 2575 -91 1722 -91 \n",
       "Q 1428 -91 1123 -41 \n",
       "Q 819 9 494 109 \n",
       "L 494 744 \n",
       "Q 775 591 1075 516 \n",
       "Q 1375 441 1709 441 \n",
       "Q 2250 441 2565 725 \n",
       "Q 2881 1009 2881 1497 \n",
       "Q 2881 1984 2565 2268 \n",
       "Q 2250 2553 1709 2553 \n",
       "Q 1456 2553 1204 2497 \n",
       "Q 953 2441 691 2322 \n",
       "L 691 4666 \n",
       "z\n",
       "\" transform=\"scale(0.015625)\"/>\n",
       "       </defs>\n",
       "       <use xlink:href=\"#DejaVuSans-35\"/>\n",
       "      </g>\n",
       "     </g>\n",
       "    </g>\n",
       "    <g id=\"ytick_3\">\n",
       "     <g id=\"line2d_13\">\n",
       "      <path d=\"M 40.603125 40.344801 \n",
       "L 235.903125 40.344801 \n",
       "\" clip-path=\"url(#p03cc897e40)\" style=\"fill: none; stroke: #b0b0b0; stroke-width: 0.8; stroke-linecap: square\"/>\n",
       "     </g>\n",
       "     <g id=\"line2d_14\">\n",
       "      <g>\n",
       "       <use xlink:href=\"#mc5787aaf08\" x=\"40.603125\" y=\"40.344801\" style=\"stroke: #000000; stroke-width: 0.8\"/>\n",
       "      </g>\n",
       "     </g>\n",
       "     <g id=\"text_8\">\n",
       "      <!-- 10 -->\n",
       "      <g transform=\"translate(20.878125 44.14402)scale(0.1 -0.1)\">\n",
       "       <use xlink:href=\"#DejaVuSans-31\"/>\n",
       "       <use xlink:href=\"#DejaVuSans-30\" x=\"63.623047\"/>\n",
       "      </g>\n",
       "     </g>\n",
       "    </g>\n",
       "    <g id=\"text_9\">\n",
       "     <!-- f(x) -->\n",
       "     <g transform=\"translate(14.798437 83.771094)rotate(-90)scale(0.1 -0.1)\">\n",
       "      <defs>\n",
       "       <path id=\"DejaVuSans-66\" d=\"M 2375 4863 \n",
       "L 2375 4384 \n",
       "L 1825 4384 \n",
       "Q 1516 4384 1395 4259 \n",
       "Q 1275 4134 1275 3809 \n",
       "L 1275 3500 \n",
       "L 2222 3500 \n",
       "L 2222 3053 \n",
       "L 1275 3053 \n",
       "L 1275 0 \n",
       "L 697 0 \n",
       "L 697 3053 \n",
       "L 147 3053 \n",
       "L 147 3500 \n",
       "L 697 3500 \n",
       "L 697 3744 \n",
       "Q 697 4328 969 4595 \n",
       "Q 1241 4863 1831 4863 \n",
       "L 2375 4863 \n",
       "z\n",
       "\" transform=\"scale(0.015625)\"/>\n",
       "       <path id=\"DejaVuSans-28\" d=\"M 1984 4856 \n",
       "Q 1566 4138 1362 3434 \n",
       "Q 1159 2731 1159 2009 \n",
       "Q 1159 1288 1364 580 \n",
       "Q 1569 -128 1984 -844 \n",
       "L 1484 -844 \n",
       "Q 1016 -109 783 600 \n",
       "Q 550 1309 550 2009 \n",
       "Q 550 2706 781 3412 \n",
       "Q 1013 4119 1484 4856 \n",
       "L 1984 4856 \n",
       "z\n",
       "\" transform=\"scale(0.015625)\"/>\n",
       "       <path id=\"DejaVuSans-29\" d=\"M 513 4856 \n",
       "L 1013 4856 \n",
       "Q 1481 4119 1714 3412 \n",
       "Q 1947 2706 1947 2009 \n",
       "Q 1947 1309 1714 600 \n",
       "Q 1481 -109 1013 -844 \n",
       "L 513 -844 \n",
       "Q 928 -128 1133 580 \n",
       "Q 1338 1288 1338 2009 \n",
       "Q 1338 2731 1133 3434 \n",
       "Q 928 4138 513 4856 \n",
       "z\n",
       "\" transform=\"scale(0.015625)\"/>\n",
       "      </defs>\n",
       "      <use xlink:href=\"#DejaVuSans-66\"/>\n",
       "      <use xlink:href=\"#DejaVuSans-28\" x=\"35.205078\"/>\n",
       "      <use xlink:href=\"#DejaVuSans-78\" x=\"74.21875\"/>\n",
       "      <use xlink:href=\"#DejaVuSans-29\" x=\"133.398438\"/>\n",
       "     </g>\n",
       "    </g>\n",
       "   </g>\n",
       "   <g id=\"line2d_15\">\n",
       "    <path d=\"M 49.480398 114.635514 \n",
       "L 55.602655 117.38427 \n",
       "L 61.724912 119.687282 \n",
       "L 67.847169 121.54455 \n",
       "L 73.969426 122.956073 \n",
       "L 80.091683 123.921853 \n",
       "L 86.21394 124.441888 \n",
       "L 92.336197 124.516178 \n",
       "L 98.458454 124.144725 \n",
       "L 104.580711 123.327527 \n",
       "L 110.702968 122.064585 \n",
       "L 116.825225 120.355898 \n",
       "L 122.947482 118.201468 \n",
       "L 129.069739 115.601293 \n",
       "L 135.191996 112.555374 \n",
       "L 141.314254 109.06371 \n",
       "L 147.436511 105.126302 \n",
       "L 153.558768 100.74315 \n",
       "L 159.681025 95.914254 \n",
       "L 165.803282 90.639614 \n",
       "L 171.925539 84.919229 \n",
       "L 178.047796 78.7531 \n",
       "L 184.170053 72.141226 \n",
       "L 190.29231 65.083608 \n",
       "L 196.414567 57.580247 \n",
       "L 202.536824 49.63114 \n",
       "L 208.659081 41.23629 \n",
       "L 214.781338 32.395695 \n",
       "L 220.903595 23.109356 \n",
       "L 227.025852 13.377273 \n",
       "\" clip-path=\"url(#p03cc897e40)\" style=\"fill: none; stroke: #1f77b4; stroke-width: 1.5; stroke-linecap: square\"/>\n",
       "   </g>\n",
       "   <g id=\"line2d_16\">\n",
       "    <path d=\"M 49.480398 136.922727 \n",
       "L 55.602655 135.436913 \n",
       "L 61.724912 133.951099 \n",
       "L 67.847169 132.465285 \n",
       "L 73.969426 130.97947 \n",
       "L 80.091683 129.493656 \n",
       "L 86.21394 128.007842 \n",
       "L 92.336197 126.522028 \n",
       "L 98.458454 125.036213 \n",
       "L 104.580711 123.550399 \n",
       "L 110.702968 122.064585 \n",
       "L 116.825225 120.578771 \n",
       "L 122.947482 119.092956 \n",
       "L 129.069739 117.607142 \n",
       "L 135.191996 116.121328 \n",
       "L 141.314254 114.635514 \n",
       "L 147.436511 113.149699 \n",
       "L 153.558768 111.663885 \n",
       "L 159.681025 110.178071 \n",
       "L 165.803282 108.692257 \n",
       "L 171.925539 107.206442 \n",
       "L 178.047796 105.720628 \n",
       "L 184.170053 104.234814 \n",
       "L 190.29231 102.749 \n",
       "L 196.414567 101.263185 \n",
       "L 202.536824 99.777371 \n",
       "L 208.659081 98.291557 \n",
       "L 214.781338 96.805743 \n",
       "L 220.903595 95.319928 \n",
       "L 227.025852 93.834114 \n",
       "\" clip-path=\"url(#p03cc897e40)\" style=\"fill: none; stroke-dasharray: 5.55,2.4; stroke-dashoffset: 0; stroke: #bf00bf; stroke-width: 1.5\"/>\n",
       "   </g>\n",
       "   <g id=\"patch_3\">\n",
       "    <path d=\"M 40.603125 143.1 \n",
       "L 40.603125 7.2 \n",
       "\" style=\"fill: none; stroke: #000000; stroke-width: 0.8; stroke-linejoin: miter; stroke-linecap: square\"/>\n",
       "   </g>\n",
       "   <g id=\"patch_4\">\n",
       "    <path d=\"M 235.903125 143.1 \n",
       "L 235.903125 7.2 \n",
       "\" style=\"fill: none; stroke: #000000; stroke-width: 0.8; stroke-linejoin: miter; stroke-linecap: square\"/>\n",
       "   </g>\n",
       "   <g id=\"patch_5\">\n",
       "    <path d=\"M 40.603125 143.1 \n",
       "L 235.903125 143.1 \n",
       "\" style=\"fill: none; stroke: #000000; stroke-width: 0.8; stroke-linejoin: miter; stroke-linecap: square\"/>\n",
       "   </g>\n",
       "   <g id=\"patch_6\">\n",
       "    <path d=\"M 40.603125 7.2 \n",
       "L 235.903125 7.2 \n",
       "\" style=\"fill: none; stroke: #000000; stroke-width: 0.8; stroke-linejoin: miter; stroke-linecap: square\"/>\n",
       "   </g>\n",
       "   <g id=\"legend_1\">\n",
       "    <g id=\"patch_7\">\n",
       "     <path d=\"M 47.603125 44.55625 \n",
       "L 172.153125 44.55625 \n",
       "Q 174.153125 44.55625 174.153125 42.55625 \n",
       "L 174.153125 14.2 \n",
       "Q 174.153125 12.2 172.153125 12.2 \n",
       "L 47.603125 12.2 \n",
       "Q 45.603125 12.2 45.603125 14.2 \n",
       "L 45.603125 42.55625 \n",
       "Q 45.603125 44.55625 47.603125 44.55625 \n",
       "z\n",
       "\" style=\"fill: #ffffff; opacity: 0.8; stroke: #cccccc; stroke-linejoin: miter\"/>\n",
       "    </g>\n",
       "    <g id=\"line2d_17\">\n",
       "     <path d=\"M 49.603125 20.298437 \n",
       "L 59.603125 20.298437 \n",
       "L 69.603125 20.298437 \n",
       "\" style=\"fill: none; stroke: #1f77b4; stroke-width: 1.5; stroke-linecap: square\"/>\n",
       "    </g>\n",
       "    <g id=\"text_10\">\n",
       "     <!-- f(x) -->\n",
       "     <g transform=\"translate(77.603125 23.798437)scale(0.1 -0.1)\">\n",
       "      <use xlink:href=\"#DejaVuSans-66\"/>\n",
       "      <use xlink:href=\"#DejaVuSans-28\" x=\"35.205078\"/>\n",
       "      <use xlink:href=\"#DejaVuSans-78\" x=\"74.21875\"/>\n",
       "      <use xlink:href=\"#DejaVuSans-29\" x=\"133.398438\"/>\n",
       "     </g>\n",
       "    </g>\n",
       "    <g id=\"line2d_18\">\n",
       "     <path d=\"M 49.603125 34.976562 \n",
       "L 59.603125 34.976562 \n",
       "L 69.603125 34.976562 \n",
       "\" style=\"fill: none; stroke-dasharray: 5.55,2.4; stroke-dashoffset: 0; stroke: #bf00bf; stroke-width: 1.5\"/>\n",
       "    </g>\n",
       "    <g id=\"text_11\">\n",
       "     <!-- Tangent line (x=1) -->\n",
       "     <g transform=\"translate(77.603125 38.476562)scale(0.1 -0.1)\">\n",
       "      <defs>\n",
       "       <path id=\"DejaVuSans-54\" d=\"M -19 4666 \n",
       "L 3928 4666 \n",
       "L 3928 4134 \n",
       "L 2272 4134 \n",
       "L 2272 0 \n",
       "L 1638 0 \n",
       "L 1638 4134 \n",
       "L -19 4134 \n",
       "L -19 4666 \n",
       "z\n",
       "\" transform=\"scale(0.015625)\"/>\n",
       "       <path id=\"DejaVuSans-61\" d=\"M 2194 1759 \n",
       "Q 1497 1759 1228 1600 \n",
       "Q 959 1441 959 1056 \n",
       "Q 959 750 1161 570 \n",
       "Q 1363 391 1709 391 \n",
       "Q 2188 391 2477 730 \n",
       "Q 2766 1069 2766 1631 \n",
       "L 2766 1759 \n",
       "L 2194 1759 \n",
       "z\n",
       "M 3341 1997 \n",
       "L 3341 0 \n",
       "L 2766 0 \n",
       "L 2766 531 \n",
       "Q 2569 213 2275 61 \n",
       "Q 1981 -91 1556 -91 \n",
       "Q 1019 -91 701 211 \n",
       "Q 384 513 384 1019 \n",
       "Q 384 1609 779 1909 \n",
       "Q 1175 2209 1959 2209 \n",
       "L 2766 2209 \n",
       "L 2766 2266 \n",
       "Q 2766 2663 2505 2880 \n",
       "Q 2244 3097 1772 3097 \n",
       "Q 1472 3097 1187 3025 \n",
       "Q 903 2953 641 2809 \n",
       "L 641 3341 \n",
       "Q 956 3463 1253 3523 \n",
       "Q 1550 3584 1831 3584 \n",
       "Q 2591 3584 2966 3190 \n",
       "Q 3341 2797 3341 1997 \n",
       "z\n",
       "\" transform=\"scale(0.015625)\"/>\n",
       "       <path id=\"DejaVuSans-6e\" d=\"M 3513 2113 \n",
       "L 3513 0 \n",
       "L 2938 0 \n",
       "L 2938 2094 \n",
       "Q 2938 2591 2744 2837 \n",
       "Q 2550 3084 2163 3084 \n",
       "Q 1697 3084 1428 2787 \n",
       "Q 1159 2491 1159 1978 \n",
       "L 1159 0 \n",
       "L 581 0 \n",
       "L 581 3500 \n",
       "L 1159 3500 \n",
       "L 1159 2956 \n",
       "Q 1366 3272 1645 3428 \n",
       "Q 1925 3584 2291 3584 \n",
       "Q 2894 3584 3203 3211 \n",
       "Q 3513 2838 3513 2113 \n",
       "z\n",
       "\" transform=\"scale(0.015625)\"/>\n",
       "       <path id=\"DejaVuSans-67\" d=\"M 2906 1791 \n",
       "Q 2906 2416 2648 2759 \n",
       "Q 2391 3103 1925 3103 \n",
       "Q 1463 3103 1205 2759 \n",
       "Q 947 2416 947 1791 \n",
       "Q 947 1169 1205 825 \n",
       "Q 1463 481 1925 481 \n",
       "Q 2391 481 2648 825 \n",
       "Q 2906 1169 2906 1791 \n",
       "z\n",
       "M 3481 434 \n",
       "Q 3481 -459 3084 -895 \n",
       "Q 2688 -1331 1869 -1331 \n",
       "Q 1566 -1331 1297 -1286 \n",
       "Q 1028 -1241 775 -1147 \n",
       "L 775 -588 \n",
       "Q 1028 -725 1275 -790 \n",
       "Q 1522 -856 1778 -856 \n",
       "Q 2344 -856 2625 -561 \n",
       "Q 2906 -266 2906 331 \n",
       "L 2906 616 \n",
       "Q 2728 306 2450 153 \n",
       "Q 2172 0 1784 0 \n",
       "Q 1141 0 747 490 \n",
       "Q 353 981 353 1791 \n",
       "Q 353 2603 747 3093 \n",
       "Q 1141 3584 1784 3584 \n",
       "Q 2172 3584 2450 3431 \n",
       "Q 2728 3278 2906 2969 \n",
       "L 2906 3500 \n",
       "L 3481 3500 \n",
       "L 3481 434 \n",
       "z\n",
       "\" transform=\"scale(0.015625)\"/>\n",
       "       <path id=\"DejaVuSans-65\" d=\"M 3597 1894 \n",
       "L 3597 1613 \n",
       "L 953 1613 \n",
       "Q 991 1019 1311 708 \n",
       "Q 1631 397 2203 397 \n",
       "Q 2534 397 2845 478 \n",
       "Q 3156 559 3463 722 \n",
       "L 3463 178 \n",
       "Q 3153 47 2828 -22 \n",
       "Q 2503 -91 2169 -91 \n",
       "Q 1331 -91 842 396 \n",
       "Q 353 884 353 1716 \n",
       "Q 353 2575 817 3079 \n",
       "Q 1281 3584 2069 3584 \n",
       "Q 2775 3584 3186 3129 \n",
       "Q 3597 2675 3597 1894 \n",
       "z\n",
       "M 3022 2063 \n",
       "Q 3016 2534 2758 2815 \n",
       "Q 2500 3097 2075 3097 \n",
       "Q 1594 3097 1305 2825 \n",
       "Q 1016 2553 972 2059 \n",
       "L 3022 2063 \n",
       "z\n",
       "\" transform=\"scale(0.015625)\"/>\n",
       "       <path id=\"DejaVuSans-74\" d=\"M 1172 4494 \n",
       "L 1172 3500 \n",
       "L 2356 3500 \n",
       "L 2356 3053 \n",
       "L 1172 3053 \n",
       "L 1172 1153 \n",
       "Q 1172 725 1289 603 \n",
       "Q 1406 481 1766 481 \n",
       "L 2356 481 \n",
       "L 2356 0 \n",
       "L 1766 0 \n",
       "Q 1100 0 847 248 \n",
       "Q 594 497 594 1153 \n",
       "L 594 3053 \n",
       "L 172 3053 \n",
       "L 172 3500 \n",
       "L 594 3500 \n",
       "L 594 4494 \n",
       "L 1172 4494 \n",
       "z\n",
       "\" transform=\"scale(0.015625)\"/>\n",
       "       <path id=\"DejaVuSans-20\" transform=\"scale(0.015625)\"/>\n",
       "       <path id=\"DejaVuSans-6c\" d=\"M 603 4863 \n",
       "L 1178 4863 \n",
       "L 1178 0 \n",
       "L 603 0 \n",
       "L 603 4863 \n",
       "z\n",
       "\" transform=\"scale(0.015625)\"/>\n",
       "       <path id=\"DejaVuSans-69\" d=\"M 603 3500 \n",
       "L 1178 3500 \n",
       "L 1178 0 \n",
       "L 603 0 \n",
       "L 603 3500 \n",
       "z\n",
       "M 603 4863 \n",
       "L 1178 4863 \n",
       "L 1178 4134 \n",
       "L 603 4134 \n",
       "L 603 4863 \n",
       "z\n",
       "\" transform=\"scale(0.015625)\"/>\n",
       "       <path id=\"DejaVuSans-3d\" d=\"M 678 2906 \n",
       "L 4684 2906 \n",
       "L 4684 2381 \n",
       "L 678 2381 \n",
       "L 678 2906 \n",
       "z\n",
       "M 678 1631 \n",
       "L 4684 1631 \n",
       "L 4684 1100 \n",
       "L 678 1100 \n",
       "L 678 1631 \n",
       "z\n",
       "\" transform=\"scale(0.015625)\"/>\n",
       "      </defs>\n",
       "      <use xlink:href=\"#DejaVuSans-54\"/>\n",
       "      <use xlink:href=\"#DejaVuSans-61\" x=\"44.583984\"/>\n",
       "      <use xlink:href=\"#DejaVuSans-6e\" x=\"105.863281\"/>\n",
       "      <use xlink:href=\"#DejaVuSans-67\" x=\"169.242188\"/>\n",
       "      <use xlink:href=\"#DejaVuSans-65\" x=\"232.71875\"/>\n",
       "      <use xlink:href=\"#DejaVuSans-6e\" x=\"294.242188\"/>\n",
       "      <use xlink:href=\"#DejaVuSans-74\" x=\"357.621094\"/>\n",
       "      <use xlink:href=\"#DejaVuSans-20\" x=\"396.830078\"/>\n",
       "      <use xlink:href=\"#DejaVuSans-6c\" x=\"428.617188\"/>\n",
       "      <use xlink:href=\"#DejaVuSans-69\" x=\"456.400391\"/>\n",
       "      <use xlink:href=\"#DejaVuSans-6e\" x=\"484.183594\"/>\n",
       "      <use xlink:href=\"#DejaVuSans-65\" x=\"547.5625\"/>\n",
       "      <use xlink:href=\"#DejaVuSans-20\" x=\"609.085938\"/>\n",
       "      <use xlink:href=\"#DejaVuSans-28\" x=\"640.873047\"/>\n",
       "      <use xlink:href=\"#DejaVuSans-78\" x=\"679.886719\"/>\n",
       "      <use xlink:href=\"#DejaVuSans-3d\" x=\"739.066406\"/>\n",
       "      <use xlink:href=\"#DejaVuSans-31\" x=\"822.855469\"/>\n",
       "      <use xlink:href=\"#DejaVuSans-29\" x=\"886.478516\"/>\n",
       "     </g>\n",
       "    </g>\n",
       "   </g>\n",
       "  </g>\n",
       " </g>\n",
       " <defs>\n",
       "  <clipPath id=\"p03cc897e40\">\n",
       "   <rect x=\"40.603125\" y=\"7.2\" width=\"195.3\" height=\"135.9\"/>\n",
       "  </clipPath>\n",
       " </defs>\n",
       "</svg>\n"
      ],
      "text/plain": [
       "<Figure size 252x180 with 1 Axes>"
      ]
     },
     "metadata": {
      "needs_background": "light"
     },
     "output_type": "display_data"
    }
   ],
   "source": [
    "x = np.arange(0, 3, 0.1)\n",
    "plot(x, [f(x), 2 * x - 3], 'x', 'f(x)', legend=['f(x)', 'Tangent line (x=1)'])"
   ]
  },
  {
   "cell_type": "markdown",
   "metadata": {
    "jp-MarkdownHeadingCollapsed": true,
    "tags": []
   },
   "source": [
    "## 2.5自动微分"
   ]
  },
  {
   "cell_type": "markdown",
   "metadata": {
    "jp-MarkdownHeadingCollapsed": true,
    "tags": []
   },
   "source": [
    "### 2.5.1一个简单的例子"
   ]
  },
  {
   "cell_type": "code",
   "execution_count": 9,
   "metadata": {},
   "outputs": [
    {
     "data": {
      "text/plain": [
       "tensor([0., 1., 2., 3.])"
      ]
     },
     "execution_count": 9,
     "metadata": {},
     "output_type": "execute_result"
    }
   ],
   "source": [
    "import torch\n",
    "x = torch.arange(4.0)\n",
    "x"
   ]
  },
  {
   "cell_type": "code",
   "execution_count": 10,
   "metadata": {},
   "outputs": [],
   "source": [
    "x.requires_grad_(True) # 等价于x=torch.arange(4.0,requires_grad=True)\n",
    "x.grad # 默认值是None"
   ]
  },
  {
   "cell_type": "code",
   "execution_count": 11,
   "metadata": {},
   "outputs": [
    {
     "data": {
      "text/plain": [
       "tensor(28., grad_fn=<MulBackward0>)"
      ]
     },
     "execution_count": 11,
     "metadata": {},
     "output_type": "execute_result"
    }
   ],
   "source": [
    "y = 2 * torch.dot(x, x)\n",
    "y"
   ]
  },
  {
   "cell_type": "code",
   "execution_count": 12,
   "metadata": {},
   "outputs": [
    {
     "data": {
      "text/plain": [
       "tensor([ 0.,  4.,  8., 12.])"
      ]
     },
     "execution_count": 12,
     "metadata": {},
     "output_type": "execute_result"
    }
   ],
   "source": [
    "y.backward()\n",
    "x.grad"
   ]
  },
  {
   "cell_type": "code",
   "execution_count": 13,
   "metadata": {},
   "outputs": [
    {
     "data": {
      "text/plain": [
       "tensor([True, True, True, True])"
      ]
     },
     "execution_count": 13,
     "metadata": {},
     "output_type": "execute_result"
    }
   ],
   "source": [
    "x.grad == 4 * x"
   ]
  },
  {
   "cell_type": "code",
   "execution_count": 14,
   "metadata": {},
   "outputs": [
    {
     "data": {
      "text/plain": [
       "tensor([1., 1., 1., 1.])"
      ]
     },
     "execution_count": 14,
     "metadata": {},
     "output_type": "execute_result"
    }
   ],
   "source": [
    "# 在默认情况下， PyTorch会累积梯度，我们需要清除之前的值\n",
    "x.grad.zero_()\n",
    "y = x.sum()\n",
    "y.backward()\n",
    "x.grad"
   ]
  },
  {
   "cell_type": "markdown",
   "metadata": {
    "jp-MarkdownHeadingCollapsed": true,
    "tags": []
   },
   "source": [
    "### 2.5.2非标量变量的反向传播"
   ]
  },
  {
   "cell_type": "code",
   "execution_count": 15,
   "metadata": {},
   "outputs": [
    {
     "data": {
      "text/plain": [
       "tensor([0., 2., 4., 6.])"
      ]
     },
     "execution_count": 15,
     "metadata": {},
     "output_type": "execute_result"
    }
   ],
   "source": [
    "# 对⾮标量调⽤backward需要传⼊⼀个gradient参数，该参数指定微分函数关于self的梯度。\n",
    "# 在我们的例⼦中，我们只想求偏导数的和，所以传递⼀个1的梯度是合适的\n",
    "x.grad.zero_()\n",
    "y = x * x\n",
    "# 等价于y.backward(torch.ones(len(x)))\n",
    "y.sum().backward()\n",
    "x.grad"
   ]
  },
  {
   "cell_type": "markdown",
   "metadata": {
    "jp-MarkdownHeadingCollapsed": true,
    "tags": []
   },
   "source": [
    "### 2.5.3 *分离计算*"
   ]
  },
  {
   "cell_type": "markdown",
   "metadata": {},
   "source": [
    "    有时，我们希望将某些计算移动到记录的计算图之外。例如，假设y是作为x的函数计算的，而z则是作为y和x的函数计算的。想象⼀下，我们想计算z关于x的梯度，但由于某种原因，我们希望将y视为⼀个常数，并且只考虑到x在y被计算后发挥的作⽤。\n",
    "\n",
    "    在这⾥，我们可以分离y来返回⼀个新变量u，该变量与y具有相同的值，但丢弃计算图中如何计算y的任何信息。换句话说，梯度不会向后流经u到x。因此，下⾯的反向传播函数计算z=u*x关于x的偏导数，同时将u作为常数处理，而不是z=x*x*x关于x的偏导数。"
   ]
  },
  {
   "cell_type": "code",
   "execution_count": 16,
   "metadata": {},
   "outputs": [
    {
     "data": {
      "text/plain": [
       "tensor([True, True, True, True])"
      ]
     },
     "execution_count": 16,
     "metadata": {},
     "output_type": "execute_result"
    }
   ],
   "source": [
    "x.grad.zero_()\n",
    "y = x * x\n",
    "u = y.detach()\n",
    "z = u * x\n",
    "z.sum().backward()\n",
    "x.grad == u"
   ]
  },
  {
   "cell_type": "code",
   "execution_count": 17,
   "metadata": {},
   "outputs": [
    {
     "data": {
      "text/plain": [
       "tensor([True, True, True, True])"
      ]
     },
     "execution_count": 17,
     "metadata": {},
     "output_type": "execute_result"
    }
   ],
   "source": [
    "x.grad.zero_()\n",
    "y.sum().backward()\n",
    "x.grad == 2 * x"
   ]
  },
  {
   "cell_type": "markdown",
   "metadata": {
    "jp-MarkdownHeadingCollapsed": true,
    "tags": []
   },
   "source": [
    "### 2.5.4Python控制流的梯度计算"
   ]
  },
  {
   "cell_type": "code",
   "execution_count": 18,
   "metadata": {},
   "outputs": [],
   "source": [
    "def f(a):\n",
    "    b = a * 2\n",
    "    while b.norm() < 1000:\n",
    "        b = b * 2\n",
    "    if b.sum() > 0:\n",
    "        c = b\n",
    "    else:\n",
    "        c = 100 * b\n",
    "    return c"
   ]
  },
  {
   "cell_type": "code",
   "execution_count": 19,
   "metadata": {},
   "outputs": [],
   "source": [
    "a = torch.randn(size=(), requires_grad=True)\n",
    "d = f(a)\n",
    "d.backward()"
   ]
  },
  {
   "cell_type": "code",
   "execution_count": 20,
   "metadata": {},
   "outputs": [
    {
     "data": {
      "text/plain": [
       "tensor(True)"
      ]
     },
     "execution_count": 20,
     "metadata": {},
     "output_type": "execute_result"
    }
   ],
   "source": [
    "a.grad == d / a"
   ]
  },
  {
   "cell_type": "markdown",
   "metadata": {},
   "source": [
    "## 2.6概率"
   ]
  },
  {
   "cell_type": "markdown",
   "metadata": {},
   "source": [
    "### 2.6.1基本概率论"
   ]
  },
  {
   "cell_type": "code",
   "execution_count": 21,
   "metadata": {},
   "outputs": [],
   "source": [
    "%matplotlib inline\n",
    "import torch\n",
    "from torch.distributions import multinomial\n",
    "from d2l import torch as d2l"
   ]
  },
  {
   "cell_type": "code",
   "execution_count": 22,
   "metadata": {},
   "outputs": [
    {
     "data": {
      "text/plain": [
       "tensor([0., 0., 0., 0., 1., 0.])"
      ]
     },
     "execution_count": 22,
     "metadata": {},
     "output_type": "execute_result"
    }
   ],
   "source": [
    "fair_probs = torch.ones([6]) / 6\n",
    "multinomial.Multinomial(1, fair_probs).sample()"
   ]
  },
  {
   "cell_type": "code",
   "execution_count": 23,
   "metadata": {},
   "outputs": [
    {
     "data": {
      "text/plain": [
       "tensor([1., 1., 1., 4., 3., 0.])"
      ]
     },
     "execution_count": 23,
     "metadata": {},
     "output_type": "execute_result"
    }
   ],
   "source": [
    "multinomial.Multinomial(10, fair_probs).sample()"
   ]
  },
  {
   "cell_type": "code",
   "execution_count": 24,
   "metadata": {},
   "outputs": [
    {
     "data": {
      "text/plain": [
       "tensor([0.1490, 0.1800, 0.1810, 0.1570, 0.1610, 0.1720])"
      ]
     },
     "execution_count": 24,
     "metadata": {},
     "output_type": "execute_result"
    }
   ],
   "source": [
    "# 将结果存储为32位浮点数以进⾏除法\n",
    "counts = multinomial.Multinomial(1000, fair_probs).sample()\n",
    "counts / 1000 # 相对频率作为估计值"
   ]
  },
  {
   "cell_type": "code",
   "execution_count": 25,
   "metadata": {},
   "outputs": [
    {
     "data": {
      "image/svg+xml": [
       "<?xml version=\"1.0\" encoding=\"utf-8\" standalone=\"no\"?>\n",
       "<!DOCTYPE svg PUBLIC \"-//W3C//DTD SVG 1.1//EN\"\n",
       "  \"http://www.w3.org/Graphics/SVG/1.1/DTD/svg11.dtd\">\n",
       "<svg xmlns:xlink=\"http://www.w3.org/1999/xlink\" width=\"392.14375pt\" height=\"289.37625pt\" viewBox=\"0 0 392.14375 289.37625\" xmlns=\"http://www.w3.org/2000/svg\" version=\"1.1\">\n",
       " <metadata>\n",
       "  <rdf:RDF xmlns:dc=\"http://purl.org/dc/elements/1.1/\" xmlns:cc=\"http://creativecommons.org/ns#\" xmlns:rdf=\"http://www.w3.org/1999/02/22-rdf-syntax-ns#\">\n",
       "   <cc:Work>\n",
       "    <dc:type rdf:resource=\"http://purl.org/dc/dcmitype/StillImage\"/>\n",
       "    <dc:date>2022-05-10T13:46:35.378464</dc:date>\n",
       "    <dc:format>image/svg+xml</dc:format>\n",
       "    <dc:creator>\n",
       "     <cc:Agent>\n",
       "      <dc:title>Matplotlib v3.5.1, https://matplotlib.org/</dc:title>\n",
       "     </cc:Agent>\n",
       "    </dc:creator>\n",
       "   </cc:Work>\n",
       "  </rdf:RDF>\n",
       " </metadata>\n",
       " <defs>\n",
       "  <style type=\"text/css\">*{stroke-linejoin: round; stroke-linecap: butt}</style>\n",
       " </defs>\n",
       " <g id=\"figure_1\">\n",
       "  <g id=\"patch_1\">\n",
       "   <path d=\"M 0 289.37625 \n",
       "L 392.14375 289.37625 \n",
       "L 392.14375 0 \n",
       "L 0 0 \n",
       "L 0 289.37625 \n",
       "z\n",
       "\" style=\"fill: none\"/>\n",
       "  </g>\n",
       "  <g id=\"axes_1\">\n",
       "   <g id=\"patch_2\">\n",
       "    <path d=\"M 50.14375 251.82 \n",
       "L 384.94375 251.82 \n",
       "L 384.94375 7.2 \n",
       "L 50.14375 7.2 \n",
       "z\n",
       "\" style=\"fill: #ffffff\"/>\n",
       "   </g>\n",
       "   <g id=\"matplotlib.axis_1\">\n",
       "    <g id=\"xtick_1\">\n",
       "     <g id=\"line2d_1\">\n",
       "      <defs>\n",
       "       <path id=\"mb0754df604\" d=\"M 0 0 \n",
       "L 0 3.5 \n",
       "\" style=\"stroke: #000000; stroke-width: 0.8\"/>\n",
       "      </defs>\n",
       "      <g>\n",
       "       <use xlink:href=\"#mb0754df604\" x=\"65.361932\" y=\"251.82\" style=\"stroke: #000000; stroke-width: 0.8\"/>\n",
       "      </g>\n",
       "     </g>\n",
       "     <g id=\"text_1\">\n",
       "      <!-- 0 -->\n",
       "      <g transform=\"translate(62.180682 266.418437)scale(0.1 -0.1)\">\n",
       "       <defs>\n",
       "        <path id=\"DejaVuSans-30\" d=\"M 2034 4250 \n",
       "Q 1547 4250 1301 3770 \n",
       "Q 1056 3291 1056 2328 \n",
       "Q 1056 1369 1301 889 \n",
       "Q 1547 409 2034 409 \n",
       "Q 2525 409 2770 889 \n",
       "Q 3016 1369 3016 2328 \n",
       "Q 3016 3291 2770 3770 \n",
       "Q 2525 4250 2034 4250 \n",
       "z\n",
       "M 2034 4750 \n",
       "Q 2819 4750 3233 4129 \n",
       "Q 3647 3509 3647 2328 \n",
       "Q 3647 1150 3233 529 \n",
       "Q 2819 -91 2034 -91 \n",
       "Q 1250 -91 836 529 \n",
       "Q 422 1150 422 2328 \n",
       "Q 422 3509 836 4129 \n",
       "Q 1250 4750 2034 4750 \n",
       "z\n",
       "\" transform=\"scale(0.015625)\"/>\n",
       "       </defs>\n",
       "       <use xlink:href=\"#DejaVuSans-30\"/>\n",
       "      </g>\n",
       "     </g>\n",
       "    </g>\n",
       "    <g id=\"xtick_2\">\n",
       "     <g id=\"line2d_2\">\n",
       "      <g>\n",
       "       <use xlink:href=\"#mb0754df604\" x=\"126.356649\" y=\"251.82\" style=\"stroke: #000000; stroke-width: 0.8\"/>\n",
       "      </g>\n",
       "     </g>\n",
       "     <g id=\"text_2\">\n",
       "      <!-- 100 -->\n",
       "      <g transform=\"translate(116.812899 266.418437)scale(0.1 -0.1)\">\n",
       "       <defs>\n",
       "        <path id=\"DejaVuSans-31\" d=\"M 794 531 \n",
       "L 1825 531 \n",
       "L 1825 4091 \n",
       "L 703 3866 \n",
       "L 703 4441 \n",
       "L 1819 4666 \n",
       "L 2450 4666 \n",
       "L 2450 531 \n",
       "L 3481 531 \n",
       "L 3481 0 \n",
       "L 794 0 \n",
       "L 794 531 \n",
       "z\n",
       "\" transform=\"scale(0.015625)\"/>\n",
       "       </defs>\n",
       "       <use xlink:href=\"#DejaVuSans-31\"/>\n",
       "       <use xlink:href=\"#DejaVuSans-30\" x=\"63.623047\"/>\n",
       "       <use xlink:href=\"#DejaVuSans-30\" x=\"127.246094\"/>\n",
       "      </g>\n",
       "     </g>\n",
       "    </g>\n",
       "    <g id=\"xtick_3\">\n",
       "     <g id=\"line2d_3\">\n",
       "      <g>\n",
       "       <use xlink:href=\"#mb0754df604\" x=\"187.351365\" y=\"251.82\" style=\"stroke: #000000; stroke-width: 0.8\"/>\n",
       "      </g>\n",
       "     </g>\n",
       "     <g id=\"text_3\">\n",
       "      <!-- 200 -->\n",
       "      <g transform=\"translate(177.807615 266.418437)scale(0.1 -0.1)\">\n",
       "       <defs>\n",
       "        <path id=\"DejaVuSans-32\" d=\"M 1228 531 \n",
       "L 3431 531 \n",
       "L 3431 0 \n",
       "L 469 0 \n",
       "L 469 531 \n",
       "Q 828 903 1448 1529 \n",
       "Q 2069 2156 2228 2338 \n",
       "Q 2531 2678 2651 2914 \n",
       "Q 2772 3150 2772 3378 \n",
       "Q 2772 3750 2511 3984 \n",
       "Q 2250 4219 1831 4219 \n",
       "Q 1534 4219 1204 4116 \n",
       "Q 875 4013 500 3803 \n",
       "L 500 4441 \n",
       "Q 881 4594 1212 4672 \n",
       "Q 1544 4750 1819 4750 \n",
       "Q 2544 4750 2975 4387 \n",
       "Q 3406 4025 3406 3419 \n",
       "Q 3406 3131 3298 2873 \n",
       "Q 3191 2616 2906 2266 \n",
       "Q 2828 2175 2409 1742 \n",
       "Q 1991 1309 1228 531 \n",
       "z\n",
       "\" transform=\"scale(0.015625)\"/>\n",
       "       </defs>\n",
       "       <use xlink:href=\"#DejaVuSans-32\"/>\n",
       "       <use xlink:href=\"#DejaVuSans-30\" x=\"63.623047\"/>\n",
       "       <use xlink:href=\"#DejaVuSans-30\" x=\"127.246094\"/>\n",
       "      </g>\n",
       "     </g>\n",
       "    </g>\n",
       "    <g id=\"xtick_4\">\n",
       "     <g id=\"line2d_4\">\n",
       "      <g>\n",
       "       <use xlink:href=\"#mb0754df604\" x=\"248.346082\" y=\"251.82\" style=\"stroke: #000000; stroke-width: 0.8\"/>\n",
       "      </g>\n",
       "     </g>\n",
       "     <g id=\"text_4\">\n",
       "      <!-- 300 -->\n",
       "      <g transform=\"translate(238.802332 266.418437)scale(0.1 -0.1)\">\n",
       "       <defs>\n",
       "        <path id=\"DejaVuSans-33\" d=\"M 2597 2516 \n",
       "Q 3050 2419 3304 2112 \n",
       "Q 3559 1806 3559 1356 \n",
       "Q 3559 666 3084 287 \n",
       "Q 2609 -91 1734 -91 \n",
       "Q 1441 -91 1130 -33 \n",
       "Q 819 25 488 141 \n",
       "L 488 750 \n",
       "Q 750 597 1062 519 \n",
       "Q 1375 441 1716 441 \n",
       "Q 2309 441 2620 675 \n",
       "Q 2931 909 2931 1356 \n",
       "Q 2931 1769 2642 2001 \n",
       "Q 2353 2234 1838 2234 \n",
       "L 1294 2234 \n",
       "L 1294 2753 \n",
       "L 1863 2753 \n",
       "Q 2328 2753 2575 2939 \n",
       "Q 2822 3125 2822 3475 \n",
       "Q 2822 3834 2567 4026 \n",
       "Q 2313 4219 1838 4219 \n",
       "Q 1578 4219 1281 4162 \n",
       "Q 984 4106 628 3988 \n",
       "L 628 4550 \n",
       "Q 988 4650 1302 4700 \n",
       "Q 1616 4750 1894 4750 \n",
       "Q 2613 4750 3031 4423 \n",
       "Q 3450 4097 3450 3541 \n",
       "Q 3450 3153 3228 2886 \n",
       "Q 3006 2619 2597 2516 \n",
       "z\n",
       "\" transform=\"scale(0.015625)\"/>\n",
       "       </defs>\n",
       "       <use xlink:href=\"#DejaVuSans-33\"/>\n",
       "       <use xlink:href=\"#DejaVuSans-30\" x=\"63.623047\"/>\n",
       "       <use xlink:href=\"#DejaVuSans-30\" x=\"127.246094\"/>\n",
       "      </g>\n",
       "     </g>\n",
       "    </g>\n",
       "    <g id=\"xtick_5\">\n",
       "     <g id=\"line2d_5\">\n",
       "      <g>\n",
       "       <use xlink:href=\"#mb0754df604\" x=\"309.340799\" y=\"251.82\" style=\"stroke: #000000; stroke-width: 0.8\"/>\n",
       "      </g>\n",
       "     </g>\n",
       "     <g id=\"text_5\">\n",
       "      <!-- 400 -->\n",
       "      <g transform=\"translate(299.797049 266.418437)scale(0.1 -0.1)\">\n",
       "       <defs>\n",
       "        <path id=\"DejaVuSans-34\" d=\"M 2419 4116 \n",
       "L 825 1625 \n",
       "L 2419 1625 \n",
       "L 2419 4116 \n",
       "z\n",
       "M 2253 4666 \n",
       "L 3047 4666 \n",
       "L 3047 1625 \n",
       "L 3713 1625 \n",
       "L 3713 1100 \n",
       "L 3047 1100 \n",
       "L 3047 0 \n",
       "L 2419 0 \n",
       "L 2419 1100 \n",
       "L 313 1100 \n",
       "L 313 1709 \n",
       "L 2253 4666 \n",
       "z\n",
       "\" transform=\"scale(0.015625)\"/>\n",
       "       </defs>\n",
       "       <use xlink:href=\"#DejaVuSans-34\"/>\n",
       "       <use xlink:href=\"#DejaVuSans-30\" x=\"63.623047\"/>\n",
       "       <use xlink:href=\"#DejaVuSans-30\" x=\"127.246094\"/>\n",
       "      </g>\n",
       "     </g>\n",
       "    </g>\n",
       "    <g id=\"xtick_6\">\n",
       "     <g id=\"line2d_6\">\n",
       "      <g>\n",
       "       <use xlink:href=\"#mb0754df604\" x=\"370.335515\" y=\"251.82\" style=\"stroke: #000000; stroke-width: 0.8\"/>\n",
       "      </g>\n",
       "     </g>\n",
       "     <g id=\"text_6\">\n",
       "      <!-- 500 -->\n",
       "      <g transform=\"translate(360.791765 266.418437)scale(0.1 -0.1)\">\n",
       "       <defs>\n",
       "        <path id=\"DejaVuSans-35\" d=\"M 691 4666 \n",
       "L 3169 4666 \n",
       "L 3169 4134 \n",
       "L 1269 4134 \n",
       "L 1269 2991 \n",
       "Q 1406 3038 1543 3061 \n",
       "Q 1681 3084 1819 3084 \n",
       "Q 2600 3084 3056 2656 \n",
       "Q 3513 2228 3513 1497 \n",
       "Q 3513 744 3044 326 \n",
       "Q 2575 -91 1722 -91 \n",
       "Q 1428 -91 1123 -41 \n",
       "Q 819 9 494 109 \n",
       "L 494 744 \n",
       "Q 775 591 1075 516 \n",
       "Q 1375 441 1709 441 \n",
       "Q 2250 441 2565 725 \n",
       "Q 2881 1009 2881 1497 \n",
       "Q 2881 1984 2565 2268 \n",
       "Q 2250 2553 1709 2553 \n",
       "Q 1456 2553 1204 2497 \n",
       "Q 953 2441 691 2322 \n",
       "L 691 4666 \n",
       "z\n",
       "\" transform=\"scale(0.015625)\"/>\n",
       "       </defs>\n",
       "       <use xlink:href=\"#DejaVuSans-35\"/>\n",
       "       <use xlink:href=\"#DejaVuSans-30\" x=\"63.623047\"/>\n",
       "       <use xlink:href=\"#DejaVuSans-30\" x=\"127.246094\"/>\n",
       "      </g>\n",
       "     </g>\n",
       "    </g>\n",
       "    <g id=\"text_7\">\n",
       "     <!-- Groups of experiments -->\n",
       "     <g transform=\"translate(160.397656 280.096562)scale(0.1 -0.1)\">\n",
       "      <defs>\n",
       "       <path id=\"DejaVuSans-47\" d=\"M 3809 666 \n",
       "L 3809 1919 \n",
       "L 2778 1919 \n",
       "L 2778 2438 \n",
       "L 4434 2438 \n",
       "L 4434 434 \n",
       "Q 4069 175 3628 42 \n",
       "Q 3188 -91 2688 -91 \n",
       "Q 1594 -91 976 548 \n",
       "Q 359 1188 359 2328 \n",
       "Q 359 3472 976 4111 \n",
       "Q 1594 4750 2688 4750 \n",
       "Q 3144 4750 3555 4637 \n",
       "Q 3966 4525 4313 4306 \n",
       "L 4313 3634 \n",
       "Q 3963 3931 3569 4081 \n",
       "Q 3175 4231 2741 4231 \n",
       "Q 1884 4231 1454 3753 \n",
       "Q 1025 3275 1025 2328 \n",
       "Q 1025 1384 1454 906 \n",
       "Q 1884 428 2741 428 \n",
       "Q 3075 428 3337 486 \n",
       "Q 3600 544 3809 666 \n",
       "z\n",
       "\" transform=\"scale(0.015625)\"/>\n",
       "       <path id=\"DejaVuSans-72\" d=\"M 2631 2963 \n",
       "Q 2534 3019 2420 3045 \n",
       "Q 2306 3072 2169 3072 \n",
       "Q 1681 3072 1420 2755 \n",
       "Q 1159 2438 1159 1844 \n",
       "L 1159 0 \n",
       "L 581 0 \n",
       "L 581 3500 \n",
       "L 1159 3500 \n",
       "L 1159 2956 \n",
       "Q 1341 3275 1631 3429 \n",
       "Q 1922 3584 2338 3584 \n",
       "Q 2397 3584 2469 3576 \n",
       "Q 2541 3569 2628 3553 \n",
       "L 2631 2963 \n",
       "z\n",
       "\" transform=\"scale(0.015625)\"/>\n",
       "       <path id=\"DejaVuSans-6f\" d=\"M 1959 3097 \n",
       "Q 1497 3097 1228 2736 \n",
       "Q 959 2375 959 1747 \n",
       "Q 959 1119 1226 758 \n",
       "Q 1494 397 1959 397 \n",
       "Q 2419 397 2687 759 \n",
       "Q 2956 1122 2956 1747 \n",
       "Q 2956 2369 2687 2733 \n",
       "Q 2419 3097 1959 3097 \n",
       "z\n",
       "M 1959 3584 \n",
       "Q 2709 3584 3137 3096 \n",
       "Q 3566 2609 3566 1747 \n",
       "Q 3566 888 3137 398 \n",
       "Q 2709 -91 1959 -91 \n",
       "Q 1206 -91 779 398 \n",
       "Q 353 888 353 1747 \n",
       "Q 353 2609 779 3096 \n",
       "Q 1206 3584 1959 3584 \n",
       "z\n",
       "\" transform=\"scale(0.015625)\"/>\n",
       "       <path id=\"DejaVuSans-75\" d=\"M 544 1381 \n",
       "L 544 3500 \n",
       "L 1119 3500 \n",
       "L 1119 1403 \n",
       "Q 1119 906 1312 657 \n",
       "Q 1506 409 1894 409 \n",
       "Q 2359 409 2629 706 \n",
       "Q 2900 1003 2900 1516 \n",
       "L 2900 3500 \n",
       "L 3475 3500 \n",
       "L 3475 0 \n",
       "L 2900 0 \n",
       "L 2900 538 \n",
       "Q 2691 219 2414 64 \n",
       "Q 2138 -91 1772 -91 \n",
       "Q 1169 -91 856 284 \n",
       "Q 544 659 544 1381 \n",
       "z\n",
       "M 1991 3584 \n",
       "L 1991 3584 \n",
       "z\n",
       "\" transform=\"scale(0.015625)\"/>\n",
       "       <path id=\"DejaVuSans-70\" d=\"M 1159 525 \n",
       "L 1159 -1331 \n",
       "L 581 -1331 \n",
       "L 581 3500 \n",
       "L 1159 3500 \n",
       "L 1159 2969 \n",
       "Q 1341 3281 1617 3432 \n",
       "Q 1894 3584 2278 3584 \n",
       "Q 2916 3584 3314 3078 \n",
       "Q 3713 2572 3713 1747 \n",
       "Q 3713 922 3314 415 \n",
       "Q 2916 -91 2278 -91 \n",
       "Q 1894 -91 1617 61 \n",
       "Q 1341 213 1159 525 \n",
       "z\n",
       "M 3116 1747 \n",
       "Q 3116 2381 2855 2742 \n",
       "Q 2594 3103 2138 3103 \n",
       "Q 1681 3103 1420 2742 \n",
       "Q 1159 2381 1159 1747 \n",
       "Q 1159 1113 1420 752 \n",
       "Q 1681 391 2138 391 \n",
       "Q 2594 391 2855 752 \n",
       "Q 3116 1113 3116 1747 \n",
       "z\n",
       "\" transform=\"scale(0.015625)\"/>\n",
       "       <path id=\"DejaVuSans-73\" d=\"M 2834 3397 \n",
       "L 2834 2853 \n",
       "Q 2591 2978 2328 3040 \n",
       "Q 2066 3103 1784 3103 \n",
       "Q 1356 3103 1142 2972 \n",
       "Q 928 2841 928 2578 \n",
       "Q 928 2378 1081 2264 \n",
       "Q 1234 2150 1697 2047 \n",
       "L 1894 2003 \n",
       "Q 2506 1872 2764 1633 \n",
       "Q 3022 1394 3022 966 \n",
       "Q 3022 478 2636 193 \n",
       "Q 2250 -91 1575 -91 \n",
       "Q 1294 -91 989 -36 \n",
       "Q 684 19 347 128 \n",
       "L 347 722 \n",
       "Q 666 556 975 473 \n",
       "Q 1284 391 1588 391 \n",
       "Q 1994 391 2212 530 \n",
       "Q 2431 669 2431 922 \n",
       "Q 2431 1156 2273 1281 \n",
       "Q 2116 1406 1581 1522 \n",
       "L 1381 1569 \n",
       "Q 847 1681 609 1914 \n",
       "Q 372 2147 372 2553 \n",
       "Q 372 3047 722 3315 \n",
       "Q 1072 3584 1716 3584 \n",
       "Q 2034 3584 2315 3537 \n",
       "Q 2597 3491 2834 3397 \n",
       "z\n",
       "\" transform=\"scale(0.015625)\"/>\n",
       "       <path id=\"DejaVuSans-20\" transform=\"scale(0.015625)\"/>\n",
       "       <path id=\"DejaVuSans-66\" d=\"M 2375 4863 \n",
       "L 2375 4384 \n",
       "L 1825 4384 \n",
       "Q 1516 4384 1395 4259 \n",
       "Q 1275 4134 1275 3809 \n",
       "L 1275 3500 \n",
       "L 2222 3500 \n",
       "L 2222 3053 \n",
       "L 1275 3053 \n",
       "L 1275 0 \n",
       "L 697 0 \n",
       "L 697 3053 \n",
       "L 147 3053 \n",
       "L 147 3500 \n",
       "L 697 3500 \n",
       "L 697 3744 \n",
       "Q 697 4328 969 4595 \n",
       "Q 1241 4863 1831 4863 \n",
       "L 2375 4863 \n",
       "z\n",
       "\" transform=\"scale(0.015625)\"/>\n",
       "       <path id=\"DejaVuSans-65\" d=\"M 3597 1894 \n",
       "L 3597 1613 \n",
       "L 953 1613 \n",
       "Q 991 1019 1311 708 \n",
       "Q 1631 397 2203 397 \n",
       "Q 2534 397 2845 478 \n",
       "Q 3156 559 3463 722 \n",
       "L 3463 178 \n",
       "Q 3153 47 2828 -22 \n",
       "Q 2503 -91 2169 -91 \n",
       "Q 1331 -91 842 396 \n",
       "Q 353 884 353 1716 \n",
       "Q 353 2575 817 3079 \n",
       "Q 1281 3584 2069 3584 \n",
       "Q 2775 3584 3186 3129 \n",
       "Q 3597 2675 3597 1894 \n",
       "z\n",
       "M 3022 2063 \n",
       "Q 3016 2534 2758 2815 \n",
       "Q 2500 3097 2075 3097 \n",
       "Q 1594 3097 1305 2825 \n",
       "Q 1016 2553 972 2059 \n",
       "L 3022 2063 \n",
       "z\n",
       "\" transform=\"scale(0.015625)\"/>\n",
       "       <path id=\"DejaVuSans-78\" d=\"M 3513 3500 \n",
       "L 2247 1797 \n",
       "L 3578 0 \n",
       "L 2900 0 \n",
       "L 1881 1375 \n",
       "L 863 0 \n",
       "L 184 0 \n",
       "L 1544 1831 \n",
       "L 300 3500 \n",
       "L 978 3500 \n",
       "L 1906 2253 \n",
       "L 2834 3500 \n",
       "L 3513 3500 \n",
       "z\n",
       "\" transform=\"scale(0.015625)\"/>\n",
       "       <path id=\"DejaVuSans-69\" d=\"M 603 3500 \n",
       "L 1178 3500 \n",
       "L 1178 0 \n",
       "L 603 0 \n",
       "L 603 3500 \n",
       "z\n",
       "M 603 4863 \n",
       "L 1178 4863 \n",
       "L 1178 4134 \n",
       "L 603 4134 \n",
       "L 603 4863 \n",
       "z\n",
       "\" transform=\"scale(0.015625)\"/>\n",
       "       <path id=\"DejaVuSans-6d\" d=\"M 3328 2828 \n",
       "Q 3544 3216 3844 3400 \n",
       "Q 4144 3584 4550 3584 \n",
       "Q 5097 3584 5394 3201 \n",
       "Q 5691 2819 5691 2113 \n",
       "L 5691 0 \n",
       "L 5113 0 \n",
       "L 5113 2094 \n",
       "Q 5113 2597 4934 2840 \n",
       "Q 4756 3084 4391 3084 \n",
       "Q 3944 3084 3684 2787 \n",
       "Q 3425 2491 3425 1978 \n",
       "L 3425 0 \n",
       "L 2847 0 \n",
       "L 2847 2094 \n",
       "Q 2847 2600 2669 2842 \n",
       "Q 2491 3084 2119 3084 \n",
       "Q 1678 3084 1418 2786 \n",
       "Q 1159 2488 1159 1978 \n",
       "L 1159 0 \n",
       "L 581 0 \n",
       "L 581 3500 \n",
       "L 1159 3500 \n",
       "L 1159 2956 \n",
       "Q 1356 3278 1631 3431 \n",
       "Q 1906 3584 2284 3584 \n",
       "Q 2666 3584 2933 3390 \n",
       "Q 3200 3197 3328 2828 \n",
       "z\n",
       "\" transform=\"scale(0.015625)\"/>\n",
       "       <path id=\"DejaVuSans-6e\" d=\"M 3513 2113 \n",
       "L 3513 0 \n",
       "L 2938 0 \n",
       "L 2938 2094 \n",
       "Q 2938 2591 2744 2837 \n",
       "Q 2550 3084 2163 3084 \n",
       "Q 1697 3084 1428 2787 \n",
       "Q 1159 2491 1159 1978 \n",
       "L 1159 0 \n",
       "L 581 0 \n",
       "L 581 3500 \n",
       "L 1159 3500 \n",
       "L 1159 2956 \n",
       "Q 1366 3272 1645 3428 \n",
       "Q 1925 3584 2291 3584 \n",
       "Q 2894 3584 3203 3211 \n",
       "Q 3513 2838 3513 2113 \n",
       "z\n",
       "\" transform=\"scale(0.015625)\"/>\n",
       "       <path id=\"DejaVuSans-74\" d=\"M 1172 4494 \n",
       "L 1172 3500 \n",
       "L 2356 3500 \n",
       "L 2356 3053 \n",
       "L 1172 3053 \n",
       "L 1172 1153 \n",
       "Q 1172 725 1289 603 \n",
       "Q 1406 481 1766 481 \n",
       "L 2356 481 \n",
       "L 2356 0 \n",
       "L 1766 0 \n",
       "Q 1100 0 847 248 \n",
       "Q 594 497 594 1153 \n",
       "L 594 3053 \n",
       "L 172 3053 \n",
       "L 172 3500 \n",
       "L 594 3500 \n",
       "L 594 4494 \n",
       "L 1172 4494 \n",
       "z\n",
       "\" transform=\"scale(0.015625)\"/>\n",
       "      </defs>\n",
       "      <use xlink:href=\"#DejaVuSans-47\"/>\n",
       "      <use xlink:href=\"#DejaVuSans-72\" x=\"77.490234\"/>\n",
       "      <use xlink:href=\"#DejaVuSans-6f\" x=\"116.353516\"/>\n",
       "      <use xlink:href=\"#DejaVuSans-75\" x=\"177.535156\"/>\n",
       "      <use xlink:href=\"#DejaVuSans-70\" x=\"240.914062\"/>\n",
       "      <use xlink:href=\"#DejaVuSans-73\" x=\"304.390625\"/>\n",
       "      <use xlink:href=\"#DejaVuSans-20\" x=\"356.490234\"/>\n",
       "      <use xlink:href=\"#DejaVuSans-6f\" x=\"388.277344\"/>\n",
       "      <use xlink:href=\"#DejaVuSans-66\" x=\"449.458984\"/>\n",
       "      <use xlink:href=\"#DejaVuSans-20\" x=\"484.664062\"/>\n",
       "      <use xlink:href=\"#DejaVuSans-65\" x=\"516.451172\"/>\n",
       "      <use xlink:href=\"#DejaVuSans-78\" x=\"576.224609\"/>\n",
       "      <use xlink:href=\"#DejaVuSans-70\" x=\"635.404297\"/>\n",
       "      <use xlink:href=\"#DejaVuSans-65\" x=\"698.880859\"/>\n",
       "      <use xlink:href=\"#DejaVuSans-72\" x=\"760.404297\"/>\n",
       "      <use xlink:href=\"#DejaVuSans-69\" x=\"801.517578\"/>\n",
       "      <use xlink:href=\"#DejaVuSans-6d\" x=\"829.300781\"/>\n",
       "      <use xlink:href=\"#DejaVuSans-65\" x=\"926.712891\"/>\n",
       "      <use xlink:href=\"#DejaVuSans-6e\" x=\"988.236328\"/>\n",
       "      <use xlink:href=\"#DejaVuSans-74\" x=\"1051.615234\"/>\n",
       "      <use xlink:href=\"#DejaVuSans-73\" x=\"1090.824219\"/>\n",
       "     </g>\n",
       "    </g>\n",
       "   </g>\n",
       "   <g id=\"matplotlib.axis_2\">\n",
       "    <g id=\"ytick_1\">\n",
       "     <g id=\"line2d_7\">\n",
       "      <defs>\n",
       "       <path id=\"m044da9e0ef\" d=\"M 0 0 \n",
       "L -3.5 0 \n",
       "\" style=\"stroke: #000000; stroke-width: 0.8\"/>\n",
       "      </defs>\n",
       "      <g>\n",
       "       <use xlink:href=\"#m044da9e0ef\" x=\"50.14375\" y=\"240.700909\" style=\"stroke: #000000; stroke-width: 0.8\"/>\n",
       "      </g>\n",
       "     </g>\n",
       "     <g id=\"text_8\">\n",
       "      <!-- 0.00 -->\n",
       "      <g transform=\"translate(20.878125 244.500128)scale(0.1 -0.1)\">\n",
       "       <defs>\n",
       "        <path id=\"DejaVuSans-2e\" d=\"M 684 794 \n",
       "L 1344 794 \n",
       "L 1344 0 \n",
       "L 684 0 \n",
       "L 684 794 \n",
       "z\n",
       "\" transform=\"scale(0.015625)\"/>\n",
       "       </defs>\n",
       "       <use xlink:href=\"#DejaVuSans-30\"/>\n",
       "       <use xlink:href=\"#DejaVuSans-2e\" x=\"63.623047\"/>\n",
       "       <use xlink:href=\"#DejaVuSans-30\" x=\"95.410156\"/>\n",
       "       <use xlink:href=\"#DejaVuSans-30\" x=\"159.033203\"/>\n",
       "      </g>\n",
       "     </g>\n",
       "    </g>\n",
       "    <g id=\"ytick_2\">\n",
       "     <g id=\"line2d_8\">\n",
       "      <g>\n",
       "       <use xlink:href=\"#m044da9e0ef\" x=\"50.14375\" y=\"212.903182\" style=\"stroke: #000000; stroke-width: 0.8\"/>\n",
       "      </g>\n",
       "     </g>\n",
       "     <g id=\"text_9\">\n",
       "      <!-- 0.05 -->\n",
       "      <g transform=\"translate(20.878125 216.702401)scale(0.1 -0.1)\">\n",
       "       <use xlink:href=\"#DejaVuSans-30\"/>\n",
       "       <use xlink:href=\"#DejaVuSans-2e\" x=\"63.623047\"/>\n",
       "       <use xlink:href=\"#DejaVuSans-30\" x=\"95.410156\"/>\n",
       "       <use xlink:href=\"#DejaVuSans-35\" x=\"159.033203\"/>\n",
       "      </g>\n",
       "     </g>\n",
       "    </g>\n",
       "    <g id=\"ytick_3\">\n",
       "     <g id=\"line2d_9\">\n",
       "      <g>\n",
       "       <use xlink:href=\"#m044da9e0ef\" x=\"50.14375\" y=\"185.105455\" style=\"stroke: #000000; stroke-width: 0.8\"/>\n",
       "      </g>\n",
       "     </g>\n",
       "     <g id=\"text_10\">\n",
       "      <!-- 0.10 -->\n",
       "      <g transform=\"translate(20.878125 188.904674)scale(0.1 -0.1)\">\n",
       "       <use xlink:href=\"#DejaVuSans-30\"/>\n",
       "       <use xlink:href=\"#DejaVuSans-2e\" x=\"63.623047\"/>\n",
       "       <use xlink:href=\"#DejaVuSans-31\" x=\"95.410156\"/>\n",
       "       <use xlink:href=\"#DejaVuSans-30\" x=\"159.033203\"/>\n",
       "      </g>\n",
       "     </g>\n",
       "    </g>\n",
       "    <g id=\"ytick_4\">\n",
       "     <g id=\"line2d_10\">\n",
       "      <g>\n",
       "       <use xlink:href=\"#m044da9e0ef\" x=\"50.14375\" y=\"157.307729\" style=\"stroke: #000000; stroke-width: 0.8\"/>\n",
       "      </g>\n",
       "     </g>\n",
       "     <g id=\"text_11\">\n",
       "      <!-- 0.15 -->\n",
       "      <g transform=\"translate(20.878125 161.106947)scale(0.1 -0.1)\">\n",
       "       <use xlink:href=\"#DejaVuSans-30\"/>\n",
       "       <use xlink:href=\"#DejaVuSans-2e\" x=\"63.623047\"/>\n",
       "       <use xlink:href=\"#DejaVuSans-31\" x=\"95.410156\"/>\n",
       "       <use xlink:href=\"#DejaVuSans-35\" x=\"159.033203\"/>\n",
       "      </g>\n",
       "     </g>\n",
       "    </g>\n",
       "    <g id=\"ytick_5\">\n",
       "     <g id=\"line2d_11\">\n",
       "      <g>\n",
       "       <use xlink:href=\"#m044da9e0ef\" x=\"50.14375\" y=\"129.510002\" style=\"stroke: #000000; stroke-width: 0.8\"/>\n",
       "      </g>\n",
       "     </g>\n",
       "     <g id=\"text_12\">\n",
       "      <!-- 0.20 -->\n",
       "      <g transform=\"translate(20.878125 133.30922)scale(0.1 -0.1)\">\n",
       "       <use xlink:href=\"#DejaVuSans-30\"/>\n",
       "       <use xlink:href=\"#DejaVuSans-2e\" x=\"63.623047\"/>\n",
       "       <use xlink:href=\"#DejaVuSans-32\" x=\"95.410156\"/>\n",
       "       <use xlink:href=\"#DejaVuSans-30\" x=\"159.033203\"/>\n",
       "      </g>\n",
       "     </g>\n",
       "    </g>\n",
       "    <g id=\"ytick_6\">\n",
       "     <g id=\"line2d_12\">\n",
       "      <g>\n",
       "       <use xlink:href=\"#m044da9e0ef\" x=\"50.14375\" y=\"101.712275\" style=\"stroke: #000000; stroke-width: 0.8\"/>\n",
       "      </g>\n",
       "     </g>\n",
       "     <g id=\"text_13\">\n",
       "      <!-- 0.25 -->\n",
       "      <g transform=\"translate(20.878125 105.511494)scale(0.1 -0.1)\">\n",
       "       <use xlink:href=\"#DejaVuSans-30\"/>\n",
       "       <use xlink:href=\"#DejaVuSans-2e\" x=\"63.623047\"/>\n",
       "       <use xlink:href=\"#DejaVuSans-32\" x=\"95.410156\"/>\n",
       "       <use xlink:href=\"#DejaVuSans-35\" x=\"159.033203\"/>\n",
       "      </g>\n",
       "     </g>\n",
       "    </g>\n",
       "    <g id=\"ytick_7\">\n",
       "     <g id=\"line2d_13\">\n",
       "      <g>\n",
       "       <use xlink:href=\"#m044da9e0ef\" x=\"50.14375\" y=\"73.914548\" style=\"stroke: #000000; stroke-width: 0.8\"/>\n",
       "      </g>\n",
       "     </g>\n",
       "     <g id=\"text_14\">\n",
       "      <!-- 0.30 -->\n",
       "      <g transform=\"translate(20.878125 77.713767)scale(0.1 -0.1)\">\n",
       "       <use xlink:href=\"#DejaVuSans-30\"/>\n",
       "       <use xlink:href=\"#DejaVuSans-2e\" x=\"63.623047\"/>\n",
       "       <use xlink:href=\"#DejaVuSans-33\" x=\"95.410156\"/>\n",
       "       <use xlink:href=\"#DejaVuSans-30\" x=\"159.033203\"/>\n",
       "      </g>\n",
       "     </g>\n",
       "    </g>\n",
       "    <g id=\"ytick_8\">\n",
       "     <g id=\"line2d_14\">\n",
       "      <g>\n",
       "       <use xlink:href=\"#m044da9e0ef\" x=\"50.14375\" y=\"46.116821\" style=\"stroke: #000000; stroke-width: 0.8\"/>\n",
       "      </g>\n",
       "     </g>\n",
       "     <g id=\"text_15\">\n",
       "      <!-- 0.35 -->\n",
       "      <g transform=\"translate(20.878125 49.91604)scale(0.1 -0.1)\">\n",
       "       <use xlink:href=\"#DejaVuSans-30\"/>\n",
       "       <use xlink:href=\"#DejaVuSans-2e\" x=\"63.623047\"/>\n",
       "       <use xlink:href=\"#DejaVuSans-33\" x=\"95.410156\"/>\n",
       "       <use xlink:href=\"#DejaVuSans-35\" x=\"159.033203\"/>\n",
       "      </g>\n",
       "     </g>\n",
       "    </g>\n",
       "    <g id=\"ytick_9\">\n",
       "     <g id=\"line2d_15\">\n",
       "      <g>\n",
       "       <use xlink:href=\"#m044da9e0ef\" x=\"50.14375\" y=\"18.319094\" style=\"stroke: #000000; stroke-width: 0.8\"/>\n",
       "      </g>\n",
       "     </g>\n",
       "     <g id=\"text_16\">\n",
       "      <!-- 0.40 -->\n",
       "      <g transform=\"translate(20.878125 22.118313)scale(0.1 -0.1)\">\n",
       "       <use xlink:href=\"#DejaVuSans-30\"/>\n",
       "       <use xlink:href=\"#DejaVuSans-2e\" x=\"63.623047\"/>\n",
       "       <use xlink:href=\"#DejaVuSans-34\" x=\"95.410156\"/>\n",
       "       <use xlink:href=\"#DejaVuSans-30\" x=\"159.033203\"/>\n",
       "      </g>\n",
       "     </g>\n",
       "    </g>\n",
       "    <g id=\"text_17\">\n",
       "     <!-- Estimated probability -->\n",
       "     <g transform=\"translate(14.798438 183.033437)rotate(-90)scale(0.1 -0.1)\">\n",
       "      <defs>\n",
       "       <path id=\"DejaVuSans-45\" d=\"M 628 4666 \n",
       "L 3578 4666 \n",
       "L 3578 4134 \n",
       "L 1259 4134 \n",
       "L 1259 2753 \n",
       "L 3481 2753 \n",
       "L 3481 2222 \n",
       "L 1259 2222 \n",
       "L 1259 531 \n",
       "L 3634 531 \n",
       "L 3634 0 \n",
       "L 628 0 \n",
       "L 628 4666 \n",
       "z\n",
       "\" transform=\"scale(0.015625)\"/>\n",
       "       <path id=\"DejaVuSans-61\" d=\"M 2194 1759 \n",
       "Q 1497 1759 1228 1600 \n",
       "Q 959 1441 959 1056 \n",
       "Q 959 750 1161 570 \n",
       "Q 1363 391 1709 391 \n",
       "Q 2188 391 2477 730 \n",
       "Q 2766 1069 2766 1631 \n",
       "L 2766 1759 \n",
       "L 2194 1759 \n",
       "z\n",
       "M 3341 1997 \n",
       "L 3341 0 \n",
       "L 2766 0 \n",
       "L 2766 531 \n",
       "Q 2569 213 2275 61 \n",
       "Q 1981 -91 1556 -91 \n",
       "Q 1019 -91 701 211 \n",
       "Q 384 513 384 1019 \n",
       "Q 384 1609 779 1909 \n",
       "Q 1175 2209 1959 2209 \n",
       "L 2766 2209 \n",
       "L 2766 2266 \n",
       "Q 2766 2663 2505 2880 \n",
       "Q 2244 3097 1772 3097 \n",
       "Q 1472 3097 1187 3025 \n",
       "Q 903 2953 641 2809 \n",
       "L 641 3341 \n",
       "Q 956 3463 1253 3523 \n",
       "Q 1550 3584 1831 3584 \n",
       "Q 2591 3584 2966 3190 \n",
       "Q 3341 2797 3341 1997 \n",
       "z\n",
       "\" transform=\"scale(0.015625)\"/>\n",
       "       <path id=\"DejaVuSans-64\" d=\"M 2906 2969 \n",
       "L 2906 4863 \n",
       "L 3481 4863 \n",
       "L 3481 0 \n",
       "L 2906 0 \n",
       "L 2906 525 \n",
       "Q 2725 213 2448 61 \n",
       "Q 2172 -91 1784 -91 \n",
       "Q 1150 -91 751 415 \n",
       "Q 353 922 353 1747 \n",
       "Q 353 2572 751 3078 \n",
       "Q 1150 3584 1784 3584 \n",
       "Q 2172 3584 2448 3432 \n",
       "Q 2725 3281 2906 2969 \n",
       "z\n",
       "M 947 1747 \n",
       "Q 947 1113 1208 752 \n",
       "Q 1469 391 1925 391 \n",
       "Q 2381 391 2643 752 \n",
       "Q 2906 1113 2906 1747 \n",
       "Q 2906 2381 2643 2742 \n",
       "Q 2381 3103 1925 3103 \n",
       "Q 1469 3103 1208 2742 \n",
       "Q 947 2381 947 1747 \n",
       "z\n",
       "\" transform=\"scale(0.015625)\"/>\n",
       "       <path id=\"DejaVuSans-62\" d=\"M 3116 1747 \n",
       "Q 3116 2381 2855 2742 \n",
       "Q 2594 3103 2138 3103 \n",
       "Q 1681 3103 1420 2742 \n",
       "Q 1159 2381 1159 1747 \n",
       "Q 1159 1113 1420 752 \n",
       "Q 1681 391 2138 391 \n",
       "Q 2594 391 2855 752 \n",
       "Q 3116 1113 3116 1747 \n",
       "z\n",
       "M 1159 2969 \n",
       "Q 1341 3281 1617 3432 \n",
       "Q 1894 3584 2278 3584 \n",
       "Q 2916 3584 3314 3078 \n",
       "Q 3713 2572 3713 1747 \n",
       "Q 3713 922 3314 415 \n",
       "Q 2916 -91 2278 -91 \n",
       "Q 1894 -91 1617 61 \n",
       "Q 1341 213 1159 525 \n",
       "L 1159 0 \n",
       "L 581 0 \n",
       "L 581 4863 \n",
       "L 1159 4863 \n",
       "L 1159 2969 \n",
       "z\n",
       "\" transform=\"scale(0.015625)\"/>\n",
       "       <path id=\"DejaVuSans-6c\" d=\"M 603 4863 \n",
       "L 1178 4863 \n",
       "L 1178 0 \n",
       "L 603 0 \n",
       "L 603 4863 \n",
       "z\n",
       "\" transform=\"scale(0.015625)\"/>\n",
       "       <path id=\"DejaVuSans-79\" d=\"M 2059 -325 \n",
       "Q 1816 -950 1584 -1140 \n",
       "Q 1353 -1331 966 -1331 \n",
       "L 506 -1331 \n",
       "L 506 -850 \n",
       "L 844 -850 \n",
       "Q 1081 -850 1212 -737 \n",
       "Q 1344 -625 1503 -206 \n",
       "L 1606 56 \n",
       "L 191 3500 \n",
       "L 800 3500 \n",
       "L 1894 763 \n",
       "L 2988 3500 \n",
       "L 3597 3500 \n",
       "L 2059 -325 \n",
       "z\n",
       "\" transform=\"scale(0.015625)\"/>\n",
       "      </defs>\n",
       "      <use xlink:href=\"#DejaVuSans-45\"/>\n",
       "      <use xlink:href=\"#DejaVuSans-73\" x=\"63.183594\"/>\n",
       "      <use xlink:href=\"#DejaVuSans-74\" x=\"115.283203\"/>\n",
       "      <use xlink:href=\"#DejaVuSans-69\" x=\"154.492188\"/>\n",
       "      <use xlink:href=\"#DejaVuSans-6d\" x=\"182.275391\"/>\n",
       "      <use xlink:href=\"#DejaVuSans-61\" x=\"279.6875\"/>\n",
       "      <use xlink:href=\"#DejaVuSans-74\" x=\"340.966797\"/>\n",
       "      <use xlink:href=\"#DejaVuSans-65\" x=\"380.175781\"/>\n",
       "      <use xlink:href=\"#DejaVuSans-64\" x=\"441.699219\"/>\n",
       "      <use xlink:href=\"#DejaVuSans-20\" x=\"505.175781\"/>\n",
       "      <use xlink:href=\"#DejaVuSans-70\" x=\"536.962891\"/>\n",
       "      <use xlink:href=\"#DejaVuSans-72\" x=\"600.439453\"/>\n",
       "      <use xlink:href=\"#DejaVuSans-6f\" x=\"639.302734\"/>\n",
       "      <use xlink:href=\"#DejaVuSans-62\" x=\"700.484375\"/>\n",
       "      <use xlink:href=\"#DejaVuSans-61\" x=\"763.960938\"/>\n",
       "      <use xlink:href=\"#DejaVuSans-62\" x=\"825.240234\"/>\n",
       "      <use xlink:href=\"#DejaVuSans-69\" x=\"888.716797\"/>\n",
       "      <use xlink:href=\"#DejaVuSans-6c\" x=\"916.5\"/>\n",
       "      <use xlink:href=\"#DejaVuSans-69\" x=\"944.283203\"/>\n",
       "      <use xlink:href=\"#DejaVuSans-74\" x=\"972.066406\"/>\n",
       "      <use xlink:href=\"#DejaVuSans-79\" x=\"1011.275391\"/>\n",
       "     </g>\n",
       "    </g>\n",
       "   </g>\n",
       "   <g id=\"line2d_16\">\n",
       "    <path d=\"M 65.361932 73.914541 \n",
       "L 65.971879 101.712275 \n",
       "L 66.581826 110.978183 \n",
       "L 67.191773 129.51 \n",
       "L 67.80172 118.390912 \n",
       "L 68.411668 120.244092 \n",
       "L 69.021615 137.452207 \n",
       "L 69.631562 122.560567 \n",
       "L 70.241509 129.51 \n",
       "L 70.851456 123.95046 \n",
       "L 71.461403 134.564136 \n",
       "L 72.071351 129.51 \n",
       "L 72.681298 133.786573 \n",
       "L 73.291245 121.567793 \n",
       "L 73.901192 118.390912 \n",
       "L 75.121086 126.239679 \n",
       "L 75.731034 126.421364 \n",
       "L 76.950928 132.289778 \n",
       "L 77.560875 134.804805 \n",
       "L 78.780769 144.013162 \n",
       "L 79.390717 145.725342 \n",
       "L 80.610611 144.478006 \n",
       "L 81.220558 145.982729 \n",
       "L 82.440452 152.515019 \n",
       "L 83.0504 155.454545 \n",
       "L 83.660347 156.411025 \n",
       "L 84.270294 155.570369 \n",
       "L 84.880241 153.095952 \n",
       "L 85.490188 152.402244 \n",
       "L 86.100135 150.15974 \n",
       "L 87.929977 152.918617 \n",
       "L 89.149871 148.968407 \n",
       "L 89.759819 149.849806 \n",
       "L 90.979713 148.903764 \n",
       "L 91.58966 149.726534 \n",
       "L 93.419502 148.436111 \n",
       "L 94.029449 149.200054 \n",
       "L 94.639396 151.067425 \n",
       "L 96.469237 153.031152 \n",
       "L 97.079185 152.587358 \n",
       "L 97.689132 151.130453 \n",
       "L 98.909026 154.329404 \n",
       "L 99.518973 153.893969 \n",
       "L 100.12892 154.432105 \n",
       "L 101.348815 153.601365 \n",
       "L 101.958762 154.117829 \n",
       "L 102.568709 155.514325 \n",
       "L 103.178656 154.219089 \n",
       "L 105.008498 155.623016 \n",
       "L 105.618445 156.892836 \n",
       "L 106.228392 157.307725 \n",
       "L 106.838339 156.099135 \n",
       "L 108.058234 155.350146 \n",
       "L 108.668181 155.763411 \n",
       "L 109.278128 154.642197 \n",
       "L 109.888075 152.048701 \n",
       "L 110.498022 153.230731 \n",
       "L 111.107969 152.187091 \n",
       "L 112.327864 153.031152 \n",
       "L 112.937811 154.140901 \n",
       "L 113.547758 154.527955 \n",
       "L 114.157705 155.591817 \n",
       "L 115.987547 156.645879 \n",
       "L 117.207441 153.428976 \n",
       "L 117.817388 153.793074 \n",
       "L 118.427335 152.253598 \n",
       "L 119.037283 151.99805 \n",
       "L 119.64723 152.365909 \n",
       "L 120.257177 150.892866 \n",
       "L 120.867124 151.869046 \n",
       "L 121.477071 151.030825 \n",
       "L 123.306913 150.3583 \n",
       "L 123.91686 151.289662 \n",
       "L 124.526807 150.50012 \n",
       "L 125.136754 150.288098 \n",
       "L 125.746701 148.968407 \n",
       "L 128.18649 148.220014 \n",
       "L 130.016332 150.81293 \n",
       "L 131.236226 151.442152 \n",
       "L 131.846173 151.242772 \n",
       "L 132.45612 150.546123 \n",
       "L 133.066067 150.3583 \n",
       "L 133.676015 149.681807 \n",
       "L 134.895909 149.330989 \n",
       "L 135.505856 148.680848 \n",
       "L 136.115803 148.516992 \n",
       "L 136.72575 149.298216 \n",
       "L 137.335698 149.599112 \n",
       "L 138.555592 149.267067 \n",
       "L 139.775486 149.849806 \n",
       "L 140.385433 150.582475 \n",
       "L 140.995381 150.413888 \n",
       "L 142.215275 151.835734 \n",
       "L 142.825222 150.792633 \n",
       "L 143.435169 151.058627 \n",
       "L 144.655064 150.729639 \n",
       "L 145.265011 150.990066 \n",
       "L 146.484905 150.669469 \n",
       "L 147.094852 150.924545 \n",
       "L 148.314747 152.235149 \n",
       "L 148.924694 152.473341 \n",
       "L 149.534641 151.908173 \n",
       "L 150.144588 152.542408 \n",
       "L 151.364482 152.218 \n",
       "L 151.97443 152.836768 \n",
       "L 152.584377 152.28869 \n",
       "L 153.194324 152.515019 \n",
       "L 154.414218 153.714828 \n",
       "L 155.024165 153.175631 \n",
       "L 155.634113 153.016804 \n",
       "L 156.854007 153.441817 \n",
       "L 157.463954 154.01589 \n",
       "L 158.073901 154.219089 \n",
       "L 159.293796 153.900265 \n",
       "L 159.903743 153.387537 \n",
       "L 160.51369 153.943675 \n",
       "L 161.123637 154.140901 \n",
       "L 161.733584 154.6853 \n",
       "L 162.343531 153.833013 \n",
       "L 162.953479 153.681939 \n",
       "L 163.563426 153.875909 \n",
       "L 164.173373 153.726426 \n",
       "L 164.78332 153.239769 \n",
       "L 165.393267 153.432894 \n",
       "L 167.223109 153.005703 \n",
       "L 167.833056 153.524602 \n",
       "L 168.443003 153.710379 \n",
       "L 169.662897 154.721892 \n",
       "L 170.272845 154.254803 \n",
       "L 171.492739 154.607377 \n",
       "L 173.32258 154.184386 \n",
       "L 173.932528 153.735953 \n",
       "L 174.542475 153.910231 \n",
       "L 175.152422 153.77542 \n",
       "L 175.762369 154.25303 \n",
       "L 176.982263 153.984086 \n",
       "L 177.592211 154.152309 \n",
       "L 178.202158 154.019825 \n",
       "L 179.422052 154.350521 \n",
       "L 180.031999 153.630783 \n",
       "L 181.251894 153.378209 \n",
       "L 182.471788 152.554751 \n",
       "L 183.691682 152.888603 \n",
       "L 184.301629 152.769325 \n",
       "L 184.911577 152.933463 \n",
       "L 185.521524 152.53438 \n",
       "L 186.131471 151.580559 \n",
       "L 186.741418 152.026159 \n",
       "L 187.961312 150.702325 \n",
       "L 189.181207 151.039615 \n",
       "L 189.791154 151.476988 \n",
       "L 190.401101 151.100472 \n",
       "L 192.230943 151.588578 \n",
       "L 192.84089 151.483442 \n",
       "L 194.060784 151.800633 \n",
       "L 194.670731 151.43497 \n",
       "L 195.280678 151.852096 \n",
       "L 195.890626 151.231017 \n",
       "L 196.500573 151.38784 \n",
       "L 197.11052 151.799424 \n",
       "L 197.720467 151.442152 \n",
       "L 198.330414 151.595869 \n",
       "L 198.940361 151.242772 \n",
       "L 199.550309 151.144429 \n",
       "L 201.38015 151.599265 \n",
       "L 201.990097 151.995275 \n",
       "L 202.600044 152.141775 \n",
       "L 203.209992 151.552252 \n",
       "L 203.819939 151.943257 \n",
       "L 204.429886 151.845294 \n",
       "L 205.039833 151.989906 \n",
       "L 205.64978 151.89259 \n",
       "L 206.259727 152.275377 \n",
       "L 206.869675 152.17768 \n",
       "L 207.479622 152.555977 \n",
       "L 208.699516 152.360673 \n",
       "L 209.309463 152.49884 \n",
       "L 209.91941 152.402244 \n",
       "L 210.529358 152.771694 \n",
       "L 211.749252 152.578652 \n",
       "L 212.359199 152.713065 \n",
       "L 212.969146 152.38879 \n",
       "L 214.798988 152.787774 \n",
       "L 215.408935 153.143695 \n",
       "L 216.628829 152.953867 \n",
       "L 217.238776 152.415325 \n",
       "L 218.458671 152.233541 \n",
       "L 219.068618 152.363465 \n",
       "L 220.288512 152.184225 \n",
       "L 221.508407 152.87307 \n",
       "L 222.118354 152.998006 \n",
       "L 222.728301 153.336622 \n",
       "L 223.338248 153.031152 \n",
       "L 223.948195 152.515019 \n",
       "L 226.387984 152.167772 \n",
       "L 226.997931 151.873586 \n",
       "L 227.607878 152.206269 \n",
       "L 228.217825 152.121586 \n",
       "L 228.827773 152.450874 \n",
       "L 229.43772 152.365909 \n",
       "L 230.047667 152.48672 \n",
       "L 231.267561 152.31839 \n",
       "L 232.487456 152.556847 \n",
       "L 233.097403 152.070472 \n",
       "L 234.317297 152.308134 \n",
       "L 234.927244 152.624961 \n",
       "L 236.147139 152.460442 \n",
       "L 236.757086 151.984762 \n",
       "L 237.367033 152.101795 \n",
       "L 237.97698 152.41376 \n",
       "L 238.586927 152.528473 \n",
       "L 239.196874 152.447982 \n",
       "L 239.806822 151.980636 \n",
       "L 240.416769 151.902614 \n",
       "L 241.026716 151.440388 \n",
       "L 241.636663 151.364768 \n",
       "L 242.24661 151.098616 \n",
       "L 242.856557 150.643887 \n",
       "L 243.466505 150.382018 \n",
       "L 244.076452 150.311021 \n",
       "L 244.686399 150.052052 \n",
       "L 245.296346 150.170477 \n",
       "L 245.906293 150.475292 \n",
       "L 246.51624 150.404941 \n",
       "L 247.126188 150.706931 \n",
       "L 247.736135 150.450952 \n",
       "L 248.346082 150.381389 \n",
       "L 248.956029 150.680454 \n",
       "L 249.565976 150.610584 \n",
       "L 250.175923 150.175414 \n",
       "L 250.785871 149.925384 \n",
       "L 251.395818 150.040346 \n",
       "L 252.005765 150.335659 \n",
       "L 252.615712 150.44855 \n",
       "L 254.445554 150.246569 \n",
       "L 255.055501 150.001915 \n",
       "L 255.665448 150.114069 \n",
       "L 256.275395 150.048448 \n",
       "L 256.885342 149.806752 \n",
       "L 257.495289 149.918458 \n",
       "L 258.105237 149.6787 \n",
       "L 258.715184 149.7901 \n",
       "L 259.325131 149.726534 \n",
       "L 259.935078 150.010829 \n",
       "L 261.76492 149.820413 \n",
       "L 262.984814 150.379682 \n",
       "L 263.594761 150.486202 \n",
       "L 264.814655 150.019304 \n",
       "L 265.424603 149.956964 \n",
       "L 266.03455 150.063476 \n",
       "L 266.644497 150.001376 \n",
       "L 267.254444 150.27457 \n",
       "L 267.864391 150.379168 \n",
       "L 268.474338 150.649587 \n",
       "L 269.084286 150.586485 \n",
       "L 269.694233 150.854683 \n",
       "L 270.30418 150.956316 \n",
       "L 270.914127 150.728388 \n",
       "L 271.524074 150.665791 \n",
       "L 272.134021 150.276542 \n",
       "L 272.743969 150.215643 \n",
       "L 273.353916 150.317657 \n",
       "L 273.963863 150.581166 \n",
       "L 274.57381 150.3583 \n",
       "L 276.403652 150.658708 \n",
       "L 277.623546 150.537508 \n",
       "L 278.233493 150.795118 \n",
       "L 278.84344 150.734477 \n",
       "L 280.673282 151.025755 \n",
       "L 281.283229 150.965147 \n",
       "L 283.11307 151.717127 \n",
       "L 283.723018 151.655268 \n",
       "L 284.332965 151.439319 \n",
       "L 284.942912 151.070565 \n",
       "L 286.162806 150.951776 \n",
       "L 286.772753 150.740135 \n",
       "L 287.992648 150.927925 \n",
       "L 288.602595 150.869562 \n",
       "L 289.822489 151.35645 \n",
       "L 290.432436 151.147154 \n",
       "L 291.042384 151.088832 \n",
       "L 291.652331 151.180275 \n",
       "L 292.872225 151.064385 \n",
       "L 293.482172 150.858659 \n",
       "L 294.092119 150.949738 \n",
       "L 295.312014 150.8363 \n",
       "L 295.921961 150.633341 \n",
       "L 297.141855 150.522455 \n",
       "L 297.751802 150.321915 \n",
       "L 298.36175 150.26757 \n",
       "L 298.971697 150.503078 \n",
       "L 299.581644 150.44855 \n",
       "L 300.191591 150.250272 \n",
       "L 302.021433 150.519083 \n",
       "L 303.241327 150.411618 \n",
       "L 303.851274 150.50012 \n",
       "L 305.681116 150.340704 \n",
       "L 306.291063 150.007316 \n",
       "L 307.510957 149.624943 \n",
       "L 309.950746 150.53117 \n",
       "L 310.560693 150.203101 \n",
       "L 311.17064 149.739044 \n",
       "L 311.780587 149.826369 \n",
       "L 313.000482 149.453332 \n",
       "L 313.610429 149.676977 \n",
       "L 314.220376 149.763598 \n",
       "L 314.830323 149.578609 \n",
       "L 316.050217 149.481184 \n",
       "L 316.660165 149.567441 \n",
       "L 317.270112 149.384705 \n",
       "L 317.880059 149.604746 \n",
       "L 318.490006 149.289153 \n",
       "L 319.099953 149.375045 \n",
       "L 320.319848 149.280222 \n",
       "L 320.929795 149.497894 \n",
       "L 322.149689 149.403162 \n",
       "L 322.759636 149.487563 \n",
       "L 323.369583 149.44045 \n",
       "L 323.979531 149.655181 \n",
       "L 324.589478 149.607885 \n",
       "L 325.199425 149.691019 \n",
       "L 325.809372 149.254184 \n",
       "L 327.029266 149.162352 \n",
       "L 327.639214 149.245743 \n",
       "L 328.249161 149.071365 \n",
       "L 328.859108 149.02619 \n",
       "L 329.469055 149.109324 \n",
       "L 330.079002 148.936462 \n",
       "L 331.908844 148.803399 \n",
       "L 332.518791 149.012736 \n",
       "L 333.128738 148.842054 \n",
       "L 334.348632 149.006142 \n",
       "L 334.95858 148.962136 \n",
       "L 335.568527 149.043538 \n",
       "L 336.178474 149.249512 \n",
       "L 336.788421 148.955947 \n",
       "L 337.398368 148.912446 \n",
       "L 338.008315 148.745035 \n",
       "L 338.618263 148.702197 \n",
       "L 339.22821 148.783094 \n",
       "L 339.838157 148.617083 \n",
       "L 340.448104 148.574816 \n",
       "L 341.058051 148.655457 \n",
       "L 341.667998 148.613289 \n",
       "L 342.277946 148.69349 \n",
       "L 342.887893 148.529501 \n",
       "L 343.49784 148.609536 \n",
       "L 344.107787 148.567833 \n",
       "L 344.717734 148.405186 \n",
       "L 345.327681 148.605833 \n",
       "L 345.937629 148.443807 \n",
       "L 347.157523 148.60218 \n",
       "L 348.987365 148.479265 \n",
       "L 349.597312 148.200554 \n",
       "L 350.207259 148.398202 \n",
       "L 350.817206 148.239391 \n",
       "L 351.427153 148.317827 \n",
       "L 352.647048 148.238131 \n",
       "L 353.256995 148.433609 \n",
       "L 353.866942 148.510977 \n",
       "L 355.086836 148.431141 \n",
       "L 356.916678 148.660833 \n",
       "L 358.136572 148.581204 \n",
       "L 358.746519 148.426294 \n",
       "L 359.356466 148.387134 \n",
       "L 359.966414 148.23326 \n",
       "L 360.576361 148.309286 \n",
       "L 361.796255 148.232084 \n",
       "L 362.406202 147.851947 \n",
       "L 363.626097 148.117461 \n",
       "L 364.236044 148.192791 \n",
       "L 364.845991 148.041817 \n",
       "L 365.455938 148.229773 \n",
       "L 366.065885 148.191872 \n",
       "L 367.895727 148.750279 \n",
       "L 368.505674 148.600009 \n",
       "L 369.725568 148.634837 \n",
       "L 369.725568 148.634837 \n",
       "\" clip-path=\"url(#p549d5fabfb)\" style=\"fill: none; stroke: #1f77b4; stroke-width: 1.5; stroke-linecap: square\"/>\n",
       "   </g>\n",
       "   <g id=\"line2d_17\">\n",
       "    <path d=\"M 65.361932 185.105455 \n",
       "L 65.971879 212.903182 \n",
       "L 66.581826 222.16909 \n",
       "L 67.191773 185.105455 \n",
       "L 67.80172 196.224547 \n",
       "L 68.411668 185.105455 \n",
       "L 69.021615 177.163247 \n",
       "L 69.631562 185.105455 \n",
       "L 70.241509 178.928182 \n",
       "L 70.851456 173.986366 \n",
       "L 71.461403 154.780662 \n",
       "L 72.681298 167.999158 \n",
       "L 73.901192 162.867274 \n",
       "L 74.511139 157.307725 \n",
       "L 75.121086 145.861603 \n",
       "L 76.340981 138.288232 \n",
       "L 77.560875 142.747012 \n",
       "L 78.170822 147.199462 \n",
       "L 78.780769 146.430358 \n",
       "L 79.390717 148.041817 \n",
       "L 80.610611 146.616292 \n",
       "L 81.220558 143.923641 \n",
       "L 81.830505 143.408867 \n",
       "L 82.440452 141.012506 \n",
       "L 83.660347 133.096808 \n",
       "L 84.270294 136.459433 \n",
       "L 84.880241 137.933554 \n",
       "L 85.490188 137.685802 \n",
       "L 86.100135 139.040652 \n",
       "L 86.710083 141.864545 \n",
       "L 87.32003 141.530643 \n",
       "L 87.929977 144.140385 \n",
       "L 88.539924 140.914195 \n",
       "L 89.149871 142.018982 \n",
       "L 89.759819 139.001906 \n",
       "L 90.369766 140.09961 \n",
       "L 90.979713 142.439173 \n",
       "L 92.199607 144.335457 \n",
       "L 92.809554 142.804564 \n",
       "L 93.419502 143.704586 \n",
       "L 94.029449 142.250629 \n",
       "L 95.249343 141.741 \n",
       "L 95.85929 140.411069 \n",
       "L 96.469237 141.27058 \n",
       "L 97.689132 140.835005 \n",
       "L 98.299079 141.639922 \n",
       "L 98.909026 141.423311 \n",
       "L 99.518973 142.189665 \n",
       "L 100.12892 141.012506 \n",
       "L 100.738868 141.759847 \n",
       "L 101.348815 141.555687 \n",
       "L 101.958762 142.269617 \n",
       "L 102.568709 140.270408 \n",
       "L 103.788603 141.67151 \n",
       "L 104.398551 143.195039 \n",
       "L 106.228392 142.591282 \n",
       "L 106.838339 143.207432 \n",
       "L 108.058234 139.689451 \n",
       "L 108.668181 139.54807 \n",
       "L 109.278128 140.172148 \n",
       "L 110.498022 142.852911 \n",
       "L 111.107969 142.677349 \n",
       "L 111.717917 143.950383 \n",
       "L 112.937811 144.992283 \n",
       "L 114.157705 144.610001 \n",
       "L 115.3776 141.566846 \n",
       "L 115.987547 141.423311 \n",
       "L 116.597494 142.591282 \n",
       "L 117.207441 143.085636 \n",
       "L 117.817388 142.290568 \n",
       "L 118.427335 142.777101 \n",
       "L 119.037283 143.877364 \n",
       "L 120.257177 144.783475 \n",
       "L 120.867124 143.408867 \n",
       "L 121.477071 143.857217 \n",
       "L 122.696966 143.555169 \n",
       "L 123.306913 143.987986 \n",
       "L 123.91686 144.985026 \n",
       "L 125.746701 146.188637 \n",
       "L 126.356649 144.922603 \n",
       "L 126.966596 144.771496 \n",
       "L 127.576543 145.16309 \n",
       "L 128.18649 144.478006 \n",
       "L 128.796437 143.276491 \n",
       "L 129.406384 143.146625 \n",
       "L 130.016332 143.538757 \n",
       "L 130.626279 143.408867 \n",
       "L 131.236226 142.26125 \n",
       "L 134.895909 144.496604 \n",
       "L 136.115803 144.240418 \n",
       "L 136.72575 143.173292 \n",
       "L 137.335698 143.058471 \n",
       "L 137.945645 142.482277 \n",
       "L 138.555592 142.375069 \n",
       "L 139.165539 143.181013 \n",
       "L 139.775486 143.521866 \n",
       "L 140.995381 142.408148 \n",
       "L 141.605328 142.747012 \n",
       "L 142.215275 141.767269 \n",
       "L 142.825222 142.540184 \n",
       "L 144.655064 143.514965 \n",
       "L 145.265011 142.987689 \n",
       "L 147.094852 143.923641 \n",
       "L 147.704799 143.817659 \n",
       "L 148.314747 143.307416 \n",
       "L 148.924694 143.610301 \n",
       "L 149.534641 144.308789 \n",
       "L 150.144588 143.805978 \n",
       "L 150.754535 144.09888 \n",
       "L 151.364482 144.779176 \n",
       "L 151.97443 144.283621 \n",
       "L 152.584377 144.953181 \n",
       "L 153.194324 144.846677 \n",
       "L 153.804271 145.122422 \n",
       "L 154.414218 144.638018 \n",
       "L 155.024165 145.28709 \n",
       "L 155.634113 144.434952 \n",
       "L 156.854007 144.973635 \n",
       "L 157.463954 145.603421 \n",
       "L 158.683848 145.394414 \n",
       "L 159.293796 145.650617 \n",
       "L 159.903743 145.547153 \n",
       "L 161.123637 146.047894 \n",
       "L 161.733584 145.594225 \n",
       "L 162.343531 145.841166 \n",
       "L 162.953479 146.430358 \n",
       "L 163.563426 145.982729 \n",
       "L 164.173373 146.222744 \n",
       "L 164.78332 146.120838 \n",
       "L 165.393267 145.683224 \n",
       "L 166.003214 145.585792 \n",
       "L 168.443003 146.51567 \n",
       "L 169.05295 146.091105 \n",
       "L 169.662897 145.9947 \n",
       "L 170.272845 145.578054 \n",
       "L 170.882792 145.485708 \n",
       "L 171.492739 145.076725 \n",
       "L 172.102686 144.988282 \n",
       "L 173.32258 145.439034 \n",
       "L 174.542475 144.644323 \n",
       "L 175.152422 144.560709 \n",
       "L 175.762369 144.783475 \n",
       "L 176.372316 144.396214 \n",
       "L 177.592211 144.836313 \n",
       "L 178.202158 144.753917 \n",
       "L 179.422052 144.000304 \n",
       "L 180.031999 144.217794 \n",
       "L 180.641946 144.140385 \n",
       "L 181.251894 144.645938 \n",
       "L 182.471788 144.48909 \n",
       "L 183.081735 144.698453 \n",
       "L 183.691682 145.190768 \n",
       "L 184.301629 145.394414 \n",
       "L 184.911577 145.313783 \n",
       "L 185.521524 145.514753 \n",
       "L 186.131471 145.993076 \n",
       "L 186.741418 145.354707 \n",
       "L 187.351365 145.275873 \n",
       "L 187.961312 144.64738 \n",
       "L 188.57126 144.298939 \n",
       "L 189.791154 144.154659 \n",
       "L 190.401101 144.35345 \n",
       "L 191.011048 144.281741 \n",
       "L 191.620995 144.478006 \n",
       "L 192.230943 144.140385 \n",
       "L 192.84089 144.335457 \n",
       "L 193.450837 144.001704 \n",
       "L 194.670731 143.865634 \n",
       "L 196.500573 144.438407 \n",
       "L 197.11052 144.113419 \n",
       "L 197.720467 144.046432 \n",
       "L 198.330414 144.487773 \n",
       "L 198.940361 144.672399 \n",
       "L 199.550309 145.106914 \n",
       "L 201.38015 144.153449 \n",
       "L 201.990097 144.335457 \n",
       "L 202.600044 144.023857 \n",
       "L 203.209992 144.204837 \n",
       "L 203.819939 143.165025 \n",
       "L 204.429886 143.105394 \n",
       "L 205.039833 143.529727 \n",
       "L 206.259727 143.888134 \n",
       "L 206.869675 143.587817 \n",
       "L 207.479622 142.577307 \n",
       "L 208.089569 142.521702 \n",
       "L 208.699516 141.995421 \n",
       "L 209.309463 141.942741 \n",
       "L 209.91941 142.357688 \n",
       "L 210.529358 142.536548 \n",
       "L 211.139305 142.250629 \n",
       "L 211.749252 142.428445 \n",
       "L 212.359199 142.375069 \n",
       "L 213.579093 141.358212 \n",
       "L 214.189041 141.309856 \n",
       "L 215.408935 141.664477 \n",
       "L 216.628829 141.566846 \n",
       "L 217.238776 141.741 \n",
       "L 217.848724 142.135261 \n",
       "L 218.458671 142.085166 \n",
       "L 219.068618 142.255202 \n",
       "L 219.678565 141.986151 \n",
       "L 220.288512 141.937223 \n",
       "L 220.898459 141.67151 \n",
       "L 222.118354 141.577234 \n",
       "L 222.728301 141.959947 \n",
       "L 223.948195 142.290568 \n",
       "L 224.558142 142.666181 \n",
       "L 225.16809 142.827544 \n",
       "L 226.997931 142.677349 \n",
       "L 227.607878 142.211585 \n",
       "L 228.217825 142.371639 \n",
       "L 228.827773 142.73717 \n",
       "L 229.43772 142.688185 \n",
       "L 230.047667 142.844701 \n",
       "L 230.657614 143.204467 \n",
       "L 231.267561 142.950658 \n",
       "L 232.487456 143.257238 \n",
       "L 233.70735 143.157983 \n",
       "L 234.927244 143.857217 \n",
       "L 235.537191 143.408867 \n",
       "L 236.147139 143.557248 \n",
       "L 236.757086 142.915997 \n",
       "L 237.367033 142.868627 \n",
       "L 237.97698 143.017348 \n",
       "L 238.586927 143.360097 \n",
       "L 239.196874 143.311666 \n",
       "L 239.806822 143.06987 \n",
       "L 240.416769 143.408867 \n",
       "L 242.24661 143.838726 \n",
       "L 243.466505 143.740921 \n",
       "L 244.076452 144.070713 \n",
       "L 245.296346 144.347974 \n",
       "L 246.51624 144.248396 \n",
       "L 248.956029 144.789548 \n",
       "L 249.565976 145.106085 \n",
       "L 251.395818 145.498234 \n",
       "L 252.005765 145.808343 \n",
       "L 253.225659 146.06269 \n",
       "L 253.835606 145.650617 \n",
       "L 255.665448 146.028782 \n",
       "L 256.885342 145.923902 \n",
       "L 257.495289 146.047894 \n",
       "L 258.715184 145.943875 \n",
       "L 259.935078 145.493694 \n",
       "L 260.545025 145.443905 \n",
       "L 261.76492 145.689487 \n",
       "L 262.374867 145.639549 \n",
       "L 262.984814 145.760981 \n",
       "L 263.594761 145.711134 \n",
       "L 264.814655 145.951339 \n",
       "L 265.424603 145.901368 \n",
       "L 266.03455 146.020166 \n",
       "L 266.644497 145.970286 \n",
       "L 267.254444 146.088164 \n",
       "L 267.864391 145.537519 \n",
       "L 268.474338 145.655985 \n",
       "L 269.084286 145.275873 \n",
       "L 269.694233 145.063495 \n",
       "L 270.30418 145.347285 \n",
       "L 270.914127 145.300428 \n",
       "L 271.524074 144.925851 \n",
       "L 272.743969 145.48758 \n",
       "L 273.353916 145.278301 \n",
       "L 273.963863 145.232331 \n",
       "L 274.57381 145.348237 \n",
       "L 275.183757 145.141186 \n",
       "L 275.793704 145.256687 \n",
       "L 276.403652 145.051094 \n",
       "L 277.623546 145.280629 \n",
       "L 278.233493 145.553259 \n",
       "L 280.063335 145.416915 \n",
       "L 280.673282 145.686082 \n",
       "L 281.893176 145.282865 \n",
       "L 282.503123 145.550144 \n",
       "L 283.723018 145.770508 \n",
       "L 284.332965 146.034208 \n",
       "L 284.942912 145.988428 \n",
       "L 285.552859 146.250065 \n",
       "L 286.162806 146.050801 \n",
       "L 286.772753 146.310823 \n",
       "L 291.042384 147.042797 \n",
       "L 291.652331 147.294567 \n",
       "L 292.262278 147.24689 \n",
       "L 293.482172 147.448805 \n",
       "L 294.092119 147.696814 \n",
       "L 294.702067 147.796036 \n",
       "L 295.312014 147.747664 \n",
       "L 295.921961 147.259474 \n",
       "L 296.531908 147.359069 \n",
       "L 297.141855 147.604063 \n",
       "L 297.751802 147.556692 \n",
       "L 298.36175 147.65473 \n",
       "L 298.971697 147.607484 \n",
       "L 299.581644 147.416074 \n",
       "L 300.191591 147.657737 \n",
       "L 300.801538 147.610847 \n",
       "L 301.411485 147.707485 \n",
       "L 302.021433 147.517781 \n",
       "L 302.63138 147.756719 \n",
       "L 303.241327 147.56786 \n",
       "L 304.461221 148.041817 \n",
       "L 305.071168 148.135886 \n",
       "L 305.681116 148.370234 \n",
       "L 306.291063 148.462994 \n",
       "L 306.90101 148.695337 \n",
       "L 308.730851 148.551446 \n",
       "L 309.950746 148.733305 \n",
       "L 310.560693 148.961514 \n",
       "L 311.17064 149.050977 \n",
       "L 311.780587 149.277273 \n",
       "L 312.390534 149.365518 \n",
       "L 313.000482 149.180139 \n",
       "L 313.610429 149.131924 \n",
       "L 314.220376 148.948019 \n",
       "L 314.830323 149.036206 \n",
       "L 315.44027 149.259238 \n",
       "L 316.050217 148.941425 \n",
       "L 317.270112 149.116125 \n",
       "L 317.880059 149.068888 \n",
       "L 318.490006 148.888222 \n",
       "L 319.099953 148.575106 \n",
       "L 319.7099 148.529501 \n",
       "L 320.319848 148.218738 \n",
       "L 320.929795 148.041817 \n",
       "L 323.369583 148.915958 \n",
       "L 323.979531 148.870303 \n",
       "L 324.589478 148.56384 \n",
       "L 325.199425 148.51922 \n",
       "L 325.809372 148.734597 \n",
       "L 327.029266 148.645184 \n",
       "L 329.469055 148.981223 \n",
       "L 330.079002 148.808651 \n",
       "L 330.688949 149.019414 \n",
       "L 331.298897 148.974769 \n",
       "L 331.908844 149.057265 \n",
       "L 332.518791 148.886093 \n",
       "L 333.128738 148.842054 \n",
       "L 334.348632 149.006142 \n",
       "L 334.95858 148.962136 \n",
       "L 335.568527 149.043538 \n",
       "L 336.178474 148.874711 \n",
       "L 336.788421 148.831292 \n",
       "L 337.398368 148.663691 \n",
       "L 338.618263 148.578379 \n",
       "L 339.22821 148.659549 \n",
       "L 339.838157 148.617083 \n",
       "L 340.448104 148.820813 \n",
       "L 342.887893 148.651422 \n",
       "L 344.107787 148.325059 \n",
       "L 344.717734 148.284068 \n",
       "L 345.327681 148.364112 \n",
       "L 345.937629 148.323212 \n",
       "L 347.76747 148.561031 \n",
       "L 348.377417 148.400497 \n",
       "L 349.597312 148.557693 \n",
       "L 350.207259 148.398202 \n",
       "L 350.817206 148.595005 \n",
       "L 351.427153 148.554404 \n",
       "L 352.0371 148.395932 \n",
       "L 352.647048 148.355919 \n",
       "L 353.256995 148.433609 \n",
       "L 353.866942 148.393687 \n",
       "L 354.476889 148.588022 \n",
       "L 355.086836 148.547942 \n",
       "L 356.916678 148.776905 \n",
       "L 357.526625 148.736759 \n",
       "L 358.136572 148.581204 \n",
       "L 359.356466 148.732443 \n",
       "L 359.966414 148.577865 \n",
       "L 361.186308 148.499396 \n",
       "L 362.406202 148.763344 \n",
       "L 363.626097 148.571304 \n",
       "L 364.236044 148.758937 \n",
       "L 364.845991 148.719809 \n",
       "L 365.455938 148.568081 \n",
       "L 366.065885 148.754579 \n",
       "L 366.675832 148.7157 \n",
       "L 367.28578 148.789067 \n",
       "L 369.115621 148.450336 \n",
       "L 369.725568 148.301267 \n",
       "L 369.725568 148.301267 \n",
       "\" clip-path=\"url(#p549d5fabfb)\" style=\"fill: none; stroke: #ff7f0e; stroke-width: 1.5; stroke-linecap: square\"/>\n",
       "   </g>\n",
       "   <g id=\"line2d_18\">\n",
       "    <path d=\"M 65.361932 129.51 \n",
       "L 67.191773 129.51 \n",
       "L 67.80172 151.748185 \n",
       "L 68.411668 166.573634 \n",
       "L 69.021615 161.278829 \n",
       "L 69.631562 164.257159 \n",
       "L 70.241509 166.573634 \n",
       "L 70.851456 168.426822 \n",
       "L 72.071351 161.940684 \n",
       "L 72.681298 150.892866 \n",
       "L 73.291245 149.365518 \n",
       "L 74.511139 153.833013 \n",
       "L 75.731034 151.130453 \n",
       "L 76.950928 154.527955 \n",
       "L 78.170822 147.199462 \n",
       "L 78.780769 146.430358 \n",
       "L 79.390717 148.041817 \n",
       "L 80.610611 142.339719 \n",
       "L 81.830505 149.365518 \n",
       "L 82.440452 148.680848 \n",
       "L 83.0504 151.748185 \n",
       "L 83.660347 152.824225 \n",
       "L 84.270294 152.095656 \n",
       "L 84.880241 154.780662 \n",
       "L 85.490188 154.037405 \n",
       "L 87.32003 156.556441 \n",
       "L 87.929977 155.844689 \n",
       "L 88.539924 153.743914 \n",
       "L 89.149871 154.527955 \n",
       "L 90.369766 153.336622 \n",
       "L 91.58966 154.780662 \n",
       "L 92.809554 153.681939 \n",
       "L 93.419502 154.350521 \n",
       "L 95.85929 152.402244 \n",
       "L 96.469237 148.754579 \n",
       "L 97.079185 149.44045 \n",
       "L 97.689132 149.071365 \n",
       "L 98.299079 149.726534 \n",
       "L 98.909026 151.351074 \n",
       "L 99.518973 150.967897 \n",
       "L 100.12892 149.639391 \n",
       "L 101.348815 150.821595 \n",
       "L 103.178656 149.806752 \n",
       "L 103.788603 150.3583 \n",
       "L 104.398551 148.326923 \n",
       "L 105.008498 148.884171 \n",
       "L 105.618445 148.595005 \n",
       "L 107.448286 150.15974 \n",
       "L 108.058234 149.868901 \n",
       "L 109.278128 150.834287 \n",
       "L 109.888075 150.546123 \n",
       "L 110.498022 148.783094 \n",
       "L 111.717917 148.282494 \n",
       "L 112.327864 149.467341 \n",
       "L 112.937811 148.510977 \n",
       "L 114.157705 149.414545 \n",
       "L 114.767652 149.171805 \n",
       "L 115.3776 149.604746 \n",
       "L 115.987547 148.703672 \n",
       "L 116.597494 149.131924 \n",
       "L 117.207441 148.25731 \n",
       "L 117.817388 149.319879 \n",
       "L 118.427335 149.09476 \n",
       "L 120.867124 150.660448 \n",
       "L 121.477071 150.433025 \n",
       "L 122.087018 149.618995 \n",
       "L 122.696966 150.577753 \n",
       "L 123.306913 149.779181 \n",
       "L 123.91686 150.143362 \n",
       "L 124.526807 151.067425 \n",
       "L 125.136754 149.726534 \n",
       "L 125.746701 148.968407 \n",
       "L 126.356649 149.3262 \n",
       "L 126.966596 148.58687 \n",
       "L 128.18649 149.289153 \n",
       "L 128.796437 150.15974 \n",
       "L 129.406384 150.489417 \n",
       "L 130.626279 149.071365 \n",
       "L 131.236226 149.912005 \n",
       "L 131.846173 150.231947 \n",
       "L 132.45612 150.045259 \n",
       "L 133.066067 150.3583 \n",
       "L 133.676015 151.157791 \n",
       "L 134.285962 151.455573 \n",
       "L 134.895909 151.264743 \n",
       "L 136.72575 153.538545 \n",
       "L 137.335698 152.869433 \n",
       "L 137.945645 152.674775 \n",
       "L 138.555592 152.942799 \n",
       "L 139.165539 150.472218 \n",
       "L 140.385433 150.134125 \n",
       "L 140.995381 150.413888 \n",
       "L 141.605328 150.247985 \n",
       "L 142.825222 150.792633 \n",
       "L 143.435169 150.19668 \n",
       "L 144.045116 150.037554 \n",
       "L 144.655064 150.729639 \n",
       "L 145.265011 150.568889 \n",
       "L 145.874958 149.992537 \n",
       "L 147.704799 149.540716 \n",
       "L 148.314747 148.988704 \n",
       "L 148.924694 149.653284 \n",
       "L 150.144588 149.365518 \n",
       "L 151.364482 149.868901 \n",
       "L 151.97443 149.726534 \n",
       "L 153.194324 150.214517 \n",
       "L 153.804271 150.072705 \n",
       "L 154.414218 149.554617 \n",
       "L 155.024165 149.419184 \n",
       "L 155.634113 149.658694 \n",
       "L 156.854007 149.391821 \n",
       "L 157.463954 148.529501 \n",
       "L 158.073901 148.768555 \n",
       "L 159.293796 149.954785 \n",
       "L 159.903743 150.180103 \n",
       "L 161.123637 149.918458 \n",
       "L 162.343531 150.3583 \n",
       "L 162.953479 149.88349 \n",
       "L 163.563426 150.100913 \n",
       "L 164.173373 149.974585 \n",
       "L 165.393267 150.400418 \n",
       "L 166.613162 151.481859 \n",
       "L 167.833056 151.879774 \n",
       "L 168.443003 150.440059 \n",
       "L 169.05295 150.317657 \n",
       "L 169.662897 150.843143 \n",
       "L 170.272845 151.041189 \n",
       "L 172.102686 150.674183 \n",
       "L 172.712633 150.868708 \n",
       "L 173.32258 150.124043 \n",
       "L 173.932528 150.319471 \n",
       "L 174.542475 149.895005 \n",
       "L 175.152422 149.782379 \n",
       "L 176.372316 148.953222 \n",
       "L 176.982263 148.847554 \n",
       "L 178.202158 148.041817 \n",
       "L 180.031999 147.747664 \n",
       "L 180.641946 147.944285 \n",
       "L 181.251894 148.429923 \n",
       "L 181.861841 148.33138 \n",
       "L 183.081735 148.71049 \n",
       "L 184.301629 148.514573 \n",
       "L 184.911577 148.700308 \n",
       "L 186.131471 149.624943 \n",
       "L 186.741418 149.524362 \n",
       "L 187.351365 149.148194 \n",
       "L 187.961312 149.3262 \n",
       "L 188.57126 149.228586 \n",
       "L 189.181207 148.859401 \n",
       "L 189.791154 147.951418 \n",
       "L 190.401101 148.131777 \n",
       "L 191.620995 147.952727 \n",
       "L 192.230943 148.396495 \n",
       "L 192.84089 148.30656 \n",
       "L 193.450837 147.953994 \n",
       "L 194.670731 148.302832 \n",
       "L 195.280678 147.95522 \n",
       "L 195.890626 147.869427 \n",
       "L 196.500573 148.041817 \n",
       "L 197.11052 147.956422 \n",
       "L 197.720467 148.126831 \n",
       "L 198.330414 148.041817 \n",
       "L 198.940361 148.462994 \n",
       "L 199.550309 148.628797 \n",
       "L 200.160256 148.292253 \n",
       "L 200.770203 148.457328 \n",
       "L 201.38015 148.869135 \n",
       "L 201.990097 148.288906 \n",
       "L 202.600044 148.697814 \n",
       "L 203.209992 148.8582 \n",
       "L 203.819939 148.773335 \n",
       "L 204.429886 148.931997 \n",
       "L 205.039833 148.605833 \n",
       "L 205.64978 148.763841 \n",
       "L 206.259727 148.201573 \n",
       "L 206.869675 148.121355 \n",
       "L 208.089569 148.436111 \n",
       "L 209.91941 149.599112 \n",
       "L 210.529358 149.282442 \n",
       "L 211.749252 149.118354 \n",
       "L 212.359199 148.807599 \n",
       "L 212.969146 148.956974 \n",
       "L 213.579093 148.87727 \n",
       "L 214.189041 149.252064 \n",
       "L 214.798988 149.171805 \n",
       "L 215.408935 149.542373 \n",
       "L 216.018882 149.461592 \n",
       "L 216.628829 149.828018 \n",
       "L 217.238776 149.746748 \n",
       "L 217.848724 149.887615 \n",
       "L 218.458671 150.247985 \n",
       "L 219.068618 149.946277 \n",
       "L 219.678565 150.303574 \n",
       "L 220.288512 150.222031 \n",
       "L 220.898459 149.706784 \n",
       "L 221.508407 150.06085 \n",
       "L 222.728301 149.902155 \n",
       "L 223.338248 150.037554 \n",
       "L 224.558142 149.880855 \n",
       "L 225.16809 150.014789 \n",
       "L 225.778037 149.937123 \n",
       "L 226.387984 149.650243 \n",
       "L 226.997931 149.783531 \n",
       "L 227.607878 149.291158 \n",
       "L 228.217825 149.217344 \n",
       "L 228.827773 148.937407 \n",
       "L 230.657614 149.336324 \n",
       "L 231.877508 150.003216 \n",
       "L 232.487456 150.130861 \n",
       "L 233.097403 150.459013 \n",
       "L 233.70735 150.18268 \n",
       "L 235.537191 150.556852 \n",
       "L 236.147139 150.086258 \n",
       "L 236.757086 150.407584 \n",
       "L 237.367033 149.940843 \n",
       "L 238.586927 149.407321 \n",
       "L 239.806822 149.268665 \n",
       "L 240.416769 148.813978 \n",
       "L 241.026716 148.939552 \n",
       "L 241.636663 148.872557 \n",
       "L 242.24661 148.997071 \n",
       "L 242.856557 149.311123 \n",
       "L 243.466505 149.243539 \n",
       "L 244.076452 148.98732 \n",
       "L 244.686399 148.921294 \n",
       "L 245.296346 149.043538 \n",
       "L 245.906293 148.977768 \n",
       "L 246.51624 149.099002 \n",
       "L 247.126188 149.033489 \n",
       "L 247.736135 149.153728 \n",
       "L 248.346082 148.534356 \n",
       "L 249.565976 148.041817 \n",
       "L 250.175923 148.346615 \n",
       "L 250.785871 148.467136 \n",
       "L 251.395818 148.041817 \n",
       "L 252.005765 148.343641 \n",
       "L 252.615712 147.740978 \n",
       "L 253.225659 147.681977 \n",
       "L 253.835606 147.802697 \n",
       "L 254.445554 147.743878 \n",
       "L 255.055501 147.507251 \n",
       "L 255.665448 147.804992 \n",
       "L 256.275395 147.923781 \n",
       "L 256.885342 148.218315 \n",
       "L 257.495289 148.159107 \n",
       "L 258.105237 147.749519 \n",
       "L 258.715184 147.517333 \n",
       "L 259.935078 147.752262 \n",
       "L 261.154972 147.638956 \n",
       "L 262.374867 147.183863 \n",
       "L 262.984814 147.129484 \n",
       "L 263.594761 146.904895 \n",
       "L 264.204708 146.511669 \n",
       "L 264.814655 146.290336 \n",
       "L 265.424603 146.239329 \n",
       "L 266.03455 146.020166 \n",
       "L 266.644497 146.138251 \n",
       "L 267.254444 145.753252 \n",
       "L 267.864391 145.871428 \n",
       "L 268.474338 145.489536 \n",
       "L 269.084286 145.441834 \n",
       "L 270.914127 145.793878 \n",
       "L 271.524074 146.07384 \n",
       "L 272.134021 146.188637 \n",
       "L 272.743969 145.97669 \n",
       "L 273.353916 145.928541 \n",
       "L 273.963863 146.042757 \n",
       "L 274.57381 145.9947 \n",
       "L 275.183757 146.108063 \n",
       "L 276.403652 146.012395 \n",
       "L 277.013599 146.284495 \n",
       "L 277.623546 146.395729 \n",
       "L 278.233493 145.870948 \n",
       "L 278.84344 145.982729 \n",
       "L 279.453387 145.777989 \n",
       "L 280.063335 145.889397 \n",
       "L 280.673282 145.686082 \n",
       "L 281.283229 145.953725 \n",
       "L 281.893176 145.751371 \n",
       "L 282.503123 145.705874 \n",
       "L 283.11307 145.815931 \n",
       "L 283.723018 145.770508 \n",
       "L 284.332965 145.570913 \n",
       "L 286.162806 145.89764 \n",
       "L 286.772753 145.699884 \n",
       "L 287.382701 145.960162 \n",
       "L 288.602595 146.173493 \n",
       "L 289.212542 146.430358 \n",
       "L 289.822489 146.083168 \n",
       "L 291.652331 145.949517 \n",
       "L 292.262278 145.607348 \n",
       "L 294.092119 145.478907 \n",
       "L 294.702067 145.584019 \n",
       "L 295.312014 145.541495 \n",
       "L 296.531908 145.749723 \n",
       "L 297.141855 145.561179 \n",
       "L 300.191591 146.073418 \n",
       "L 300.801538 145.599643 \n",
       "L 301.411485 145.414885 \n",
       "L 302.63138 145.333325 \n",
       "L 303.241327 145.577234 \n",
       "L 303.851274 145.252594 \n",
       "L 304.461221 145.071067 \n",
       "L 305.071168 145.313783 \n",
       "L 306.291063 144.953181 \n",
       "L 307.510957 144.875581 \n",
       "L 308.120904 145.115745 \n",
       "L 309.340799 145.037905 \n",
       "L 309.950746 144.722685 \n",
       "L 310.560693 144.684941 \n",
       "L 311.17064 144.922603 \n",
       "L 312.390534 145.12055 \n",
       "L 313.000482 145.082193 \n",
       "L 313.610429 145.31655 \n",
       "L 314.830323 145.510644 \n",
       "L 315.44027 145.471716 \n",
       "L 316.050217 145.567914 \n",
       "L 316.660165 145.529027 \n",
       "L 317.270112 145.356049 \n",
       "L 317.880059 144.915967 \n",
       "L 318.490006 145.01258 \n",
       "L 319.099953 144.842079 \n",
       "L 319.7099 144.805404 \n",
       "L 320.319848 145.034268 \n",
       "L 320.929795 145.129679 \n",
       "L 321.539742 144.960521 \n",
       "L 322.149689 145.05565 \n",
       "L 322.759636 145.018901 \n",
       "L 323.369583 145.113442 \n",
       "L 323.979531 145.076725 \n",
       "L 324.589478 145.301199 \n",
       "L 325.199425 145.264217 \n",
       "L 325.809372 145.3573 \n",
       "L 326.419319 145.32036 \n",
       "L 327.029266 145.542183 \n",
       "L 327.639214 145.504978 \n",
       "L 328.249161 145.339265 \n",
       "L 328.859108 145.045916 \n",
       "L 329.469055 145.010119 \n",
       "L 330.079002 145.230094 \n",
       "L 331.298897 145.41259 \n",
       "L 331.908844 145.249355 \n",
       "L 332.518791 145.340144 \n",
       "L 333.128738 145.304164 \n",
       "L 333.738685 145.14228 \n",
       "L 334.348632 145.358477 \n",
       "L 334.95858 145.448205 \n",
       "L 335.568527 145.28709 \n",
       "L 336.178474 144.876832 \n",
       "L 336.788421 145.091687 \n",
       "L 338.008315 145.022123 \n",
       "L 338.618263 145.111396 \n",
       "L 339.22821 145.076725 \n",
       "L 341.667998 145.429408 \n",
       "L 343.49784 146.054819 \n",
       "L 344.107787 146.140082 \n",
       "L 344.717734 146.346098 \n",
       "L 345.327681 146.188637 \n",
       "L 345.937629 146.152459 \n",
       "L 348.377417 146.487537 \n",
       "L 348.987365 146.451102 \n",
       "L 350.207259 146.85388 \n",
       "L 352.647048 147.178047 \n",
       "L 353.256995 147.140693 \n",
       "L 353.866942 146.986206 \n",
       "L 354.476889 146.715332 \n",
       "L 355.696783 146.643192 \n",
       "L 356.916678 146.803784 \n",
       "L 357.526625 146.999403 \n",
       "L 358.746519 146.926832 \n",
       "L 359.356466 147.005881 \n",
       "L 359.966414 146.739995 \n",
       "L 361.186308 146.897878 \n",
       "L 361.796255 146.748014 \n",
       "L 362.406202 146.940543 \n",
       "L 363.016149 146.904895 \n",
       "L 363.626097 146.982859 \n",
       "L 364.236044 146.720816 \n",
       "L 366.065885 147.066457 \n",
       "L 366.675832 146.806369 \n",
       "L 368.505674 147.14872 \n",
       "L 369.115621 147.001955 \n",
       "L 369.725568 147.189355 \n",
       "L 369.725568 147.189355 \n",
       "\" clip-path=\"url(#p549d5fabfb)\" style=\"fill: none; stroke: #2ca02c; stroke-width: 1.5; stroke-linecap: square\"/>\n",
       "   </g>\n",
       "   <g id=\"line2d_19\">\n",
       "    <path d=\"M 65.361932 240.700909 \n",
       "L 65.971879 240.700909 \n",
       "L 66.581826 203.637271 \n",
       "L 67.191773 185.105455 \n",
       "L 67.80172 151.748185 \n",
       "L 68.411668 148.041817 \n",
       "L 69.021615 137.452207 \n",
       "L 69.631562 143.408867 \n",
       "L 70.241509 148.041817 \n",
       "L 70.851456 140.629088 \n",
       "L 71.461403 149.726534 \n",
       "L 72.071351 148.041817 \n",
       "L 72.681298 142.339719 \n",
       "L 73.291245 145.394414 \n",
       "L 73.901192 151.748185 \n",
       "L 74.511139 143.408867 \n",
       "L 75.731034 154.219089 \n",
       "L 76.340981 158.770769 \n",
       "L 76.950928 151.748185 \n",
       "L 78.170822 154.780662 \n",
       "L 78.780769 156.099135 \n",
       "L 79.390717 154.99125 \n",
       "L 80.000664 156.195822 \n",
       "L 80.610611 155.169439 \n",
       "L 81.220558 150.100913 \n",
       "L 81.830505 147.37997 \n",
       "L 82.440452 150.597934 \n",
       "L 83.0504 149.895005 \n",
       "L 83.660347 152.824225 \n",
       "L 85.490188 150.767084 \n",
       "L 86.100135 150.15974 \n",
       "L 86.710083 148.041817 \n",
       "L 87.929977 149.992537 \n",
       "L 88.539924 152.31839 \n",
       "L 89.149871 148.968407 \n",
       "L 90.369766 150.689219 \n",
       "L 90.979713 152.782513 \n",
       "L 91.58966 149.726534 \n",
       "L 93.419502 151.984762 \n",
       "L 95.85929 150.222031 \n",
       "L 96.469237 151.962013 \n",
       "L 97.689132 153.189549 \n",
       "L 98.299079 151.748185 \n",
       "L 98.909026 152.343848 \n",
       "L 99.518973 151.943257 \n",
       "L 100.12892 152.515019 \n",
       "L 100.738868 152.125099 \n",
       "L 101.348815 153.601365 \n",
       "L 101.958762 154.117829 \n",
       "L 102.568709 155.514325 \n",
       "L 103.178656 155.984024 \n",
       "L 103.788603 154.701695 \n",
       "L 104.398551 156.024758 \n",
       "L 105.008498 154.780662 \n",
       "L 105.618445 152.743925 \n",
       "L 106.228392 151.584668 \n",
       "L 106.838339 151.264743 \n",
       "L 109.278128 153.119033 \n",
       "L 109.888075 154.302571 \n",
       "L 110.498022 153.972 \n",
       "L 111.107969 155.113171 \n",
       "L 111.717917 154.780662 \n",
       "L 112.327864 155.169439 \n",
       "L 112.937811 154.140901 \n",
       "L 113.547758 153.833013 \n",
       "L 114.157705 152.846361 \n",
       "L 115.3776 153.623692 \n",
       "L 115.987547 154.660323 \n",
       "L 117.207441 154.075438 \n",
       "L 118.427335 154.780662 \n",
       "L 119.037283 154.496723 \n",
       "L 119.64723 155.454545 \n",
       "L 120.867124 156.099135 \n",
       "L 122.696966 158.770769 \n",
       "L 123.306913 159.04509 \n",
       "L 124.526807 157.307725 \n",
       "L 125.746701 158.975592 \n",
       "L 126.356649 159.234305 \n",
       "L 126.966596 158.942886 \n",
       "L 127.576543 159.196893 \n",
       "L 128.18649 158.911446 \n",
       "L 130.016332 159.645856 \n",
       "L 130.626279 159.366821 \n",
       "L 131.236226 158.582855 \n",
       "L 131.846173 158.318559 \n",
       "L 133.066067 158.79689 \n",
       "L 133.676015 158.045722 \n",
       "L 134.285962 158.770769 \n",
       "L 135.505856 157.307725 \n",
       "L 136.115803 157.545313 \n",
       "L 136.72575 157.307725 \n",
       "L 137.335698 156.139754 \n",
       "L 137.945645 155.454545 \n",
       "L 138.555592 155.699597 \n",
       "L 139.165539 156.396329 \n",
       "L 139.775486 155.725742 \n",
       "L 140.385433 155.962675 \n",
       "L 140.995381 156.640585 \n",
       "L 141.605328 155.54279 \n",
       "L 144.045116 154.741783 \n",
       "L 144.655064 153.275997 \n",
       "L 145.265011 153.095952 \n",
       "L 145.874958 153.754634 \n",
       "L 146.484905 153.158814 \n",
       "L 147.094852 152.160001 \n",
       "L 147.704799 151.584668 \n",
       "L 148.314747 152.235149 \n",
       "L 148.924694 152.473341 \n",
       "L 150.144588 153.733733 \n",
       "L 150.754535 153.561932 \n",
       "L 151.364482 154.175588 \n",
       "L 151.97443 154.003107 \n",
       "L 152.584377 154.219089 \n",
       "L 153.194324 154.048688 \n",
       "L 154.414218 152.958424 \n",
       "L 155.024165 152.799985 \n",
       "L 155.634113 153.016804 \n",
       "L 157.463954 152.552854 \n",
       "L 158.073901 152.038875 \n",
       "L 158.683848 151.89259 \n",
       "L 159.293796 151.030825 \n",
       "L 159.903743 151.605628 \n",
       "L 160.51369 151.110786 \n",
       "L 161.123637 151.325939 \n",
       "L 161.733584 151.888042 \n",
       "L 162.343531 151.748185 \n",
       "L 162.953479 152.300686 \n",
       "L 163.563426 152.160001 \n",
       "L 164.173373 152.362123 \n",
       "L 164.78332 152.900773 \n",
       "L 165.393267 153.095952 \n",
       "L 166.613162 154.14511 \n",
       "L 167.223109 153.667549 \n",
       "L 167.833056 153.853574 \n",
       "L 168.443003 154.364438 \n",
       "L 169.05295 154.544209 \n",
       "L 169.662897 153.752207 \n",
       "L 170.272845 154.254803 \n",
       "L 170.882792 153.793074 \n",
       "L 172.102686 154.780662 \n",
       "L 172.712633 154.009693 \n",
       "L 173.32258 153.872057 \n",
       "L 174.542475 154.219089 \n",
       "L 175.152422 154.082579 \n",
       "L 175.762369 153.642091 \n",
       "L 176.372316 154.117829 \n",
       "L 176.982263 154.286234 \n",
       "L 177.592211 154.152309 \n",
       "L 178.202158 154.318725 \n",
       "L 178.812105 153.888758 \n",
       "L 180.031999 154.807403 \n",
       "L 181.251894 154.542511 \n",
       "L 181.861841 154.701695 \n",
       "L 182.471788 154.571166 \n",
       "L 183.691682 154.88434 \n",
       "L 184.301629 154.471224 \n",
       "L 184.911577 153.7801 \n",
       "L 185.521524 153.938307 \n",
       "L 186.131471 153.536175 \n",
       "L 186.741418 153.416044 \n",
       "L 189.181207 155.127511 \n",
       "L 189.791154 155.273747 \n",
       "L 190.401101 155.148678 \n",
       "L 191.011048 154.219089 \n",
       "L 191.620995 153.833013 \n",
       "L 192.230943 153.18462 \n",
       "L 194.670731 153.784077 \n",
       "L 195.280678 153.670639 \n",
       "L 197.11052 154.105229 \n",
       "L 197.720467 153.992404 \n",
       "L 198.330414 153.626748 \n",
       "L 198.940361 153.011717 \n",
       "L 199.550309 153.156934 \n",
       "L 200.160256 153.551278 \n",
       "L 200.770203 153.692775 \n",
       "L 201.38015 153.584821 \n",
       "L 203.209992 154.001392 \n",
       "L 203.819939 154.381653 \n",
       "L 204.429886 154.030263 \n",
       "L 205.039833 153.440218 \n",
       "L 205.64978 153.577299 \n",
       "L 209.309463 152.968 \n",
       "L 209.91941 152.635839 \n",
       "L 210.529358 152.073844 \n",
       "L 213.579093 152.750726 \n",
       "L 214.189041 152.655862 \n",
       "L 214.798988 153.013771 \n",
       "L 215.408935 152.243367 \n",
       "L 216.018882 152.1517 \n",
       "L 216.628829 152.507315 \n",
       "L 217.238776 152.637711 \n",
       "L 217.848724 152.324073 \n",
       "L 218.458671 152.454154 \n",
       "L 219.068618 152.802959 \n",
       "L 219.678565 152.930133 \n",
       "L 220.288512 153.274331 \n",
       "L 220.898459 153.181505 \n",
       "L 221.508407 152.440419 \n",
       "L 222.118354 152.136059 \n",
       "L 223.948195 152.515019 \n",
       "L 224.558142 152.215018 \n",
       "L 225.16809 152.128686 \n",
       "L 226.387984 152.377565 \n",
       "L 226.997931 152.291598 \n",
       "L 227.607878 152.414497 \n",
       "L 228.217825 152.329027 \n",
       "L 228.827773 152.657552 \n",
       "L 229.43772 152.365909 \n",
       "L 230.047667 152.48672 \n",
       "L 230.657614 152.197852 \n",
       "L 231.267561 151.707451 \n",
       "L 231.877508 151.626438 \n",
       "L 232.487456 150.939523 \n",
       "L 233.70735 151.186207 \n",
       "L 234.317297 150.508289 \n",
       "L 234.927244 150.233753 \n",
       "L 237.367033 151.512445 \n",
       "L 237.97698 151.630729 \n",
       "L 238.586927 151.162969 \n",
       "L 239.196874 150.892866 \n",
       "L 240.416769 151.516538 \n",
       "L 241.026716 151.632759 \n",
       "L 241.636663 151.939894 \n",
       "L 243.466505 151.710234 \n",
       "L 244.686399 152.31356 \n",
       "L 245.296346 151.485231 \n",
       "L 245.906293 151.598429 \n",
       "L 247.736135 151.377551 \n",
       "L 248.346082 151.674305 \n",
       "L 248.956029 151.232732 \n",
       "L 249.565976 150.977557 \n",
       "L 250.175923 150.906932 \n",
       "L 250.785871 150.654499 \n",
       "L 252.005765 150.516755 \n",
       "L 253.835606 150.851485 \n",
       "L 255.055501 150.714677 \n",
       "L 255.665448 150.469311 \n",
       "L 257.495289 150.270328 \n",
       "L 258.105237 150.555601 \n",
       "L 258.715184 150.66425 \n",
       "L 259.325131 150.597934 \n",
       "L 259.935078 150.3583 \n",
       "L 260.545025 150.639737 \n",
       "L 261.76492 150.508902 \n",
       "L 262.374867 150.272499 \n",
       "L 262.984814 150.550746 \n",
       "L 263.594761 150.656736 \n",
       "L 264.204708 150.9321 \n",
       "L 264.814655 150.866795 \n",
       "L 265.424603 151.139847 \n",
       "L 266.644497 151.009153 \n",
       "L 267.254444 150.776934 \n",
       "L 267.864391 150.880025 \n",
       "L 268.474338 150.649587 \n",
       "L 269.694233 150.854683 \n",
       "L 270.30418 150.626374 \n",
       "L 270.914127 150.728388 \n",
       "L 272.743969 150.541716 \n",
       "L 273.353916 150.805333 \n",
       "L 273.963863 150.419083 \n",
       "L 274.57381 150.681523 \n",
       "L 275.183757 150.297866 \n",
       "L 276.403652 150.178049 \n",
       "L 277.013599 149.799147 \n",
       "L 277.623546 149.581715 \n",
       "L 278.233493 149.524362 \n",
       "L 278.84344 149.784127 \n",
       "L 279.453387 149.884476 \n",
       "L 280.063335 149.511762 \n",
       "L 280.673282 149.612309 \n",
       "L 281.283229 149.399078 \n",
       "L 281.893176 149.655545 \n",
       "L 283.11307 149.232413 \n",
       "L 283.723018 149.177471 \n",
       "L 284.332965 148.968407 \n",
       "L 285.552859 149.16806 \n",
       "L 286.772753 149.670988 \n",
       "L 287.382701 149.463439 \n",
       "L 287.992648 149.105124 \n",
       "L 288.602595 149.203211 \n",
       "L 289.822489 148.795148 \n",
       "L 290.432436 148.743022 \n",
       "L 291.652331 148.938517 \n",
       "L 292.262278 149.184529 \n",
       "L 292.872225 149.280578 \n",
       "L 293.482172 149.227857 \n",
       "L 294.092119 148.879698 \n",
       "L 295.312014 149.071365 \n",
       "L 295.921961 149.313128 \n",
       "L 296.531908 149.261019 \n",
       "L 298.971697 149.634395 \n",
       "L 299.581644 149.437725 \n",
       "L 300.191591 149.098041 \n",
       "L 300.801538 149.191082 \n",
       "L 301.411485 149.140357 \n",
       "L 302.021433 149.375733 \n",
       "L 303.241327 149.274117 \n",
       "L 303.851274 149.365518 \n",
       "L 304.461221 149.315 \n",
       "L 306.291063 149.586139 \n",
       "L 306.90101 149.395532 \n",
       "L 307.510957 149.485252 \n",
       "L 309.950746 148.180116 \n",
       "L 310.560693 148.13379 \n",
       "L 311.17064 148.225299 \n",
       "L 311.780587 148.179089 \n",
       "L 312.390534 148.270043 \n",
       "L 313.000482 148.223949 \n",
       "L 313.610429 147.905556 \n",
       "L 314.220376 147.86058 \n",
       "L 314.830323 147.680221 \n",
       "L 316.050217 147.592017 \n",
       "L 316.660165 147.81746 \n",
       "L 317.880059 147.729231 \n",
       "L 318.490006 147.952727 \n",
       "L 319.7099 147.864482 \n",
       "L 320.929795 148.041817 \n",
       "L 322.149689 147.953994 \n",
       "L 322.759636 147.647522 \n",
       "L 323.979531 147.562168 \n",
       "L 325.199425 147.738021 \n",
       "L 325.809372 147.435641 \n",
       "L 326.419319 147.523447 \n",
       "L 327.029266 147.093679 \n",
       "L 327.639214 147.181875 \n",
       "L 328.249161 147.398353 \n",
       "L 328.859108 147.485439 \n",
       "L 329.469055 147.444017 \n",
       "L 330.079002 147.530597 \n",
       "L 330.688949 147.489266 \n",
       "L 331.298897 147.575341 \n",
       "L 331.908844 147.534101 \n",
       "L 332.518791 147.619679 \n",
       "L 333.128738 147.831228 \n",
       "L 333.738685 147.789682 \n",
       "L 334.348632 147.622545 \n",
       "L 336.178474 147.875243 \n",
       "L 336.788421 148.083371 \n",
       "L 337.398368 148.041817 \n",
       "L 338.008315 148.248644 \n",
       "L 338.618263 148.206916 \n",
       "L 339.22821 147.918272 \n",
       "L 339.838157 147.754184 \n",
       "L 341.667998 148.001 \n",
       "L 342.277946 147.960365 \n",
       "L 342.887893 148.163738 \n",
       "L 343.49784 148.244577 \n",
       "L 344.107787 148.446442 \n",
       "L 344.717734 148.526312 \n",
       "L 345.327681 148.484973 \n",
       "L 345.937629 148.564411 \n",
       "L 347.157523 148.962409 \n",
       "L 347.76747 148.920482 \n",
       "L 348.987365 148.598568 \n",
       "L 349.597312 148.676739 \n",
       "L 350.207259 148.398202 \n",
       "L 352.0371 148.632003 \n",
       "L 353.256995 148.551148 \n",
       "L 354.476889 148.939146 \n",
       "L 355.086836 149.015131 \n",
       "L 355.696783 148.857686 \n",
       "L 356.306731 148.468288 \n",
       "L 356.916678 148.544769 \n",
       "L 357.526625 148.505112 \n",
       "L 358.746519 148.772324 \n",
       "L 359.356466 148.732443 \n",
       "L 359.966414 148.922462 \n",
       "L 360.576361 148.88244 \n",
       "L 361.796255 148.460401 \n",
       "L 363.016149 148.610282 \n",
       "L 363.626097 148.457841 \n",
       "L 364.236044 148.532475 \n",
       "L 364.845991 148.267814 \n",
       "L 365.455938 148.455306 \n",
       "L 366.675832 148.378759 \n",
       "L 369.115621 149.007401 \n",
       "L 369.725568 149.0796 \n",
       "L 369.725568 149.0796 \n",
       "\" clip-path=\"url(#p549d5fabfb)\" style=\"fill: none; stroke: #d62728; stroke-width: 1.5; stroke-linecap: square\"/>\n",
       "   </g>\n",
       "   <g id=\"line2d_20\">\n",
       "    <path d=\"M 65.361932 18.319091 \n",
       "L 65.971879 73.914541 \n",
       "L 66.581826 92.446358 \n",
       "L 67.191773 115.611142 \n",
       "L 67.80172 118.390912 \n",
       "L 68.411668 110.978183 \n",
       "L 69.021615 105.683378 \n",
       "L 69.631562 108.661708 \n",
       "L 70.241509 98.62363 \n",
       "L 70.851456 107.271823 \n",
       "L 72.071351 101.712275 \n",
       "L 72.681298 108.127134 \n",
       "L 73.291245 117.596689 \n",
       "L 73.901192 118.390912 \n",
       "L 74.511139 126.035287 \n",
       "L 75.731034 132.598636 \n",
       "L 76.950928 137.849318 \n",
       "L 77.560875 134.804805 \n",
       "L 78.170822 129.51 \n",
       "L 78.780769 127.092812 \n",
       "L 80.000664 131.733823 \n",
       "L 80.610611 135.92486 \n",
       "L 81.220558 137.746369 \n",
       "L 81.830505 137.452207 \n",
       "L 82.440452 135.261257 \n",
       "L 83.0504 135.069548 \n",
       "L 83.660347 133.096808 \n",
       "L 84.270294 132.984721 \n",
       "L 85.490188 136.050641 \n",
       "L 86.100135 135.863771 \n",
       "L 86.710083 131.054322 \n",
       "L 87.32003 131.012586 \n",
       "L 87.929977 129.51 \n",
       "L 88.539924 132.361049 \n",
       "L 89.759819 134.93395 \n",
       "L 90.369766 134.804805 \n",
       "L 90.979713 133.388758 \n",
       "L 91.58966 134.564136 \n",
       "L 92.199607 136.922728 \n",
       "L 92.809554 137.970179 \n",
       "L 93.419502 136.607293 \n",
       "L 94.639396 136.317605 \n",
       "L 95.249343 135.069548 \n",
       "L 96.469237 136.994007 \n",
       "L 97.079185 135.803825 \n",
       "L 98.299079 135.574961 \n",
       "L 98.909026 132.48833 \n",
       "L 100.12892 134.302714 \n",
       "L 100.738868 133.279189 \n",
       "L 101.348815 131.36318 \n",
       "L 102.568709 129.51 \n",
       "L 103.178656 129.51 \n",
       "L 103.788603 130.378682 \n",
       "L 104.398551 130.36532 \n",
       "L 105.008498 131.194709 \n",
       "L 105.618445 131.169566 \n",
       "L 106.228392 131.962745 \n",
       "L 106.838339 131.927196 \n",
       "L 107.448286 132.686881 \n",
       "L 108.058234 134.208206 \n",
       "L 109.278128 132.556328 \n",
       "L 109.888075 132.515163 \n",
       "L 111.717917 134.564136 \n",
       "L 112.327864 133.073811 \n",
       "L 112.937811 133.732443 \n",
       "L 114.157705 133.628184 \n",
       "L 115.3776 134.868603 \n",
       "L 115.987547 134.142958 \n",
       "L 116.597494 134.742515 \n",
       "L 117.207441 135.974591 \n",
       "L 117.817388 135.90028 \n",
       "L 118.427335 137.091199 \n",
       "L 119.037283 135.756679 \n",
       "L 119.64723 133.834092 \n",
       "L 120.257177 134.397512 \n",
       "L 120.867124 133.74009 \n",
       "L 121.477071 132.499008 \n",
       "L 122.087018 133.058651 \n",
       "L 122.696966 131.265648 \n",
       "L 123.306913 131.247356 \n",
       "L 123.91686 130.6563 \n",
       "L 125.136754 132.879427 \n",
       "L 125.746701 132.845726 \n",
       "L 126.966596 134.960534 \n",
       "L 127.576543 134.367854 \n",
       "L 128.18649 134.321147 \n",
       "L 128.796437 134.804805 \n",
       "L 129.406384 134.754858 \n",
       "L 130.016332 133.666673 \n",
       "L 130.626279 134.657732 \n",
       "L 131.236226 135.120555 \n",
       "L 131.846173 135.069548 \n",
       "L 132.45612 136.021182 \n",
       "L 133.066067 135.963042 \n",
       "L 133.676015 136.39793 \n",
       "L 134.285962 135.849836 \n",
       "L 134.895909 136.761581 \n",
       "L 135.505856 137.178343 \n",
       "L 136.115803 136.162447 \n",
       "L 136.72575 136.106072 \n",
       "L 138.555592 138.699336 \n",
       "L 139.775486 138.549911 \n",
       "L 140.385433 138.925358 \n",
       "L 141.605328 138.775908 \n",
       "L 142.215275 138.265194 \n",
       "L 143.435169 138.129454 \n",
       "L 144.045116 137.635491 \n",
       "L 144.655064 138.422249 \n",
       "L 145.874958 139.12425 \n",
       "L 147.094852 140.629088 \n",
       "L 147.704799 140.956122 \n",
       "L 148.314747 140.060963 \n",
       "L 148.924694 138.373048 \n",
       "L 149.534641 137.509344 \n",
       "L 150.754535 137.395882 \n",
       "L 151.364482 136.165794 \n",
       "L 151.97443 136.508029 \n",
       "L 152.584377 136.073357 \n",
       "L 153.804271 135.983447 \n",
       "L 154.414218 136.695811 \n",
       "L 155.024165 136.647257 \n",
       "L 156.854007 137.61 \n",
       "L 157.463954 136.825197 \n",
       "L 158.073901 136.777379 \n",
       "L 159.903743 135.568483 \n",
       "L 160.51369 136.238116 \n",
       "L 161.123637 135.843665 \n",
       "L 161.733584 134.4052 \n",
       "L 162.343531 135.069548 \n",
       "L 163.563426 134.314544 \n",
       "L 164.173373 134.285068 \n",
       "L 164.78332 134.93395 \n",
       "L 165.393267 135.238019 \n",
       "L 166.003214 134.198778 \n",
       "L 166.613162 133.504888 \n",
       "L 167.223109 133.812031 \n",
       "L 167.833056 132.799673 \n",
       "L 168.443003 133.107354 \n",
       "L 169.662897 132.419064 \n",
       "L 170.272845 133.044973 \n",
       "L 171.492739 133.639948 \n",
       "L 172.102686 133.616487 \n",
       "L 172.712633 133.907384 \n",
       "L 173.32258 134.507346 \n",
       "L 173.932528 134.479428 \n",
       "L 174.542475 134.760682 \n",
       "L 175.152422 135.345989 \n",
       "L 176.372316 135.889809 \n",
       "L 176.982263 135.552983 \n",
       "L 178.812105 136.347942 \n",
       "L 179.422052 136.311574 \n",
       "L 180.031999 135.981434 \n",
       "L 180.641946 136.23998 \n",
       "L 181.251894 135.913667 \n",
       "L 181.861841 136.16987 \n",
       "L 182.471788 136.711485 \n",
       "L 183.081735 136.674363 \n",
       "L 183.691682 136.352515 \n",
       "L 184.301629 136.88491 \n",
       "L 186.741418 137.849318 \n",
       "L 187.961312 138.867649 \n",
       "L 188.57126 138.821555 \n",
       "L 189.181207 139.320962 \n",
       "L 190.401101 139.765476 \n",
       "L 191.011048 140.253086 \n",
       "L 191.620995 140.201433 \n",
       "L 192.230943 140.416288 \n",
       "L 192.84089 139.834874 \n",
       "L 193.450837 140.312907 \n",
       "L 194.060784 139.999708 \n",
       "L 195.280678 140.421258 \n",
       "L 195.890626 140.887677 \n",
       "L 196.500573 140.577618 \n",
       "L 197.11052 141.039016 \n",
       "L 197.720467 140.986128 \n",
       "L 198.940361 141.387216 \n",
       "L 199.550309 141.081904 \n",
       "L 200.160256 141.280207 \n",
       "L 200.770203 141.227427 \n",
       "L 201.38015 140.926928 \n",
       "L 203.819939 141.701989 \n",
       "L 204.429886 142.1343 \n",
       "L 205.039833 142.321129 \n",
       "L 205.64978 142.265665 \n",
       "L 206.869675 142.633392 \n",
       "L 207.479622 143.052482 \n",
       "L 208.699516 142.937718 \n",
       "L 209.309463 142.411901 \n",
       "L 210.529358 142.303931 \n",
       "L 211.139305 142.482277 \n",
       "L 212.359199 142.375069 \n",
       "L 213.579093 142.725315 \n",
       "L 215.408935 142.564806 \n",
       "L 217.848724 143.24274 \n",
       "L 218.458671 142.967633 \n",
       "L 219.068618 142.914439 \n",
       "L 220.898459 144.060374 \n",
       "L 222.118354 144.378552 \n",
       "L 222.728301 144.106493 \n",
       "L 223.338248 144.264178 \n",
       "L 223.948195 144.633669 \n",
       "L 224.558142 144.575944 \n",
       "L 225.16809 144.307273 \n",
       "L 226.387984 144.195592 \n",
       "L 227.607878 144.918477 \n",
       "L 228.217825 145.068433 \n",
       "L 228.827773 144.803921 \n",
       "L 229.43772 145.159089 \n",
       "L 230.047667 144.896201 \n",
       "L 230.657614 144.839627 \n",
       "L 231.267561 145.190768 \n",
       "L 231.877508 144.727738 \n",
       "L 232.487456 145.076725 \n",
       "L 233.097403 145.020325 \n",
       "L 233.70735 145.165037 \n",
       "L 234.927244 145.052817 \n",
       "L 236.757086 145.478907 \n",
       "L 237.367033 145.226035 \n",
       "L 237.97698 145.366455 \n",
       "L 238.586927 145.700961 \n",
       "L 239.196874 145.838738 \n",
       "L 240.416769 146.497503 \n",
       "L 241.026716 146.631097 \n",
       "L 242.856557 146.455195 \n",
       "L 243.466505 146.587107 \n",
       "L 244.076452 146.339918 \n",
       "L 244.686399 146.282871 \n",
       "L 245.906293 146.544301 \n",
       "L 246.51624 146.487139 \n",
       "L 247.126188 146.244415 \n",
       "L 247.736135 146.373958 \n",
       "L 248.346082 146.317931 \n",
       "L 250.175923 146.700702 \n",
       "L 250.785871 147.008897 \n",
       "L 251.395818 147.133394 \n",
       "L 252.005765 146.532711 \n",
       "L 252.615712 146.657946 \n",
       "L 253.225659 146.422538 \n",
       "L 253.835606 146.726657 \n",
       "L 255.055501 146.972678 \n",
       "L 255.665448 146.56164 \n",
       "L 256.275395 146.330283 \n",
       "L 256.885342 146.276882 \n",
       "L 258.715184 146.643192 \n",
       "L 259.325131 146.938041 \n",
       "L 259.935078 146.709848 \n",
       "L 260.545025 146.656265 \n",
       "L 261.76492 146.894341 \n",
       "L 262.374867 147.183863 \n",
       "L 262.984814 146.787356 \n",
       "L 264.204708 146.681689 \n",
       "L 264.814655 146.968328 \n",
       "L 265.424603 146.915267 \n",
       "L 266.03455 147.030991 \n",
       "L 267.254444 147.595273 \n",
       "L 269.084286 147.931179 \n",
       "L 269.694233 147.545434 \n",
       "L 270.30418 147.491917 \n",
       "L 272.134021 147.823797 \n",
       "L 272.743969 147.77009 \n",
       "L 273.353916 147.554141 \n",
       "L 274.57381 147.772459 \n",
       "L 275.183757 148.041817 \n",
       "L 277.623546 147.829422 \n",
       "L 278.233493 147.935926 \n",
       "L 278.84344 147.725039 \n",
       "L 280.063335 147.936821 \n",
       "L 280.673282 147.727723 \n",
       "L 281.893176 147.937707 \n",
       "L 282.503123 147.886087 \n",
       "L 283.11307 147.679467 \n",
       "L 283.723018 147.628858 \n",
       "L 284.332965 147.887388 \n",
       "L 284.942912 147.990487 \n",
       "L 285.552859 147.632279 \n",
       "L 286.162806 147.735511 \n",
       "L 286.772753 147.532701 \n",
       "L 287.992648 147.434216 \n",
       "L 288.602595 147.233892 \n",
       "L 289.212542 146.883579 \n",
       "L 289.822489 146.836499 \n",
       "L 290.432436 146.93993 \n",
       "L 291.042384 146.892949 \n",
       "L 291.652331 146.547317 \n",
       "L 292.262278 146.650689 \n",
       "L 292.872225 146.456214 \n",
       "L 294.092119 146.66179 \n",
       "L 294.702067 146.321361 \n",
       "L 295.312014 146.276882 \n",
       "L 295.921961 146.379335 \n",
       "L 296.531908 146.188637 \n",
       "L 297.141855 145.85302 \n",
       "L 297.751802 145.95578 \n",
       "L 298.971697 145.291001 \n",
       "L 299.581644 145.538819 \n",
       "L 301.411485 145.844744 \n",
       "L 302.021433 145.659837 \n",
       "L 302.63138 145.618432 \n",
       "L 303.851274 145.819891 \n",
       "L 304.461221 145.778395 \n",
       "L 305.071168 145.172683 \n",
       "L 305.681116 144.851531 \n",
       "L 306.291063 144.953181 \n",
       "L 306.90101 144.914286 \n",
       "L 308.120904 145.115745 \n",
       "L 309.340799 145.592477 \n",
       "L 309.950746 145.690771 \n",
       "L 310.560693 145.650617 \n",
       "L 311.17064 145.748281 \n",
       "L 311.780587 145.159089 \n",
       "L 312.390534 145.12055 \n",
       "L 313.000482 145.355387 \n",
       "L 313.610429 145.180288 \n",
       "L 314.830323 145.375046 \n",
       "L 315.44027 145.606983 \n",
       "L 316.050217 145.70285 \n",
       "L 316.660165 145.529027 \n",
       "L 317.880059 145.987691 \n",
       "L 318.490006 146.081727 \n",
       "L 319.099953 146.308628 \n",
       "L 319.7099 146.401446 \n",
       "L 320.319848 146.361126 \n",
       "L 320.929795 146.45338 \n",
       "L 322.149689 146.109596 \n",
       "L 322.759636 146.333216 \n",
       "L 323.369583 146.424658 \n",
       "L 324.589478 146.084237 \n",
       "L 325.199425 146.045417 \n",
       "L 325.809372 146.266576 \n",
       "L 326.419319 146.357108 \n",
       "L 327.029266 146.576511 \n",
       "L 327.639214 146.407924 \n",
       "L 329.469055 146.291114 \n",
       "L 330.079002 146.508148 \n",
       "L 330.688949 146.596675 \n",
       "L 331.298897 146.557581 \n",
       "L 332.518791 146.733193 \n",
       "L 333.738685 146.655088 \n",
       "L 334.348632 146.742074 \n",
       "L 335.568527 146.664458 \n",
       "L 336.178474 146.875775 \n",
       "L 336.788421 146.836839 \n",
       "L 337.398368 147.046823 \n",
       "L 338.008315 146.883579 \n",
       "L 339.838157 147.137827 \n",
       "L 340.448104 146.852828 \n",
       "L 341.058051 146.691821 \n",
       "L 341.667998 146.898889 \n",
       "L 342.887893 147.066457 \n",
       "L 343.49784 147.028042 \n",
       "L 344.107787 146.868411 \n",
       "L 345.937629 147.11724 \n",
       "L 346.547576 146.958793 \n",
       "L 347.157523 146.921107 \n",
       "L 347.76747 147.003396 \n",
       "L 348.987365 147.405536 \n",
       "L 349.597312 147.486259 \n",
       "L 350.207259 147.68544 \n",
       "L 350.817206 147.646686 \n",
       "L 351.427153 147.489804 \n",
       "L 352.647048 147.649196 \n",
       "L 353.256995 147.493309 \n",
       "L 354.476889 147.41759 \n",
       "L 355.086836 147.613565 \n",
       "L 356.306731 147.770429 \n",
       "L 357.526625 147.462698 \n",
       "L 358.136572 147.425377 \n",
       "L 359.356466 147.581405 \n",
       "L 359.966414 147.773801 \n",
       "L 360.576361 147.621509 \n",
       "L 361.186308 147.698637 \n",
       "L 362.406202 147.965866 \n",
       "L 363.016149 148.041817 \n",
       "L 364.236044 147.853107 \n",
       "L 364.845991 148.041817 \n",
       "L 365.455938 147.778689 \n",
       "L 366.065885 147.741707 \n",
       "L 366.675832 147.929506 \n",
       "L 368.505674 147.595273 \n",
       "L 369.725568 147.634118 \n",
       "L 369.725568 147.634118 \n",
       "\" clip-path=\"url(#p549d5fabfb)\" style=\"fill: none; stroke: #9467bd; stroke-width: 1.5; stroke-linecap: square\"/>\n",
       "   </g>\n",
       "   <g id=\"line2d_21\">\n",
       "    <path d=\"M 65.361932 240.700909 \n",
       "L 65.971879 129.51 \n",
       "L 66.581826 129.51 \n",
       "L 67.191773 143.408867 \n",
       "L 67.80172 151.748185 \n",
       "L 68.411668 157.307725 \n",
       "L 69.021615 169.221036 \n",
       "L 69.631562 164.257159 \n",
       "L 70.241509 166.573634 \n",
       "L 71.461403 180.051323 \n",
       "L 72.071351 185.105455 \n",
       "L 72.681298 185.105455 \n",
       "L 73.291245 189.076558 \n",
       "L 73.901192 185.105455 \n",
       "L 75.121086 185.105455 \n",
       "L 75.731034 182.016818 \n",
       "L 76.340981 173.40115 \n",
       "L 76.950928 171.206592 \n",
       "L 77.560875 171.868443 \n",
       "L 78.780769 168.185101 \n",
       "L 79.390717 161.940684 \n",
       "L 80.610611 163.722585 \n",
       "L 81.220558 164.514546 \n",
       "L 81.830505 161.278829 \n",
       "L 83.0504 159.160914 \n",
       "L 83.660347 159.997834 \n",
       "L 84.270294 159.04509 \n",
       "L 84.880241 156.465371 \n",
       "L 86.100135 158.101948 \n",
       "L 86.710083 160.396361 \n",
       "L 87.929977 155.844689 \n",
       "L 89.149871 160.087504 \n",
       "L 89.759819 160.697697 \n",
       "L 90.369766 159.955128 \n",
       "L 90.979713 156.661271 \n",
       "L 91.58966 156.044193 \n",
       "L 92.199607 152.983641 \n",
       "L 92.809554 153.681939 \n",
       "L 93.419502 153.167645 \n",
       "L 94.029449 154.99125 \n",
       "L 94.639396 154.471224 \n",
       "L 95.249343 156.195822 \n",
       "L 95.85929 156.762672 \n",
       "L 96.469237 156.238586 \n",
       "L 97.079185 156.783242 \n",
       "L 97.689132 158.337273 \n",
       "L 98.299079 156.802312 \n",
       "L 99.518973 155.844689 \n",
       "L 101.348815 157.307725 \n",
       "L 101.958762 156.852027 \n",
       "L 103.178656 157.748959 \n",
       "L 104.398551 155.169439 \n",
       "L 105.008498 154.780662 \n",
       "L 105.618445 156.063057 \n",
       "L 106.228392 155.672565 \n",
       "L 108.058234 156.916214 \n",
       "L 108.668181 156.535572 \n",
       "L 109.888075 157.307725 \n",
       "L 110.498022 156.195822 \n",
       "L 111.107969 155.844689 \n",
       "L 111.717917 154.058646 \n",
       "L 112.327864 153.031152 \n",
       "L 114.157705 152.160001 \n",
       "L 114.767652 152.561776 \n",
       "L 115.3776 152.284043 \n",
       "L 115.987547 152.674775 \n",
       "L 116.597494 152.402244 \n",
       "L 117.207441 153.428976 \n",
       "L 117.817388 152.515019 \n",
       "L 118.427335 152.253598 \n",
       "L 119.037283 152.622716 \n",
       "L 120.257177 152.114744 \n",
       "L 120.867124 152.473341 \n",
       "L 121.477071 153.422025 \n",
       "L 122.087018 153.167645 \n",
       "L 123.306913 153.833013 \n",
       "L 125.136754 151.411243 \n",
       "L 125.746701 152.304141 \n",
       "L 126.356649 152.07845 \n",
       "L 126.966596 152.402244 \n",
       "L 127.576543 152.179991 \n",
       "L 128.18649 153.031152 \n",
       "L 129.406384 150.489417 \n",
       "L 130.016332 150.81293 \n",
       "L 130.626279 150.615687 \n",
       "L 131.236226 150.9321 \n",
       "L 131.846173 150.73736 \n",
       "L 133.066067 149.365518 \n",
       "L 133.676015 149.189807 \n",
       "L 134.285962 148.529501 \n",
       "L 134.895909 148.364112 \n",
       "L 136.115803 148.992166 \n",
       "L 136.72575 148.827067 \n",
       "L 137.945645 150.3583 \n",
       "L 138.555592 149.267067 \n",
       "L 139.165539 150.01652 \n",
       "L 139.775486 150.301801 \n",
       "L 140.385433 149.685775 \n",
       "L 140.995381 149.524362 \n",
       "L 141.605328 149.806752 \n",
       "L 142.215275 150.522455 \n",
       "L 143.435169 151.058627 \n",
       "L 144.045116 151.748185 \n",
       "L 144.655064 151.57843 \n",
       "L 145.265011 151.832421 \n",
       "L 145.874958 151.246567 \n",
       "L 147.704799 150.767084 \n",
       "L 148.314747 151.423537 \n",
       "L 149.534641 151.908173 \n",
       "L 150.144588 151.351074 \n",
       "L 153.804271 150.453496 \n",
       "L 155.634113 151.151189 \n",
       "L 156.854007 150.128185 \n",
       "L 157.463954 150.724055 \n",
       "L 158.683848 151.170566 \n",
       "L 159.293796 151.748185 \n",
       "L 159.903743 151.962013 \n",
       "L 160.51369 151.110786 \n",
       "L 161.123637 150.974069 \n",
       "L 161.733584 151.538392 \n",
       "L 162.953479 151.264743 \n",
       "L 163.563426 151.816821 \n",
       "L 164.173373 151.679972 \n",
       "L 164.78332 150.866795 \n",
       "L 165.393267 150.400418 \n",
       "L 166.003214 150.609482 \n",
       "L 166.613162 150.15023 \n",
       "L 167.833056 149.905965 \n",
       "L 169.662897 150.519912 \n",
       "L 170.272845 150.077104 \n",
       "L 170.882792 150.278422 \n",
       "L 171.492739 149.842051 \n",
       "L 172.102686 149.726534 \n",
       "L 173.32258 150.124043 \n",
       "L 173.932528 150.630061 \n",
       "L 174.542475 150.821595 \n",
       "L 175.762369 150.587396 \n",
       "L 176.982263 150.962595 \n",
       "L 177.592211 150.846639 \n",
       "L 178.202158 151.030825 \n",
       "L 178.812105 151.510341 \n",
       "L 179.422052 151.393316 \n",
       "L 180.031999 151.865848 \n",
       "L 180.641946 151.748185 \n",
       "L 181.251894 151.340677 \n",
       "L 181.861841 151.516538 \n",
       "L 182.471788 151.402512 \n",
       "L 183.081735 150.716516 \n",
       "L 183.691682 150.322661 \n",
       "L 184.301629 150.216472 \n",
       "L 184.911577 150.393575 \n",
       "L 185.521524 149.726534 \n",
       "L 187.961312 150.427102 \n",
       "L 188.57126 150.324061 \n",
       "L 189.181207 149.676977 \n",
       "L 189.791154 149.849806 \n",
       "L 190.401101 149.751064 \n",
       "L 191.011048 150.190434 \n",
       "L 192.230943 150.524551 \n",
       "L 192.84089 150.953963 \n",
       "L 194.670731 150.651931 \n",
       "L 195.280678 150.293351 \n",
       "L 195.890626 150.19668 \n",
       "L 196.500573 149.843526 \n",
       "L 197.11052 149.237417 \n",
       "L 197.720467 149.656979 \n",
       "L 198.330414 149.311123 \n",
       "L 198.940361 149.47382 \n",
       "L 199.550309 149.131924 \n",
       "L 200.770203 148.955947 \n",
       "L 201.38015 149.117327 \n",
       "L 201.990097 148.783094 \n",
       "L 202.600044 148.205814 \n",
       "L 203.209992 148.123459 \n",
       "L 203.819939 148.285659 \n",
       "L 204.429886 148.203669 \n",
       "L 205.039833 148.364112 \n",
       "L 205.64978 148.041817 \n",
       "L 206.259727 147.961939 \n",
       "L 206.869675 148.359961 \n",
       "L 208.089569 148.672688 \n",
       "L 208.699516 149.062642 \n",
       "L 209.309463 149.214718 \n",
       "L 209.91941 148.898329 \n",
       "L 210.529358 149.282442 \n",
       "L 211.139305 149.431702 \n",
       "L 211.749252 149.34904 \n",
       "L 212.359199 149.4968 \n",
       "L 212.969146 149.872124 \n",
       "L 213.579093 150.01652 \n",
       "L 214.189041 149.705898 \n",
       "L 214.798988 149.171805 \n",
       "L 215.408935 149.092208 \n",
       "L 216.018882 149.237417 \n",
       "L 216.628829 148.488369 \n",
       "L 217.238776 148.634837 \n",
       "L 217.848724 148.337146 \n",
       "L 218.458671 148.262438 \n",
       "L 219.068618 147.968575 \n",
       "L 220.288512 146.95171 \n",
       "L 220.898459 147.100754 \n",
       "L 221.508407 147.0323 \n",
       "L 222.118354 147.179878 \n",
       "L 222.728301 146.682344 \n",
       "L 223.338248 146.402465 \n",
       "L 223.948195 146.337747 \n",
       "L 225.778037 146.778285 \n",
       "L 226.387984 147.132715 \n",
       "L 226.997931 147.066457 \n",
       "L 227.607878 147.208931 \n",
       "L 228.217825 147.142888 \n",
       "L 228.827773 146.663986 \n",
       "L 229.43772 146.600453 \n",
       "L 230.047667 146.332246 \n",
       "L 230.657614 146.270395 \n",
       "L 231.267561 146.412646 \n",
       "L 232.487456 146.289723 \n",
       "L 233.097403 146.430358 \n",
       "L 233.70735 146.369269 \n",
       "L 234.317297 146.508612 \n",
       "L 234.927244 146.049153 \n",
       "L 236.147139 145.931432 \n",
       "L 237.367033 146.601182 \n",
       "L 237.97698 146.149485 \n",
       "L 238.586927 146.091105 \n",
       "L 239.196874 146.421908 \n",
       "L 239.806822 146.556695 \n",
       "L 240.416769 146.111418 \n",
       "L 241.026716 146.053974 \n",
       "L 241.636663 145.80522 \n",
       "L 242.24661 145.940271 \n",
       "L 243.466505 146.587107 \n",
       "L 244.686399 146.471324 \n",
       "L 245.296346 146.789668 \n",
       "L 245.906293 146.357108 \n",
       "L 246.51624 146.487139 \n",
       "L 247.736135 146.373958 \n",
       "L 248.346082 146.687331 \n",
       "L 249.565976 146.940915 \n",
       "L 250.785871 146.826616 \n",
       "L 251.395818 146.95171 \n",
       "L 252.005765 146.713808 \n",
       "L 253.225659 146.962297 \n",
       "L 254.445554 146.850061 \n",
       "L 255.055501 147.150866 \n",
       "L 255.665448 147.272124 \n",
       "L 256.275395 147.569674 \n",
       "L 256.885342 147.688836 \n",
       "L 257.495289 147.455366 \n",
       "L 258.105237 147.749519 \n",
       "L 259.325131 147.635162 \n",
       "L 259.935078 147.925993 \n",
       "L 261.154972 147.811611 \n",
       "L 261.76492 147.92707 \n",
       "L 262.374867 147.870231 \n",
       "L 262.984814 147.642676 \n",
       "L 263.594761 147.757588 \n",
       "L 264.204708 148.041817 \n",
       "L 264.814655 148.154816 \n",
       "L 266.03455 148.041817 \n",
       "L 266.644497 147.817874 \n",
       "L 267.254444 147.762725 \n",
       "L 268.474338 147.986336 \n",
       "L 269.084286 148.263092 \n",
       "L 269.694233 148.372744 \n",
       "L 270.30418 148.1518 \n",
       "L 270.914127 148.096651 \n",
       "L 271.524074 148.205814 \n",
       "L 272.134021 148.150831 \n",
       "L 273.353916 148.366937 \n",
       "L 273.963863 148.311962 \n",
       "L 274.57381 148.09569 \n",
       "L 275.183757 148.202964 \n",
       "L 275.793704 148.148942 \n",
       "L 276.403652 148.415657 \n",
       "L 277.623546 148.625914 \n",
       "L 279.453387 148.462994 \n",
       "L 280.063335 148.566797 \n",
       "L 280.673282 148.512965 \n",
       "L 281.283229 148.616048 \n",
       "L 282.503123 148.197546 \n",
       "L 283.11307 148.145347 \n",
       "L 284.942912 148.452498 \n",
       "L 285.552859 148.400174 \n",
       "L 286.162806 148.194978 \n",
       "L 286.772753 148.296379 \n",
       "L 287.382701 148.092592 \n",
       "L 287.992648 148.193719 \n",
       "L 289.212542 148.092177 \n",
       "L 289.822489 148.343152 \n",
       "L 290.432436 148.442507 \n",
       "L 291.652331 148.340717 \n",
       "L 293.482172 148.634837 \n",
       "L 294.092119 148.583971 \n",
       "L 295.312014 148.777212 \n",
       "L 295.921961 149.019753 \n",
       "L 296.531908 149.114717 \n",
       "L 297.141855 149.355096 \n",
       "L 297.751802 149.303145 \n",
       "L 298.36175 149.396626 \n",
       "L 298.971697 149.34484 \n",
       "L 300.191591 149.530128 \n",
       "L 300.801538 149.765711 \n",
       "L 301.411485 149.713503 \n",
       "L 302.021433 149.80449 \n",
       "L 303.241327 149.700679 \n",
       "L 303.851274 149.507346 \n",
       "L 304.461221 149.597928 \n",
       "L 306.90101 150.515844 \n",
       "L 307.510957 150.602747 \n",
       "L 308.120904 150.41055 \n",
       "L 308.730851 150.3583 \n",
       "L 309.340799 150.16766 \n",
       "L 310.560693 150.616963 \n",
       "L 311.17064 150.564713 \n",
       "L 311.780587 150.787273 \n",
       "L 312.390534 150.734866 \n",
       "L 313.000482 150.955918 \n",
       "L 313.610429 151.039615 \n",
       "L 314.220376 150.986976 \n",
       "L 314.830323 151.070192 \n",
       "L 315.44027 150.747193 \n",
       "L 316.050217 150.965528 \n",
       "L 316.660165 150.778964 \n",
       "L 318.490006 151.026509 \n",
       "L 319.099953 151.241555 \n",
       "L 320.319848 151.403199 \n",
       "L 320.929795 151.08633 \n",
       "L 321.539742 151.299197 \n",
       "L 322.149689 151.247561 \n",
       "L 322.759636 151.064741 \n",
       "L 323.369583 150.751658 \n",
       "L 323.979531 150.832497 \n",
       "L 324.589478 151.043451 \n",
       "L 325.199425 150.993024 \n",
       "L 325.809372 151.202618 \n",
       "L 326.419319 151.152059 \n",
       "L 327.029266 151.231017 \n",
       "L 327.639214 151.180623 \n",
       "L 328.249161 151.259151 \n",
       "L 328.859108 151.465713 \n",
       "L 329.469055 151.41512 \n",
       "L 330.079002 151.236957 \n",
       "L 330.688949 150.9321 \n",
       "L 331.298897 150.883082 \n",
       "L 331.908844 150.961212 \n",
       "L 332.518791 150.659072 \n",
       "L 333.738685 150.815291 \n",
       "L 334.348632 150.515521 \n",
       "L 335.568527 150.420905 \n",
       "L 336.178474 150.498844 \n",
       "L 336.788421 150.451789 \n",
       "L 337.398368 150.529314 \n",
       "L 338.008315 150.730591 \n",
       "L 338.618263 150.683329 \n",
       "L 339.22821 150.759819 \n",
       "L 339.838157 150.959248 \n",
       "L 341.058051 150.86455 \n",
       "L 342.887893 149.992537 \n",
       "L 343.49784 149.826063 \n",
       "L 344.107787 149.903091 \n",
       "L 345.327681 149.57271 \n",
       "L 345.937629 149.649788 \n",
       "L 347.76747 148.800665 \n",
       "L 348.377417 148.878737 \n",
       "L 348.987365 148.837174 \n",
       "L 350.817206 148.357923 \n",
       "L 354.476889 148.119847 \n",
       "L 355.086836 147.963952 \n",
       "L 355.696783 147.925264 \n",
       "L 356.306731 148.003046 \n",
       "L 356.916678 147.848377 \n",
       "L 358.136572 148.003294 \n",
       "L 358.746519 147.964921 \n",
       "L 359.356466 147.811611 \n",
       "L 360.576361 148.080033 \n",
       "L 361.796255 148.232084 \n",
       "L 362.406202 148.193719 \n",
       "L 363.016149 148.041817 \n",
       "L 363.626097 148.230916 \n",
       "L 364.236044 148.192791 \n",
       "L 364.845991 148.380813 \n",
       "L 365.455938 148.342539 \n",
       "L 366.065885 148.079337 \n",
       "L 366.675832 148.041817 \n",
       "L 367.28578 147.668192 \n",
       "L 367.895727 147.519794 \n",
       "L 368.505674 147.595273 \n",
       "L 369.725568 147.411741 \n",
       "L 369.725568 147.411741 \n",
       "\" clip-path=\"url(#p549d5fabfb)\" style=\"fill: none; stroke: #8c564b; stroke-width: 1.5; stroke-linecap: square\"/>\n",
       "   </g>\n",
       "   <g id=\"line2d_22\">\n",
       "    <path d=\"M 50.14375 147.856501 \n",
       "L 384.94375 147.856501 \n",
       "\" clip-path=\"url(#p549d5fabfb)\" style=\"fill: none; stroke-dasharray: 5.55,2.4; stroke-dashoffset: 0; stroke: #000000; stroke-width: 1.5\"/>\n",
       "   </g>\n",
       "   <g id=\"patch_3\">\n",
       "    <path d=\"M 50.14375 251.82 \n",
       "L 50.14375 7.2 \n",
       "\" style=\"fill: none; stroke: #000000; stroke-width: 0.8; stroke-linejoin: miter; stroke-linecap: square\"/>\n",
       "   </g>\n",
       "   <g id=\"patch_4\">\n",
       "    <path d=\"M 384.94375 251.82 \n",
       "L 384.94375 7.2 \n",
       "\" style=\"fill: none; stroke: #000000; stroke-width: 0.8; stroke-linejoin: miter; stroke-linecap: square\"/>\n",
       "   </g>\n",
       "   <g id=\"patch_5\">\n",
       "    <path d=\"M 50.14375 251.82 \n",
       "L 384.94375 251.82 \n",
       "\" style=\"fill: none; stroke: #000000; stroke-width: 0.8; stroke-linejoin: miter; stroke-linecap: square\"/>\n",
       "   </g>\n",
       "   <g id=\"patch_6\">\n",
       "    <path d=\"M 50.14375 7.2 \n",
       "L 384.94375 7.2 \n",
       "\" style=\"fill: none; stroke: #000000; stroke-width: 0.8; stroke-linejoin: miter; stroke-linecap: square\"/>\n",
       "   </g>\n",
       "   <g id=\"legend_1\">\n",
       "    <g id=\"patch_7\">\n",
       "     <path d=\"M 302.089063 103.26875 \n",
       "L 377.94375 103.26875 \n",
       "Q 379.94375 103.26875 379.94375 101.26875 \n",
       "L 379.94375 14.2 \n",
       "Q 379.94375 12.2 377.94375 12.2 \n",
       "L 302.089063 12.2 \n",
       "Q 300.089063 12.2 300.089063 14.2 \n",
       "L 300.089063 101.26875 \n",
       "Q 300.089063 103.26875 302.089063 103.26875 \n",
       "z\n",
       "\" style=\"fill: #ffffff; opacity: 0.8; stroke: #cccccc; stroke-linejoin: miter\"/>\n",
       "    </g>\n",
       "    <g id=\"line2d_23\">\n",
       "     <path d=\"M 304.089063 20.298437 \n",
       "L 314.089063 20.298437 \n",
       "L 324.089063 20.298437 \n",
       "\" style=\"fill: none; stroke: #1f77b4; stroke-width: 1.5; stroke-linecap: square\"/>\n",
       "    </g>\n",
       "    <g id=\"text_18\">\n",
       "     <!-- P(die=1) -->\n",
       "     <g transform=\"translate(332.089063 23.798437)scale(0.1 -0.1)\">\n",
       "      <defs>\n",
       "       <path id=\"DejaVuSans-50\" d=\"M 1259 4147 \n",
       "L 1259 2394 \n",
       "L 2053 2394 \n",
       "Q 2494 2394 2734 2622 \n",
       "Q 2975 2850 2975 3272 \n",
       "Q 2975 3691 2734 3919 \n",
       "Q 2494 4147 2053 4147 \n",
       "L 1259 4147 \n",
       "z\n",
       "M 628 4666 \n",
       "L 2053 4666 \n",
       "Q 2838 4666 3239 4311 \n",
       "Q 3641 3956 3641 3272 \n",
       "Q 3641 2581 3239 2228 \n",
       "Q 2838 1875 2053 1875 \n",
       "L 1259 1875 \n",
       "L 1259 0 \n",
       "L 628 0 \n",
       "L 628 4666 \n",
       "z\n",
       "\" transform=\"scale(0.015625)\"/>\n",
       "       <path id=\"DejaVuSans-28\" d=\"M 1984 4856 \n",
       "Q 1566 4138 1362 3434 \n",
       "Q 1159 2731 1159 2009 \n",
       "Q 1159 1288 1364 580 \n",
       "Q 1569 -128 1984 -844 \n",
       "L 1484 -844 \n",
       "Q 1016 -109 783 600 \n",
       "Q 550 1309 550 2009 \n",
       "Q 550 2706 781 3412 \n",
       "Q 1013 4119 1484 4856 \n",
       "L 1984 4856 \n",
       "z\n",
       "\" transform=\"scale(0.015625)\"/>\n",
       "       <path id=\"DejaVuSans-3d\" d=\"M 678 2906 \n",
       "L 4684 2906 \n",
       "L 4684 2381 \n",
       "L 678 2381 \n",
       "L 678 2906 \n",
       "z\n",
       "M 678 1631 \n",
       "L 4684 1631 \n",
       "L 4684 1100 \n",
       "L 678 1100 \n",
       "L 678 1631 \n",
       "z\n",
       "\" transform=\"scale(0.015625)\"/>\n",
       "       <path id=\"DejaVuSans-29\" d=\"M 513 4856 \n",
       "L 1013 4856 \n",
       "Q 1481 4119 1714 3412 \n",
       "Q 1947 2706 1947 2009 \n",
       "Q 1947 1309 1714 600 \n",
       "Q 1481 -109 1013 -844 \n",
       "L 513 -844 \n",
       "Q 928 -128 1133 580 \n",
       "Q 1338 1288 1338 2009 \n",
       "Q 1338 2731 1133 3434 \n",
       "Q 928 4138 513 4856 \n",
       "z\n",
       "\" transform=\"scale(0.015625)\"/>\n",
       "      </defs>\n",
       "      <use xlink:href=\"#DejaVuSans-50\"/>\n",
       "      <use xlink:href=\"#DejaVuSans-28\" x=\"60.302734\"/>\n",
       "      <use xlink:href=\"#DejaVuSans-64\" x=\"99.316406\"/>\n",
       "      <use xlink:href=\"#DejaVuSans-69\" x=\"162.792969\"/>\n",
       "      <use xlink:href=\"#DejaVuSans-65\" x=\"190.576172\"/>\n",
       "      <use xlink:href=\"#DejaVuSans-3d\" x=\"252.099609\"/>\n",
       "      <use xlink:href=\"#DejaVuSans-31\" x=\"335.888672\"/>\n",
       "      <use xlink:href=\"#DejaVuSans-29\" x=\"399.511719\"/>\n",
       "     </g>\n",
       "    </g>\n",
       "    <g id=\"line2d_24\">\n",
       "     <path d=\"M 304.089063 34.976562 \n",
       "L 314.089063 34.976562 \n",
       "L 324.089063 34.976562 \n",
       "\" style=\"fill: none; stroke: #ff7f0e; stroke-width: 1.5; stroke-linecap: square\"/>\n",
       "    </g>\n",
       "    <g id=\"text_19\">\n",
       "     <!-- P(die=2) -->\n",
       "     <g transform=\"translate(332.089063 38.476562)scale(0.1 -0.1)\">\n",
       "      <use xlink:href=\"#DejaVuSans-50\"/>\n",
       "      <use xlink:href=\"#DejaVuSans-28\" x=\"60.302734\"/>\n",
       "      <use xlink:href=\"#DejaVuSans-64\" x=\"99.316406\"/>\n",
       "      <use xlink:href=\"#DejaVuSans-69\" x=\"162.792969\"/>\n",
       "      <use xlink:href=\"#DejaVuSans-65\" x=\"190.576172\"/>\n",
       "      <use xlink:href=\"#DejaVuSans-3d\" x=\"252.099609\"/>\n",
       "      <use xlink:href=\"#DejaVuSans-32\" x=\"335.888672\"/>\n",
       "      <use xlink:href=\"#DejaVuSans-29\" x=\"399.511719\"/>\n",
       "     </g>\n",
       "    </g>\n",
       "    <g id=\"line2d_25\">\n",
       "     <path d=\"M 304.089063 49.654687 \n",
       "L 314.089063 49.654687 \n",
       "L 324.089063 49.654687 \n",
       "\" style=\"fill: none; stroke: #2ca02c; stroke-width: 1.5; stroke-linecap: square\"/>\n",
       "    </g>\n",
       "    <g id=\"text_20\">\n",
       "     <!-- P(die=3) -->\n",
       "     <g transform=\"translate(332.089063 53.154687)scale(0.1 -0.1)\">\n",
       "      <use xlink:href=\"#DejaVuSans-50\"/>\n",
       "      <use xlink:href=\"#DejaVuSans-28\" x=\"60.302734\"/>\n",
       "      <use xlink:href=\"#DejaVuSans-64\" x=\"99.316406\"/>\n",
       "      <use xlink:href=\"#DejaVuSans-69\" x=\"162.792969\"/>\n",
       "      <use xlink:href=\"#DejaVuSans-65\" x=\"190.576172\"/>\n",
       "      <use xlink:href=\"#DejaVuSans-3d\" x=\"252.099609\"/>\n",
       "      <use xlink:href=\"#DejaVuSans-33\" x=\"335.888672\"/>\n",
       "      <use xlink:href=\"#DejaVuSans-29\" x=\"399.511719\"/>\n",
       "     </g>\n",
       "    </g>\n",
       "    <g id=\"line2d_26\">\n",
       "     <path d=\"M 304.089063 64.332812 \n",
       "L 314.089063 64.332812 \n",
       "L 324.089063 64.332812 \n",
       "\" style=\"fill: none; stroke: #d62728; stroke-width: 1.5; stroke-linecap: square\"/>\n",
       "    </g>\n",
       "    <g id=\"text_21\">\n",
       "     <!-- P(die=4) -->\n",
       "     <g transform=\"translate(332.089063 67.832812)scale(0.1 -0.1)\">\n",
       "      <use xlink:href=\"#DejaVuSans-50\"/>\n",
       "      <use xlink:href=\"#DejaVuSans-28\" x=\"60.302734\"/>\n",
       "      <use xlink:href=\"#DejaVuSans-64\" x=\"99.316406\"/>\n",
       "      <use xlink:href=\"#DejaVuSans-69\" x=\"162.792969\"/>\n",
       "      <use xlink:href=\"#DejaVuSans-65\" x=\"190.576172\"/>\n",
       "      <use xlink:href=\"#DejaVuSans-3d\" x=\"252.099609\"/>\n",
       "      <use xlink:href=\"#DejaVuSans-34\" x=\"335.888672\"/>\n",
       "      <use xlink:href=\"#DejaVuSans-29\" x=\"399.511719\"/>\n",
       "     </g>\n",
       "    </g>\n",
       "    <g id=\"line2d_27\">\n",
       "     <path d=\"M 304.089063 79.010937 \n",
       "L 314.089063 79.010937 \n",
       "L 324.089063 79.010937 \n",
       "\" style=\"fill: none; stroke: #9467bd; stroke-width: 1.5; stroke-linecap: square\"/>\n",
       "    </g>\n",
       "    <g id=\"text_22\">\n",
       "     <!-- P(die=5) -->\n",
       "     <g transform=\"translate(332.089063 82.510937)scale(0.1 -0.1)\">\n",
       "      <use xlink:href=\"#DejaVuSans-50\"/>\n",
       "      <use xlink:href=\"#DejaVuSans-28\" x=\"60.302734\"/>\n",
       "      <use xlink:href=\"#DejaVuSans-64\" x=\"99.316406\"/>\n",
       "      <use xlink:href=\"#DejaVuSans-69\" x=\"162.792969\"/>\n",
       "      <use xlink:href=\"#DejaVuSans-65\" x=\"190.576172\"/>\n",
       "      <use xlink:href=\"#DejaVuSans-3d\" x=\"252.099609\"/>\n",
       "      <use xlink:href=\"#DejaVuSans-35\" x=\"335.888672\"/>\n",
       "      <use xlink:href=\"#DejaVuSans-29\" x=\"399.511719\"/>\n",
       "     </g>\n",
       "    </g>\n",
       "    <g id=\"line2d_28\">\n",
       "     <path d=\"M 304.089063 93.689062 \n",
       "L 314.089063 93.689062 \n",
       "L 324.089063 93.689062 \n",
       "\" style=\"fill: none; stroke: #8c564b; stroke-width: 1.5; stroke-linecap: square\"/>\n",
       "    </g>\n",
       "    <g id=\"text_23\">\n",
       "     <!-- P(die=6) -->\n",
       "     <g transform=\"translate(332.089063 97.189062)scale(0.1 -0.1)\">\n",
       "      <defs>\n",
       "       <path id=\"DejaVuSans-36\" d=\"M 2113 2584 \n",
       "Q 1688 2584 1439 2293 \n",
       "Q 1191 2003 1191 1497 \n",
       "Q 1191 994 1439 701 \n",
       "Q 1688 409 2113 409 \n",
       "Q 2538 409 2786 701 \n",
       "Q 3034 994 3034 1497 \n",
       "Q 3034 2003 2786 2293 \n",
       "Q 2538 2584 2113 2584 \n",
       "z\n",
       "M 3366 4563 \n",
       "L 3366 3988 \n",
       "Q 3128 4100 2886 4159 \n",
       "Q 2644 4219 2406 4219 \n",
       "Q 1781 4219 1451 3797 \n",
       "Q 1122 3375 1075 2522 \n",
       "Q 1259 2794 1537 2939 \n",
       "Q 1816 3084 2150 3084 \n",
       "Q 2853 3084 3261 2657 \n",
       "Q 3669 2231 3669 1497 \n",
       "Q 3669 778 3244 343 \n",
       "Q 2819 -91 2113 -91 \n",
       "Q 1303 -91 875 529 \n",
       "Q 447 1150 447 2328 \n",
       "Q 447 3434 972 4092 \n",
       "Q 1497 4750 2381 4750 \n",
       "Q 2619 4750 2861 4703 \n",
       "Q 3103 4656 3366 4563 \n",
       "z\n",
       "\" transform=\"scale(0.015625)\"/>\n",
       "      </defs>\n",
       "      <use xlink:href=\"#DejaVuSans-50\"/>\n",
       "      <use xlink:href=\"#DejaVuSans-28\" x=\"60.302734\"/>\n",
       "      <use xlink:href=\"#DejaVuSans-64\" x=\"99.316406\"/>\n",
       "      <use xlink:href=\"#DejaVuSans-69\" x=\"162.792969\"/>\n",
       "      <use xlink:href=\"#DejaVuSans-65\" x=\"190.576172\"/>\n",
       "      <use xlink:href=\"#DejaVuSans-3d\" x=\"252.099609\"/>\n",
       "      <use xlink:href=\"#DejaVuSans-36\" x=\"335.888672\"/>\n",
       "      <use xlink:href=\"#DejaVuSans-29\" x=\"399.511719\"/>\n",
       "     </g>\n",
       "    </g>\n",
       "   </g>\n",
       "  </g>\n",
       " </g>\n",
       " <defs>\n",
       "  <clipPath id=\"p549d5fabfb\">\n",
       "   <rect x=\"50.14375\" y=\"7.2\" width=\"334.8\" height=\"244.62\"/>\n",
       "  </clipPath>\n",
       " </defs>\n",
       "</svg>\n"
      ],
      "text/plain": [
       "<Figure size 432x324 with 1 Axes>"
      ]
     },
     "metadata": {
      "needs_background": "light"
     },
     "output_type": "display_data"
    }
   ],
   "source": [
    "counts = multinomial.Multinomial(10, fair_probs).sample((500,))\n",
    "cum_counts = counts.cumsum(dim=0)\n",
    "estimates = cum_counts / cum_counts.sum(dim=1, keepdims=True)\n",
    "d2l.set_figsize((6, 4.5))\n",
    "for i in range(6):\n",
    "    d2l.plt.plot(estimates[:, i].numpy(),\n",
    "                 label=(\"P(die=\" + str(i + 1) + \")\"))\n",
    "d2l.plt.axhline(y=0.167, color='black', linestyle='dashed')\n",
    "d2l.plt.gca().set_xlabel('Groups of experiments')\n",
    "d2l.plt.gca().set_ylabel('Estimated probability')\n",
    "d2l.plt.legend();"
   ]
  },
  {
   "cell_type": "code",
   "execution_count": null,
   "metadata": {},
   "outputs": [],
   "source": []
  }
 ],
 "metadata": {
  "colab": {
   "authorship_tag": "ABX9TyPJf3QU4Xj/DrTvCeJihjPG",
   "collapsed_sections": [
    "CX1oCFIkKEC-",
    "elHA6S5pEghJ",
    "9oCHQtwLEqU7",
    "t6tkUyaQGtJN",
    "Ix6UBm-xHxJC",
    "mnXHuEYtIVEt",
    "o9GwBTMOJKff",
    "aQ3Vbnz4KZMd",
    "IMyVEo-1Kdwd",
    "mHorwt6eL1YC",
    "HGEQ1od5R0Tq",
    "7O-XgheQSRsj",
    "NGtbOYIkSVRB",
    "QMTZnoxES0PY",
    "i664w7w0TP5s",
    "pQV9Tc1ZDj8F",
    "n8kvr4J-D1uS",
    "ppU5wj0XEz6H",
    "3GbiXxXszMVR",
    "6i_tCmgvzEBa",
    "hL_NFM3L0zjl"
   ],
   "name": "Dive_into_Deep_Learning.ipynb",
   "provenance": [],
   "toc_visible": true
  },
  "kernelspec": {
   "display_name": "Python 3 (ipykernel)",
   "language": "python",
   "name": "python3"
  },
  "language_info": {
   "codemirror_mode": {
    "name": "ipython",
    "version": 3
   },
   "file_extension": ".py",
   "mimetype": "text/x-python",
   "name": "python",
   "nbconvert_exporter": "python",
   "pygments_lexer": "ipython3",
   "version": "3.8.13"
  },
  "toc-autonumbering": false,
  "toc-showcode": false,
  "toc-showmarkdowntxt": true
 },
 "nbformat": 4,
 "nbformat_minor": 4
}
