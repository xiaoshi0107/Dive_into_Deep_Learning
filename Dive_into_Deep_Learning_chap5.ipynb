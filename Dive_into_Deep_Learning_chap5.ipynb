{
 "cells": [
  {
   "cell_type": "markdown",
   "id": "2b8676fd-d7c5-4d48-ab98-7113a84e6188",
   "metadata": {},
   "source": [
    "# 深度学习计算"
   ]
  },
  {
   "cell_type": "code",
   "execution_count": null,
   "id": "fb9d16f5-7218-45bd-8dd7-5c4f766668a7",
   "metadata": {},
   "outputs": [],
   "source": []
  },
  {
   "cell_type": "code",
   "execution_count": null,
   "id": "a378177c-1fac-4508-a5bb-732cd77df933",
   "metadata": {},
   "outputs": [],
   "source": []
  }
 ],
 "metadata": {
  "kernelspec": {
   "display_name": "pytorch_03",
   "language": "python",
   "name": "pytorch_03"
  },
  "language_info": {
   "codemirror_mode": {
    "name": "ipython",
    "version": 2
   },
   "file_extension": ".py",
   "mimetype": "text/x-python",
   "name": "python",
   "nbconvert_exporter": "python",
   "pygments_lexer": "ipython2",
   "version": "2.7.16"
  }
 },
 "nbformat": 4,
 "nbformat_minor": 5
}
